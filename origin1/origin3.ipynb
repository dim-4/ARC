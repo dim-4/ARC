{
 "cells": [
  {
   "cell_type": "raw",
   "metadata": {},
   "source": [
    "[If] [you want] to [get] [something], you need to {act}"
   ]
  }
 ],
 "metadata": {
  "language_info": {
   "name": "python"
  },
  "orig_nbformat": 4
 },
 "nbformat": 4,
 "nbformat_minor": 2
}
