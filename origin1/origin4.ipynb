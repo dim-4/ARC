{
 "cells": [
  {
   "cell_type": "markdown",
   "metadata": {},
   "source": [
    "# Formalizing the search\n"
   ]
  },
  {
   "cell_type": "markdown",
   "metadata": {},
   "source": [
    "Attempt to create guidance for exploration and development.\n",
    "\n",
    "`Goal`: Develop a system that can efficiently learn, memorize and reason\n",
    "through simulated tasks that humans are good at. Such as, efficient memory, \n",
    "reasoning through search spaces, action synthesis and world modelling guided \n",
    "by simple goals. - Jorah the Andal, drunk.\n",
    "\n",
    "\n",
    "\n",
    "\n",
    "\n",
    "\n",
    "\n",
    "________________________________________________________________________\n",
    "So far, the key things I found are: ------------------------------------\n",
    "Hippocampus - Memory encoding (patient Henry HM) and Space (Mice)\n",
    "            - Place cells + direction encoding\n",
    "            - Grid cells (paraHippocampus, entorhinal region) - Ila Fiete\n",
    "Thalamus    - Gateway for sensoty and cortical connections\n",
    "\n",
    "\n",
    "________________________________________________________________________\n",
    "What are the algorithms I am missing? ----------------------------------\n",
    "Smart memory encoding\n",
    "    - How does hippocampus do it?\n",
    "    - How do grid cells (entorhinal region - paraHippocampus) do it?\n",
    "        - https://arxiv.org/abs/2202.12887\n",
    "    - Connection between grid cells and place cells\n",
    "    - Memory consolidation \n",
    "        - what is it and where does it happen?\n",
    "        - how do synapses do it?\n",
    "        - what role does sleep play in this?\n",
    "        - how much memory consolidation we do realtime?\n",
    "\n",
    "________________________________________________________________________\n",
    "Hashtags ---------------------------------------------------------------\n",
    "Hippocampus         Place Cells             Grid Cells      Thalamus        \n",
    "ParaHippocampus     Memory Consolidation\n",
    "\n",
    "\n",
    "\n",
    "\n",
    "\n"
   ]
  },
  {
   "cell_type": "markdown",
   "metadata": {},
   "source": []
  },
  {
   "cell_type": "markdown",
   "metadata": {},
   "source": [
    "# ..."
   ]
  }
 ],
 "metadata": {
  "kernelspec": {
   "display_name": "Python 3.10.4 64-bit",
   "language": "python",
   "name": "python3"
  },
  "language_info": {
   "name": "python",
   "version": "3.10.4"
  },
  "orig_nbformat": 4,
  "vscode": {
   "interpreter": {
    "hash": "aee8b7b246df8f9039afb4144a1f6fd8d2ca17a180786b69acc140d282b71a49"
   }
  }
 },
 "nbformat": 4,
 "nbformat_minor": 2
}
