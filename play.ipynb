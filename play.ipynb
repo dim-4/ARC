{
 "cells": [
  {
   "cell_type": "markdown",
   "metadata": {},
   "source": [
    "# Main"
   ]
  },
  {
   "cell_type": "code",
   "execution_count": 1,
   "metadata": {},
   "outputs": [],
   "source": [
    "%load_ext autoreload\n",
    "%autoreload 2"
   ]
  },
  {
   "cell_type": "markdown",
   "metadata": {},
   "source": [
    "# ARC"
   ]
  },
  {
   "cell_type": "code",
   "execution_count": 2,
   "metadata": {},
   "outputs": [],
   "source": [
    "import os, json\n",
    "from typing import List, Dict\n",
    "import plotly.graph_objects as go\n",
    "from plotly import subplots"
   ]
  },
  {
   "cell_type": "code",
   "execution_count": 15,
   "metadata": {},
   "outputs": [],
   "source": [
    "class Plotter:\n",
    "    COLOR_MAP = {-1: [255, 255, 255], 0: (0, 0, 0), 1: (37, 150, 190), \n",
    "                 2: (255, 65, 54), 3: (46, 204, 64), 4: (255, 220, 0), \n",
    "                 5: (170, 170, 170), 6: (240, 18, 190), 7: (255, 133, 27), \n",
    "                 8: (127, 219, 255), 9: (135, 12, 37)}\n",
    "    def __init__(self) -> None:\n",
    "        pass\n",
    "\n",
    "    @classmethod\n",
    "    def plot_grid(cls, grid:List[List[List[int]]], name=None):\n",
    "        \"\"\" plots a grid \"\"\"\n",
    "        fig = subplots.make_subplots(1, 1)\n",
    "        cls._add_grid_to_figure(fig, grid, 1, 1)\n",
    "        cls._add_gridlines_to_figure(fig, grid)\n",
    "        if name: print(name)\n",
    "        fig.show()\n",
    "    \n",
    "    @classmethod\n",
    "    def plot_grid_pairs(cls, grids, name=None):\n",
    "        \"\"\" grids:  [[grid, grid], [grid, grid], ...] \"\"\"\n",
    "        fig = subplots.make_subplots(len(grids), 2)\n",
    "        for i, grid_pair in enumerate(grids):\n",
    "            for j, grid in enumerate(grid_pair):\n",
    "                cls._add_grid_to_figure(fig, grid, i+1, j+1)\n",
    "                cls._add_gridlines_to_figure(fig, grid, row=i+1, col=j+1)\n",
    "        if name: print(name)\n",
    "        fig.update_layout(height=400*len(grids))\n",
    "        fig.show()\n",
    "            \n",
    "\n",
    "    @classmethod\n",
    "    def _convert_to_plot_grid(cls, grid:List[List[List[int]]]):\n",
    "        \"\"\" converts a grid to plotable grid \"\"\"\n",
    "        return [ [cls.COLOR_MAP[x] for x in y] for y in grid]\n",
    "\n",
    "    @classmethod\n",
    "    def _add_grid_to_figure(cls, fig:go.Figure, grid, row_id=1, col_id=1):\n",
    "        \"\"\" converts grid to plotable grid and adds a trace \"\"\"\n",
    "        plot_grid = cls._convert_to_plot_grid(grid)\n",
    "        fig.add_trace(go.Image(z=plot_grid), row_id, col_id)\n",
    "\n",
    "    @classmethod\n",
    "    def _add_gridlines_to_figure(cls, fig:go.Figure, grid, \n",
    "                                 color=\"sienna\", width=2, row=1, col=1):\n",
    "        \"\"\" given the grid, adds gridlines to draw over the figure \"\"\"\n",
    "        W, H = len(grid[0]), len(grid)\n",
    "        [fig.add_shape(type=\"line\", x0=-0.5, y0=y-0.5, x1=W-0.5, y1=y-0.5,\n",
    "                       line=dict(color=color, width=width), row=row, col=col)\n",
    "         for y in range(H)]\n",
    "        [fig.add_shape(type=\"line\", x0=x-0.5, y0=-0.5, x1=x-0.5, y1=H-0.5,\n",
    "                       line=dict(color=color, width=width), row=row, col=col)\n",
    "         for x in range(W)]\n",
    "        \n"
   ]
  },
  {
   "cell_type": "code",
   "execution_count": 12,
   "metadata": {},
   "outputs": [],
   "source": [
    "class Problem:\n",
    "    def __init__(self, problem_dict:dict) -> None:\n",
    "        self.problem = problem_dict\n",
    "        self.name = problem_dict['name']\n",
    "        self.num_train, self.num_test, self.train_inputs, self.train_outputs, \\\n",
    "            self.test_inputs, self.test_outputs = self._get_breakdown()\n",
    "    \n",
    "    def get_grid(self, i=0, type_input=True, type_train=True):\n",
    "        \"\"\" gets i'th train/test input/output. \"\"\"\n",
    "        samples = self.problem['train'] if type_train else self.problem['test']\n",
    "        k = \"input\" if type_input else \"output\"\n",
    "        return samples[min(i, len(samples)-1)][k]\n",
    "    \n",
    "    def plot(self):\n",
    "        \"\"\" plots the problem with all inputs and outputs \"\"\"\n",
    "        plotter = Plotter()\n",
    "        plotter.plot_grid_pairs([(self.train_inputs[i], self.train_outputs[i])\n",
    "                                 for i in range(self.num_train)], \n",
    "                                name=f\"{self.name}-train\")\n",
    "        plotter.plot_grid_pairs([(self.test_inputs[i], self.test_outputs[i])\n",
    "                                 for i in range(self.num_test)],\n",
    "                                name=f\"{self.name}-test\")\n",
    "    def _get_breakdown(self):\n",
    "        \"\"\" breaks down the problem into train/test input/output \"\"\"\n",
    "        problem = self.problem\n",
    "        num_train, num_test = len(problem['train']), len(problem['test'])\n",
    "        return (num_train, num_test,\n",
    "                [problem['train'][i]['input'] for i in range(num_train)],\n",
    "                [problem['train'][i]['output'] for i in range(num_train)],\n",
    "                [problem['test'][i]['input'] for i in range(num_test)],\n",
    "                [problem['test'][i]['output'] for i in range(num_test)])\n",
    "        \n",
    "\n",
    "        \n",
    "\n",
    "        "
   ]
  },
  {
   "cell_type": "code",
   "execution_count": 13,
   "metadata": {},
   "outputs": [],
   "source": [
    "class ARC:\n",
    "    def __init__(self) -> None:\n",
    "        self.problems:List[Problem] = self.load_problem_set(training=True)\n",
    "        \n",
    "        self.problems_eval:List[Problem] = self.load_problem_set(training=False)\n",
    "    \n",
    "    \n",
    "    def load_problem_set(self, training=True):\n",
    "        \"\"\" load either training set or evaluation set \"\"\"\n",
    "        loc = \"repo/data/training/\" if training else \"repo/data/evaluation/\"\n",
    "        problems:List[Problem] = []\n",
    "        for file in os.listdir(loc):\n",
    "            problem = json.loads(open(loc+file).read())\n",
    "            problem['name'] = file.split('.')[0]\n",
    "            problems.append(Problem(problem))\n",
    "        return problems        \n",
    "    \n",
    "    \n",
    "        \n",
    "    \n"
   ]
  },
  {
   "cell_type": "markdown",
   "metadata": {},
   "source": [
    "# Wibbly"
   ]
  },
  {
   "cell_type": "code",
   "execution_count": 20,
   "metadata": {},
   "outputs": [
    {
     "name": "stdout",
     "output_type": "stream",
     "text": [
      "a85d4709-train\n"
     ]
    },
    {
     "data": {
      "application/vnd.plotly.v1+json": {
       "config": {
        "plotlyServerURL": "https://plot.ly"
       },
       "data": [
        {
         "type": "image",
         "xaxis": "x",
         "yaxis": "y",
         "z": [
          [
           [
            0,
            0,
            0
           ],
           [
            0,
            0,
            0
           ],
           [
            170,
            170,
            170
           ]
          ],
          [
           [
            0,
            0,
            0
           ],
           [
            170,
            170,
            170
           ],
           [
            0,
            0,
            0
           ]
          ],
          [
           [
            170,
            170,
            170
           ],
           [
            0,
            0,
            0
           ],
           [
            0,
            0,
            0
           ]
          ]
         ]
        },
        {
         "type": "image",
         "xaxis": "x2",
         "yaxis": "y2",
         "z": [
          [
           [
            46,
            204,
            64
           ],
           [
            46,
            204,
            64
           ],
           [
            46,
            204,
            64
           ]
          ],
          [
           [
            255,
            220,
            0
           ],
           [
            255,
            220,
            0
           ],
           [
            255,
            220,
            0
           ]
          ],
          [
           [
            255,
            65,
            54
           ],
           [
            255,
            65,
            54
           ],
           [
            255,
            65,
            54
           ]
          ]
         ]
        },
        {
         "type": "image",
         "xaxis": "x3",
         "yaxis": "y3",
         "z": [
          [
           [
            0,
            0,
            0
           ],
           [
            0,
            0,
            0
           ],
           [
            170,
            170,
            170
           ]
          ],
          [
           [
            0,
            0,
            0
           ],
           [
            0,
            0,
            0
           ],
           [
            170,
            170,
            170
           ]
          ],
          [
           [
            0,
            0,
            0
           ],
           [
            0,
            0,
            0
           ],
           [
            170,
            170,
            170
           ]
          ]
         ]
        },
        {
         "type": "image",
         "xaxis": "x4",
         "yaxis": "y4",
         "z": [
          [
           [
            46,
            204,
            64
           ],
           [
            46,
            204,
            64
           ],
           [
            46,
            204,
            64
           ]
          ],
          [
           [
            46,
            204,
            64
           ],
           [
            46,
            204,
            64
           ],
           [
            46,
            204,
            64
           ]
          ],
          [
           [
            46,
            204,
            64
           ],
           [
            46,
            204,
            64
           ],
           [
            46,
            204,
            64
           ]
          ]
         ]
        },
        {
         "type": "image",
         "xaxis": "x5",
         "yaxis": "y5",
         "z": [
          [
           [
            170,
            170,
            170
           ],
           [
            0,
            0,
            0
           ],
           [
            0,
            0,
            0
           ]
          ],
          [
           [
            0,
            0,
            0
           ],
           [
            170,
            170,
            170
           ],
           [
            0,
            0,
            0
           ]
          ],
          [
           [
            170,
            170,
            170
           ],
           [
            0,
            0,
            0
           ],
           [
            0,
            0,
            0
           ]
          ]
         ]
        },
        {
         "type": "image",
         "xaxis": "x6",
         "yaxis": "y6",
         "z": [
          [
           [
            255,
            65,
            54
           ],
           [
            255,
            65,
            54
           ],
           [
            255,
            65,
            54
           ]
          ],
          [
           [
            255,
            220,
            0
           ],
           [
            255,
            220,
            0
           ],
           [
            255,
            220,
            0
           ]
          ],
          [
           [
            255,
            65,
            54
           ],
           [
            255,
            65,
            54
           ],
           [
            255,
            65,
            54
           ]
          ]
         ]
        },
        {
         "type": "image",
         "xaxis": "x7",
         "yaxis": "y7",
         "z": [
          [
           [
            0,
            0,
            0
           ],
           [
            170,
            170,
            170
           ],
           [
            0,
            0,
            0
           ]
          ],
          [
           [
            0,
            0,
            0
           ],
           [
            0,
            0,
            0
           ],
           [
            170,
            170,
            170
           ]
          ],
          [
           [
            0,
            0,
            0
           ],
           [
            170,
            170,
            170
           ],
           [
            0,
            0,
            0
           ]
          ]
         ]
        },
        {
         "type": "image",
         "xaxis": "x8",
         "yaxis": "y8",
         "z": [
          [
           [
            255,
            220,
            0
           ],
           [
            255,
            220,
            0
           ],
           [
            255,
            220,
            0
           ]
          ],
          [
           [
            46,
            204,
            64
           ],
           [
            46,
            204,
            64
           ],
           [
            46,
            204,
            64
           ]
          ],
          [
           [
            255,
            220,
            0
           ],
           [
            255,
            220,
            0
           ],
           [
            255,
            220,
            0
           ]
          ]
         ]
        }
       ],
       "layout": {
        "height": 1600,
        "shapes": [
         {
          "line": {
           "color": "sienna",
           "width": 2
          },
          "type": "line",
          "x0": -0.5,
          "x1": 2.5,
          "xref": "x",
          "y0": -0.5,
          "y1": -0.5,
          "yref": "y"
         },
         {
          "line": {
           "color": "sienna",
           "width": 2
          },
          "type": "line",
          "x0": -0.5,
          "x1": 2.5,
          "xref": "x",
          "y0": 0.5,
          "y1": 0.5,
          "yref": "y"
         },
         {
          "line": {
           "color": "sienna",
           "width": 2
          },
          "type": "line",
          "x0": -0.5,
          "x1": 2.5,
          "xref": "x",
          "y0": 1.5,
          "y1": 1.5,
          "yref": "y"
         },
         {
          "line": {
           "color": "sienna",
           "width": 2
          },
          "type": "line",
          "x0": -0.5,
          "x1": -0.5,
          "xref": "x",
          "y0": -0.5,
          "y1": 2.5,
          "yref": "y"
         },
         {
          "line": {
           "color": "sienna",
           "width": 2
          },
          "type": "line",
          "x0": 0.5,
          "x1": 0.5,
          "xref": "x",
          "y0": -0.5,
          "y1": 2.5,
          "yref": "y"
         },
         {
          "line": {
           "color": "sienna",
           "width": 2
          },
          "type": "line",
          "x0": 1.5,
          "x1": 1.5,
          "xref": "x",
          "y0": -0.5,
          "y1": 2.5,
          "yref": "y"
         },
         {
          "line": {
           "color": "sienna",
           "width": 2
          },
          "type": "line",
          "x0": -0.5,
          "x1": 2.5,
          "xref": "x2",
          "y0": -0.5,
          "y1": -0.5,
          "yref": "y2"
         },
         {
          "line": {
           "color": "sienna",
           "width": 2
          },
          "type": "line",
          "x0": -0.5,
          "x1": 2.5,
          "xref": "x2",
          "y0": 0.5,
          "y1": 0.5,
          "yref": "y2"
         },
         {
          "line": {
           "color": "sienna",
           "width": 2
          },
          "type": "line",
          "x0": -0.5,
          "x1": 2.5,
          "xref": "x2",
          "y0": 1.5,
          "y1": 1.5,
          "yref": "y2"
         },
         {
          "line": {
           "color": "sienna",
           "width": 2
          },
          "type": "line",
          "x0": -0.5,
          "x1": -0.5,
          "xref": "x2",
          "y0": -0.5,
          "y1": 2.5,
          "yref": "y2"
         },
         {
          "line": {
           "color": "sienna",
           "width": 2
          },
          "type": "line",
          "x0": 0.5,
          "x1": 0.5,
          "xref": "x2",
          "y0": -0.5,
          "y1": 2.5,
          "yref": "y2"
         },
         {
          "line": {
           "color": "sienna",
           "width": 2
          },
          "type": "line",
          "x0": 1.5,
          "x1": 1.5,
          "xref": "x2",
          "y0": -0.5,
          "y1": 2.5,
          "yref": "y2"
         },
         {
          "line": {
           "color": "sienna",
           "width": 2
          },
          "type": "line",
          "x0": -0.5,
          "x1": 2.5,
          "xref": "x3",
          "y0": -0.5,
          "y1": -0.5,
          "yref": "y3"
         },
         {
          "line": {
           "color": "sienna",
           "width": 2
          },
          "type": "line",
          "x0": -0.5,
          "x1": 2.5,
          "xref": "x3",
          "y0": 0.5,
          "y1": 0.5,
          "yref": "y3"
         },
         {
          "line": {
           "color": "sienna",
           "width": 2
          },
          "type": "line",
          "x0": -0.5,
          "x1": 2.5,
          "xref": "x3",
          "y0": 1.5,
          "y1": 1.5,
          "yref": "y3"
         },
         {
          "line": {
           "color": "sienna",
           "width": 2
          },
          "type": "line",
          "x0": -0.5,
          "x1": -0.5,
          "xref": "x3",
          "y0": -0.5,
          "y1": 2.5,
          "yref": "y3"
         },
         {
          "line": {
           "color": "sienna",
           "width": 2
          },
          "type": "line",
          "x0": 0.5,
          "x1": 0.5,
          "xref": "x3",
          "y0": -0.5,
          "y1": 2.5,
          "yref": "y3"
         },
         {
          "line": {
           "color": "sienna",
           "width": 2
          },
          "type": "line",
          "x0": 1.5,
          "x1": 1.5,
          "xref": "x3",
          "y0": -0.5,
          "y1": 2.5,
          "yref": "y3"
         },
         {
          "line": {
           "color": "sienna",
           "width": 2
          },
          "type": "line",
          "x0": -0.5,
          "x1": 2.5,
          "xref": "x4",
          "y0": -0.5,
          "y1": -0.5,
          "yref": "y4"
         },
         {
          "line": {
           "color": "sienna",
           "width": 2
          },
          "type": "line",
          "x0": -0.5,
          "x1": 2.5,
          "xref": "x4",
          "y0": 0.5,
          "y1": 0.5,
          "yref": "y4"
         },
         {
          "line": {
           "color": "sienna",
           "width": 2
          },
          "type": "line",
          "x0": -0.5,
          "x1": 2.5,
          "xref": "x4",
          "y0": 1.5,
          "y1": 1.5,
          "yref": "y4"
         },
         {
          "line": {
           "color": "sienna",
           "width": 2
          },
          "type": "line",
          "x0": -0.5,
          "x1": -0.5,
          "xref": "x4",
          "y0": -0.5,
          "y1": 2.5,
          "yref": "y4"
         },
         {
          "line": {
           "color": "sienna",
           "width": 2
          },
          "type": "line",
          "x0": 0.5,
          "x1": 0.5,
          "xref": "x4",
          "y0": -0.5,
          "y1": 2.5,
          "yref": "y4"
         },
         {
          "line": {
           "color": "sienna",
           "width": 2
          },
          "type": "line",
          "x0": 1.5,
          "x1": 1.5,
          "xref": "x4",
          "y0": -0.5,
          "y1": 2.5,
          "yref": "y4"
         },
         {
          "line": {
           "color": "sienna",
           "width": 2
          },
          "type": "line",
          "x0": -0.5,
          "x1": 2.5,
          "xref": "x5",
          "y0": -0.5,
          "y1": -0.5,
          "yref": "y5"
         },
         {
          "line": {
           "color": "sienna",
           "width": 2
          },
          "type": "line",
          "x0": -0.5,
          "x1": 2.5,
          "xref": "x5",
          "y0": 0.5,
          "y1": 0.5,
          "yref": "y5"
         },
         {
          "line": {
           "color": "sienna",
           "width": 2
          },
          "type": "line",
          "x0": -0.5,
          "x1": 2.5,
          "xref": "x5",
          "y0": 1.5,
          "y1": 1.5,
          "yref": "y5"
         },
         {
          "line": {
           "color": "sienna",
           "width": 2
          },
          "type": "line",
          "x0": -0.5,
          "x1": -0.5,
          "xref": "x5",
          "y0": -0.5,
          "y1": 2.5,
          "yref": "y5"
         },
         {
          "line": {
           "color": "sienna",
           "width": 2
          },
          "type": "line",
          "x0": 0.5,
          "x1": 0.5,
          "xref": "x5",
          "y0": -0.5,
          "y1": 2.5,
          "yref": "y5"
         },
         {
          "line": {
           "color": "sienna",
           "width": 2
          },
          "type": "line",
          "x0": 1.5,
          "x1": 1.5,
          "xref": "x5",
          "y0": -0.5,
          "y1": 2.5,
          "yref": "y5"
         },
         {
          "line": {
           "color": "sienna",
           "width": 2
          },
          "type": "line",
          "x0": -0.5,
          "x1": 2.5,
          "xref": "x6",
          "y0": -0.5,
          "y1": -0.5,
          "yref": "y6"
         },
         {
          "line": {
           "color": "sienna",
           "width": 2
          },
          "type": "line",
          "x0": -0.5,
          "x1": 2.5,
          "xref": "x6",
          "y0": 0.5,
          "y1": 0.5,
          "yref": "y6"
         },
         {
          "line": {
           "color": "sienna",
           "width": 2
          },
          "type": "line",
          "x0": -0.5,
          "x1": 2.5,
          "xref": "x6",
          "y0": 1.5,
          "y1": 1.5,
          "yref": "y6"
         },
         {
          "line": {
           "color": "sienna",
           "width": 2
          },
          "type": "line",
          "x0": -0.5,
          "x1": -0.5,
          "xref": "x6",
          "y0": -0.5,
          "y1": 2.5,
          "yref": "y6"
         },
         {
          "line": {
           "color": "sienna",
           "width": 2
          },
          "type": "line",
          "x0": 0.5,
          "x1": 0.5,
          "xref": "x6",
          "y0": -0.5,
          "y1": 2.5,
          "yref": "y6"
         },
         {
          "line": {
           "color": "sienna",
           "width": 2
          },
          "type": "line",
          "x0": 1.5,
          "x1": 1.5,
          "xref": "x6",
          "y0": -0.5,
          "y1": 2.5,
          "yref": "y6"
         },
         {
          "line": {
           "color": "sienna",
           "width": 2
          },
          "type": "line",
          "x0": -0.5,
          "x1": 2.5,
          "xref": "x7",
          "y0": -0.5,
          "y1": -0.5,
          "yref": "y7"
         },
         {
          "line": {
           "color": "sienna",
           "width": 2
          },
          "type": "line",
          "x0": -0.5,
          "x1": 2.5,
          "xref": "x7",
          "y0": 0.5,
          "y1": 0.5,
          "yref": "y7"
         },
         {
          "line": {
           "color": "sienna",
           "width": 2
          },
          "type": "line",
          "x0": -0.5,
          "x1": 2.5,
          "xref": "x7",
          "y0": 1.5,
          "y1": 1.5,
          "yref": "y7"
         },
         {
          "line": {
           "color": "sienna",
           "width": 2
          },
          "type": "line",
          "x0": -0.5,
          "x1": -0.5,
          "xref": "x7",
          "y0": -0.5,
          "y1": 2.5,
          "yref": "y7"
         },
         {
          "line": {
           "color": "sienna",
           "width": 2
          },
          "type": "line",
          "x0": 0.5,
          "x1": 0.5,
          "xref": "x7",
          "y0": -0.5,
          "y1": 2.5,
          "yref": "y7"
         },
         {
          "line": {
           "color": "sienna",
           "width": 2
          },
          "type": "line",
          "x0": 1.5,
          "x1": 1.5,
          "xref": "x7",
          "y0": -0.5,
          "y1": 2.5,
          "yref": "y7"
         },
         {
          "line": {
           "color": "sienna",
           "width": 2
          },
          "type": "line",
          "x0": -0.5,
          "x1": 2.5,
          "xref": "x8",
          "y0": -0.5,
          "y1": -0.5,
          "yref": "y8"
         },
         {
          "line": {
           "color": "sienna",
           "width": 2
          },
          "type": "line",
          "x0": -0.5,
          "x1": 2.5,
          "xref": "x8",
          "y0": 0.5,
          "y1": 0.5,
          "yref": "y8"
         },
         {
          "line": {
           "color": "sienna",
           "width": 2
          },
          "type": "line",
          "x0": -0.5,
          "x1": 2.5,
          "xref": "x8",
          "y0": 1.5,
          "y1": 1.5,
          "yref": "y8"
         },
         {
          "line": {
           "color": "sienna",
           "width": 2
          },
          "type": "line",
          "x0": -0.5,
          "x1": -0.5,
          "xref": "x8",
          "y0": -0.5,
          "y1": 2.5,
          "yref": "y8"
         },
         {
          "line": {
           "color": "sienna",
           "width": 2
          },
          "type": "line",
          "x0": 0.5,
          "x1": 0.5,
          "xref": "x8",
          "y0": -0.5,
          "y1": 2.5,
          "yref": "y8"
         },
         {
          "line": {
           "color": "sienna",
           "width": 2
          },
          "type": "line",
          "x0": 1.5,
          "x1": 1.5,
          "xref": "x8",
          "y0": -0.5,
          "y1": 2.5,
          "yref": "y8"
         }
        ],
        "template": {
         "data": {
          "bar": [
           {
            "error_x": {
             "color": "#2a3f5f"
            },
            "error_y": {
             "color": "#2a3f5f"
            },
            "marker": {
             "line": {
              "color": "#E5ECF6",
              "width": 0.5
             },
             "pattern": {
              "fillmode": "overlay",
              "size": 10,
              "solidity": 0.2
             }
            },
            "type": "bar"
           }
          ],
          "barpolar": [
           {
            "marker": {
             "line": {
              "color": "#E5ECF6",
              "width": 0.5
             },
             "pattern": {
              "fillmode": "overlay",
              "size": 10,
              "solidity": 0.2
             }
            },
            "type": "barpolar"
           }
          ],
          "carpet": [
           {
            "aaxis": {
             "endlinecolor": "#2a3f5f",
             "gridcolor": "white",
             "linecolor": "white",
             "minorgridcolor": "white",
             "startlinecolor": "#2a3f5f"
            },
            "baxis": {
             "endlinecolor": "#2a3f5f",
             "gridcolor": "white",
             "linecolor": "white",
             "minorgridcolor": "white",
             "startlinecolor": "#2a3f5f"
            },
            "type": "carpet"
           }
          ],
          "choropleth": [
           {
            "colorbar": {
             "outlinewidth": 0,
             "ticks": ""
            },
            "type": "choropleth"
           }
          ],
          "contour": [
           {
            "colorbar": {
             "outlinewidth": 0,
             "ticks": ""
            },
            "colorscale": [
             [
              0,
              "#0d0887"
             ],
             [
              0.1111111111111111,
              "#46039f"
             ],
             [
              0.2222222222222222,
              "#7201a8"
             ],
             [
              0.3333333333333333,
              "#9c179e"
             ],
             [
              0.4444444444444444,
              "#bd3786"
             ],
             [
              0.5555555555555556,
              "#d8576b"
             ],
             [
              0.6666666666666666,
              "#ed7953"
             ],
             [
              0.7777777777777778,
              "#fb9f3a"
             ],
             [
              0.8888888888888888,
              "#fdca26"
             ],
             [
              1,
              "#f0f921"
             ]
            ],
            "type": "contour"
           }
          ],
          "contourcarpet": [
           {
            "colorbar": {
             "outlinewidth": 0,
             "ticks": ""
            },
            "type": "contourcarpet"
           }
          ],
          "heatmap": [
           {
            "colorbar": {
             "outlinewidth": 0,
             "ticks": ""
            },
            "colorscale": [
             [
              0,
              "#0d0887"
             ],
             [
              0.1111111111111111,
              "#46039f"
             ],
             [
              0.2222222222222222,
              "#7201a8"
             ],
             [
              0.3333333333333333,
              "#9c179e"
             ],
             [
              0.4444444444444444,
              "#bd3786"
             ],
             [
              0.5555555555555556,
              "#d8576b"
             ],
             [
              0.6666666666666666,
              "#ed7953"
             ],
             [
              0.7777777777777778,
              "#fb9f3a"
             ],
             [
              0.8888888888888888,
              "#fdca26"
             ],
             [
              1,
              "#f0f921"
             ]
            ],
            "type": "heatmap"
           }
          ],
          "heatmapgl": [
           {
            "colorbar": {
             "outlinewidth": 0,
             "ticks": ""
            },
            "colorscale": [
             [
              0,
              "#0d0887"
             ],
             [
              0.1111111111111111,
              "#46039f"
             ],
             [
              0.2222222222222222,
              "#7201a8"
             ],
             [
              0.3333333333333333,
              "#9c179e"
             ],
             [
              0.4444444444444444,
              "#bd3786"
             ],
             [
              0.5555555555555556,
              "#d8576b"
             ],
             [
              0.6666666666666666,
              "#ed7953"
             ],
             [
              0.7777777777777778,
              "#fb9f3a"
             ],
             [
              0.8888888888888888,
              "#fdca26"
             ],
             [
              1,
              "#f0f921"
             ]
            ],
            "type": "heatmapgl"
           }
          ],
          "histogram": [
           {
            "marker": {
             "pattern": {
              "fillmode": "overlay",
              "size": 10,
              "solidity": 0.2
             }
            },
            "type": "histogram"
           }
          ],
          "histogram2d": [
           {
            "colorbar": {
             "outlinewidth": 0,
             "ticks": ""
            },
            "colorscale": [
             [
              0,
              "#0d0887"
             ],
             [
              0.1111111111111111,
              "#46039f"
             ],
             [
              0.2222222222222222,
              "#7201a8"
             ],
             [
              0.3333333333333333,
              "#9c179e"
             ],
             [
              0.4444444444444444,
              "#bd3786"
             ],
             [
              0.5555555555555556,
              "#d8576b"
             ],
             [
              0.6666666666666666,
              "#ed7953"
             ],
             [
              0.7777777777777778,
              "#fb9f3a"
             ],
             [
              0.8888888888888888,
              "#fdca26"
             ],
             [
              1,
              "#f0f921"
             ]
            ],
            "type": "histogram2d"
           }
          ],
          "histogram2dcontour": [
           {
            "colorbar": {
             "outlinewidth": 0,
             "ticks": ""
            },
            "colorscale": [
             [
              0,
              "#0d0887"
             ],
             [
              0.1111111111111111,
              "#46039f"
             ],
             [
              0.2222222222222222,
              "#7201a8"
             ],
             [
              0.3333333333333333,
              "#9c179e"
             ],
             [
              0.4444444444444444,
              "#bd3786"
             ],
             [
              0.5555555555555556,
              "#d8576b"
             ],
             [
              0.6666666666666666,
              "#ed7953"
             ],
             [
              0.7777777777777778,
              "#fb9f3a"
             ],
             [
              0.8888888888888888,
              "#fdca26"
             ],
             [
              1,
              "#f0f921"
             ]
            ],
            "type": "histogram2dcontour"
           }
          ],
          "mesh3d": [
           {
            "colorbar": {
             "outlinewidth": 0,
             "ticks": ""
            },
            "type": "mesh3d"
           }
          ],
          "parcoords": [
           {
            "line": {
             "colorbar": {
              "outlinewidth": 0,
              "ticks": ""
             }
            },
            "type": "parcoords"
           }
          ],
          "pie": [
           {
            "automargin": true,
            "type": "pie"
           }
          ],
          "scatter": [
           {
            "fillpattern": {
             "fillmode": "overlay",
             "size": 10,
             "solidity": 0.2
            },
            "type": "scatter"
           }
          ],
          "scatter3d": [
           {
            "line": {
             "colorbar": {
              "outlinewidth": 0,
              "ticks": ""
             }
            },
            "marker": {
             "colorbar": {
              "outlinewidth": 0,
              "ticks": ""
             }
            },
            "type": "scatter3d"
           }
          ],
          "scattercarpet": [
           {
            "marker": {
             "colorbar": {
              "outlinewidth": 0,
              "ticks": ""
             }
            },
            "type": "scattercarpet"
           }
          ],
          "scattergeo": [
           {
            "marker": {
             "colorbar": {
              "outlinewidth": 0,
              "ticks": ""
             }
            },
            "type": "scattergeo"
           }
          ],
          "scattergl": [
           {
            "marker": {
             "colorbar": {
              "outlinewidth": 0,
              "ticks": ""
             }
            },
            "type": "scattergl"
           }
          ],
          "scattermapbox": [
           {
            "marker": {
             "colorbar": {
              "outlinewidth": 0,
              "ticks": ""
             }
            },
            "type": "scattermapbox"
           }
          ],
          "scatterpolar": [
           {
            "marker": {
             "colorbar": {
              "outlinewidth": 0,
              "ticks": ""
             }
            },
            "type": "scatterpolar"
           }
          ],
          "scatterpolargl": [
           {
            "marker": {
             "colorbar": {
              "outlinewidth": 0,
              "ticks": ""
             }
            },
            "type": "scatterpolargl"
           }
          ],
          "scatterternary": [
           {
            "marker": {
             "colorbar": {
              "outlinewidth": 0,
              "ticks": ""
             }
            },
            "type": "scatterternary"
           }
          ],
          "surface": [
           {
            "colorbar": {
             "outlinewidth": 0,
             "ticks": ""
            },
            "colorscale": [
             [
              0,
              "#0d0887"
             ],
             [
              0.1111111111111111,
              "#46039f"
             ],
             [
              0.2222222222222222,
              "#7201a8"
             ],
             [
              0.3333333333333333,
              "#9c179e"
             ],
             [
              0.4444444444444444,
              "#bd3786"
             ],
             [
              0.5555555555555556,
              "#d8576b"
             ],
             [
              0.6666666666666666,
              "#ed7953"
             ],
             [
              0.7777777777777778,
              "#fb9f3a"
             ],
             [
              0.8888888888888888,
              "#fdca26"
             ],
             [
              1,
              "#f0f921"
             ]
            ],
            "type": "surface"
           }
          ],
          "table": [
           {
            "cells": {
             "fill": {
              "color": "#EBF0F8"
             },
             "line": {
              "color": "white"
             }
            },
            "header": {
             "fill": {
              "color": "#C8D4E3"
             },
             "line": {
              "color": "white"
             }
            },
            "type": "table"
           }
          ]
         },
         "layout": {
          "annotationdefaults": {
           "arrowcolor": "#2a3f5f",
           "arrowhead": 0,
           "arrowwidth": 1
          },
          "autotypenumbers": "strict",
          "coloraxis": {
           "colorbar": {
            "outlinewidth": 0,
            "ticks": ""
           }
          },
          "colorscale": {
           "diverging": [
            [
             0,
             "#8e0152"
            ],
            [
             0.1,
             "#c51b7d"
            ],
            [
             0.2,
             "#de77ae"
            ],
            [
             0.3,
             "#f1b6da"
            ],
            [
             0.4,
             "#fde0ef"
            ],
            [
             0.5,
             "#f7f7f7"
            ],
            [
             0.6,
             "#e6f5d0"
            ],
            [
             0.7,
             "#b8e186"
            ],
            [
             0.8,
             "#7fbc41"
            ],
            [
             0.9,
             "#4d9221"
            ],
            [
             1,
             "#276419"
            ]
           ],
           "sequential": [
            [
             0,
             "#0d0887"
            ],
            [
             0.1111111111111111,
             "#46039f"
            ],
            [
             0.2222222222222222,
             "#7201a8"
            ],
            [
             0.3333333333333333,
             "#9c179e"
            ],
            [
             0.4444444444444444,
             "#bd3786"
            ],
            [
             0.5555555555555556,
             "#d8576b"
            ],
            [
             0.6666666666666666,
             "#ed7953"
            ],
            [
             0.7777777777777778,
             "#fb9f3a"
            ],
            [
             0.8888888888888888,
             "#fdca26"
            ],
            [
             1,
             "#f0f921"
            ]
           ],
           "sequentialminus": [
            [
             0,
             "#0d0887"
            ],
            [
             0.1111111111111111,
             "#46039f"
            ],
            [
             0.2222222222222222,
             "#7201a8"
            ],
            [
             0.3333333333333333,
             "#9c179e"
            ],
            [
             0.4444444444444444,
             "#bd3786"
            ],
            [
             0.5555555555555556,
             "#d8576b"
            ],
            [
             0.6666666666666666,
             "#ed7953"
            ],
            [
             0.7777777777777778,
             "#fb9f3a"
            ],
            [
             0.8888888888888888,
             "#fdca26"
            ],
            [
             1,
             "#f0f921"
            ]
           ]
          },
          "colorway": [
           "#636efa",
           "#EF553B",
           "#00cc96",
           "#ab63fa",
           "#FFA15A",
           "#19d3f3",
           "#FF6692",
           "#B6E880",
           "#FF97FF",
           "#FECB52"
          ],
          "font": {
           "color": "#2a3f5f"
          },
          "geo": {
           "bgcolor": "white",
           "lakecolor": "white",
           "landcolor": "#E5ECF6",
           "showlakes": true,
           "showland": true,
           "subunitcolor": "white"
          },
          "hoverlabel": {
           "align": "left"
          },
          "hovermode": "closest",
          "mapbox": {
           "style": "light"
          },
          "paper_bgcolor": "white",
          "plot_bgcolor": "#E5ECF6",
          "polar": {
           "angularaxis": {
            "gridcolor": "white",
            "linecolor": "white",
            "ticks": ""
           },
           "bgcolor": "#E5ECF6",
           "radialaxis": {
            "gridcolor": "white",
            "linecolor": "white",
            "ticks": ""
           }
          },
          "scene": {
           "xaxis": {
            "backgroundcolor": "#E5ECF6",
            "gridcolor": "white",
            "gridwidth": 2,
            "linecolor": "white",
            "showbackground": true,
            "ticks": "",
            "zerolinecolor": "white"
           },
           "yaxis": {
            "backgroundcolor": "#E5ECF6",
            "gridcolor": "white",
            "gridwidth": 2,
            "linecolor": "white",
            "showbackground": true,
            "ticks": "",
            "zerolinecolor": "white"
           },
           "zaxis": {
            "backgroundcolor": "#E5ECF6",
            "gridcolor": "white",
            "gridwidth": 2,
            "linecolor": "white",
            "showbackground": true,
            "ticks": "",
            "zerolinecolor": "white"
           }
          },
          "shapedefaults": {
           "line": {
            "color": "#2a3f5f"
           }
          },
          "ternary": {
           "aaxis": {
            "gridcolor": "white",
            "linecolor": "white",
            "ticks": ""
           },
           "baxis": {
            "gridcolor": "white",
            "linecolor": "white",
            "ticks": ""
           },
           "bgcolor": "#E5ECF6",
           "caxis": {
            "gridcolor": "white",
            "linecolor": "white",
            "ticks": ""
           }
          },
          "title": {
           "x": 0.05
          },
          "xaxis": {
           "automargin": true,
           "gridcolor": "white",
           "linecolor": "white",
           "ticks": "",
           "title": {
            "standoff": 15
           },
           "zerolinecolor": "white",
           "zerolinewidth": 2
          },
          "yaxis": {
           "automargin": true,
           "gridcolor": "white",
           "linecolor": "white",
           "ticks": "",
           "title": {
            "standoff": 15
           },
           "zerolinecolor": "white",
           "zerolinewidth": 2
          }
         }
        },
        "xaxis": {
         "anchor": "y",
         "domain": [
          0,
          0.45
         ]
        },
        "xaxis2": {
         "anchor": "y2",
         "domain": [
          0.55,
          1
         ]
        },
        "xaxis3": {
         "anchor": "y3",
         "domain": [
          0,
          0.45
         ]
        },
        "xaxis4": {
         "anchor": "y4",
         "domain": [
          0.55,
          1
         ]
        },
        "xaxis5": {
         "anchor": "y5",
         "domain": [
          0,
          0.45
         ]
        },
        "xaxis6": {
         "anchor": "y6",
         "domain": [
          0.55,
          1
         ]
        },
        "xaxis7": {
         "anchor": "y7",
         "domain": [
          0,
          0.45
         ]
        },
        "xaxis8": {
         "anchor": "y8",
         "domain": [
          0.55,
          1
         ]
        },
        "yaxis": {
         "anchor": "x",
         "domain": [
          0.80625,
          1
         ]
        },
        "yaxis2": {
         "anchor": "x2",
         "domain": [
          0.80625,
          1
         ]
        },
        "yaxis3": {
         "anchor": "x3",
         "domain": [
          0.5375,
          0.73125
         ]
        },
        "yaxis4": {
         "anchor": "x4",
         "domain": [
          0.5375,
          0.73125
         ]
        },
        "yaxis5": {
         "anchor": "x5",
         "domain": [
          0.26875,
          0.4625
         ]
        },
        "yaxis6": {
         "anchor": "x6",
         "domain": [
          0.26875,
          0.4625
         ]
        },
        "yaxis7": {
         "anchor": "x7",
         "domain": [
          0,
          0.19375
         ]
        },
        "yaxis8": {
         "anchor": "x8",
         "domain": [
          0,
          0.19375
         ]
        }
       }
      }
     },
     "metadata": {},
     "output_type": "display_data"
    },
    {
     "name": "stdout",
     "output_type": "stream",
     "text": [
      "a85d4709-test\n"
     ]
    },
    {
     "data": {
      "application/vnd.plotly.v1+json": {
       "config": {
        "plotlyServerURL": "https://plot.ly"
       },
       "data": [
        {
         "type": "image",
         "xaxis": "x",
         "yaxis": "y",
         "z": [
          [
           [
            0,
            0,
            0
           ],
           [
            0,
            0,
            0
           ],
           [
            170,
            170,
            170
           ]
          ],
          [
           [
            170,
            170,
            170
           ],
           [
            0,
            0,
            0
           ],
           [
            0,
            0,
            0
           ]
          ],
          [
           [
            0,
            0,
            0
           ],
           [
            170,
            170,
            170
           ],
           [
            0,
            0,
            0
           ]
          ]
         ]
        },
        {
         "type": "image",
         "xaxis": "x2",
         "yaxis": "y2",
         "z": [
          [
           [
            46,
            204,
            64
           ],
           [
            46,
            204,
            64
           ],
           [
            46,
            204,
            64
           ]
          ],
          [
           [
            255,
            65,
            54
           ],
           [
            255,
            65,
            54
           ],
           [
            255,
            65,
            54
           ]
          ],
          [
           [
            255,
            220,
            0
           ],
           [
            255,
            220,
            0
           ],
           [
            255,
            220,
            0
           ]
          ]
         ]
        }
       ],
       "layout": {
        "height": 400,
        "shapes": [
         {
          "line": {
           "color": "sienna",
           "width": 2
          },
          "type": "line",
          "x0": -0.5,
          "x1": 2.5,
          "xref": "x",
          "y0": -0.5,
          "y1": -0.5,
          "yref": "y"
         },
         {
          "line": {
           "color": "sienna",
           "width": 2
          },
          "type": "line",
          "x0": -0.5,
          "x1": 2.5,
          "xref": "x",
          "y0": 0.5,
          "y1": 0.5,
          "yref": "y"
         },
         {
          "line": {
           "color": "sienna",
           "width": 2
          },
          "type": "line",
          "x0": -0.5,
          "x1": 2.5,
          "xref": "x",
          "y0": 1.5,
          "y1": 1.5,
          "yref": "y"
         },
         {
          "line": {
           "color": "sienna",
           "width": 2
          },
          "type": "line",
          "x0": -0.5,
          "x1": -0.5,
          "xref": "x",
          "y0": -0.5,
          "y1": 2.5,
          "yref": "y"
         },
         {
          "line": {
           "color": "sienna",
           "width": 2
          },
          "type": "line",
          "x0": 0.5,
          "x1": 0.5,
          "xref": "x",
          "y0": -0.5,
          "y1": 2.5,
          "yref": "y"
         },
         {
          "line": {
           "color": "sienna",
           "width": 2
          },
          "type": "line",
          "x0": 1.5,
          "x1": 1.5,
          "xref": "x",
          "y0": -0.5,
          "y1": 2.5,
          "yref": "y"
         },
         {
          "line": {
           "color": "sienna",
           "width": 2
          },
          "type": "line",
          "x0": -0.5,
          "x1": 2.5,
          "xref": "x2",
          "y0": -0.5,
          "y1": -0.5,
          "yref": "y2"
         },
         {
          "line": {
           "color": "sienna",
           "width": 2
          },
          "type": "line",
          "x0": -0.5,
          "x1": 2.5,
          "xref": "x2",
          "y0": 0.5,
          "y1": 0.5,
          "yref": "y2"
         },
         {
          "line": {
           "color": "sienna",
           "width": 2
          },
          "type": "line",
          "x0": -0.5,
          "x1": 2.5,
          "xref": "x2",
          "y0": 1.5,
          "y1": 1.5,
          "yref": "y2"
         },
         {
          "line": {
           "color": "sienna",
           "width": 2
          },
          "type": "line",
          "x0": -0.5,
          "x1": -0.5,
          "xref": "x2",
          "y0": -0.5,
          "y1": 2.5,
          "yref": "y2"
         },
         {
          "line": {
           "color": "sienna",
           "width": 2
          },
          "type": "line",
          "x0": 0.5,
          "x1": 0.5,
          "xref": "x2",
          "y0": -0.5,
          "y1": 2.5,
          "yref": "y2"
         },
         {
          "line": {
           "color": "sienna",
           "width": 2
          },
          "type": "line",
          "x0": 1.5,
          "x1": 1.5,
          "xref": "x2",
          "y0": -0.5,
          "y1": 2.5,
          "yref": "y2"
         }
        ],
        "template": {
         "data": {
          "bar": [
           {
            "error_x": {
             "color": "#2a3f5f"
            },
            "error_y": {
             "color": "#2a3f5f"
            },
            "marker": {
             "line": {
              "color": "#E5ECF6",
              "width": 0.5
             },
             "pattern": {
              "fillmode": "overlay",
              "size": 10,
              "solidity": 0.2
             }
            },
            "type": "bar"
           }
          ],
          "barpolar": [
           {
            "marker": {
             "line": {
              "color": "#E5ECF6",
              "width": 0.5
             },
             "pattern": {
              "fillmode": "overlay",
              "size": 10,
              "solidity": 0.2
             }
            },
            "type": "barpolar"
           }
          ],
          "carpet": [
           {
            "aaxis": {
             "endlinecolor": "#2a3f5f",
             "gridcolor": "white",
             "linecolor": "white",
             "minorgridcolor": "white",
             "startlinecolor": "#2a3f5f"
            },
            "baxis": {
             "endlinecolor": "#2a3f5f",
             "gridcolor": "white",
             "linecolor": "white",
             "minorgridcolor": "white",
             "startlinecolor": "#2a3f5f"
            },
            "type": "carpet"
           }
          ],
          "choropleth": [
           {
            "colorbar": {
             "outlinewidth": 0,
             "ticks": ""
            },
            "type": "choropleth"
           }
          ],
          "contour": [
           {
            "colorbar": {
             "outlinewidth": 0,
             "ticks": ""
            },
            "colorscale": [
             [
              0,
              "#0d0887"
             ],
             [
              0.1111111111111111,
              "#46039f"
             ],
             [
              0.2222222222222222,
              "#7201a8"
             ],
             [
              0.3333333333333333,
              "#9c179e"
             ],
             [
              0.4444444444444444,
              "#bd3786"
             ],
             [
              0.5555555555555556,
              "#d8576b"
             ],
             [
              0.6666666666666666,
              "#ed7953"
             ],
             [
              0.7777777777777778,
              "#fb9f3a"
             ],
             [
              0.8888888888888888,
              "#fdca26"
             ],
             [
              1,
              "#f0f921"
             ]
            ],
            "type": "contour"
           }
          ],
          "contourcarpet": [
           {
            "colorbar": {
             "outlinewidth": 0,
             "ticks": ""
            },
            "type": "contourcarpet"
           }
          ],
          "heatmap": [
           {
            "colorbar": {
             "outlinewidth": 0,
             "ticks": ""
            },
            "colorscale": [
             [
              0,
              "#0d0887"
             ],
             [
              0.1111111111111111,
              "#46039f"
             ],
             [
              0.2222222222222222,
              "#7201a8"
             ],
             [
              0.3333333333333333,
              "#9c179e"
             ],
             [
              0.4444444444444444,
              "#bd3786"
             ],
             [
              0.5555555555555556,
              "#d8576b"
             ],
             [
              0.6666666666666666,
              "#ed7953"
             ],
             [
              0.7777777777777778,
              "#fb9f3a"
             ],
             [
              0.8888888888888888,
              "#fdca26"
             ],
             [
              1,
              "#f0f921"
             ]
            ],
            "type": "heatmap"
           }
          ],
          "heatmapgl": [
           {
            "colorbar": {
             "outlinewidth": 0,
             "ticks": ""
            },
            "colorscale": [
             [
              0,
              "#0d0887"
             ],
             [
              0.1111111111111111,
              "#46039f"
             ],
             [
              0.2222222222222222,
              "#7201a8"
             ],
             [
              0.3333333333333333,
              "#9c179e"
             ],
             [
              0.4444444444444444,
              "#bd3786"
             ],
             [
              0.5555555555555556,
              "#d8576b"
             ],
             [
              0.6666666666666666,
              "#ed7953"
             ],
             [
              0.7777777777777778,
              "#fb9f3a"
             ],
             [
              0.8888888888888888,
              "#fdca26"
             ],
             [
              1,
              "#f0f921"
             ]
            ],
            "type": "heatmapgl"
           }
          ],
          "histogram": [
           {
            "marker": {
             "pattern": {
              "fillmode": "overlay",
              "size": 10,
              "solidity": 0.2
             }
            },
            "type": "histogram"
           }
          ],
          "histogram2d": [
           {
            "colorbar": {
             "outlinewidth": 0,
             "ticks": ""
            },
            "colorscale": [
             [
              0,
              "#0d0887"
             ],
             [
              0.1111111111111111,
              "#46039f"
             ],
             [
              0.2222222222222222,
              "#7201a8"
             ],
             [
              0.3333333333333333,
              "#9c179e"
             ],
             [
              0.4444444444444444,
              "#bd3786"
             ],
             [
              0.5555555555555556,
              "#d8576b"
             ],
             [
              0.6666666666666666,
              "#ed7953"
             ],
             [
              0.7777777777777778,
              "#fb9f3a"
             ],
             [
              0.8888888888888888,
              "#fdca26"
             ],
             [
              1,
              "#f0f921"
             ]
            ],
            "type": "histogram2d"
           }
          ],
          "histogram2dcontour": [
           {
            "colorbar": {
             "outlinewidth": 0,
             "ticks": ""
            },
            "colorscale": [
             [
              0,
              "#0d0887"
             ],
             [
              0.1111111111111111,
              "#46039f"
             ],
             [
              0.2222222222222222,
              "#7201a8"
             ],
             [
              0.3333333333333333,
              "#9c179e"
             ],
             [
              0.4444444444444444,
              "#bd3786"
             ],
             [
              0.5555555555555556,
              "#d8576b"
             ],
             [
              0.6666666666666666,
              "#ed7953"
             ],
             [
              0.7777777777777778,
              "#fb9f3a"
             ],
             [
              0.8888888888888888,
              "#fdca26"
             ],
             [
              1,
              "#f0f921"
             ]
            ],
            "type": "histogram2dcontour"
           }
          ],
          "mesh3d": [
           {
            "colorbar": {
             "outlinewidth": 0,
             "ticks": ""
            },
            "type": "mesh3d"
           }
          ],
          "parcoords": [
           {
            "line": {
             "colorbar": {
              "outlinewidth": 0,
              "ticks": ""
             }
            },
            "type": "parcoords"
           }
          ],
          "pie": [
           {
            "automargin": true,
            "type": "pie"
           }
          ],
          "scatter": [
           {
            "fillpattern": {
             "fillmode": "overlay",
             "size": 10,
             "solidity": 0.2
            },
            "type": "scatter"
           }
          ],
          "scatter3d": [
           {
            "line": {
             "colorbar": {
              "outlinewidth": 0,
              "ticks": ""
             }
            },
            "marker": {
             "colorbar": {
              "outlinewidth": 0,
              "ticks": ""
             }
            },
            "type": "scatter3d"
           }
          ],
          "scattercarpet": [
           {
            "marker": {
             "colorbar": {
              "outlinewidth": 0,
              "ticks": ""
             }
            },
            "type": "scattercarpet"
           }
          ],
          "scattergeo": [
           {
            "marker": {
             "colorbar": {
              "outlinewidth": 0,
              "ticks": ""
             }
            },
            "type": "scattergeo"
           }
          ],
          "scattergl": [
           {
            "marker": {
             "colorbar": {
              "outlinewidth": 0,
              "ticks": ""
             }
            },
            "type": "scattergl"
           }
          ],
          "scattermapbox": [
           {
            "marker": {
             "colorbar": {
              "outlinewidth": 0,
              "ticks": ""
             }
            },
            "type": "scattermapbox"
           }
          ],
          "scatterpolar": [
           {
            "marker": {
             "colorbar": {
              "outlinewidth": 0,
              "ticks": ""
             }
            },
            "type": "scatterpolar"
           }
          ],
          "scatterpolargl": [
           {
            "marker": {
             "colorbar": {
              "outlinewidth": 0,
              "ticks": ""
             }
            },
            "type": "scatterpolargl"
           }
          ],
          "scatterternary": [
           {
            "marker": {
             "colorbar": {
              "outlinewidth": 0,
              "ticks": ""
             }
            },
            "type": "scatterternary"
           }
          ],
          "surface": [
           {
            "colorbar": {
             "outlinewidth": 0,
             "ticks": ""
            },
            "colorscale": [
             [
              0,
              "#0d0887"
             ],
             [
              0.1111111111111111,
              "#46039f"
             ],
             [
              0.2222222222222222,
              "#7201a8"
             ],
             [
              0.3333333333333333,
              "#9c179e"
             ],
             [
              0.4444444444444444,
              "#bd3786"
             ],
             [
              0.5555555555555556,
              "#d8576b"
             ],
             [
              0.6666666666666666,
              "#ed7953"
             ],
             [
              0.7777777777777778,
              "#fb9f3a"
             ],
             [
              0.8888888888888888,
              "#fdca26"
             ],
             [
              1,
              "#f0f921"
             ]
            ],
            "type": "surface"
           }
          ],
          "table": [
           {
            "cells": {
             "fill": {
              "color": "#EBF0F8"
             },
             "line": {
              "color": "white"
             }
            },
            "header": {
             "fill": {
              "color": "#C8D4E3"
             },
             "line": {
              "color": "white"
             }
            },
            "type": "table"
           }
          ]
         },
         "layout": {
          "annotationdefaults": {
           "arrowcolor": "#2a3f5f",
           "arrowhead": 0,
           "arrowwidth": 1
          },
          "autotypenumbers": "strict",
          "coloraxis": {
           "colorbar": {
            "outlinewidth": 0,
            "ticks": ""
           }
          },
          "colorscale": {
           "diverging": [
            [
             0,
             "#8e0152"
            ],
            [
             0.1,
             "#c51b7d"
            ],
            [
             0.2,
             "#de77ae"
            ],
            [
             0.3,
             "#f1b6da"
            ],
            [
             0.4,
             "#fde0ef"
            ],
            [
             0.5,
             "#f7f7f7"
            ],
            [
             0.6,
             "#e6f5d0"
            ],
            [
             0.7,
             "#b8e186"
            ],
            [
             0.8,
             "#7fbc41"
            ],
            [
             0.9,
             "#4d9221"
            ],
            [
             1,
             "#276419"
            ]
           ],
           "sequential": [
            [
             0,
             "#0d0887"
            ],
            [
             0.1111111111111111,
             "#46039f"
            ],
            [
             0.2222222222222222,
             "#7201a8"
            ],
            [
             0.3333333333333333,
             "#9c179e"
            ],
            [
             0.4444444444444444,
             "#bd3786"
            ],
            [
             0.5555555555555556,
             "#d8576b"
            ],
            [
             0.6666666666666666,
             "#ed7953"
            ],
            [
             0.7777777777777778,
             "#fb9f3a"
            ],
            [
             0.8888888888888888,
             "#fdca26"
            ],
            [
             1,
             "#f0f921"
            ]
           ],
           "sequentialminus": [
            [
             0,
             "#0d0887"
            ],
            [
             0.1111111111111111,
             "#46039f"
            ],
            [
             0.2222222222222222,
             "#7201a8"
            ],
            [
             0.3333333333333333,
             "#9c179e"
            ],
            [
             0.4444444444444444,
             "#bd3786"
            ],
            [
             0.5555555555555556,
             "#d8576b"
            ],
            [
             0.6666666666666666,
             "#ed7953"
            ],
            [
             0.7777777777777778,
             "#fb9f3a"
            ],
            [
             0.8888888888888888,
             "#fdca26"
            ],
            [
             1,
             "#f0f921"
            ]
           ]
          },
          "colorway": [
           "#636efa",
           "#EF553B",
           "#00cc96",
           "#ab63fa",
           "#FFA15A",
           "#19d3f3",
           "#FF6692",
           "#B6E880",
           "#FF97FF",
           "#FECB52"
          ],
          "font": {
           "color": "#2a3f5f"
          },
          "geo": {
           "bgcolor": "white",
           "lakecolor": "white",
           "landcolor": "#E5ECF6",
           "showlakes": true,
           "showland": true,
           "subunitcolor": "white"
          },
          "hoverlabel": {
           "align": "left"
          },
          "hovermode": "closest",
          "mapbox": {
           "style": "light"
          },
          "paper_bgcolor": "white",
          "plot_bgcolor": "#E5ECF6",
          "polar": {
           "angularaxis": {
            "gridcolor": "white",
            "linecolor": "white",
            "ticks": ""
           },
           "bgcolor": "#E5ECF6",
           "radialaxis": {
            "gridcolor": "white",
            "linecolor": "white",
            "ticks": ""
           }
          },
          "scene": {
           "xaxis": {
            "backgroundcolor": "#E5ECF6",
            "gridcolor": "white",
            "gridwidth": 2,
            "linecolor": "white",
            "showbackground": true,
            "ticks": "",
            "zerolinecolor": "white"
           },
           "yaxis": {
            "backgroundcolor": "#E5ECF6",
            "gridcolor": "white",
            "gridwidth": 2,
            "linecolor": "white",
            "showbackground": true,
            "ticks": "",
            "zerolinecolor": "white"
           },
           "zaxis": {
            "backgroundcolor": "#E5ECF6",
            "gridcolor": "white",
            "gridwidth": 2,
            "linecolor": "white",
            "showbackground": true,
            "ticks": "",
            "zerolinecolor": "white"
           }
          },
          "shapedefaults": {
           "line": {
            "color": "#2a3f5f"
           }
          },
          "ternary": {
           "aaxis": {
            "gridcolor": "white",
            "linecolor": "white",
            "ticks": ""
           },
           "baxis": {
            "gridcolor": "white",
            "linecolor": "white",
            "ticks": ""
           },
           "bgcolor": "#E5ECF6",
           "caxis": {
            "gridcolor": "white",
            "linecolor": "white",
            "ticks": ""
           }
          },
          "title": {
           "x": 0.05
          },
          "xaxis": {
           "automargin": true,
           "gridcolor": "white",
           "linecolor": "white",
           "ticks": "",
           "title": {
            "standoff": 15
           },
           "zerolinecolor": "white",
           "zerolinewidth": 2
          },
          "yaxis": {
           "automargin": true,
           "gridcolor": "white",
           "linecolor": "white",
           "ticks": "",
           "title": {
            "standoff": 15
           },
           "zerolinecolor": "white",
           "zerolinewidth": 2
          }
         }
        },
        "xaxis": {
         "anchor": "y",
         "domain": [
          0,
          0.45
         ]
        },
        "xaxis2": {
         "anchor": "y2",
         "domain": [
          0.55,
          1
         ]
        },
        "yaxis": {
         "anchor": "x",
         "domain": [
          0,
          1
         ]
        },
        "yaxis2": {
         "anchor": "x2",
         "domain": [
          0,
          1
         ]
        }
       }
      }
     },
     "metadata": {},
     "output_type": "display_data"
    },
    {
     "name": "stdout",
     "output_type": "stream",
     "text": [
      "c8cbb738-train\n"
     ]
    },
    {
     "data": {
      "application/vnd.plotly.v1+json": {
       "config": {
        "plotlyServerURL": "https://plot.ly"
       },
       "data": [
        {
         "type": "image",
         "xaxis": "x",
         "yaxis": "y",
         "z": [
          [
           [
            46,
            204,
            64
           ],
           [
            46,
            204,
            64
           ],
           [
            46,
            204,
            64
           ],
           [
            46,
            204,
            64
           ],
           [
            46,
            204,
            64
           ],
           [
            46,
            204,
            64
           ],
           [
            46,
            204,
            64
           ],
           [
            255,
            220,
            0
           ],
           [
            46,
            204,
            64
           ],
           [
            255,
            220,
            0
           ],
           [
            46,
            204,
            64
           ]
          ],
          [
           [
            46,
            204,
            64
           ],
           [
            46,
            204,
            64
           ],
           [
            46,
            204,
            64
           ],
           [
            46,
            204,
            64
           ],
           [
            46,
            204,
            64
           ],
           [
            46,
            204,
            64
           ],
           [
            46,
            204,
            64
           ],
           [
            46,
            204,
            64
           ],
           [
            46,
            204,
            64
           ],
           [
            46,
            204,
            64
           ],
           [
            46,
            204,
            64
           ]
          ],
          [
           [
            46,
            204,
            64
           ],
           [
            46,
            204,
            64
           ],
           [
            46,
            204,
            64
           ],
           [
            46,
            204,
            64
           ],
           [
            37,
            150,
            190
           ],
           [
            46,
            204,
            64
           ],
           [
            46,
            204,
            64
           ],
           [
            46,
            204,
            64
           ],
           [
            46,
            204,
            64
           ],
           [
            46,
            204,
            64
           ],
           [
            46,
            204,
            64
           ]
          ],
          [
           [
            46,
            204,
            64
           ],
           [
            46,
            204,
            64
           ],
           [
            46,
            204,
            64
           ],
           [
            46,
            204,
            64
           ],
           [
            46,
            204,
            64
           ],
           [
            46,
            204,
            64
           ],
           [
            46,
            204,
            64
           ],
           [
            46,
            204,
            64
           ],
           [
            46,
            204,
            64
           ],
           [
            46,
            204,
            64
           ],
           [
            46,
            204,
            64
           ]
          ],
          [
           [
            46,
            204,
            64
           ],
           [
            46,
            204,
            64
           ],
           [
            37,
            150,
            190
           ],
           [
            46,
            204,
            64
           ],
           [
            46,
            204,
            64
           ],
           [
            46,
            204,
            64
           ],
           [
            37,
            150,
            190
           ],
           [
            255,
            220,
            0
           ],
           [
            46,
            204,
            64
           ],
           [
            255,
            220,
            0
           ],
           [
            46,
            204,
            64
           ]
          ],
          [
           [
            46,
            204,
            64
           ],
           [
            46,
            204,
            64
           ],
           [
            46,
            204,
            64
           ],
           [
            46,
            204,
            64
           ],
           [
            46,
            204,
            64
           ],
           [
            46,
            204,
            64
           ],
           [
            46,
            204,
            64
           ],
           [
            46,
            204,
            64
           ],
           [
            46,
            204,
            64
           ],
           [
            46,
            204,
            64
           ],
           [
            46,
            204,
            64
           ]
          ],
          [
           [
            46,
            204,
            64
           ],
           [
            46,
            204,
            64
           ],
           [
            46,
            204,
            64
           ],
           [
            46,
            204,
            64
           ],
           [
            37,
            150,
            190
           ],
           [
            46,
            204,
            64
           ],
           [
            255,
            65,
            54
           ],
           [
            46,
            204,
            64
           ],
           [
            46,
            204,
            64
           ],
           [
            46,
            204,
            64
           ],
           [
            255,
            65,
            54
           ]
          ],
          [
           [
            46,
            204,
            64
           ],
           [
            46,
            204,
            64
           ],
           [
            46,
            204,
            64
           ],
           [
            46,
            204,
            64
           ],
           [
            46,
            204,
            64
           ],
           [
            46,
            204,
            64
           ],
           [
            46,
            204,
            64
           ],
           [
            46,
            204,
            64
           ],
           [
            46,
            204,
            64
           ],
           [
            46,
            204,
            64
           ],
           [
            46,
            204,
            64
           ]
          ],
          [
           [
            127,
            219,
            255
           ],
           [
            46,
            204,
            64
           ],
           [
            46,
            204,
            64
           ],
           [
            46,
            204,
            64
           ],
           [
            127,
            219,
            255
           ],
           [
            46,
            204,
            64
           ],
           [
            46,
            204,
            64
           ],
           [
            46,
            204,
            64
           ],
           [
            46,
            204,
            64
           ],
           [
            46,
            204,
            64
           ],
           [
            46,
            204,
            64
           ]
          ],
          [
           [
            46,
            204,
            64
           ],
           [
            46,
            204,
            64
           ],
           [
            46,
            204,
            64
           ],
           [
            46,
            204,
            64
           ],
           [
            46,
            204,
            64
           ],
           [
            46,
            204,
            64
           ],
           [
            46,
            204,
            64
           ],
           [
            46,
            204,
            64
           ],
           [
            46,
            204,
            64
           ],
           [
            46,
            204,
            64
           ],
           [
            46,
            204,
            64
           ]
          ],
          [
           [
            127,
            219,
            255
           ],
           [
            46,
            204,
            64
           ],
           [
            46,
            204,
            64
           ],
           [
            46,
            204,
            64
           ],
           [
            127,
            219,
            255
           ],
           [
            46,
            204,
            64
           ],
           [
            255,
            65,
            54
           ],
           [
            46,
            204,
            64
           ],
           [
            46,
            204,
            64
           ],
           [
            46,
            204,
            64
           ],
           [
            255,
            65,
            54
           ]
          ],
          [
           [
            46,
            204,
            64
           ],
           [
            46,
            204,
            64
           ],
           [
            46,
            204,
            64
           ],
           [
            46,
            204,
            64
           ],
           [
            46,
            204,
            64
           ],
           [
            46,
            204,
            64
           ],
           [
            46,
            204,
            64
           ],
           [
            46,
            204,
            64
           ],
           [
            46,
            204,
            64
           ],
           [
            46,
            204,
            64
           ],
           [
            46,
            204,
            64
           ]
          ]
         ]
        },
        {
         "type": "image",
         "xaxis": "x2",
         "yaxis": "y2",
         "z": [
          [
           [
            255,
            65,
            54
           ],
           [
            255,
            220,
            0
           ],
           [
            37,
            150,
            190
           ],
           [
            255,
            220,
            0
           ],
           [
            255,
            65,
            54
           ]
          ],
          [
           [
            127,
            219,
            255
           ],
           [
            46,
            204,
            64
           ],
           [
            46,
            204,
            64
           ],
           [
            46,
            204,
            64
           ],
           [
            127,
            219,
            255
           ]
          ],
          [
           [
            37,
            150,
            190
           ],
           [
            46,
            204,
            64
           ],
           [
            46,
            204,
            64
           ],
           [
            46,
            204,
            64
           ],
           [
            37,
            150,
            190
           ]
          ],
          [
           [
            127,
            219,
            255
           ],
           [
            46,
            204,
            64
           ],
           [
            46,
            204,
            64
           ],
           [
            46,
            204,
            64
           ],
           [
            127,
            219,
            255
           ]
          ],
          [
           [
            255,
            65,
            54
           ],
           [
            255,
            220,
            0
           ],
           [
            37,
            150,
            190
           ],
           [
            255,
            220,
            0
           ],
           [
            255,
            65,
            54
           ]
          ]
         ]
        },
        {
         "type": "image",
         "xaxis": "x3",
         "yaxis": "y3",
         "z": [
          [
           [
            37,
            150,
            190
           ],
           [
            37,
            150,
            190
           ],
           [
            37,
            150,
            190
           ],
           [
            37,
            150,
            190
           ],
           [
            37,
            150,
            190
           ],
           [
            37,
            150,
            190
           ],
           [
            37,
            150,
            190
           ],
           [
            37,
            150,
            190
           ]
          ],
          [
           [
            37,
            150,
            190
           ],
           [
            127,
            219,
            255
           ],
           [
            37,
            150,
            190
           ],
           [
            127,
            219,
            255
           ],
           [
            37,
            150,
            190
           ],
           [
            37,
            150,
            190
           ],
           [
            37,
            150,
            190
           ],
           [
            37,
            150,
            190
           ]
          ],
          [
           [
            37,
            150,
            190
           ],
           [
            37,
            150,
            190
           ],
           [
            37,
            150,
            190
           ],
           [
            37,
            150,
            190
           ],
           [
            37,
            150,
            190
           ],
           [
            37,
            150,
            190
           ],
           [
            37,
            150,
            190
           ],
           [
            37,
            150,
            190
           ]
          ],
          [
           [
            37,
            150,
            190
           ],
           [
            127,
            219,
            255
           ],
           [
            37,
            150,
            190
           ],
           [
            127,
            219,
            255
           ],
           [
            37,
            150,
            190
           ],
           [
            37,
            150,
            190
           ],
           [
            37,
            150,
            190
           ],
           [
            37,
            150,
            190
           ]
          ],
          [
           [
            37,
            150,
            190
           ],
           [
            37,
            150,
            190
           ],
           [
            37,
            150,
            190
           ],
           [
            37,
            150,
            190
           ],
           [
            37,
            150,
            190
           ],
           [
            37,
            150,
            190
           ],
           [
            37,
            150,
            190
           ],
           [
            37,
            150,
            190
           ]
          ],
          [
           [
            37,
            150,
            190
           ],
           [
            37,
            150,
            190
           ],
           [
            37,
            150,
            190
           ],
           [
            37,
            150,
            190
           ],
           [
            46,
            204,
            64
           ],
           [
            37,
            150,
            190
           ],
           [
            37,
            150,
            190
           ],
           [
            37,
            150,
            190
           ]
          ],
          [
           [
            37,
            150,
            190
           ],
           [
            37,
            150,
            190
           ],
           [
            37,
            150,
            190
           ],
           [
            46,
            204,
            64
           ],
           [
            37,
            150,
            190
           ],
           [
            46,
            204,
            64
           ],
           [
            37,
            150,
            190
           ],
           [
            37,
            150,
            190
           ]
          ],
          [
           [
            37,
            150,
            190
           ],
           [
            37,
            150,
            190
           ],
           [
            37,
            150,
            190
           ],
           [
            37,
            150,
            190
           ],
           [
            46,
            204,
            64
           ],
           [
            37,
            150,
            190
           ],
           [
            37,
            150,
            190
           ],
           [
            37,
            150,
            190
           ]
          ],
          [
           [
            37,
            150,
            190
           ],
           [
            37,
            150,
            190
           ],
           [
            37,
            150,
            190
           ],
           [
            37,
            150,
            190
           ],
           [
            37,
            150,
            190
           ],
           [
            37,
            150,
            190
           ],
           [
            37,
            150,
            190
           ],
           [
            37,
            150,
            190
           ]
          ],
          [
           [
            37,
            150,
            190
           ],
           [
            37,
            150,
            190
           ],
           [
            37,
            150,
            190
           ],
           [
            37,
            150,
            190
           ],
           [
            37,
            150,
            190
           ],
           [
            37,
            150,
            190
           ],
           [
            37,
            150,
            190
           ],
           [
            37,
            150,
            190
           ]
          ]
         ]
        },
        {
         "type": "image",
         "xaxis": "x4",
         "yaxis": "y4",
         "z": [
          [
           [
            127,
            219,
            255
           ],
           [
            46,
            204,
            64
           ],
           [
            127,
            219,
            255
           ]
          ],
          [
           [
            46,
            204,
            64
           ],
           [
            37,
            150,
            190
           ],
           [
            46,
            204,
            64
           ]
          ],
          [
           [
            127,
            219,
            255
           ],
           [
            46,
            204,
            64
           ],
           [
            127,
            219,
            255
           ]
          ]
         ]
        },
        {
         "type": "image",
         "xaxis": "x5",
         "yaxis": "y5",
         "z": [
          [
           [
            255,
            220,
            0
           ],
           [
            255,
            220,
            0
           ],
           [
            255,
            220,
            0
           ],
           [
            255,
            220,
            0
           ],
           [
            255,
            220,
            0
           ],
           [
            255,
            220,
            0
           ],
           [
            255,
            220,
            0
           ],
           [
            255,
            220,
            0
           ],
           [
            255,
            220,
            0
           ],
           [
            255,
            220,
            0
           ],
           [
            255,
            220,
            0
           ],
           [
            255,
            220,
            0
           ],
           [
            255,
            220,
            0
           ],
           [
            255,
            220,
            0
           ]
          ],
          [
           [
            255,
            220,
            0
           ],
           [
            255,
            220,
            0
           ],
           [
            37,
            150,
            190
           ],
           [
            255,
            220,
            0
           ],
           [
            255,
            220,
            0
           ],
           [
            255,
            220,
            0
           ],
           [
            37,
            150,
            190
           ],
           [
            255,
            220,
            0
           ],
           [
            255,
            220,
            0
           ],
           [
            255,
            220,
            0
           ],
           [
            255,
            220,
            0
           ],
           [
            255,
            220,
            0
           ],
           [
            255,
            220,
            0
           ],
           [
            255,
            220,
            0
           ]
          ],
          [
           [
            255,
            220,
            0
           ],
           [
            255,
            220,
            0
           ],
           [
            255,
            220,
            0
           ],
           [
            255,
            220,
            0
           ],
           [
            255,
            220,
            0
           ],
           [
            255,
            220,
            0
           ],
           [
            255,
            220,
            0
           ],
           [
            255,
            220,
            0
           ],
           [
            255,
            220,
            0
           ],
           [
            255,
            220,
            0
           ],
           [
            255,
            220,
            0
           ],
           [
            255,
            220,
            0
           ],
           [
            255,
            220,
            0
           ],
           [
            255,
            220,
            0
           ]
          ],
          [
           [
            255,
            220,
            0
           ],
           [
            255,
            220,
            0
           ],
           [
            255,
            220,
            0
           ],
           [
            255,
            220,
            0
           ],
           [
            255,
            220,
            0
           ],
           [
            255,
            220,
            0
           ],
           [
            255,
            220,
            0
           ],
           [
            255,
            220,
            0
           ],
           [
            255,
            220,
            0
           ],
           [
            255,
            220,
            0
           ],
           [
            255,
            220,
            0
           ],
           [
            255,
            220,
            0
           ],
           [
            255,
            220,
            0
           ],
           [
            255,
            220,
            0
           ]
          ],
          [
           [
            255,
            220,
            0
           ],
           [
            255,
            220,
            0
           ],
           [
            255,
            220,
            0
           ],
           [
            255,
            220,
            0
           ],
           [
            255,
            220,
            0
           ],
           [
            255,
            220,
            0
           ],
           [
            255,
            220,
            0
           ],
           [
            255,
            220,
            0
           ],
           [
            255,
            220,
            0
           ],
           [
            255,
            220,
            0
           ],
           [
            255,
            220,
            0
           ],
           [
            255,
            220,
            0
           ],
           [
            255,
            220,
            0
           ],
           [
            255,
            220,
            0
           ]
          ],
          [
           [
            255,
            220,
            0
           ],
           [
            255,
            220,
            0
           ],
           [
            37,
            150,
            190
           ],
           [
            255,
            220,
            0
           ],
           [
            255,
            220,
            0
           ],
           [
            255,
            220,
            0
           ],
           [
            37,
            150,
            190
           ],
           [
            255,
            220,
            0
           ],
           [
            255,
            220,
            0
           ],
           [
            255,
            133,
            27
           ],
           [
            255,
            220,
            0
           ],
           [
            255,
            220,
            0
           ],
           [
            255,
            220,
            0
           ],
           [
            255,
            220,
            0
           ]
          ],
          [
           [
            255,
            220,
            0
           ],
           [
            255,
            220,
            0
           ],
           [
            255,
            220,
            0
           ],
           [
            255,
            220,
            0
           ],
           [
            255,
            220,
            0
           ],
           [
            255,
            220,
            0
           ],
           [
            255,
            220,
            0
           ],
           [
            255,
            220,
            0
           ],
           [
            255,
            220,
            0
           ],
           [
            255,
            220,
            0
           ],
           [
            255,
            220,
            0
           ],
           [
            255,
            220,
            0
           ],
           [
            255,
            220,
            0
           ],
           [
            255,
            220,
            0
           ]
          ],
          [
           [
            255,
            220,
            0
           ],
           [
            255,
            220,
            0
           ],
           [
            255,
            220,
            0
           ],
           [
            255,
            220,
            0
           ],
           [
            255,
            220,
            0
           ],
           [
            255,
            220,
            0
           ],
           [
            255,
            220,
            0
           ],
           [
            255,
            133,
            27
           ],
           [
            255,
            220,
            0
           ],
           [
            255,
            220,
            0
           ],
           [
            255,
            220,
            0
           ],
           [
            255,
            133,
            27
           ],
           [
            255,
            220,
            0
           ],
           [
            255,
            220,
            0
           ]
          ],
          [
           [
            255,
            220,
            0
           ],
           [
            255,
            220,
            0
           ],
           [
            255,
            220,
            0
           ],
           [
            255,
            220,
            0
           ],
           [
            255,
            220,
            0
           ],
           [
            255,
            220,
            0
           ],
           [
            255,
            220,
            0
           ],
           [
            255,
            220,
            0
           ],
           [
            255,
            220,
            0
           ],
           [
            255,
            220,
            0
           ],
           [
            255,
            220,
            0
           ],
           [
            255,
            220,
            0
           ],
           [
            255,
            220,
            0
           ],
           [
            255,
            220,
            0
           ]
          ],
          [
           [
            255,
            220,
            0
           ],
           [
            255,
            220,
            0
           ],
           [
            255,
            220,
            0
           ],
           [
            255,
            220,
            0
           ],
           [
            255,
            220,
            0
           ],
           [
            255,
            220,
            0
           ],
           [
            255,
            220,
            0
           ],
           [
            255,
            220,
            0
           ],
           [
            255,
            220,
            0
           ],
           [
            255,
            133,
            27
           ],
           [
            255,
            220,
            0
           ],
           [
            255,
            220,
            0
           ],
           [
            255,
            220,
            0
           ],
           [
            255,
            220,
            0
           ]
          ],
          [
           [
            255,
            220,
            0
           ],
           [
            255,
            220,
            0
           ],
           [
            255,
            220,
            0
           ],
           [
            255,
            220,
            0
           ],
           [
            255,
            220,
            0
           ],
           [
            255,
            220,
            0
           ],
           [
            255,
            220,
            0
           ],
           [
            255,
            220,
            0
           ],
           [
            255,
            220,
            0
           ],
           [
            255,
            220,
            0
           ],
           [
            255,
            220,
            0
           ],
           [
            255,
            220,
            0
           ],
           [
            255,
            220,
            0
           ],
           [
            255,
            220,
            0
           ]
          ],
          [
           [
            255,
            220,
            0
           ],
           [
            255,
            220,
            0
           ],
           [
            255,
            220,
            0
           ],
           [
            255,
            220,
            0
           ],
           [
            255,
            220,
            0
           ],
           [
            255,
            220,
            0
           ],
           [
            255,
            220,
            0
           ],
           [
            255,
            220,
            0
           ],
           [
            255,
            220,
            0
           ],
           [
            255,
            220,
            0
           ],
           [
            255,
            220,
            0
           ],
           [
            255,
            220,
            0
           ],
           [
            255,
            220,
            0
           ],
           [
            255,
            220,
            0
           ]
          ]
         ]
        },
        {
         "type": "image",
         "xaxis": "x6",
         "yaxis": "y6",
         "z": [
          [
           [
            37,
            150,
            190
           ],
           [
            255,
            220,
            0
           ],
           [
            255,
            133,
            27
           ],
           [
            255,
            220,
            0
           ],
           [
            37,
            150,
            190
           ]
          ],
          [
           [
            255,
            220,
            0
           ],
           [
            255,
            220,
            0
           ],
           [
            255,
            220,
            0
           ],
           [
            255,
            220,
            0
           ],
           [
            255,
            220,
            0
           ]
          ],
          [
           [
            255,
            133,
            27
           ],
           [
            255,
            220,
            0
           ],
           [
            255,
            220,
            0
           ],
           [
            255,
            220,
            0
           ],
           [
            255,
            133,
            27
           ]
          ],
          [
           [
            255,
            220,
            0
           ],
           [
            255,
            220,
            0
           ],
           [
            255,
            220,
            0
           ],
           [
            255,
            220,
            0
           ],
           [
            255,
            220,
            0
           ]
          ],
          [
           [
            37,
            150,
            190
           ],
           [
            255,
            220,
            0
           ],
           [
            255,
            133,
            27
           ],
           [
            255,
            220,
            0
           ],
           [
            37,
            150,
            190
           ]
          ]
         ]
        }
       ],
       "layout": {
        "height": 1200,
        "shapes": [
         {
          "line": {
           "color": "sienna",
           "width": 2
          },
          "type": "line",
          "x0": -0.5,
          "x1": 10.5,
          "xref": "x",
          "y0": -0.5,
          "y1": -0.5,
          "yref": "y"
         },
         {
          "line": {
           "color": "sienna",
           "width": 2
          },
          "type": "line",
          "x0": -0.5,
          "x1": 10.5,
          "xref": "x",
          "y0": 0.5,
          "y1": 0.5,
          "yref": "y"
         },
         {
          "line": {
           "color": "sienna",
           "width": 2
          },
          "type": "line",
          "x0": -0.5,
          "x1": 10.5,
          "xref": "x",
          "y0": 1.5,
          "y1": 1.5,
          "yref": "y"
         },
         {
          "line": {
           "color": "sienna",
           "width": 2
          },
          "type": "line",
          "x0": -0.5,
          "x1": 10.5,
          "xref": "x",
          "y0": 2.5,
          "y1": 2.5,
          "yref": "y"
         },
         {
          "line": {
           "color": "sienna",
           "width": 2
          },
          "type": "line",
          "x0": -0.5,
          "x1": 10.5,
          "xref": "x",
          "y0": 3.5,
          "y1": 3.5,
          "yref": "y"
         },
         {
          "line": {
           "color": "sienna",
           "width": 2
          },
          "type": "line",
          "x0": -0.5,
          "x1": 10.5,
          "xref": "x",
          "y0": 4.5,
          "y1": 4.5,
          "yref": "y"
         },
         {
          "line": {
           "color": "sienna",
           "width": 2
          },
          "type": "line",
          "x0": -0.5,
          "x1": 10.5,
          "xref": "x",
          "y0": 5.5,
          "y1": 5.5,
          "yref": "y"
         },
         {
          "line": {
           "color": "sienna",
           "width": 2
          },
          "type": "line",
          "x0": -0.5,
          "x1": 10.5,
          "xref": "x",
          "y0": 6.5,
          "y1": 6.5,
          "yref": "y"
         },
         {
          "line": {
           "color": "sienna",
           "width": 2
          },
          "type": "line",
          "x0": -0.5,
          "x1": 10.5,
          "xref": "x",
          "y0": 7.5,
          "y1": 7.5,
          "yref": "y"
         },
         {
          "line": {
           "color": "sienna",
           "width": 2
          },
          "type": "line",
          "x0": -0.5,
          "x1": 10.5,
          "xref": "x",
          "y0": 8.5,
          "y1": 8.5,
          "yref": "y"
         },
         {
          "line": {
           "color": "sienna",
           "width": 2
          },
          "type": "line",
          "x0": -0.5,
          "x1": 10.5,
          "xref": "x",
          "y0": 9.5,
          "y1": 9.5,
          "yref": "y"
         },
         {
          "line": {
           "color": "sienna",
           "width": 2
          },
          "type": "line",
          "x0": -0.5,
          "x1": 10.5,
          "xref": "x",
          "y0": 10.5,
          "y1": 10.5,
          "yref": "y"
         },
         {
          "line": {
           "color": "sienna",
           "width": 2
          },
          "type": "line",
          "x0": -0.5,
          "x1": -0.5,
          "xref": "x",
          "y0": -0.5,
          "y1": 11.5,
          "yref": "y"
         },
         {
          "line": {
           "color": "sienna",
           "width": 2
          },
          "type": "line",
          "x0": 0.5,
          "x1": 0.5,
          "xref": "x",
          "y0": -0.5,
          "y1": 11.5,
          "yref": "y"
         },
         {
          "line": {
           "color": "sienna",
           "width": 2
          },
          "type": "line",
          "x0": 1.5,
          "x1": 1.5,
          "xref": "x",
          "y0": -0.5,
          "y1": 11.5,
          "yref": "y"
         },
         {
          "line": {
           "color": "sienna",
           "width": 2
          },
          "type": "line",
          "x0": 2.5,
          "x1": 2.5,
          "xref": "x",
          "y0": -0.5,
          "y1": 11.5,
          "yref": "y"
         },
         {
          "line": {
           "color": "sienna",
           "width": 2
          },
          "type": "line",
          "x0": 3.5,
          "x1": 3.5,
          "xref": "x",
          "y0": -0.5,
          "y1": 11.5,
          "yref": "y"
         },
         {
          "line": {
           "color": "sienna",
           "width": 2
          },
          "type": "line",
          "x0": 4.5,
          "x1": 4.5,
          "xref": "x",
          "y0": -0.5,
          "y1": 11.5,
          "yref": "y"
         },
         {
          "line": {
           "color": "sienna",
           "width": 2
          },
          "type": "line",
          "x0": 5.5,
          "x1": 5.5,
          "xref": "x",
          "y0": -0.5,
          "y1": 11.5,
          "yref": "y"
         },
         {
          "line": {
           "color": "sienna",
           "width": 2
          },
          "type": "line",
          "x0": 6.5,
          "x1": 6.5,
          "xref": "x",
          "y0": -0.5,
          "y1": 11.5,
          "yref": "y"
         },
         {
          "line": {
           "color": "sienna",
           "width": 2
          },
          "type": "line",
          "x0": 7.5,
          "x1": 7.5,
          "xref": "x",
          "y0": -0.5,
          "y1": 11.5,
          "yref": "y"
         },
         {
          "line": {
           "color": "sienna",
           "width": 2
          },
          "type": "line",
          "x0": 8.5,
          "x1": 8.5,
          "xref": "x",
          "y0": -0.5,
          "y1": 11.5,
          "yref": "y"
         },
         {
          "line": {
           "color": "sienna",
           "width": 2
          },
          "type": "line",
          "x0": 9.5,
          "x1": 9.5,
          "xref": "x",
          "y0": -0.5,
          "y1": 11.5,
          "yref": "y"
         },
         {
          "line": {
           "color": "sienna",
           "width": 2
          },
          "type": "line",
          "x0": -0.5,
          "x1": 4.5,
          "xref": "x2",
          "y0": -0.5,
          "y1": -0.5,
          "yref": "y2"
         },
         {
          "line": {
           "color": "sienna",
           "width": 2
          },
          "type": "line",
          "x0": -0.5,
          "x1": 4.5,
          "xref": "x2",
          "y0": 0.5,
          "y1": 0.5,
          "yref": "y2"
         },
         {
          "line": {
           "color": "sienna",
           "width": 2
          },
          "type": "line",
          "x0": -0.5,
          "x1": 4.5,
          "xref": "x2",
          "y0": 1.5,
          "y1": 1.5,
          "yref": "y2"
         },
         {
          "line": {
           "color": "sienna",
           "width": 2
          },
          "type": "line",
          "x0": -0.5,
          "x1": 4.5,
          "xref": "x2",
          "y0": 2.5,
          "y1": 2.5,
          "yref": "y2"
         },
         {
          "line": {
           "color": "sienna",
           "width": 2
          },
          "type": "line",
          "x0": -0.5,
          "x1": 4.5,
          "xref": "x2",
          "y0": 3.5,
          "y1": 3.5,
          "yref": "y2"
         },
         {
          "line": {
           "color": "sienna",
           "width": 2
          },
          "type": "line",
          "x0": -0.5,
          "x1": -0.5,
          "xref": "x2",
          "y0": -0.5,
          "y1": 4.5,
          "yref": "y2"
         },
         {
          "line": {
           "color": "sienna",
           "width": 2
          },
          "type": "line",
          "x0": 0.5,
          "x1": 0.5,
          "xref": "x2",
          "y0": -0.5,
          "y1": 4.5,
          "yref": "y2"
         },
         {
          "line": {
           "color": "sienna",
           "width": 2
          },
          "type": "line",
          "x0": 1.5,
          "x1": 1.5,
          "xref": "x2",
          "y0": -0.5,
          "y1": 4.5,
          "yref": "y2"
         },
         {
          "line": {
           "color": "sienna",
           "width": 2
          },
          "type": "line",
          "x0": 2.5,
          "x1": 2.5,
          "xref": "x2",
          "y0": -0.5,
          "y1": 4.5,
          "yref": "y2"
         },
         {
          "line": {
           "color": "sienna",
           "width": 2
          },
          "type": "line",
          "x0": 3.5,
          "x1": 3.5,
          "xref": "x2",
          "y0": -0.5,
          "y1": 4.5,
          "yref": "y2"
         },
         {
          "line": {
           "color": "sienna",
           "width": 2
          },
          "type": "line",
          "x0": -0.5,
          "x1": 7.5,
          "xref": "x3",
          "y0": -0.5,
          "y1": -0.5,
          "yref": "y3"
         },
         {
          "line": {
           "color": "sienna",
           "width": 2
          },
          "type": "line",
          "x0": -0.5,
          "x1": 7.5,
          "xref": "x3",
          "y0": 0.5,
          "y1": 0.5,
          "yref": "y3"
         },
         {
          "line": {
           "color": "sienna",
           "width": 2
          },
          "type": "line",
          "x0": -0.5,
          "x1": 7.5,
          "xref": "x3",
          "y0": 1.5,
          "y1": 1.5,
          "yref": "y3"
         },
         {
          "line": {
           "color": "sienna",
           "width": 2
          },
          "type": "line",
          "x0": -0.5,
          "x1": 7.5,
          "xref": "x3",
          "y0": 2.5,
          "y1": 2.5,
          "yref": "y3"
         },
         {
          "line": {
           "color": "sienna",
           "width": 2
          },
          "type": "line",
          "x0": -0.5,
          "x1": 7.5,
          "xref": "x3",
          "y0": 3.5,
          "y1": 3.5,
          "yref": "y3"
         },
         {
          "line": {
           "color": "sienna",
           "width": 2
          },
          "type": "line",
          "x0": -0.5,
          "x1": 7.5,
          "xref": "x3",
          "y0": 4.5,
          "y1": 4.5,
          "yref": "y3"
         },
         {
          "line": {
           "color": "sienna",
           "width": 2
          },
          "type": "line",
          "x0": -0.5,
          "x1": 7.5,
          "xref": "x3",
          "y0": 5.5,
          "y1": 5.5,
          "yref": "y3"
         },
         {
          "line": {
           "color": "sienna",
           "width": 2
          },
          "type": "line",
          "x0": -0.5,
          "x1": 7.5,
          "xref": "x3",
          "y0": 6.5,
          "y1": 6.5,
          "yref": "y3"
         },
         {
          "line": {
           "color": "sienna",
           "width": 2
          },
          "type": "line",
          "x0": -0.5,
          "x1": 7.5,
          "xref": "x3",
          "y0": 7.5,
          "y1": 7.5,
          "yref": "y3"
         },
         {
          "line": {
           "color": "sienna",
           "width": 2
          },
          "type": "line",
          "x0": -0.5,
          "x1": 7.5,
          "xref": "x3",
          "y0": 8.5,
          "y1": 8.5,
          "yref": "y3"
         },
         {
          "line": {
           "color": "sienna",
           "width": 2
          },
          "type": "line",
          "x0": -0.5,
          "x1": -0.5,
          "xref": "x3",
          "y0": -0.5,
          "y1": 9.5,
          "yref": "y3"
         },
         {
          "line": {
           "color": "sienna",
           "width": 2
          },
          "type": "line",
          "x0": 0.5,
          "x1": 0.5,
          "xref": "x3",
          "y0": -0.5,
          "y1": 9.5,
          "yref": "y3"
         },
         {
          "line": {
           "color": "sienna",
           "width": 2
          },
          "type": "line",
          "x0": 1.5,
          "x1": 1.5,
          "xref": "x3",
          "y0": -0.5,
          "y1": 9.5,
          "yref": "y3"
         },
         {
          "line": {
           "color": "sienna",
           "width": 2
          },
          "type": "line",
          "x0": 2.5,
          "x1": 2.5,
          "xref": "x3",
          "y0": -0.5,
          "y1": 9.5,
          "yref": "y3"
         },
         {
          "line": {
           "color": "sienna",
           "width": 2
          },
          "type": "line",
          "x0": 3.5,
          "x1": 3.5,
          "xref": "x3",
          "y0": -0.5,
          "y1": 9.5,
          "yref": "y3"
         },
         {
          "line": {
           "color": "sienna",
           "width": 2
          },
          "type": "line",
          "x0": 4.5,
          "x1": 4.5,
          "xref": "x3",
          "y0": -0.5,
          "y1": 9.5,
          "yref": "y3"
         },
         {
          "line": {
           "color": "sienna",
           "width": 2
          },
          "type": "line",
          "x0": 5.5,
          "x1": 5.5,
          "xref": "x3",
          "y0": -0.5,
          "y1": 9.5,
          "yref": "y3"
         },
         {
          "line": {
           "color": "sienna",
           "width": 2
          },
          "type": "line",
          "x0": 6.5,
          "x1": 6.5,
          "xref": "x3",
          "y0": -0.5,
          "y1": 9.5,
          "yref": "y3"
         },
         {
          "line": {
           "color": "sienna",
           "width": 2
          },
          "type": "line",
          "x0": -0.5,
          "x1": 2.5,
          "xref": "x4",
          "y0": -0.5,
          "y1": -0.5,
          "yref": "y4"
         },
         {
          "line": {
           "color": "sienna",
           "width": 2
          },
          "type": "line",
          "x0": -0.5,
          "x1": 2.5,
          "xref": "x4",
          "y0": 0.5,
          "y1": 0.5,
          "yref": "y4"
         },
         {
          "line": {
           "color": "sienna",
           "width": 2
          },
          "type": "line",
          "x0": -0.5,
          "x1": 2.5,
          "xref": "x4",
          "y0": 1.5,
          "y1": 1.5,
          "yref": "y4"
         },
         {
          "line": {
           "color": "sienna",
           "width": 2
          },
          "type": "line",
          "x0": -0.5,
          "x1": -0.5,
          "xref": "x4",
          "y0": -0.5,
          "y1": 2.5,
          "yref": "y4"
         },
         {
          "line": {
           "color": "sienna",
           "width": 2
          },
          "type": "line",
          "x0": 0.5,
          "x1": 0.5,
          "xref": "x4",
          "y0": -0.5,
          "y1": 2.5,
          "yref": "y4"
         },
         {
          "line": {
           "color": "sienna",
           "width": 2
          },
          "type": "line",
          "x0": 1.5,
          "x1": 1.5,
          "xref": "x4",
          "y0": -0.5,
          "y1": 2.5,
          "yref": "y4"
         },
         {
          "line": {
           "color": "sienna",
           "width": 2
          },
          "type": "line",
          "x0": -0.5,
          "x1": 13.5,
          "xref": "x5",
          "y0": -0.5,
          "y1": -0.5,
          "yref": "y5"
         },
         {
          "line": {
           "color": "sienna",
           "width": 2
          },
          "type": "line",
          "x0": -0.5,
          "x1": 13.5,
          "xref": "x5",
          "y0": 0.5,
          "y1": 0.5,
          "yref": "y5"
         },
         {
          "line": {
           "color": "sienna",
           "width": 2
          },
          "type": "line",
          "x0": -0.5,
          "x1": 13.5,
          "xref": "x5",
          "y0": 1.5,
          "y1": 1.5,
          "yref": "y5"
         },
         {
          "line": {
           "color": "sienna",
           "width": 2
          },
          "type": "line",
          "x0": -0.5,
          "x1": 13.5,
          "xref": "x5",
          "y0": 2.5,
          "y1": 2.5,
          "yref": "y5"
         },
         {
          "line": {
           "color": "sienna",
           "width": 2
          },
          "type": "line",
          "x0": -0.5,
          "x1": 13.5,
          "xref": "x5",
          "y0": 3.5,
          "y1": 3.5,
          "yref": "y5"
         },
         {
          "line": {
           "color": "sienna",
           "width": 2
          },
          "type": "line",
          "x0": -0.5,
          "x1": 13.5,
          "xref": "x5",
          "y0": 4.5,
          "y1": 4.5,
          "yref": "y5"
         },
         {
          "line": {
           "color": "sienna",
           "width": 2
          },
          "type": "line",
          "x0": -0.5,
          "x1": 13.5,
          "xref": "x5",
          "y0": 5.5,
          "y1": 5.5,
          "yref": "y5"
         },
         {
          "line": {
           "color": "sienna",
           "width": 2
          },
          "type": "line",
          "x0": -0.5,
          "x1": 13.5,
          "xref": "x5",
          "y0": 6.5,
          "y1": 6.5,
          "yref": "y5"
         },
         {
          "line": {
           "color": "sienna",
           "width": 2
          },
          "type": "line",
          "x0": -0.5,
          "x1": 13.5,
          "xref": "x5",
          "y0": 7.5,
          "y1": 7.5,
          "yref": "y5"
         },
         {
          "line": {
           "color": "sienna",
           "width": 2
          },
          "type": "line",
          "x0": -0.5,
          "x1": 13.5,
          "xref": "x5",
          "y0": 8.5,
          "y1": 8.5,
          "yref": "y5"
         },
         {
          "line": {
           "color": "sienna",
           "width": 2
          },
          "type": "line",
          "x0": -0.5,
          "x1": 13.5,
          "xref": "x5",
          "y0": 9.5,
          "y1": 9.5,
          "yref": "y5"
         },
         {
          "line": {
           "color": "sienna",
           "width": 2
          },
          "type": "line",
          "x0": -0.5,
          "x1": 13.5,
          "xref": "x5",
          "y0": 10.5,
          "y1": 10.5,
          "yref": "y5"
         },
         {
          "line": {
           "color": "sienna",
           "width": 2
          },
          "type": "line",
          "x0": -0.5,
          "x1": -0.5,
          "xref": "x5",
          "y0": -0.5,
          "y1": 11.5,
          "yref": "y5"
         },
         {
          "line": {
           "color": "sienna",
           "width": 2
          },
          "type": "line",
          "x0": 0.5,
          "x1": 0.5,
          "xref": "x5",
          "y0": -0.5,
          "y1": 11.5,
          "yref": "y5"
         },
         {
          "line": {
           "color": "sienna",
           "width": 2
          },
          "type": "line",
          "x0": 1.5,
          "x1": 1.5,
          "xref": "x5",
          "y0": -0.5,
          "y1": 11.5,
          "yref": "y5"
         },
         {
          "line": {
           "color": "sienna",
           "width": 2
          },
          "type": "line",
          "x0": 2.5,
          "x1": 2.5,
          "xref": "x5",
          "y0": -0.5,
          "y1": 11.5,
          "yref": "y5"
         },
         {
          "line": {
           "color": "sienna",
           "width": 2
          },
          "type": "line",
          "x0": 3.5,
          "x1": 3.5,
          "xref": "x5",
          "y0": -0.5,
          "y1": 11.5,
          "yref": "y5"
         },
         {
          "line": {
           "color": "sienna",
           "width": 2
          },
          "type": "line",
          "x0": 4.5,
          "x1": 4.5,
          "xref": "x5",
          "y0": -0.5,
          "y1": 11.5,
          "yref": "y5"
         },
         {
          "line": {
           "color": "sienna",
           "width": 2
          },
          "type": "line",
          "x0": 5.5,
          "x1": 5.5,
          "xref": "x5",
          "y0": -0.5,
          "y1": 11.5,
          "yref": "y5"
         },
         {
          "line": {
           "color": "sienna",
           "width": 2
          },
          "type": "line",
          "x0": 6.5,
          "x1": 6.5,
          "xref": "x5",
          "y0": -0.5,
          "y1": 11.5,
          "yref": "y5"
         },
         {
          "line": {
           "color": "sienna",
           "width": 2
          },
          "type": "line",
          "x0": 7.5,
          "x1": 7.5,
          "xref": "x5",
          "y0": -0.5,
          "y1": 11.5,
          "yref": "y5"
         },
         {
          "line": {
           "color": "sienna",
           "width": 2
          },
          "type": "line",
          "x0": 8.5,
          "x1": 8.5,
          "xref": "x5",
          "y0": -0.5,
          "y1": 11.5,
          "yref": "y5"
         },
         {
          "line": {
           "color": "sienna",
           "width": 2
          },
          "type": "line",
          "x0": 9.5,
          "x1": 9.5,
          "xref": "x5",
          "y0": -0.5,
          "y1": 11.5,
          "yref": "y5"
         },
         {
          "line": {
           "color": "sienna",
           "width": 2
          },
          "type": "line",
          "x0": 10.5,
          "x1": 10.5,
          "xref": "x5",
          "y0": -0.5,
          "y1": 11.5,
          "yref": "y5"
         },
         {
          "line": {
           "color": "sienna",
           "width": 2
          },
          "type": "line",
          "x0": 11.5,
          "x1": 11.5,
          "xref": "x5",
          "y0": -0.5,
          "y1": 11.5,
          "yref": "y5"
         },
         {
          "line": {
           "color": "sienna",
           "width": 2
          },
          "type": "line",
          "x0": 12.5,
          "x1": 12.5,
          "xref": "x5",
          "y0": -0.5,
          "y1": 11.5,
          "yref": "y5"
         },
         {
          "line": {
           "color": "sienna",
           "width": 2
          },
          "type": "line",
          "x0": -0.5,
          "x1": 4.5,
          "xref": "x6",
          "y0": -0.5,
          "y1": -0.5,
          "yref": "y6"
         },
         {
          "line": {
           "color": "sienna",
           "width": 2
          },
          "type": "line",
          "x0": -0.5,
          "x1": 4.5,
          "xref": "x6",
          "y0": 0.5,
          "y1": 0.5,
          "yref": "y6"
         },
         {
          "line": {
           "color": "sienna",
           "width": 2
          },
          "type": "line",
          "x0": -0.5,
          "x1": 4.5,
          "xref": "x6",
          "y0": 1.5,
          "y1": 1.5,
          "yref": "y6"
         },
         {
          "line": {
           "color": "sienna",
           "width": 2
          },
          "type": "line",
          "x0": -0.5,
          "x1": 4.5,
          "xref": "x6",
          "y0": 2.5,
          "y1": 2.5,
          "yref": "y6"
         },
         {
          "line": {
           "color": "sienna",
           "width": 2
          },
          "type": "line",
          "x0": -0.5,
          "x1": 4.5,
          "xref": "x6",
          "y0": 3.5,
          "y1": 3.5,
          "yref": "y6"
         },
         {
          "line": {
           "color": "sienna",
           "width": 2
          },
          "type": "line",
          "x0": -0.5,
          "x1": -0.5,
          "xref": "x6",
          "y0": -0.5,
          "y1": 4.5,
          "yref": "y6"
         },
         {
          "line": {
           "color": "sienna",
           "width": 2
          },
          "type": "line",
          "x0": 0.5,
          "x1": 0.5,
          "xref": "x6",
          "y0": -0.5,
          "y1": 4.5,
          "yref": "y6"
         },
         {
          "line": {
           "color": "sienna",
           "width": 2
          },
          "type": "line",
          "x0": 1.5,
          "x1": 1.5,
          "xref": "x6",
          "y0": -0.5,
          "y1": 4.5,
          "yref": "y6"
         },
         {
          "line": {
           "color": "sienna",
           "width": 2
          },
          "type": "line",
          "x0": 2.5,
          "x1": 2.5,
          "xref": "x6",
          "y0": -0.5,
          "y1": 4.5,
          "yref": "y6"
         },
         {
          "line": {
           "color": "sienna",
           "width": 2
          },
          "type": "line",
          "x0": 3.5,
          "x1": 3.5,
          "xref": "x6",
          "y0": -0.5,
          "y1": 4.5,
          "yref": "y6"
         }
        ],
        "template": {
         "data": {
          "bar": [
           {
            "error_x": {
             "color": "#2a3f5f"
            },
            "error_y": {
             "color": "#2a3f5f"
            },
            "marker": {
             "line": {
              "color": "#E5ECF6",
              "width": 0.5
             },
             "pattern": {
              "fillmode": "overlay",
              "size": 10,
              "solidity": 0.2
             }
            },
            "type": "bar"
           }
          ],
          "barpolar": [
           {
            "marker": {
             "line": {
              "color": "#E5ECF6",
              "width": 0.5
             },
             "pattern": {
              "fillmode": "overlay",
              "size": 10,
              "solidity": 0.2
             }
            },
            "type": "barpolar"
           }
          ],
          "carpet": [
           {
            "aaxis": {
             "endlinecolor": "#2a3f5f",
             "gridcolor": "white",
             "linecolor": "white",
             "minorgridcolor": "white",
             "startlinecolor": "#2a3f5f"
            },
            "baxis": {
             "endlinecolor": "#2a3f5f",
             "gridcolor": "white",
             "linecolor": "white",
             "minorgridcolor": "white",
             "startlinecolor": "#2a3f5f"
            },
            "type": "carpet"
           }
          ],
          "choropleth": [
           {
            "colorbar": {
             "outlinewidth": 0,
             "ticks": ""
            },
            "type": "choropleth"
           }
          ],
          "contour": [
           {
            "colorbar": {
             "outlinewidth": 0,
             "ticks": ""
            },
            "colorscale": [
             [
              0,
              "#0d0887"
             ],
             [
              0.1111111111111111,
              "#46039f"
             ],
             [
              0.2222222222222222,
              "#7201a8"
             ],
             [
              0.3333333333333333,
              "#9c179e"
             ],
             [
              0.4444444444444444,
              "#bd3786"
             ],
             [
              0.5555555555555556,
              "#d8576b"
             ],
             [
              0.6666666666666666,
              "#ed7953"
             ],
             [
              0.7777777777777778,
              "#fb9f3a"
             ],
             [
              0.8888888888888888,
              "#fdca26"
             ],
             [
              1,
              "#f0f921"
             ]
            ],
            "type": "contour"
           }
          ],
          "contourcarpet": [
           {
            "colorbar": {
             "outlinewidth": 0,
             "ticks": ""
            },
            "type": "contourcarpet"
           }
          ],
          "heatmap": [
           {
            "colorbar": {
             "outlinewidth": 0,
             "ticks": ""
            },
            "colorscale": [
             [
              0,
              "#0d0887"
             ],
             [
              0.1111111111111111,
              "#46039f"
             ],
             [
              0.2222222222222222,
              "#7201a8"
             ],
             [
              0.3333333333333333,
              "#9c179e"
             ],
             [
              0.4444444444444444,
              "#bd3786"
             ],
             [
              0.5555555555555556,
              "#d8576b"
             ],
             [
              0.6666666666666666,
              "#ed7953"
             ],
             [
              0.7777777777777778,
              "#fb9f3a"
             ],
             [
              0.8888888888888888,
              "#fdca26"
             ],
             [
              1,
              "#f0f921"
             ]
            ],
            "type": "heatmap"
           }
          ],
          "heatmapgl": [
           {
            "colorbar": {
             "outlinewidth": 0,
             "ticks": ""
            },
            "colorscale": [
             [
              0,
              "#0d0887"
             ],
             [
              0.1111111111111111,
              "#46039f"
             ],
             [
              0.2222222222222222,
              "#7201a8"
             ],
             [
              0.3333333333333333,
              "#9c179e"
             ],
             [
              0.4444444444444444,
              "#bd3786"
             ],
             [
              0.5555555555555556,
              "#d8576b"
             ],
             [
              0.6666666666666666,
              "#ed7953"
             ],
             [
              0.7777777777777778,
              "#fb9f3a"
             ],
             [
              0.8888888888888888,
              "#fdca26"
             ],
             [
              1,
              "#f0f921"
             ]
            ],
            "type": "heatmapgl"
           }
          ],
          "histogram": [
           {
            "marker": {
             "pattern": {
              "fillmode": "overlay",
              "size": 10,
              "solidity": 0.2
             }
            },
            "type": "histogram"
           }
          ],
          "histogram2d": [
           {
            "colorbar": {
             "outlinewidth": 0,
             "ticks": ""
            },
            "colorscale": [
             [
              0,
              "#0d0887"
             ],
             [
              0.1111111111111111,
              "#46039f"
             ],
             [
              0.2222222222222222,
              "#7201a8"
             ],
             [
              0.3333333333333333,
              "#9c179e"
             ],
             [
              0.4444444444444444,
              "#bd3786"
             ],
             [
              0.5555555555555556,
              "#d8576b"
             ],
             [
              0.6666666666666666,
              "#ed7953"
             ],
             [
              0.7777777777777778,
              "#fb9f3a"
             ],
             [
              0.8888888888888888,
              "#fdca26"
             ],
             [
              1,
              "#f0f921"
             ]
            ],
            "type": "histogram2d"
           }
          ],
          "histogram2dcontour": [
           {
            "colorbar": {
             "outlinewidth": 0,
             "ticks": ""
            },
            "colorscale": [
             [
              0,
              "#0d0887"
             ],
             [
              0.1111111111111111,
              "#46039f"
             ],
             [
              0.2222222222222222,
              "#7201a8"
             ],
             [
              0.3333333333333333,
              "#9c179e"
             ],
             [
              0.4444444444444444,
              "#bd3786"
             ],
             [
              0.5555555555555556,
              "#d8576b"
             ],
             [
              0.6666666666666666,
              "#ed7953"
             ],
             [
              0.7777777777777778,
              "#fb9f3a"
             ],
             [
              0.8888888888888888,
              "#fdca26"
             ],
             [
              1,
              "#f0f921"
             ]
            ],
            "type": "histogram2dcontour"
           }
          ],
          "mesh3d": [
           {
            "colorbar": {
             "outlinewidth": 0,
             "ticks": ""
            },
            "type": "mesh3d"
           }
          ],
          "parcoords": [
           {
            "line": {
             "colorbar": {
              "outlinewidth": 0,
              "ticks": ""
             }
            },
            "type": "parcoords"
           }
          ],
          "pie": [
           {
            "automargin": true,
            "type": "pie"
           }
          ],
          "scatter": [
           {
            "fillpattern": {
             "fillmode": "overlay",
             "size": 10,
             "solidity": 0.2
            },
            "type": "scatter"
           }
          ],
          "scatter3d": [
           {
            "line": {
             "colorbar": {
              "outlinewidth": 0,
              "ticks": ""
             }
            },
            "marker": {
             "colorbar": {
              "outlinewidth": 0,
              "ticks": ""
             }
            },
            "type": "scatter3d"
           }
          ],
          "scattercarpet": [
           {
            "marker": {
             "colorbar": {
              "outlinewidth": 0,
              "ticks": ""
             }
            },
            "type": "scattercarpet"
           }
          ],
          "scattergeo": [
           {
            "marker": {
             "colorbar": {
              "outlinewidth": 0,
              "ticks": ""
             }
            },
            "type": "scattergeo"
           }
          ],
          "scattergl": [
           {
            "marker": {
             "colorbar": {
              "outlinewidth": 0,
              "ticks": ""
             }
            },
            "type": "scattergl"
           }
          ],
          "scattermapbox": [
           {
            "marker": {
             "colorbar": {
              "outlinewidth": 0,
              "ticks": ""
             }
            },
            "type": "scattermapbox"
           }
          ],
          "scatterpolar": [
           {
            "marker": {
             "colorbar": {
              "outlinewidth": 0,
              "ticks": ""
             }
            },
            "type": "scatterpolar"
           }
          ],
          "scatterpolargl": [
           {
            "marker": {
             "colorbar": {
              "outlinewidth": 0,
              "ticks": ""
             }
            },
            "type": "scatterpolargl"
           }
          ],
          "scatterternary": [
           {
            "marker": {
             "colorbar": {
              "outlinewidth": 0,
              "ticks": ""
             }
            },
            "type": "scatterternary"
           }
          ],
          "surface": [
           {
            "colorbar": {
             "outlinewidth": 0,
             "ticks": ""
            },
            "colorscale": [
             [
              0,
              "#0d0887"
             ],
             [
              0.1111111111111111,
              "#46039f"
             ],
             [
              0.2222222222222222,
              "#7201a8"
             ],
             [
              0.3333333333333333,
              "#9c179e"
             ],
             [
              0.4444444444444444,
              "#bd3786"
             ],
             [
              0.5555555555555556,
              "#d8576b"
             ],
             [
              0.6666666666666666,
              "#ed7953"
             ],
             [
              0.7777777777777778,
              "#fb9f3a"
             ],
             [
              0.8888888888888888,
              "#fdca26"
             ],
             [
              1,
              "#f0f921"
             ]
            ],
            "type": "surface"
           }
          ],
          "table": [
           {
            "cells": {
             "fill": {
              "color": "#EBF0F8"
             },
             "line": {
              "color": "white"
             }
            },
            "header": {
             "fill": {
              "color": "#C8D4E3"
             },
             "line": {
              "color": "white"
             }
            },
            "type": "table"
           }
          ]
         },
         "layout": {
          "annotationdefaults": {
           "arrowcolor": "#2a3f5f",
           "arrowhead": 0,
           "arrowwidth": 1
          },
          "autotypenumbers": "strict",
          "coloraxis": {
           "colorbar": {
            "outlinewidth": 0,
            "ticks": ""
           }
          },
          "colorscale": {
           "diverging": [
            [
             0,
             "#8e0152"
            ],
            [
             0.1,
             "#c51b7d"
            ],
            [
             0.2,
             "#de77ae"
            ],
            [
             0.3,
             "#f1b6da"
            ],
            [
             0.4,
             "#fde0ef"
            ],
            [
             0.5,
             "#f7f7f7"
            ],
            [
             0.6,
             "#e6f5d0"
            ],
            [
             0.7,
             "#b8e186"
            ],
            [
             0.8,
             "#7fbc41"
            ],
            [
             0.9,
             "#4d9221"
            ],
            [
             1,
             "#276419"
            ]
           ],
           "sequential": [
            [
             0,
             "#0d0887"
            ],
            [
             0.1111111111111111,
             "#46039f"
            ],
            [
             0.2222222222222222,
             "#7201a8"
            ],
            [
             0.3333333333333333,
             "#9c179e"
            ],
            [
             0.4444444444444444,
             "#bd3786"
            ],
            [
             0.5555555555555556,
             "#d8576b"
            ],
            [
             0.6666666666666666,
             "#ed7953"
            ],
            [
             0.7777777777777778,
             "#fb9f3a"
            ],
            [
             0.8888888888888888,
             "#fdca26"
            ],
            [
             1,
             "#f0f921"
            ]
           ],
           "sequentialminus": [
            [
             0,
             "#0d0887"
            ],
            [
             0.1111111111111111,
             "#46039f"
            ],
            [
             0.2222222222222222,
             "#7201a8"
            ],
            [
             0.3333333333333333,
             "#9c179e"
            ],
            [
             0.4444444444444444,
             "#bd3786"
            ],
            [
             0.5555555555555556,
             "#d8576b"
            ],
            [
             0.6666666666666666,
             "#ed7953"
            ],
            [
             0.7777777777777778,
             "#fb9f3a"
            ],
            [
             0.8888888888888888,
             "#fdca26"
            ],
            [
             1,
             "#f0f921"
            ]
           ]
          },
          "colorway": [
           "#636efa",
           "#EF553B",
           "#00cc96",
           "#ab63fa",
           "#FFA15A",
           "#19d3f3",
           "#FF6692",
           "#B6E880",
           "#FF97FF",
           "#FECB52"
          ],
          "font": {
           "color": "#2a3f5f"
          },
          "geo": {
           "bgcolor": "white",
           "lakecolor": "white",
           "landcolor": "#E5ECF6",
           "showlakes": true,
           "showland": true,
           "subunitcolor": "white"
          },
          "hoverlabel": {
           "align": "left"
          },
          "hovermode": "closest",
          "mapbox": {
           "style": "light"
          },
          "paper_bgcolor": "white",
          "plot_bgcolor": "#E5ECF6",
          "polar": {
           "angularaxis": {
            "gridcolor": "white",
            "linecolor": "white",
            "ticks": ""
           },
           "bgcolor": "#E5ECF6",
           "radialaxis": {
            "gridcolor": "white",
            "linecolor": "white",
            "ticks": ""
           }
          },
          "scene": {
           "xaxis": {
            "backgroundcolor": "#E5ECF6",
            "gridcolor": "white",
            "gridwidth": 2,
            "linecolor": "white",
            "showbackground": true,
            "ticks": "",
            "zerolinecolor": "white"
           },
           "yaxis": {
            "backgroundcolor": "#E5ECF6",
            "gridcolor": "white",
            "gridwidth": 2,
            "linecolor": "white",
            "showbackground": true,
            "ticks": "",
            "zerolinecolor": "white"
           },
           "zaxis": {
            "backgroundcolor": "#E5ECF6",
            "gridcolor": "white",
            "gridwidth": 2,
            "linecolor": "white",
            "showbackground": true,
            "ticks": "",
            "zerolinecolor": "white"
           }
          },
          "shapedefaults": {
           "line": {
            "color": "#2a3f5f"
           }
          },
          "ternary": {
           "aaxis": {
            "gridcolor": "white",
            "linecolor": "white",
            "ticks": ""
           },
           "baxis": {
            "gridcolor": "white",
            "linecolor": "white",
            "ticks": ""
           },
           "bgcolor": "#E5ECF6",
           "caxis": {
            "gridcolor": "white",
            "linecolor": "white",
            "ticks": ""
           }
          },
          "title": {
           "x": 0.05
          },
          "xaxis": {
           "automargin": true,
           "gridcolor": "white",
           "linecolor": "white",
           "ticks": "",
           "title": {
            "standoff": 15
           },
           "zerolinecolor": "white",
           "zerolinewidth": 2
          },
          "yaxis": {
           "automargin": true,
           "gridcolor": "white",
           "linecolor": "white",
           "ticks": "",
           "title": {
            "standoff": 15
           },
           "zerolinecolor": "white",
           "zerolinewidth": 2
          }
         }
        },
        "xaxis": {
         "anchor": "y",
         "domain": [
          0,
          0.45
         ]
        },
        "xaxis2": {
         "anchor": "y2",
         "domain": [
          0.55,
          1
         ]
        },
        "xaxis3": {
         "anchor": "y3",
         "domain": [
          0,
          0.45
         ]
        },
        "xaxis4": {
         "anchor": "y4",
         "domain": [
          0.55,
          1
         ]
        },
        "xaxis5": {
         "anchor": "y5",
         "domain": [
          0,
          0.45
         ]
        },
        "xaxis6": {
         "anchor": "y6",
         "domain": [
          0.55,
          1
         ]
        },
        "yaxis": {
         "anchor": "x",
         "domain": [
          0.7333333333333333,
          1
         ]
        },
        "yaxis2": {
         "anchor": "x2",
         "domain": [
          0.7333333333333333,
          1
         ]
        },
        "yaxis3": {
         "anchor": "x3",
         "domain": [
          0.36666666666666664,
          0.6333333333333333
         ]
        },
        "yaxis4": {
         "anchor": "x4",
         "domain": [
          0.36666666666666664,
          0.6333333333333333
         ]
        },
        "yaxis5": {
         "anchor": "x5",
         "domain": [
          0,
          0.26666666666666666
         ]
        },
        "yaxis6": {
         "anchor": "x6",
         "domain": [
          0,
          0.26666666666666666
         ]
        }
       }
      }
     },
     "metadata": {},
     "output_type": "display_data"
    },
    {
     "name": "stdout",
     "output_type": "stream",
     "text": [
      "c8cbb738-test\n"
     ]
    },
    {
     "data": {
      "application/vnd.plotly.v1+json": {
       "config": {
        "plotlyServerURL": "https://plot.ly"
       },
       "data": [
        {
         "type": "image",
         "xaxis": "x",
         "yaxis": "y",
         "z": [
          [
           [
            127,
            219,
            255
           ],
           [
            127,
            219,
            255
           ],
           [
            127,
            219,
            255
           ],
           [
            127,
            219,
            255
           ],
           [
            127,
            219,
            255
           ],
           [
            127,
            219,
            255
           ],
           [
            127,
            219,
            255
           ],
           [
            127,
            219,
            255
           ],
           [
            127,
            219,
            255
           ],
           [
            127,
            219,
            255
           ],
           [
            127,
            219,
            255
           ],
           [
            127,
            219,
            255
           ],
           [
            127,
            219,
            255
           ],
           [
            127,
            219,
            255
           ],
           [
            127,
            219,
            255
           ],
           [
            127,
            219,
            255
           ],
           [
            127,
            219,
            255
           ],
           [
            127,
            219,
            255
           ],
           [
            127,
            219,
            255
           ]
          ],
          [
           [
            127,
            219,
            255
           ],
           [
            127,
            219,
            255
           ],
           [
            127,
            219,
            255
           ],
           [
            127,
            219,
            255
           ],
           [
            127,
            219,
            255
           ],
           [
            127,
            219,
            255
           ],
           [
            127,
            219,
            255
           ],
           [
            127,
            219,
            255
           ],
           [
            127,
            219,
            255
           ],
           [
            127,
            219,
            255
           ],
           [
            127,
            219,
            255
           ],
           [
            127,
            219,
            255
           ],
           [
            127,
            219,
            255
           ],
           [
            127,
            219,
            255
           ],
           [
            127,
            219,
            255
           ],
           [
            127,
            219,
            255
           ],
           [
            127,
            219,
            255
           ],
           [
            127,
            219,
            255
           ],
           [
            127,
            219,
            255
           ]
          ],
          [
           [
            127,
            219,
            255
           ],
           [
            127,
            219,
            255
           ],
           [
            127,
            219,
            255
           ],
           [
            127,
            219,
            255
           ],
           [
            127,
            219,
            255
           ],
           [
            127,
            219,
            255
           ],
           [
            37,
            150,
            190
           ],
           [
            127,
            219,
            255
           ],
           [
            127,
            219,
            255
           ],
           [
            127,
            219,
            255
           ],
           [
            127,
            219,
            255
           ],
           [
            127,
            219,
            255
           ],
           [
            127,
            219,
            255
           ],
           [
            127,
            219,
            255
           ],
           [
            127,
            219,
            255
           ],
           [
            127,
            219,
            255
           ],
           [
            127,
            219,
            255
           ],
           [
            127,
            219,
            255
           ],
           [
            127,
            219,
            255
           ]
          ],
          [
           [
            127,
            219,
            255
           ],
           [
            127,
            219,
            255
           ],
           [
            127,
            219,
            255
           ],
           [
            127,
            219,
            255
           ],
           [
            127,
            219,
            255
           ],
           [
            127,
            219,
            255
           ],
           [
            127,
            219,
            255
           ],
           [
            127,
            219,
            255
           ],
           [
            127,
            219,
            255
           ],
           [
            127,
            219,
            255
           ],
           [
            127,
            219,
            255
           ],
           [
            127,
            219,
            255
           ],
           [
            127,
            219,
            255
           ],
           [
            127,
            219,
            255
           ],
           [
            127,
            219,
            255
           ],
           [
            127,
            219,
            255
           ],
           [
            127,
            219,
            255
           ],
           [
            127,
            219,
            255
           ],
           [
            127,
            219,
            255
           ]
          ],
          [
           [
            127,
            219,
            255
           ],
           [
            127,
            219,
            255
           ],
           [
            127,
            219,
            255
           ],
           [
            127,
            219,
            255
           ],
           [
            127,
            219,
            255
           ],
           [
            127,
            219,
            255
           ],
           [
            127,
            219,
            255
           ],
           [
            127,
            219,
            255
           ],
           [
            127,
            219,
            255
           ],
           [
            127,
            219,
            255
           ],
           [
            127,
            219,
            255
           ],
           [
            127,
            219,
            255
           ],
           [
            127,
            219,
            255
           ],
           [
            127,
            219,
            255
           ],
           [
            127,
            219,
            255
           ],
           [
            127,
            219,
            255
           ],
           [
            127,
            219,
            255
           ],
           [
            127,
            219,
            255
           ],
           [
            127,
            219,
            255
           ]
          ],
          [
           [
            127,
            219,
            255
           ],
           [
            127,
            219,
            255
           ],
           [
            127,
            219,
            255
           ],
           [
            37,
            150,
            190
           ],
           [
            127,
            219,
            255
           ],
           [
            127,
            219,
            255
           ],
           [
            127,
            219,
            255
           ],
           [
            127,
            219,
            255
           ],
           [
            127,
            219,
            255
           ],
           [
            37,
            150,
            190
           ],
           [
            127,
            219,
            255
           ],
           [
            127,
            219,
            255
           ],
           [
            127,
            219,
            255
           ],
           [
            127,
            219,
            255
           ],
           [
            127,
            219,
            255
           ],
           [
            127,
            219,
            255
           ],
           [
            127,
            219,
            255
           ],
           [
            127,
            219,
            255
           ],
           [
            127,
            219,
            255
           ]
          ],
          [
           [
            127,
            219,
            255
           ],
           [
            127,
            219,
            255
           ],
           [
            127,
            219,
            255
           ],
           [
            127,
            219,
            255
           ],
           [
            127,
            219,
            255
           ],
           [
            127,
            219,
            255
           ],
           [
            127,
            219,
            255
           ],
           [
            127,
            219,
            255
           ],
           [
            127,
            219,
            255
           ],
           [
            127,
            219,
            255
           ],
           [
            127,
            219,
            255
           ],
           [
            255,
            65,
            54
           ],
           [
            127,
            219,
            255
           ],
           [
            127,
            219,
            255
           ],
           [
            127,
            219,
            255
           ],
           [
            127,
            219,
            255
           ],
           [
            127,
            219,
            255
           ],
           [
            255,
            65,
            54
           ],
           [
            127,
            219,
            255
           ]
          ],
          [
           [
            127,
            219,
            255
           ],
           [
            127,
            219,
            255
           ],
           [
            127,
            219,
            255
           ],
           [
            127,
            219,
            255
           ],
           [
            127,
            219,
            255
           ],
           [
            127,
            219,
            255
           ],
           [
            127,
            219,
            255
           ],
           [
            127,
            219,
            255
           ],
           [
            127,
            219,
            255
           ],
           [
            127,
            219,
            255
           ],
           [
            127,
            219,
            255
           ],
           [
            127,
            219,
            255
           ],
           [
            127,
            219,
            255
           ],
           [
            127,
            219,
            255
           ],
           [
            127,
            219,
            255
           ],
           [
            127,
            219,
            255
           ],
           [
            127,
            219,
            255
           ],
           [
            127,
            219,
            255
           ],
           [
            127,
            219,
            255
           ]
          ],
          [
           [
            127,
            219,
            255
           ],
           [
            127,
            219,
            255
           ],
           [
            127,
            219,
            255
           ],
           [
            127,
            219,
            255
           ],
           [
            127,
            219,
            255
           ],
           [
            127,
            219,
            255
           ],
           [
            37,
            150,
            190
           ],
           [
            127,
            219,
            255
           ],
           [
            127,
            219,
            255
           ],
           [
            127,
            219,
            255
           ],
           [
            127,
            219,
            255
           ],
           [
            255,
            65,
            54
           ],
           [
            127,
            219,
            255
           ],
           [
            127,
            219,
            255
           ],
           [
            127,
            219,
            255
           ],
           [
            127,
            219,
            255
           ],
           [
            127,
            219,
            255
           ],
           [
            255,
            65,
            54
           ],
           [
            127,
            219,
            255
           ]
          ],
          [
           [
            127,
            219,
            255
           ],
           [
            127,
            219,
            255
           ],
           [
            127,
            219,
            255
           ],
           [
            46,
            204,
            64
           ],
           [
            127,
            219,
            255
           ],
           [
            127,
            219,
            255
           ],
           [
            127,
            219,
            255
           ],
           [
            127,
            219,
            255
           ],
           [
            127,
            219,
            255
           ],
           [
            46,
            204,
            64
           ],
           [
            127,
            219,
            255
           ],
           [
            127,
            219,
            255
           ],
           [
            127,
            219,
            255
           ],
           [
            127,
            219,
            255
           ],
           [
            127,
            219,
            255
           ],
           [
            127,
            219,
            255
           ],
           [
            127,
            219,
            255
           ],
           [
            127,
            219,
            255
           ],
           [
            127,
            219,
            255
           ]
          ],
          [
           [
            127,
            219,
            255
           ],
           [
            127,
            219,
            255
           ],
           [
            127,
            219,
            255
           ],
           [
            127,
            219,
            255
           ],
           [
            127,
            219,
            255
           ],
           [
            127,
            219,
            255
           ],
           [
            127,
            219,
            255
           ],
           [
            127,
            219,
            255
           ],
           [
            127,
            219,
            255
           ],
           [
            127,
            219,
            255
           ],
           [
            127,
            219,
            255
           ],
           [
            127,
            219,
            255
           ],
           [
            127,
            219,
            255
           ],
           [
            127,
            219,
            255
           ],
           [
            240,
            18,
            190
           ],
           [
            127,
            219,
            255
           ],
           [
            240,
            18,
            190
           ],
           [
            127,
            219,
            255
           ],
           [
            127,
            219,
            255
           ]
          ],
          [
           [
            127,
            219,
            255
           ],
           [
            127,
            219,
            255
           ],
           [
            127,
            219,
            255
           ],
           [
            127,
            219,
            255
           ],
           [
            127,
            219,
            255
           ],
           [
            127,
            219,
            255
           ],
           [
            127,
            219,
            255
           ],
           [
            127,
            219,
            255
           ],
           [
            127,
            219,
            255
           ],
           [
            127,
            219,
            255
           ],
           [
            127,
            219,
            255
           ],
           [
            127,
            219,
            255
           ],
           [
            127,
            219,
            255
           ],
           [
            127,
            219,
            255
           ],
           [
            127,
            219,
            255
           ],
           [
            127,
            219,
            255
           ],
           [
            127,
            219,
            255
           ],
           [
            127,
            219,
            255
           ],
           [
            127,
            219,
            255
           ]
          ],
          [
           [
            127,
            219,
            255
           ],
           [
            127,
            219,
            255
           ],
           [
            127,
            219,
            255
           ],
           [
            127,
            219,
            255
           ],
           [
            127,
            219,
            255
           ],
           [
            127,
            219,
            255
           ],
           [
            127,
            219,
            255
           ],
           [
            127,
            219,
            255
           ],
           [
            127,
            219,
            255
           ],
           [
            127,
            219,
            255
           ],
           [
            127,
            219,
            255
           ],
           [
            127,
            219,
            255
           ],
           [
            127,
            219,
            255
           ],
           [
            127,
            219,
            255
           ],
           [
            127,
            219,
            255
           ],
           [
            127,
            219,
            255
           ],
           [
            127,
            219,
            255
           ],
           [
            127,
            219,
            255
           ],
           [
            127,
            219,
            255
           ]
          ],
          [
           [
            127,
            219,
            255
           ],
           [
            127,
            219,
            255
           ],
           [
            127,
            219,
            255
           ],
           [
            127,
            219,
            255
           ],
           [
            127,
            219,
            255
           ],
           [
            127,
            219,
            255
           ],
           [
            127,
            219,
            255
           ],
           [
            127,
            219,
            255
           ],
           [
            127,
            219,
            255
           ],
           [
            127,
            219,
            255
           ],
           [
            127,
            219,
            255
           ],
           [
            127,
            219,
            255
           ],
           [
            127,
            219,
            255
           ],
           [
            127,
            219,
            255
           ],
           [
            127,
            219,
            255
           ],
           [
            127,
            219,
            255
           ],
           [
            127,
            219,
            255
           ],
           [
            127,
            219,
            255
           ],
           [
            127,
            219,
            255
           ]
          ],
          [
           [
            127,
            219,
            255
           ],
           [
            127,
            219,
            255
           ],
           [
            127,
            219,
            255
           ],
           [
            127,
            219,
            255
           ],
           [
            127,
            219,
            255
           ],
           [
            127,
            219,
            255
           ],
           [
            127,
            219,
            255
           ],
           [
            127,
            219,
            255
           ],
           [
            127,
            219,
            255
           ],
           [
            127,
            219,
            255
           ],
           [
            127,
            219,
            255
           ],
           [
            127,
            219,
            255
           ],
           [
            127,
            219,
            255
           ],
           [
            127,
            219,
            255
           ],
           [
            127,
            219,
            255
           ],
           [
            127,
            219,
            255
           ],
           [
            127,
            219,
            255
           ],
           [
            127,
            219,
            255
           ],
           [
            127,
            219,
            255
           ]
          ],
          [
           [
            127,
            219,
            255
           ],
           [
            127,
            219,
            255
           ],
           [
            127,
            219,
            255
           ],
           [
            46,
            204,
            64
           ],
           [
            127,
            219,
            255
           ],
           [
            127,
            219,
            255
           ],
           [
            127,
            219,
            255
           ],
           [
            127,
            219,
            255
           ],
           [
            127,
            219,
            255
           ],
           [
            46,
            204,
            64
           ],
           [
            127,
            219,
            255
           ],
           [
            127,
            219,
            255
           ],
           [
            127,
            219,
            255
           ],
           [
            127,
            219,
            255
           ],
           [
            127,
            219,
            255
           ],
           [
            127,
            219,
            255
           ],
           [
            127,
            219,
            255
           ],
           [
            127,
            219,
            255
           ],
           [
            127,
            219,
            255
           ]
          ],
          [
           [
            127,
            219,
            255
           ],
           [
            127,
            219,
            255
           ],
           [
            127,
            219,
            255
           ],
           [
            127,
            219,
            255
           ],
           [
            127,
            219,
            255
           ],
           [
            127,
            219,
            255
           ],
           [
            127,
            219,
            255
           ],
           [
            127,
            219,
            255
           ],
           [
            127,
            219,
            255
           ],
           [
            127,
            219,
            255
           ],
           [
            127,
            219,
            255
           ],
           [
            127,
            219,
            255
           ],
           [
            127,
            219,
            255
           ],
           [
            127,
            219,
            255
           ],
           [
            240,
            18,
            190
           ],
           [
            127,
            219,
            255
           ],
           [
            240,
            18,
            190
           ],
           [
            127,
            219,
            255
           ],
           [
            127,
            219,
            255
           ]
          ],
          [
           [
            127,
            219,
            255
           ],
           [
            127,
            219,
            255
           ],
           [
            127,
            219,
            255
           ],
           [
            127,
            219,
            255
           ],
           [
            127,
            219,
            255
           ],
           [
            127,
            219,
            255
           ],
           [
            127,
            219,
            255
           ],
           [
            127,
            219,
            255
           ],
           [
            127,
            219,
            255
           ],
           [
            127,
            219,
            255
           ],
           [
            127,
            219,
            255
           ],
           [
            127,
            219,
            255
           ],
           [
            127,
            219,
            255
           ],
           [
            127,
            219,
            255
           ],
           [
            127,
            219,
            255
           ],
           [
            127,
            219,
            255
           ],
           [
            127,
            219,
            255
           ],
           [
            127,
            219,
            255
           ],
           [
            127,
            219,
            255
           ]
          ]
         ]
        },
        {
         "type": "image",
         "xaxis": "x2",
         "yaxis": "y2",
         "z": [
          [
           [
            46,
            204,
            64
           ],
           [
            127,
            219,
            255
           ],
           [
            240,
            18,
            190
           ],
           [
            37,
            150,
            190
           ],
           [
            240,
            18,
            190
           ],
           [
            127,
            219,
            255
           ],
           [
            46,
            204,
            64
           ]
          ],
          [
           [
            127,
            219,
            255
           ],
           [
            127,
            219,
            255
           ],
           [
            127,
            219,
            255
           ],
           [
            127,
            219,
            255
           ],
           [
            127,
            219,
            255
           ],
           [
            127,
            219,
            255
           ],
           [
            127,
            219,
            255
           ]
          ],
          [
           [
            255,
            65,
            54
           ],
           [
            127,
            219,
            255
           ],
           [
            127,
            219,
            255
           ],
           [
            127,
            219,
            255
           ],
           [
            127,
            219,
            255
           ],
           [
            127,
            219,
            255
           ],
           [
            255,
            65,
            54
           ]
          ],
          [
           [
            37,
            150,
            190
           ],
           [
            127,
            219,
            255
           ],
           [
            127,
            219,
            255
           ],
           [
            127,
            219,
            255
           ],
           [
            127,
            219,
            255
           ],
           [
            127,
            219,
            255
           ],
           [
            37,
            150,
            190
           ]
          ],
          [
           [
            255,
            65,
            54
           ],
           [
            127,
            219,
            255
           ],
           [
            127,
            219,
            255
           ],
           [
            127,
            219,
            255
           ],
           [
            127,
            219,
            255
           ],
           [
            127,
            219,
            255
           ],
           [
            255,
            65,
            54
           ]
          ],
          [
           [
            127,
            219,
            255
           ],
           [
            127,
            219,
            255
           ],
           [
            127,
            219,
            255
           ],
           [
            127,
            219,
            255
           ],
           [
            127,
            219,
            255
           ],
           [
            127,
            219,
            255
           ],
           [
            127,
            219,
            255
           ]
          ],
          [
           [
            46,
            204,
            64
           ],
           [
            127,
            219,
            255
           ],
           [
            240,
            18,
            190
           ],
           [
            37,
            150,
            190
           ],
           [
            240,
            18,
            190
           ],
           [
            127,
            219,
            255
           ],
           [
            46,
            204,
            64
           ]
          ]
         ]
        }
       ],
       "layout": {
        "height": 400,
        "shapes": [
         {
          "line": {
           "color": "sienna",
           "width": 2
          },
          "type": "line",
          "x0": -0.5,
          "x1": 18.5,
          "xref": "x",
          "y0": -0.5,
          "y1": -0.5,
          "yref": "y"
         },
         {
          "line": {
           "color": "sienna",
           "width": 2
          },
          "type": "line",
          "x0": -0.5,
          "x1": 18.5,
          "xref": "x",
          "y0": 0.5,
          "y1": 0.5,
          "yref": "y"
         },
         {
          "line": {
           "color": "sienna",
           "width": 2
          },
          "type": "line",
          "x0": -0.5,
          "x1": 18.5,
          "xref": "x",
          "y0": 1.5,
          "y1": 1.5,
          "yref": "y"
         },
         {
          "line": {
           "color": "sienna",
           "width": 2
          },
          "type": "line",
          "x0": -0.5,
          "x1": 18.5,
          "xref": "x",
          "y0": 2.5,
          "y1": 2.5,
          "yref": "y"
         },
         {
          "line": {
           "color": "sienna",
           "width": 2
          },
          "type": "line",
          "x0": -0.5,
          "x1": 18.5,
          "xref": "x",
          "y0": 3.5,
          "y1": 3.5,
          "yref": "y"
         },
         {
          "line": {
           "color": "sienna",
           "width": 2
          },
          "type": "line",
          "x0": -0.5,
          "x1": 18.5,
          "xref": "x",
          "y0": 4.5,
          "y1": 4.5,
          "yref": "y"
         },
         {
          "line": {
           "color": "sienna",
           "width": 2
          },
          "type": "line",
          "x0": -0.5,
          "x1": 18.5,
          "xref": "x",
          "y0": 5.5,
          "y1": 5.5,
          "yref": "y"
         },
         {
          "line": {
           "color": "sienna",
           "width": 2
          },
          "type": "line",
          "x0": -0.5,
          "x1": 18.5,
          "xref": "x",
          "y0": 6.5,
          "y1": 6.5,
          "yref": "y"
         },
         {
          "line": {
           "color": "sienna",
           "width": 2
          },
          "type": "line",
          "x0": -0.5,
          "x1": 18.5,
          "xref": "x",
          "y0": 7.5,
          "y1": 7.5,
          "yref": "y"
         },
         {
          "line": {
           "color": "sienna",
           "width": 2
          },
          "type": "line",
          "x0": -0.5,
          "x1": 18.5,
          "xref": "x",
          "y0": 8.5,
          "y1": 8.5,
          "yref": "y"
         },
         {
          "line": {
           "color": "sienna",
           "width": 2
          },
          "type": "line",
          "x0": -0.5,
          "x1": 18.5,
          "xref": "x",
          "y0": 9.5,
          "y1": 9.5,
          "yref": "y"
         },
         {
          "line": {
           "color": "sienna",
           "width": 2
          },
          "type": "line",
          "x0": -0.5,
          "x1": 18.5,
          "xref": "x",
          "y0": 10.5,
          "y1": 10.5,
          "yref": "y"
         },
         {
          "line": {
           "color": "sienna",
           "width": 2
          },
          "type": "line",
          "x0": -0.5,
          "x1": 18.5,
          "xref": "x",
          "y0": 11.5,
          "y1": 11.5,
          "yref": "y"
         },
         {
          "line": {
           "color": "sienna",
           "width": 2
          },
          "type": "line",
          "x0": -0.5,
          "x1": 18.5,
          "xref": "x",
          "y0": 12.5,
          "y1": 12.5,
          "yref": "y"
         },
         {
          "line": {
           "color": "sienna",
           "width": 2
          },
          "type": "line",
          "x0": -0.5,
          "x1": 18.5,
          "xref": "x",
          "y0": 13.5,
          "y1": 13.5,
          "yref": "y"
         },
         {
          "line": {
           "color": "sienna",
           "width": 2
          },
          "type": "line",
          "x0": -0.5,
          "x1": 18.5,
          "xref": "x",
          "y0": 14.5,
          "y1": 14.5,
          "yref": "y"
         },
         {
          "line": {
           "color": "sienna",
           "width": 2
          },
          "type": "line",
          "x0": -0.5,
          "x1": 18.5,
          "xref": "x",
          "y0": 15.5,
          "y1": 15.5,
          "yref": "y"
         },
         {
          "line": {
           "color": "sienna",
           "width": 2
          },
          "type": "line",
          "x0": -0.5,
          "x1": 18.5,
          "xref": "x",
          "y0": 16.5,
          "y1": 16.5,
          "yref": "y"
         },
         {
          "line": {
           "color": "sienna",
           "width": 2
          },
          "type": "line",
          "x0": -0.5,
          "x1": -0.5,
          "xref": "x",
          "y0": -0.5,
          "y1": 17.5,
          "yref": "y"
         },
         {
          "line": {
           "color": "sienna",
           "width": 2
          },
          "type": "line",
          "x0": 0.5,
          "x1": 0.5,
          "xref": "x",
          "y0": -0.5,
          "y1": 17.5,
          "yref": "y"
         },
         {
          "line": {
           "color": "sienna",
           "width": 2
          },
          "type": "line",
          "x0": 1.5,
          "x1": 1.5,
          "xref": "x",
          "y0": -0.5,
          "y1": 17.5,
          "yref": "y"
         },
         {
          "line": {
           "color": "sienna",
           "width": 2
          },
          "type": "line",
          "x0": 2.5,
          "x1": 2.5,
          "xref": "x",
          "y0": -0.5,
          "y1": 17.5,
          "yref": "y"
         },
         {
          "line": {
           "color": "sienna",
           "width": 2
          },
          "type": "line",
          "x0": 3.5,
          "x1": 3.5,
          "xref": "x",
          "y0": -0.5,
          "y1": 17.5,
          "yref": "y"
         },
         {
          "line": {
           "color": "sienna",
           "width": 2
          },
          "type": "line",
          "x0": 4.5,
          "x1": 4.5,
          "xref": "x",
          "y0": -0.5,
          "y1": 17.5,
          "yref": "y"
         },
         {
          "line": {
           "color": "sienna",
           "width": 2
          },
          "type": "line",
          "x0": 5.5,
          "x1": 5.5,
          "xref": "x",
          "y0": -0.5,
          "y1": 17.5,
          "yref": "y"
         },
         {
          "line": {
           "color": "sienna",
           "width": 2
          },
          "type": "line",
          "x0": 6.5,
          "x1": 6.5,
          "xref": "x",
          "y0": -0.5,
          "y1": 17.5,
          "yref": "y"
         },
         {
          "line": {
           "color": "sienna",
           "width": 2
          },
          "type": "line",
          "x0": 7.5,
          "x1": 7.5,
          "xref": "x",
          "y0": -0.5,
          "y1": 17.5,
          "yref": "y"
         },
         {
          "line": {
           "color": "sienna",
           "width": 2
          },
          "type": "line",
          "x0": 8.5,
          "x1": 8.5,
          "xref": "x",
          "y0": -0.5,
          "y1": 17.5,
          "yref": "y"
         },
         {
          "line": {
           "color": "sienna",
           "width": 2
          },
          "type": "line",
          "x0": 9.5,
          "x1": 9.5,
          "xref": "x",
          "y0": -0.5,
          "y1": 17.5,
          "yref": "y"
         },
         {
          "line": {
           "color": "sienna",
           "width": 2
          },
          "type": "line",
          "x0": 10.5,
          "x1": 10.5,
          "xref": "x",
          "y0": -0.5,
          "y1": 17.5,
          "yref": "y"
         },
         {
          "line": {
           "color": "sienna",
           "width": 2
          },
          "type": "line",
          "x0": 11.5,
          "x1": 11.5,
          "xref": "x",
          "y0": -0.5,
          "y1": 17.5,
          "yref": "y"
         },
         {
          "line": {
           "color": "sienna",
           "width": 2
          },
          "type": "line",
          "x0": 12.5,
          "x1": 12.5,
          "xref": "x",
          "y0": -0.5,
          "y1": 17.5,
          "yref": "y"
         },
         {
          "line": {
           "color": "sienna",
           "width": 2
          },
          "type": "line",
          "x0": 13.5,
          "x1": 13.5,
          "xref": "x",
          "y0": -0.5,
          "y1": 17.5,
          "yref": "y"
         },
         {
          "line": {
           "color": "sienna",
           "width": 2
          },
          "type": "line",
          "x0": 14.5,
          "x1": 14.5,
          "xref": "x",
          "y0": -0.5,
          "y1": 17.5,
          "yref": "y"
         },
         {
          "line": {
           "color": "sienna",
           "width": 2
          },
          "type": "line",
          "x0": 15.5,
          "x1": 15.5,
          "xref": "x",
          "y0": -0.5,
          "y1": 17.5,
          "yref": "y"
         },
         {
          "line": {
           "color": "sienna",
           "width": 2
          },
          "type": "line",
          "x0": 16.5,
          "x1": 16.5,
          "xref": "x",
          "y0": -0.5,
          "y1": 17.5,
          "yref": "y"
         },
         {
          "line": {
           "color": "sienna",
           "width": 2
          },
          "type": "line",
          "x0": 17.5,
          "x1": 17.5,
          "xref": "x",
          "y0": -0.5,
          "y1": 17.5,
          "yref": "y"
         },
         {
          "line": {
           "color": "sienna",
           "width": 2
          },
          "type": "line",
          "x0": -0.5,
          "x1": 6.5,
          "xref": "x2",
          "y0": -0.5,
          "y1": -0.5,
          "yref": "y2"
         },
         {
          "line": {
           "color": "sienna",
           "width": 2
          },
          "type": "line",
          "x0": -0.5,
          "x1": 6.5,
          "xref": "x2",
          "y0": 0.5,
          "y1": 0.5,
          "yref": "y2"
         },
         {
          "line": {
           "color": "sienna",
           "width": 2
          },
          "type": "line",
          "x0": -0.5,
          "x1": 6.5,
          "xref": "x2",
          "y0": 1.5,
          "y1": 1.5,
          "yref": "y2"
         },
         {
          "line": {
           "color": "sienna",
           "width": 2
          },
          "type": "line",
          "x0": -0.5,
          "x1": 6.5,
          "xref": "x2",
          "y0": 2.5,
          "y1": 2.5,
          "yref": "y2"
         },
         {
          "line": {
           "color": "sienna",
           "width": 2
          },
          "type": "line",
          "x0": -0.5,
          "x1": 6.5,
          "xref": "x2",
          "y0": 3.5,
          "y1": 3.5,
          "yref": "y2"
         },
         {
          "line": {
           "color": "sienna",
           "width": 2
          },
          "type": "line",
          "x0": -0.5,
          "x1": 6.5,
          "xref": "x2",
          "y0": 4.5,
          "y1": 4.5,
          "yref": "y2"
         },
         {
          "line": {
           "color": "sienna",
           "width": 2
          },
          "type": "line",
          "x0": -0.5,
          "x1": 6.5,
          "xref": "x2",
          "y0": 5.5,
          "y1": 5.5,
          "yref": "y2"
         },
         {
          "line": {
           "color": "sienna",
           "width": 2
          },
          "type": "line",
          "x0": -0.5,
          "x1": -0.5,
          "xref": "x2",
          "y0": -0.5,
          "y1": 6.5,
          "yref": "y2"
         },
         {
          "line": {
           "color": "sienna",
           "width": 2
          },
          "type": "line",
          "x0": 0.5,
          "x1": 0.5,
          "xref": "x2",
          "y0": -0.5,
          "y1": 6.5,
          "yref": "y2"
         },
         {
          "line": {
           "color": "sienna",
           "width": 2
          },
          "type": "line",
          "x0": 1.5,
          "x1": 1.5,
          "xref": "x2",
          "y0": -0.5,
          "y1": 6.5,
          "yref": "y2"
         },
         {
          "line": {
           "color": "sienna",
           "width": 2
          },
          "type": "line",
          "x0": 2.5,
          "x1": 2.5,
          "xref": "x2",
          "y0": -0.5,
          "y1": 6.5,
          "yref": "y2"
         },
         {
          "line": {
           "color": "sienna",
           "width": 2
          },
          "type": "line",
          "x0": 3.5,
          "x1": 3.5,
          "xref": "x2",
          "y0": -0.5,
          "y1": 6.5,
          "yref": "y2"
         },
         {
          "line": {
           "color": "sienna",
           "width": 2
          },
          "type": "line",
          "x0": 4.5,
          "x1": 4.5,
          "xref": "x2",
          "y0": -0.5,
          "y1": 6.5,
          "yref": "y2"
         },
         {
          "line": {
           "color": "sienna",
           "width": 2
          },
          "type": "line",
          "x0": 5.5,
          "x1": 5.5,
          "xref": "x2",
          "y0": -0.5,
          "y1": 6.5,
          "yref": "y2"
         }
        ],
        "template": {
         "data": {
          "bar": [
           {
            "error_x": {
             "color": "#2a3f5f"
            },
            "error_y": {
             "color": "#2a3f5f"
            },
            "marker": {
             "line": {
              "color": "#E5ECF6",
              "width": 0.5
             },
             "pattern": {
              "fillmode": "overlay",
              "size": 10,
              "solidity": 0.2
             }
            },
            "type": "bar"
           }
          ],
          "barpolar": [
           {
            "marker": {
             "line": {
              "color": "#E5ECF6",
              "width": 0.5
             },
             "pattern": {
              "fillmode": "overlay",
              "size": 10,
              "solidity": 0.2
             }
            },
            "type": "barpolar"
           }
          ],
          "carpet": [
           {
            "aaxis": {
             "endlinecolor": "#2a3f5f",
             "gridcolor": "white",
             "linecolor": "white",
             "minorgridcolor": "white",
             "startlinecolor": "#2a3f5f"
            },
            "baxis": {
             "endlinecolor": "#2a3f5f",
             "gridcolor": "white",
             "linecolor": "white",
             "minorgridcolor": "white",
             "startlinecolor": "#2a3f5f"
            },
            "type": "carpet"
           }
          ],
          "choropleth": [
           {
            "colorbar": {
             "outlinewidth": 0,
             "ticks": ""
            },
            "type": "choropleth"
           }
          ],
          "contour": [
           {
            "colorbar": {
             "outlinewidth": 0,
             "ticks": ""
            },
            "colorscale": [
             [
              0,
              "#0d0887"
             ],
             [
              0.1111111111111111,
              "#46039f"
             ],
             [
              0.2222222222222222,
              "#7201a8"
             ],
             [
              0.3333333333333333,
              "#9c179e"
             ],
             [
              0.4444444444444444,
              "#bd3786"
             ],
             [
              0.5555555555555556,
              "#d8576b"
             ],
             [
              0.6666666666666666,
              "#ed7953"
             ],
             [
              0.7777777777777778,
              "#fb9f3a"
             ],
             [
              0.8888888888888888,
              "#fdca26"
             ],
             [
              1,
              "#f0f921"
             ]
            ],
            "type": "contour"
           }
          ],
          "contourcarpet": [
           {
            "colorbar": {
             "outlinewidth": 0,
             "ticks": ""
            },
            "type": "contourcarpet"
           }
          ],
          "heatmap": [
           {
            "colorbar": {
             "outlinewidth": 0,
             "ticks": ""
            },
            "colorscale": [
             [
              0,
              "#0d0887"
             ],
             [
              0.1111111111111111,
              "#46039f"
             ],
             [
              0.2222222222222222,
              "#7201a8"
             ],
             [
              0.3333333333333333,
              "#9c179e"
             ],
             [
              0.4444444444444444,
              "#bd3786"
             ],
             [
              0.5555555555555556,
              "#d8576b"
             ],
             [
              0.6666666666666666,
              "#ed7953"
             ],
             [
              0.7777777777777778,
              "#fb9f3a"
             ],
             [
              0.8888888888888888,
              "#fdca26"
             ],
             [
              1,
              "#f0f921"
             ]
            ],
            "type": "heatmap"
           }
          ],
          "heatmapgl": [
           {
            "colorbar": {
             "outlinewidth": 0,
             "ticks": ""
            },
            "colorscale": [
             [
              0,
              "#0d0887"
             ],
             [
              0.1111111111111111,
              "#46039f"
             ],
             [
              0.2222222222222222,
              "#7201a8"
             ],
             [
              0.3333333333333333,
              "#9c179e"
             ],
             [
              0.4444444444444444,
              "#bd3786"
             ],
             [
              0.5555555555555556,
              "#d8576b"
             ],
             [
              0.6666666666666666,
              "#ed7953"
             ],
             [
              0.7777777777777778,
              "#fb9f3a"
             ],
             [
              0.8888888888888888,
              "#fdca26"
             ],
             [
              1,
              "#f0f921"
             ]
            ],
            "type": "heatmapgl"
           }
          ],
          "histogram": [
           {
            "marker": {
             "pattern": {
              "fillmode": "overlay",
              "size": 10,
              "solidity": 0.2
             }
            },
            "type": "histogram"
           }
          ],
          "histogram2d": [
           {
            "colorbar": {
             "outlinewidth": 0,
             "ticks": ""
            },
            "colorscale": [
             [
              0,
              "#0d0887"
             ],
             [
              0.1111111111111111,
              "#46039f"
             ],
             [
              0.2222222222222222,
              "#7201a8"
             ],
             [
              0.3333333333333333,
              "#9c179e"
             ],
             [
              0.4444444444444444,
              "#bd3786"
             ],
             [
              0.5555555555555556,
              "#d8576b"
             ],
             [
              0.6666666666666666,
              "#ed7953"
             ],
             [
              0.7777777777777778,
              "#fb9f3a"
             ],
             [
              0.8888888888888888,
              "#fdca26"
             ],
             [
              1,
              "#f0f921"
             ]
            ],
            "type": "histogram2d"
           }
          ],
          "histogram2dcontour": [
           {
            "colorbar": {
             "outlinewidth": 0,
             "ticks": ""
            },
            "colorscale": [
             [
              0,
              "#0d0887"
             ],
             [
              0.1111111111111111,
              "#46039f"
             ],
             [
              0.2222222222222222,
              "#7201a8"
             ],
             [
              0.3333333333333333,
              "#9c179e"
             ],
             [
              0.4444444444444444,
              "#bd3786"
             ],
             [
              0.5555555555555556,
              "#d8576b"
             ],
             [
              0.6666666666666666,
              "#ed7953"
             ],
             [
              0.7777777777777778,
              "#fb9f3a"
             ],
             [
              0.8888888888888888,
              "#fdca26"
             ],
             [
              1,
              "#f0f921"
             ]
            ],
            "type": "histogram2dcontour"
           }
          ],
          "mesh3d": [
           {
            "colorbar": {
             "outlinewidth": 0,
             "ticks": ""
            },
            "type": "mesh3d"
           }
          ],
          "parcoords": [
           {
            "line": {
             "colorbar": {
              "outlinewidth": 0,
              "ticks": ""
             }
            },
            "type": "parcoords"
           }
          ],
          "pie": [
           {
            "automargin": true,
            "type": "pie"
           }
          ],
          "scatter": [
           {
            "fillpattern": {
             "fillmode": "overlay",
             "size": 10,
             "solidity": 0.2
            },
            "type": "scatter"
           }
          ],
          "scatter3d": [
           {
            "line": {
             "colorbar": {
              "outlinewidth": 0,
              "ticks": ""
             }
            },
            "marker": {
             "colorbar": {
              "outlinewidth": 0,
              "ticks": ""
             }
            },
            "type": "scatter3d"
           }
          ],
          "scattercarpet": [
           {
            "marker": {
             "colorbar": {
              "outlinewidth": 0,
              "ticks": ""
             }
            },
            "type": "scattercarpet"
           }
          ],
          "scattergeo": [
           {
            "marker": {
             "colorbar": {
              "outlinewidth": 0,
              "ticks": ""
             }
            },
            "type": "scattergeo"
           }
          ],
          "scattergl": [
           {
            "marker": {
             "colorbar": {
              "outlinewidth": 0,
              "ticks": ""
             }
            },
            "type": "scattergl"
           }
          ],
          "scattermapbox": [
           {
            "marker": {
             "colorbar": {
              "outlinewidth": 0,
              "ticks": ""
             }
            },
            "type": "scattermapbox"
           }
          ],
          "scatterpolar": [
           {
            "marker": {
             "colorbar": {
              "outlinewidth": 0,
              "ticks": ""
             }
            },
            "type": "scatterpolar"
           }
          ],
          "scatterpolargl": [
           {
            "marker": {
             "colorbar": {
              "outlinewidth": 0,
              "ticks": ""
             }
            },
            "type": "scatterpolargl"
           }
          ],
          "scatterternary": [
           {
            "marker": {
             "colorbar": {
              "outlinewidth": 0,
              "ticks": ""
             }
            },
            "type": "scatterternary"
           }
          ],
          "surface": [
           {
            "colorbar": {
             "outlinewidth": 0,
             "ticks": ""
            },
            "colorscale": [
             [
              0,
              "#0d0887"
             ],
             [
              0.1111111111111111,
              "#46039f"
             ],
             [
              0.2222222222222222,
              "#7201a8"
             ],
             [
              0.3333333333333333,
              "#9c179e"
             ],
             [
              0.4444444444444444,
              "#bd3786"
             ],
             [
              0.5555555555555556,
              "#d8576b"
             ],
             [
              0.6666666666666666,
              "#ed7953"
             ],
             [
              0.7777777777777778,
              "#fb9f3a"
             ],
             [
              0.8888888888888888,
              "#fdca26"
             ],
             [
              1,
              "#f0f921"
             ]
            ],
            "type": "surface"
           }
          ],
          "table": [
           {
            "cells": {
             "fill": {
              "color": "#EBF0F8"
             },
             "line": {
              "color": "white"
             }
            },
            "header": {
             "fill": {
              "color": "#C8D4E3"
             },
             "line": {
              "color": "white"
             }
            },
            "type": "table"
           }
          ]
         },
         "layout": {
          "annotationdefaults": {
           "arrowcolor": "#2a3f5f",
           "arrowhead": 0,
           "arrowwidth": 1
          },
          "autotypenumbers": "strict",
          "coloraxis": {
           "colorbar": {
            "outlinewidth": 0,
            "ticks": ""
           }
          },
          "colorscale": {
           "diverging": [
            [
             0,
             "#8e0152"
            ],
            [
             0.1,
             "#c51b7d"
            ],
            [
             0.2,
             "#de77ae"
            ],
            [
             0.3,
             "#f1b6da"
            ],
            [
             0.4,
             "#fde0ef"
            ],
            [
             0.5,
             "#f7f7f7"
            ],
            [
             0.6,
             "#e6f5d0"
            ],
            [
             0.7,
             "#b8e186"
            ],
            [
             0.8,
             "#7fbc41"
            ],
            [
             0.9,
             "#4d9221"
            ],
            [
             1,
             "#276419"
            ]
           ],
           "sequential": [
            [
             0,
             "#0d0887"
            ],
            [
             0.1111111111111111,
             "#46039f"
            ],
            [
             0.2222222222222222,
             "#7201a8"
            ],
            [
             0.3333333333333333,
             "#9c179e"
            ],
            [
             0.4444444444444444,
             "#bd3786"
            ],
            [
             0.5555555555555556,
             "#d8576b"
            ],
            [
             0.6666666666666666,
             "#ed7953"
            ],
            [
             0.7777777777777778,
             "#fb9f3a"
            ],
            [
             0.8888888888888888,
             "#fdca26"
            ],
            [
             1,
             "#f0f921"
            ]
           ],
           "sequentialminus": [
            [
             0,
             "#0d0887"
            ],
            [
             0.1111111111111111,
             "#46039f"
            ],
            [
             0.2222222222222222,
             "#7201a8"
            ],
            [
             0.3333333333333333,
             "#9c179e"
            ],
            [
             0.4444444444444444,
             "#bd3786"
            ],
            [
             0.5555555555555556,
             "#d8576b"
            ],
            [
             0.6666666666666666,
             "#ed7953"
            ],
            [
             0.7777777777777778,
             "#fb9f3a"
            ],
            [
             0.8888888888888888,
             "#fdca26"
            ],
            [
             1,
             "#f0f921"
            ]
           ]
          },
          "colorway": [
           "#636efa",
           "#EF553B",
           "#00cc96",
           "#ab63fa",
           "#FFA15A",
           "#19d3f3",
           "#FF6692",
           "#B6E880",
           "#FF97FF",
           "#FECB52"
          ],
          "font": {
           "color": "#2a3f5f"
          },
          "geo": {
           "bgcolor": "white",
           "lakecolor": "white",
           "landcolor": "#E5ECF6",
           "showlakes": true,
           "showland": true,
           "subunitcolor": "white"
          },
          "hoverlabel": {
           "align": "left"
          },
          "hovermode": "closest",
          "mapbox": {
           "style": "light"
          },
          "paper_bgcolor": "white",
          "plot_bgcolor": "#E5ECF6",
          "polar": {
           "angularaxis": {
            "gridcolor": "white",
            "linecolor": "white",
            "ticks": ""
           },
           "bgcolor": "#E5ECF6",
           "radialaxis": {
            "gridcolor": "white",
            "linecolor": "white",
            "ticks": ""
           }
          },
          "scene": {
           "xaxis": {
            "backgroundcolor": "#E5ECF6",
            "gridcolor": "white",
            "gridwidth": 2,
            "linecolor": "white",
            "showbackground": true,
            "ticks": "",
            "zerolinecolor": "white"
           },
           "yaxis": {
            "backgroundcolor": "#E5ECF6",
            "gridcolor": "white",
            "gridwidth": 2,
            "linecolor": "white",
            "showbackground": true,
            "ticks": "",
            "zerolinecolor": "white"
           },
           "zaxis": {
            "backgroundcolor": "#E5ECF6",
            "gridcolor": "white",
            "gridwidth": 2,
            "linecolor": "white",
            "showbackground": true,
            "ticks": "",
            "zerolinecolor": "white"
           }
          },
          "shapedefaults": {
           "line": {
            "color": "#2a3f5f"
           }
          },
          "ternary": {
           "aaxis": {
            "gridcolor": "white",
            "linecolor": "white",
            "ticks": ""
           },
           "baxis": {
            "gridcolor": "white",
            "linecolor": "white",
            "ticks": ""
           },
           "bgcolor": "#E5ECF6",
           "caxis": {
            "gridcolor": "white",
            "linecolor": "white",
            "ticks": ""
           }
          },
          "title": {
           "x": 0.05
          },
          "xaxis": {
           "automargin": true,
           "gridcolor": "white",
           "linecolor": "white",
           "ticks": "",
           "title": {
            "standoff": 15
           },
           "zerolinecolor": "white",
           "zerolinewidth": 2
          },
          "yaxis": {
           "automargin": true,
           "gridcolor": "white",
           "linecolor": "white",
           "ticks": "",
           "title": {
            "standoff": 15
           },
           "zerolinecolor": "white",
           "zerolinewidth": 2
          }
         }
        },
        "xaxis": {
         "anchor": "y",
         "domain": [
          0,
          0.45
         ]
        },
        "xaxis2": {
         "anchor": "y2",
         "domain": [
          0.55,
          1
         ]
        },
        "yaxis": {
         "anchor": "x",
         "domain": [
          0,
          1
         ]
        },
        "yaxis2": {
         "anchor": "x2",
         "domain": [
          0,
          1
         ]
        }
       }
      }
     },
     "metadata": {},
     "output_type": "display_data"
    },
    {
     "name": "stdout",
     "output_type": "stream",
     "text": [
      "8e1813be-train\n"
     ]
    },
    {
     "data": {
      "application/vnd.plotly.v1+json": {
       "config": {
        "plotlyServerURL": "https://plot.ly"
       },
       "data": [
        {
         "type": "image",
         "xaxis": "x",
         "yaxis": "y",
         "z": [
          [
           [
            0,
            0,
            0
           ],
           [
            0,
            0,
            0
           ],
           [
            0,
            0,
            0
           ],
           [
            0,
            0,
            0
           ],
           [
            0,
            0,
            0
           ],
           [
            0,
            0,
            0
           ],
           [
            0,
            0,
            0
           ],
           [
            0,
            0,
            0
           ],
           [
            0,
            0,
            0
           ],
           [
            0,
            0,
            0
           ],
           [
            0,
            0,
            0
           ],
           [
            0,
            0,
            0
           ],
           [
            0,
            0,
            0
           ],
           [
            0,
            0,
            0
           ],
           [
            0,
            0,
            0
           ]
          ],
          [
           [
            0,
            0,
            0
           ],
           [
            0,
            0,
            0
           ],
           [
            0,
            0,
            0
           ],
           [
            0,
            0,
            0
           ],
           [
            0,
            0,
            0
           ],
           [
            0,
            0,
            0
           ],
           [
            0,
            0,
            0
           ],
           [
            0,
            0,
            0
           ],
           [
            0,
            0,
            0
           ],
           [
            0,
            0,
            0
           ],
           [
            0,
            0,
            0
           ],
           [
            0,
            0,
            0
           ],
           [
            0,
            0,
            0
           ],
           [
            0,
            0,
            0
           ],
           [
            0,
            0,
            0
           ]
          ],
          [
           [
            255,
            65,
            54
           ],
           [
            255,
            65,
            54
           ],
           [
            255,
            65,
            54
           ],
           [
            255,
            65,
            54
           ],
           [
            255,
            65,
            54
           ],
           [
            255,
            65,
            54
           ],
           [
            255,
            65,
            54
           ],
           [
            255,
            65,
            54
           ],
           [
            255,
            65,
            54
           ],
           [
            255,
            65,
            54
           ],
           [
            255,
            65,
            54
           ],
           [
            255,
            65,
            54
           ],
           [
            255,
            65,
            54
           ],
           [
            255,
            65,
            54
           ],
           [
            255,
            65,
            54
           ]
          ],
          [
           [
            0,
            0,
            0
           ],
           [
            0,
            0,
            0
           ],
           [
            0,
            0,
            0
           ],
           [
            0,
            0,
            0
           ],
           [
            0,
            0,
            0
           ],
           [
            0,
            0,
            0
           ],
           [
            0,
            0,
            0
           ],
           [
            0,
            0,
            0
           ],
           [
            0,
            0,
            0
           ],
           [
            0,
            0,
            0
           ],
           [
            0,
            0,
            0
           ],
           [
            0,
            0,
            0
           ],
           [
            0,
            0,
            0
           ],
           [
            0,
            0,
            0
           ],
           [
            0,
            0,
            0
           ]
          ],
          [
           [
            0,
            0,
            0
           ],
           [
            0,
            0,
            0
           ],
           [
            0,
            0,
            0
           ],
           [
            0,
            0,
            0
           ],
           [
            0,
            0,
            0
           ],
           [
            0,
            0,
            0
           ],
           [
            0,
            0,
            0
           ],
           [
            0,
            0,
            0
           ],
           [
            0,
            0,
            0
           ],
           [
            0,
            0,
            0
           ],
           [
            0,
            0,
            0
           ],
           [
            0,
            0,
            0
           ],
           [
            0,
            0,
            0
           ],
           [
            0,
            0,
            0
           ],
           [
            0,
            0,
            0
           ]
          ],
          [
           [
            37,
            150,
            190
           ],
           [
            37,
            150,
            190
           ],
           [
            37,
            150,
            190
           ],
           [
            37,
            150,
            190
           ],
           [
            37,
            150,
            190
           ],
           [
            37,
            150,
            190
           ],
           [
            37,
            150,
            190
           ],
           [
            37,
            150,
            190
           ],
           [
            37,
            150,
            190
           ],
           [
            37,
            150,
            190
           ],
           [
            37,
            150,
            190
           ],
           [
            37,
            150,
            190
           ],
           [
            37,
            150,
            190
           ],
           [
            37,
            150,
            190
           ],
           [
            37,
            150,
            190
           ]
          ],
          [
           [
            0,
            0,
            0
           ],
           [
            0,
            0,
            0
           ],
           [
            0,
            0,
            0
           ],
           [
            0,
            0,
            0
           ],
           [
            0,
            0,
            0
           ],
           [
            0,
            0,
            0
           ],
           [
            0,
            0,
            0
           ],
           [
            0,
            0,
            0
           ],
           [
            0,
            0,
            0
           ],
           [
            0,
            0,
            0
           ],
           [
            0,
            0,
            0
           ],
           [
            0,
            0,
            0
           ],
           [
            0,
            0,
            0
           ],
           [
            0,
            0,
            0
           ],
           [
            0,
            0,
            0
           ]
          ],
          [
           [
            0,
            0,
            0
           ],
           [
            0,
            0,
            0
           ],
           [
            0,
            0,
            0
           ],
           [
            0,
            0,
            0
           ],
           [
            0,
            0,
            0
           ],
           [
            0,
            0,
            0
           ],
           [
            0,
            0,
            0
           ],
           [
            0,
            0,
            0
           ],
           [
            0,
            0,
            0
           ],
           [
            0,
            0,
            0
           ],
           [
            0,
            0,
            0
           ],
           [
            0,
            0,
            0
           ],
           [
            0,
            0,
            0
           ],
           [
            0,
            0,
            0
           ],
           [
            0,
            0,
            0
           ]
          ],
          [
           [
            46,
            204,
            64
           ],
           [
            46,
            204,
            64
           ],
           [
            46,
            204,
            64
           ],
           [
            46,
            204,
            64
           ],
           [
            46,
            204,
            64
           ],
           [
            46,
            204,
            64
           ],
           [
            46,
            204,
            64
           ],
           [
            46,
            204,
            64
           ],
           [
            46,
            204,
            64
           ],
           [
            46,
            204,
            64
           ],
           [
            46,
            204,
            64
           ],
           [
            46,
            204,
            64
           ],
           [
            46,
            204,
            64
           ],
           [
            46,
            204,
            64
           ],
           [
            46,
            204,
            64
           ]
          ],
          [
           [
            0,
            0,
            0
           ],
           [
            0,
            0,
            0
           ],
           [
            0,
            0,
            0
           ],
           [
            0,
            0,
            0
           ],
           [
            0,
            0,
            0
           ],
           [
            0,
            0,
            0
           ],
           [
            0,
            0,
            0
           ],
           [
            0,
            0,
            0
           ],
           [
            0,
            0,
            0
           ],
           [
            0,
            0,
            0
           ],
           [
            0,
            0,
            0
           ],
           [
            0,
            0,
            0
           ],
           [
            0,
            0,
            0
           ],
           [
            0,
            0,
            0
           ],
           [
            0,
            0,
            0
           ]
          ],
          [
           [
            0,
            0,
            0
           ],
           [
            170,
            170,
            170
           ],
           [
            170,
            170,
            170
           ],
           [
            170,
            170,
            170
           ],
           [
            170,
            170,
            170
           ],
           [
            170,
            170,
            170
           ],
           [
            170,
            170,
            170
           ],
           [
            0,
            0,
            0
           ],
           [
            0,
            0,
            0
           ],
           [
            0,
            0,
            0
           ],
           [
            0,
            0,
            0
           ],
           [
            0,
            0,
            0
           ],
           [
            0,
            0,
            0
           ],
           [
            0,
            0,
            0
           ],
           [
            0,
            0,
            0
           ]
          ],
          [
           [
            0,
            0,
            0
           ],
           [
            170,
            170,
            170
           ],
           [
            170,
            170,
            170
           ],
           [
            170,
            170,
            170
           ],
           [
            170,
            170,
            170
           ],
           [
            170,
            170,
            170
           ],
           [
            170,
            170,
            170
           ],
           [
            0,
            0,
            0
           ],
           [
            255,
            220,
            0
           ],
           [
            255,
            220,
            0
           ],
           [
            255,
            220,
            0
           ],
           [
            255,
            220,
            0
           ],
           [
            255,
            220,
            0
           ],
           [
            255,
            220,
            0
           ],
           [
            255,
            220,
            0
           ]
          ],
          [
           [
            0,
            0,
            0
           ],
           [
            170,
            170,
            170
           ],
           [
            170,
            170,
            170
           ],
           [
            170,
            170,
            170
           ],
           [
            170,
            170,
            170
           ],
           [
            170,
            170,
            170
           ],
           [
            170,
            170,
            170
           ],
           [
            0,
            0,
            0
           ],
           [
            0,
            0,
            0
           ],
           [
            0,
            0,
            0
           ],
           [
            0,
            0,
            0
           ],
           [
            0,
            0,
            0
           ],
           [
            0,
            0,
            0
           ],
           [
            0,
            0,
            0
           ],
           [
            0,
            0,
            0
           ]
          ],
          [
           [
            0,
            0,
            0
           ],
           [
            170,
            170,
            170
           ],
           [
            170,
            170,
            170
           ],
           [
            170,
            170,
            170
           ],
           [
            170,
            170,
            170
           ],
           [
            170,
            170,
            170
           ],
           [
            170,
            170,
            170
           ],
           [
            0,
            0,
            0
           ],
           [
            0,
            0,
            0
           ],
           [
            0,
            0,
            0
           ],
           [
            0,
            0,
            0
           ],
           [
            0,
            0,
            0
           ],
           [
            0,
            0,
            0
           ],
           [
            0,
            0,
            0
           ],
           [
            0,
            0,
            0
           ]
          ],
          [
           [
            0,
            0,
            0
           ],
           [
            170,
            170,
            170
           ],
           [
            170,
            170,
            170
           ],
           [
            170,
            170,
            170
           ],
           [
            170,
            170,
            170
           ],
           [
            170,
            170,
            170
           ],
           [
            170,
            170,
            170
           ],
           [
            0,
            0,
            0
           ],
           [
            127,
            219,
            255
           ],
           [
            127,
            219,
            255
           ],
           [
            127,
            219,
            255
           ],
           [
            127,
            219,
            255
           ],
           [
            127,
            219,
            255
           ],
           [
            127,
            219,
            255
           ],
           [
            127,
            219,
            255
           ]
          ],
          [
           [
            0,
            0,
            0
           ],
           [
            170,
            170,
            170
           ],
           [
            170,
            170,
            170
           ],
           [
            170,
            170,
            170
           ],
           [
            170,
            170,
            170
           ],
           [
            170,
            170,
            170
           ],
           [
            170,
            170,
            170
           ],
           [
            0,
            0,
            0
           ],
           [
            0,
            0,
            0
           ],
           [
            0,
            0,
            0
           ],
           [
            0,
            0,
            0
           ],
           [
            0,
            0,
            0
           ],
           [
            0,
            0,
            0
           ],
           [
            0,
            0,
            0
           ],
           [
            0,
            0,
            0
           ]
          ],
          [
           [
            0,
            0,
            0
           ],
           [
            0,
            0,
            0
           ],
           [
            0,
            0,
            0
           ],
           [
            0,
            0,
            0
           ],
           [
            0,
            0,
            0
           ],
           [
            0,
            0,
            0
           ],
           [
            0,
            0,
            0
           ],
           [
            0,
            0,
            0
           ],
           [
            0,
            0,
            0
           ],
           [
            0,
            0,
            0
           ],
           [
            0,
            0,
            0
           ],
           [
            0,
            0,
            0
           ],
           [
            0,
            0,
            0
           ],
           [
            0,
            0,
            0
           ],
           [
            0,
            0,
            0
           ]
          ],
          [
           [
            240,
            18,
            190
           ],
           [
            240,
            18,
            190
           ],
           [
            240,
            18,
            190
           ],
           [
            240,
            18,
            190
           ],
           [
            240,
            18,
            190
           ],
           [
            240,
            18,
            190
           ],
           [
            240,
            18,
            190
           ],
           [
            240,
            18,
            190
           ],
           [
            240,
            18,
            190
           ],
           [
            240,
            18,
            190
           ],
           [
            240,
            18,
            190
           ],
           [
            240,
            18,
            190
           ],
           [
            240,
            18,
            190
           ],
           [
            240,
            18,
            190
           ],
           [
            240,
            18,
            190
           ]
          ]
         ]
        },
        {
         "type": "image",
         "xaxis": "x2",
         "yaxis": "y2",
         "z": [
          [
           [
            255,
            65,
            54
           ],
           [
            255,
            65,
            54
           ],
           [
            255,
            65,
            54
           ],
           [
            255,
            65,
            54
           ],
           [
            255,
            65,
            54
           ],
           [
            255,
            65,
            54
           ]
          ],
          [
           [
            37,
            150,
            190
           ],
           [
            37,
            150,
            190
           ],
           [
            37,
            150,
            190
           ],
           [
            37,
            150,
            190
           ],
           [
            37,
            150,
            190
           ],
           [
            37,
            150,
            190
           ]
          ],
          [
           [
            46,
            204,
            64
           ],
           [
            46,
            204,
            64
           ],
           [
            46,
            204,
            64
           ],
           [
            46,
            204,
            64
           ],
           [
            46,
            204,
            64
           ],
           [
            46,
            204,
            64
           ]
          ],
          [
           [
            255,
            220,
            0
           ],
           [
            255,
            220,
            0
           ],
           [
            255,
            220,
            0
           ],
           [
            255,
            220,
            0
           ],
           [
            255,
            220,
            0
           ],
           [
            255,
            220,
            0
           ]
          ],
          [
           [
            127,
            219,
            255
           ],
           [
            127,
            219,
            255
           ],
           [
            127,
            219,
            255
           ],
           [
            127,
            219,
            255
           ],
           [
            127,
            219,
            255
           ],
           [
            127,
            219,
            255
           ]
          ],
          [
           [
            240,
            18,
            190
           ],
           [
            240,
            18,
            190
           ],
           [
            240,
            18,
            190
           ],
           [
            240,
            18,
            190
           ],
           [
            240,
            18,
            190
           ],
           [
            240,
            18,
            190
           ]
          ]
         ]
        },
        {
         "type": "image",
         "xaxis": "x3",
         "yaxis": "y3",
         "z": [
          [
           [
            0,
            0,
            0
           ],
           [
            0,
            0,
            0
           ],
           [
            0,
            0,
            0
           ],
           [
            0,
            0,
            0
           ],
           [
            0,
            0,
            0
           ],
           [
            255,
            65,
            54
           ],
           [
            0,
            0,
            0
           ],
           [
            0,
            0,
            0
           ],
           [
            255,
            220,
            0
           ],
           [
            0,
            0,
            0
           ]
          ],
          [
           [
            0,
            0,
            0
           ],
           [
            170,
            170,
            170
           ],
           [
            170,
            170,
            170
           ],
           [
            170,
            170,
            170
           ],
           [
            0,
            0,
            0
           ],
           [
            255,
            65,
            54
           ],
           [
            0,
            0,
            0
           ],
           [
            0,
            0,
            0
           ],
           [
            255,
            220,
            0
           ],
           [
            0,
            0,
            0
           ]
          ],
          [
           [
            0,
            0,
            0
           ],
           [
            170,
            170,
            170
           ],
           [
            170,
            170,
            170
           ],
           [
            170,
            170,
            170
           ],
           [
            0,
            0,
            0
           ],
           [
            255,
            65,
            54
           ],
           [
            0,
            0,
            0
           ],
           [
            0,
            0,
            0
           ],
           [
            255,
            220,
            0
           ],
           [
            0,
            0,
            0
           ]
          ],
          [
           [
            0,
            0,
            0
           ],
           [
            170,
            170,
            170
           ],
           [
            170,
            170,
            170
           ],
           [
            170,
            170,
            170
           ],
           [
            0,
            0,
            0
           ],
           [
            255,
            65,
            54
           ],
           [
            0,
            0,
            0
           ],
           [
            0,
            0,
            0
           ],
           [
            255,
            220,
            0
           ],
           [
            0,
            0,
            0
           ]
          ],
          [
           [
            0,
            0,
            0
           ],
           [
            0,
            0,
            0
           ],
           [
            0,
            0,
            0
           ],
           [
            0,
            0,
            0
           ],
           [
            0,
            0,
            0
           ],
           [
            255,
            65,
            54
           ],
           [
            0,
            0,
            0
           ],
           [
            0,
            0,
            0
           ],
           [
            255,
            220,
            0
           ],
           [
            0,
            0,
            0
           ]
          ],
          [
           [
            0,
            0,
            0
           ],
           [
            0,
            0,
            0
           ],
           [
            37,
            150,
            190
           ],
           [
            0,
            0,
            0
           ],
           [
            0,
            0,
            0
           ],
           [
            255,
            65,
            54
           ],
           [
            0,
            0,
            0
           ],
           [
            0,
            0,
            0
           ],
           [
            255,
            220,
            0
           ],
           [
            0,
            0,
            0
           ]
          ],
          [
           [
            0,
            0,
            0
           ],
           [
            0,
            0,
            0
           ],
           [
            37,
            150,
            190
           ],
           [
            0,
            0,
            0
           ],
           [
            0,
            0,
            0
           ],
           [
            255,
            65,
            54
           ],
           [
            0,
            0,
            0
           ],
           [
            0,
            0,
            0
           ],
           [
            255,
            220,
            0
           ],
           [
            0,
            0,
            0
           ]
          ],
          [
           [
            0,
            0,
            0
           ],
           [
            0,
            0,
            0
           ],
           [
            37,
            150,
            190
           ],
           [
            0,
            0,
            0
           ],
           [
            0,
            0,
            0
           ],
           [
            255,
            65,
            54
           ],
           [
            0,
            0,
            0
           ],
           [
            0,
            0,
            0
           ],
           [
            255,
            220,
            0
           ],
           [
            0,
            0,
            0
           ]
          ],
          [
           [
            0,
            0,
            0
           ],
           [
            0,
            0,
            0
           ],
           [
            37,
            150,
            190
           ],
           [
            0,
            0,
            0
           ],
           [
            0,
            0,
            0
           ],
           [
            255,
            65,
            54
           ],
           [
            0,
            0,
            0
           ],
           [
            0,
            0,
            0
           ],
           [
            255,
            220,
            0
           ],
           [
            0,
            0,
            0
           ]
          ],
          [
           [
            0,
            0,
            0
           ],
           [
            0,
            0,
            0
           ],
           [
            37,
            150,
            190
           ],
           [
            0,
            0,
            0
           ],
           [
            0,
            0,
            0
           ],
           [
            255,
            65,
            54
           ],
           [
            0,
            0,
            0
           ],
           [
            0,
            0,
            0
           ],
           [
            255,
            220,
            0
           ],
           [
            0,
            0,
            0
           ]
          ],
          [
           [
            0,
            0,
            0
           ],
           [
            0,
            0,
            0
           ],
           [
            37,
            150,
            190
           ],
           [
            0,
            0,
            0
           ],
           [
            0,
            0,
            0
           ],
           [
            255,
            65,
            54
           ],
           [
            0,
            0,
            0
           ],
           [
            0,
            0,
            0
           ],
           [
            255,
            220,
            0
           ],
           [
            0,
            0,
            0
           ]
          ],
          [
           [
            0,
            0,
            0
           ],
           [
            0,
            0,
            0
           ],
           [
            37,
            150,
            190
           ],
           [
            0,
            0,
            0
           ],
           [
            0,
            0,
            0
           ],
           [
            255,
            65,
            54
           ],
           [
            0,
            0,
            0
           ],
           [
            0,
            0,
            0
           ],
           [
            255,
            220,
            0
           ],
           [
            0,
            0,
            0
           ]
          ]
         ]
        },
        {
         "type": "image",
         "xaxis": "x4",
         "yaxis": "y4",
         "z": [
          [
           [
            37,
            150,
            190
           ],
           [
            255,
            65,
            54
           ],
           [
            255,
            220,
            0
           ]
          ],
          [
           [
            37,
            150,
            190
           ],
           [
            255,
            65,
            54
           ],
           [
            255,
            220,
            0
           ]
          ],
          [
           [
            37,
            150,
            190
           ],
           [
            255,
            65,
            54
           ],
           [
            255,
            220,
            0
           ]
          ]
         ]
        },
        {
         "type": "image",
         "xaxis": "x5",
         "yaxis": "y5",
         "z": [
          [
           [
            0,
            0,
            0
           ],
           [
            0,
            0,
            0
           ],
           [
            0,
            0,
            0
           ],
           [
            0,
            0,
            0
           ],
           [
            0,
            0,
            0
           ],
           [
            0,
            0,
            0
           ],
           [
            0,
            0,
            0
           ],
           [
            0,
            0,
            0
           ],
           [
            0,
            0,
            0
           ],
           [
            0,
            0,
            0
           ],
           [
            0,
            0,
            0
           ],
           [
            0,
            0,
            0
           ]
          ],
          [
           [
            255,
            65,
            54
           ],
           [
            255,
            65,
            54
           ],
           [
            255,
            65,
            54
           ],
           [
            255,
            65,
            54
           ],
           [
            255,
            65,
            54
           ],
           [
            0,
            0,
            0
           ],
           [
            170,
            170,
            170
           ],
           [
            170,
            170,
            170
           ],
           [
            170,
            170,
            170
           ],
           [
            170,
            170,
            170
           ],
           [
            0,
            0,
            0
           ],
           [
            255,
            65,
            54
           ]
          ],
          [
           [
            0,
            0,
            0
           ],
           [
            0,
            0,
            0
           ],
           [
            0,
            0,
            0
           ],
           [
            0,
            0,
            0
           ],
           [
            0,
            0,
            0
           ],
           [
            0,
            0,
            0
           ],
           [
            170,
            170,
            170
           ],
           [
            170,
            170,
            170
           ],
           [
            170,
            170,
            170
           ],
           [
            170,
            170,
            170
           ],
           [
            0,
            0,
            0
           ],
           [
            0,
            0,
            0
           ]
          ],
          [
           [
            0,
            0,
            0
           ],
           [
            0,
            0,
            0
           ],
           [
            0,
            0,
            0
           ],
           [
            0,
            0,
            0
           ],
           [
            0,
            0,
            0
           ],
           [
            0,
            0,
            0
           ],
           [
            170,
            170,
            170
           ],
           [
            170,
            170,
            170
           ],
           [
            170,
            170,
            170
           ],
           [
            170,
            170,
            170
           ],
           [
            0,
            0,
            0
           ],
           [
            0,
            0,
            0
           ]
          ],
          [
           [
            127,
            219,
            255
           ],
           [
            127,
            219,
            255
           ],
           [
            127,
            219,
            255
           ],
           [
            127,
            219,
            255
           ],
           [
            127,
            219,
            255
           ],
           [
            0,
            0,
            0
           ],
           [
            170,
            170,
            170
           ],
           [
            170,
            170,
            170
           ],
           [
            170,
            170,
            170
           ],
           [
            170,
            170,
            170
           ],
           [
            0,
            0,
            0
           ],
           [
            127,
            219,
            255
           ]
          ],
          [
           [
            0,
            0,
            0
           ],
           [
            0,
            0,
            0
           ],
           [
            0,
            0,
            0
           ],
           [
            0,
            0,
            0
           ],
           [
            0,
            0,
            0
           ],
           [
            0,
            0,
            0
           ],
           [
            0,
            0,
            0
           ],
           [
            0,
            0,
            0
           ],
           [
            0,
            0,
            0
           ],
           [
            0,
            0,
            0
           ],
           [
            0,
            0,
            0
           ],
           [
            0,
            0,
            0
           ]
          ],
          [
           [
            0,
            0,
            0
           ],
           [
            0,
            0,
            0
           ],
           [
            0,
            0,
            0
           ],
           [
            0,
            0,
            0
           ],
           [
            0,
            0,
            0
           ],
           [
            0,
            0,
            0
           ],
           [
            0,
            0,
            0
           ],
           [
            0,
            0,
            0
           ],
           [
            0,
            0,
            0
           ],
           [
            0,
            0,
            0
           ],
           [
            0,
            0,
            0
           ],
           [
            0,
            0,
            0
           ]
          ],
          [
           [
            255,
            220,
            0
           ],
           [
            255,
            220,
            0
           ],
           [
            255,
            220,
            0
           ],
           [
            255,
            220,
            0
           ],
           [
            255,
            220,
            0
           ],
           [
            255,
            220,
            0
           ],
           [
            255,
            220,
            0
           ],
           [
            255,
            220,
            0
           ],
           [
            255,
            220,
            0
           ],
           [
            255,
            220,
            0
           ],
           [
            255,
            220,
            0
           ],
           [
            255,
            220,
            0
           ]
          ],
          [
           [
            0,
            0,
            0
           ],
           [
            0,
            0,
            0
           ],
           [
            0,
            0,
            0
           ],
           [
            0,
            0,
            0
           ],
           [
            0,
            0,
            0
           ],
           [
            0,
            0,
            0
           ],
           [
            0,
            0,
            0
           ],
           [
            0,
            0,
            0
           ],
           [
            0,
            0,
            0
           ],
           [
            0,
            0,
            0
           ],
           [
            0,
            0,
            0
           ],
           [
            0,
            0,
            0
           ]
          ],
          [
           [
            0,
            0,
            0
           ],
           [
            0,
            0,
            0
           ],
           [
            0,
            0,
            0
           ],
           [
            0,
            0,
            0
           ],
           [
            0,
            0,
            0
           ],
           [
            0,
            0,
            0
           ],
           [
            0,
            0,
            0
           ],
           [
            0,
            0,
            0
           ],
           [
            0,
            0,
            0
           ],
           [
            0,
            0,
            0
           ],
           [
            0,
            0,
            0
           ],
           [
            0,
            0,
            0
           ]
          ],
          [
           [
            37,
            150,
            190
           ],
           [
            37,
            150,
            190
           ],
           [
            37,
            150,
            190
           ],
           [
            37,
            150,
            190
           ],
           [
            37,
            150,
            190
           ],
           [
            37,
            150,
            190
           ],
           [
            37,
            150,
            190
           ],
           [
            37,
            150,
            190
           ],
           [
            37,
            150,
            190
           ],
           [
            37,
            150,
            190
           ],
           [
            37,
            150,
            190
           ],
           [
            37,
            150,
            190
           ]
          ],
          [
           [
            0,
            0,
            0
           ],
           [
            0,
            0,
            0
           ],
           [
            0,
            0,
            0
           ],
           [
            0,
            0,
            0
           ],
           [
            0,
            0,
            0
           ],
           [
            0,
            0,
            0
           ],
           [
            0,
            0,
            0
           ],
           [
            0,
            0,
            0
           ],
           [
            0,
            0,
            0
           ],
           [
            0,
            0,
            0
           ],
           [
            0,
            0,
            0
           ],
           [
            0,
            0,
            0
           ]
          ]
         ]
        },
        {
         "type": "image",
         "xaxis": "x6",
         "yaxis": "y6",
         "z": [
          [
           [
            255,
            65,
            54
           ],
           [
            255,
            65,
            54
           ],
           [
            255,
            65,
            54
           ],
           [
            255,
            65,
            54
           ]
          ],
          [
           [
            127,
            219,
            255
           ],
           [
            127,
            219,
            255
           ],
           [
            127,
            219,
            255
           ],
           [
            127,
            219,
            255
           ]
          ],
          [
           [
            255,
            220,
            0
           ],
           [
            255,
            220,
            0
           ],
           [
            255,
            220,
            0
           ],
           [
            255,
            220,
            0
           ]
          ],
          [
           [
            37,
            150,
            190
           ],
           [
            37,
            150,
            190
           ],
           [
            37,
            150,
            190
           ],
           [
            37,
            150,
            190
           ]
          ]
         ]
        }
       ],
       "layout": {
        "height": 1200,
        "shapes": [
         {
          "line": {
           "color": "sienna",
           "width": 2
          },
          "type": "line",
          "x0": -0.5,
          "x1": 14.5,
          "xref": "x",
          "y0": -0.5,
          "y1": -0.5,
          "yref": "y"
         },
         {
          "line": {
           "color": "sienna",
           "width": 2
          },
          "type": "line",
          "x0": -0.5,
          "x1": 14.5,
          "xref": "x",
          "y0": 0.5,
          "y1": 0.5,
          "yref": "y"
         },
         {
          "line": {
           "color": "sienna",
           "width": 2
          },
          "type": "line",
          "x0": -0.5,
          "x1": 14.5,
          "xref": "x",
          "y0": 1.5,
          "y1": 1.5,
          "yref": "y"
         },
         {
          "line": {
           "color": "sienna",
           "width": 2
          },
          "type": "line",
          "x0": -0.5,
          "x1": 14.5,
          "xref": "x",
          "y0": 2.5,
          "y1": 2.5,
          "yref": "y"
         },
         {
          "line": {
           "color": "sienna",
           "width": 2
          },
          "type": "line",
          "x0": -0.5,
          "x1": 14.5,
          "xref": "x",
          "y0": 3.5,
          "y1": 3.5,
          "yref": "y"
         },
         {
          "line": {
           "color": "sienna",
           "width": 2
          },
          "type": "line",
          "x0": -0.5,
          "x1": 14.5,
          "xref": "x",
          "y0": 4.5,
          "y1": 4.5,
          "yref": "y"
         },
         {
          "line": {
           "color": "sienna",
           "width": 2
          },
          "type": "line",
          "x0": -0.5,
          "x1": 14.5,
          "xref": "x",
          "y0": 5.5,
          "y1": 5.5,
          "yref": "y"
         },
         {
          "line": {
           "color": "sienna",
           "width": 2
          },
          "type": "line",
          "x0": -0.5,
          "x1": 14.5,
          "xref": "x",
          "y0": 6.5,
          "y1": 6.5,
          "yref": "y"
         },
         {
          "line": {
           "color": "sienna",
           "width": 2
          },
          "type": "line",
          "x0": -0.5,
          "x1": 14.5,
          "xref": "x",
          "y0": 7.5,
          "y1": 7.5,
          "yref": "y"
         },
         {
          "line": {
           "color": "sienna",
           "width": 2
          },
          "type": "line",
          "x0": -0.5,
          "x1": 14.5,
          "xref": "x",
          "y0": 8.5,
          "y1": 8.5,
          "yref": "y"
         },
         {
          "line": {
           "color": "sienna",
           "width": 2
          },
          "type": "line",
          "x0": -0.5,
          "x1": 14.5,
          "xref": "x",
          "y0": 9.5,
          "y1": 9.5,
          "yref": "y"
         },
         {
          "line": {
           "color": "sienna",
           "width": 2
          },
          "type": "line",
          "x0": -0.5,
          "x1": 14.5,
          "xref": "x",
          "y0": 10.5,
          "y1": 10.5,
          "yref": "y"
         },
         {
          "line": {
           "color": "sienna",
           "width": 2
          },
          "type": "line",
          "x0": -0.5,
          "x1": 14.5,
          "xref": "x",
          "y0": 11.5,
          "y1": 11.5,
          "yref": "y"
         },
         {
          "line": {
           "color": "sienna",
           "width": 2
          },
          "type": "line",
          "x0": -0.5,
          "x1": 14.5,
          "xref": "x",
          "y0": 12.5,
          "y1": 12.5,
          "yref": "y"
         },
         {
          "line": {
           "color": "sienna",
           "width": 2
          },
          "type": "line",
          "x0": -0.5,
          "x1": 14.5,
          "xref": "x",
          "y0": 13.5,
          "y1": 13.5,
          "yref": "y"
         },
         {
          "line": {
           "color": "sienna",
           "width": 2
          },
          "type": "line",
          "x0": -0.5,
          "x1": 14.5,
          "xref": "x",
          "y0": 14.5,
          "y1": 14.5,
          "yref": "y"
         },
         {
          "line": {
           "color": "sienna",
           "width": 2
          },
          "type": "line",
          "x0": -0.5,
          "x1": 14.5,
          "xref": "x",
          "y0": 15.5,
          "y1": 15.5,
          "yref": "y"
         },
         {
          "line": {
           "color": "sienna",
           "width": 2
          },
          "type": "line",
          "x0": -0.5,
          "x1": 14.5,
          "xref": "x",
          "y0": 16.5,
          "y1": 16.5,
          "yref": "y"
         },
         {
          "line": {
           "color": "sienna",
           "width": 2
          },
          "type": "line",
          "x0": -0.5,
          "x1": -0.5,
          "xref": "x",
          "y0": -0.5,
          "y1": 17.5,
          "yref": "y"
         },
         {
          "line": {
           "color": "sienna",
           "width": 2
          },
          "type": "line",
          "x0": 0.5,
          "x1": 0.5,
          "xref": "x",
          "y0": -0.5,
          "y1": 17.5,
          "yref": "y"
         },
         {
          "line": {
           "color": "sienna",
           "width": 2
          },
          "type": "line",
          "x0": 1.5,
          "x1": 1.5,
          "xref": "x",
          "y0": -0.5,
          "y1": 17.5,
          "yref": "y"
         },
         {
          "line": {
           "color": "sienna",
           "width": 2
          },
          "type": "line",
          "x0": 2.5,
          "x1": 2.5,
          "xref": "x",
          "y0": -0.5,
          "y1": 17.5,
          "yref": "y"
         },
         {
          "line": {
           "color": "sienna",
           "width": 2
          },
          "type": "line",
          "x0": 3.5,
          "x1": 3.5,
          "xref": "x",
          "y0": -0.5,
          "y1": 17.5,
          "yref": "y"
         },
         {
          "line": {
           "color": "sienna",
           "width": 2
          },
          "type": "line",
          "x0": 4.5,
          "x1": 4.5,
          "xref": "x",
          "y0": -0.5,
          "y1": 17.5,
          "yref": "y"
         },
         {
          "line": {
           "color": "sienna",
           "width": 2
          },
          "type": "line",
          "x0": 5.5,
          "x1": 5.5,
          "xref": "x",
          "y0": -0.5,
          "y1": 17.5,
          "yref": "y"
         },
         {
          "line": {
           "color": "sienna",
           "width": 2
          },
          "type": "line",
          "x0": 6.5,
          "x1": 6.5,
          "xref": "x",
          "y0": -0.5,
          "y1": 17.5,
          "yref": "y"
         },
         {
          "line": {
           "color": "sienna",
           "width": 2
          },
          "type": "line",
          "x0": 7.5,
          "x1": 7.5,
          "xref": "x",
          "y0": -0.5,
          "y1": 17.5,
          "yref": "y"
         },
         {
          "line": {
           "color": "sienna",
           "width": 2
          },
          "type": "line",
          "x0": 8.5,
          "x1": 8.5,
          "xref": "x",
          "y0": -0.5,
          "y1": 17.5,
          "yref": "y"
         },
         {
          "line": {
           "color": "sienna",
           "width": 2
          },
          "type": "line",
          "x0": 9.5,
          "x1": 9.5,
          "xref": "x",
          "y0": -0.5,
          "y1": 17.5,
          "yref": "y"
         },
         {
          "line": {
           "color": "sienna",
           "width": 2
          },
          "type": "line",
          "x0": 10.5,
          "x1": 10.5,
          "xref": "x",
          "y0": -0.5,
          "y1": 17.5,
          "yref": "y"
         },
         {
          "line": {
           "color": "sienna",
           "width": 2
          },
          "type": "line",
          "x0": 11.5,
          "x1": 11.5,
          "xref": "x",
          "y0": -0.5,
          "y1": 17.5,
          "yref": "y"
         },
         {
          "line": {
           "color": "sienna",
           "width": 2
          },
          "type": "line",
          "x0": 12.5,
          "x1": 12.5,
          "xref": "x",
          "y0": -0.5,
          "y1": 17.5,
          "yref": "y"
         },
         {
          "line": {
           "color": "sienna",
           "width": 2
          },
          "type": "line",
          "x0": 13.5,
          "x1": 13.5,
          "xref": "x",
          "y0": -0.5,
          "y1": 17.5,
          "yref": "y"
         },
         {
          "line": {
           "color": "sienna",
           "width": 2
          },
          "type": "line",
          "x0": -0.5,
          "x1": 5.5,
          "xref": "x2",
          "y0": -0.5,
          "y1": -0.5,
          "yref": "y2"
         },
         {
          "line": {
           "color": "sienna",
           "width": 2
          },
          "type": "line",
          "x0": -0.5,
          "x1": 5.5,
          "xref": "x2",
          "y0": 0.5,
          "y1": 0.5,
          "yref": "y2"
         },
         {
          "line": {
           "color": "sienna",
           "width": 2
          },
          "type": "line",
          "x0": -0.5,
          "x1": 5.5,
          "xref": "x2",
          "y0": 1.5,
          "y1": 1.5,
          "yref": "y2"
         },
         {
          "line": {
           "color": "sienna",
           "width": 2
          },
          "type": "line",
          "x0": -0.5,
          "x1": 5.5,
          "xref": "x2",
          "y0": 2.5,
          "y1": 2.5,
          "yref": "y2"
         },
         {
          "line": {
           "color": "sienna",
           "width": 2
          },
          "type": "line",
          "x0": -0.5,
          "x1": 5.5,
          "xref": "x2",
          "y0": 3.5,
          "y1": 3.5,
          "yref": "y2"
         },
         {
          "line": {
           "color": "sienna",
           "width": 2
          },
          "type": "line",
          "x0": -0.5,
          "x1": 5.5,
          "xref": "x2",
          "y0": 4.5,
          "y1": 4.5,
          "yref": "y2"
         },
         {
          "line": {
           "color": "sienna",
           "width": 2
          },
          "type": "line",
          "x0": -0.5,
          "x1": -0.5,
          "xref": "x2",
          "y0": -0.5,
          "y1": 5.5,
          "yref": "y2"
         },
         {
          "line": {
           "color": "sienna",
           "width": 2
          },
          "type": "line",
          "x0": 0.5,
          "x1": 0.5,
          "xref": "x2",
          "y0": -0.5,
          "y1": 5.5,
          "yref": "y2"
         },
         {
          "line": {
           "color": "sienna",
           "width": 2
          },
          "type": "line",
          "x0": 1.5,
          "x1": 1.5,
          "xref": "x2",
          "y0": -0.5,
          "y1": 5.5,
          "yref": "y2"
         },
         {
          "line": {
           "color": "sienna",
           "width": 2
          },
          "type": "line",
          "x0": 2.5,
          "x1": 2.5,
          "xref": "x2",
          "y0": -0.5,
          "y1": 5.5,
          "yref": "y2"
         },
         {
          "line": {
           "color": "sienna",
           "width": 2
          },
          "type": "line",
          "x0": 3.5,
          "x1": 3.5,
          "xref": "x2",
          "y0": -0.5,
          "y1": 5.5,
          "yref": "y2"
         },
         {
          "line": {
           "color": "sienna",
           "width": 2
          },
          "type": "line",
          "x0": 4.5,
          "x1": 4.5,
          "xref": "x2",
          "y0": -0.5,
          "y1": 5.5,
          "yref": "y2"
         },
         {
          "line": {
           "color": "sienna",
           "width": 2
          },
          "type": "line",
          "x0": -0.5,
          "x1": 9.5,
          "xref": "x3",
          "y0": -0.5,
          "y1": -0.5,
          "yref": "y3"
         },
         {
          "line": {
           "color": "sienna",
           "width": 2
          },
          "type": "line",
          "x0": -0.5,
          "x1": 9.5,
          "xref": "x3",
          "y0": 0.5,
          "y1": 0.5,
          "yref": "y3"
         },
         {
          "line": {
           "color": "sienna",
           "width": 2
          },
          "type": "line",
          "x0": -0.5,
          "x1": 9.5,
          "xref": "x3",
          "y0": 1.5,
          "y1": 1.5,
          "yref": "y3"
         },
         {
          "line": {
           "color": "sienna",
           "width": 2
          },
          "type": "line",
          "x0": -0.5,
          "x1": 9.5,
          "xref": "x3",
          "y0": 2.5,
          "y1": 2.5,
          "yref": "y3"
         },
         {
          "line": {
           "color": "sienna",
           "width": 2
          },
          "type": "line",
          "x0": -0.5,
          "x1": 9.5,
          "xref": "x3",
          "y0": 3.5,
          "y1": 3.5,
          "yref": "y3"
         },
         {
          "line": {
           "color": "sienna",
           "width": 2
          },
          "type": "line",
          "x0": -0.5,
          "x1": 9.5,
          "xref": "x3",
          "y0": 4.5,
          "y1": 4.5,
          "yref": "y3"
         },
         {
          "line": {
           "color": "sienna",
           "width": 2
          },
          "type": "line",
          "x0": -0.5,
          "x1": 9.5,
          "xref": "x3",
          "y0": 5.5,
          "y1": 5.5,
          "yref": "y3"
         },
         {
          "line": {
           "color": "sienna",
           "width": 2
          },
          "type": "line",
          "x0": -0.5,
          "x1": 9.5,
          "xref": "x3",
          "y0": 6.5,
          "y1": 6.5,
          "yref": "y3"
         },
         {
          "line": {
           "color": "sienna",
           "width": 2
          },
          "type": "line",
          "x0": -0.5,
          "x1": 9.5,
          "xref": "x3",
          "y0": 7.5,
          "y1": 7.5,
          "yref": "y3"
         },
         {
          "line": {
           "color": "sienna",
           "width": 2
          },
          "type": "line",
          "x0": -0.5,
          "x1": 9.5,
          "xref": "x3",
          "y0": 8.5,
          "y1": 8.5,
          "yref": "y3"
         },
         {
          "line": {
           "color": "sienna",
           "width": 2
          },
          "type": "line",
          "x0": -0.5,
          "x1": 9.5,
          "xref": "x3",
          "y0": 9.5,
          "y1": 9.5,
          "yref": "y3"
         },
         {
          "line": {
           "color": "sienna",
           "width": 2
          },
          "type": "line",
          "x0": -0.5,
          "x1": 9.5,
          "xref": "x3",
          "y0": 10.5,
          "y1": 10.5,
          "yref": "y3"
         },
         {
          "line": {
           "color": "sienna",
           "width": 2
          },
          "type": "line",
          "x0": -0.5,
          "x1": -0.5,
          "xref": "x3",
          "y0": -0.5,
          "y1": 11.5,
          "yref": "y3"
         },
         {
          "line": {
           "color": "sienna",
           "width": 2
          },
          "type": "line",
          "x0": 0.5,
          "x1": 0.5,
          "xref": "x3",
          "y0": -0.5,
          "y1": 11.5,
          "yref": "y3"
         },
         {
          "line": {
           "color": "sienna",
           "width": 2
          },
          "type": "line",
          "x0": 1.5,
          "x1": 1.5,
          "xref": "x3",
          "y0": -0.5,
          "y1": 11.5,
          "yref": "y3"
         },
         {
          "line": {
           "color": "sienna",
           "width": 2
          },
          "type": "line",
          "x0": 2.5,
          "x1": 2.5,
          "xref": "x3",
          "y0": -0.5,
          "y1": 11.5,
          "yref": "y3"
         },
         {
          "line": {
           "color": "sienna",
           "width": 2
          },
          "type": "line",
          "x0": 3.5,
          "x1": 3.5,
          "xref": "x3",
          "y0": -0.5,
          "y1": 11.5,
          "yref": "y3"
         },
         {
          "line": {
           "color": "sienna",
           "width": 2
          },
          "type": "line",
          "x0": 4.5,
          "x1": 4.5,
          "xref": "x3",
          "y0": -0.5,
          "y1": 11.5,
          "yref": "y3"
         },
         {
          "line": {
           "color": "sienna",
           "width": 2
          },
          "type": "line",
          "x0": 5.5,
          "x1": 5.5,
          "xref": "x3",
          "y0": -0.5,
          "y1": 11.5,
          "yref": "y3"
         },
         {
          "line": {
           "color": "sienna",
           "width": 2
          },
          "type": "line",
          "x0": 6.5,
          "x1": 6.5,
          "xref": "x3",
          "y0": -0.5,
          "y1": 11.5,
          "yref": "y3"
         },
         {
          "line": {
           "color": "sienna",
           "width": 2
          },
          "type": "line",
          "x0": 7.5,
          "x1": 7.5,
          "xref": "x3",
          "y0": -0.5,
          "y1": 11.5,
          "yref": "y3"
         },
         {
          "line": {
           "color": "sienna",
           "width": 2
          },
          "type": "line",
          "x0": 8.5,
          "x1": 8.5,
          "xref": "x3",
          "y0": -0.5,
          "y1": 11.5,
          "yref": "y3"
         },
         {
          "line": {
           "color": "sienna",
           "width": 2
          },
          "type": "line",
          "x0": -0.5,
          "x1": 2.5,
          "xref": "x4",
          "y0": -0.5,
          "y1": -0.5,
          "yref": "y4"
         },
         {
          "line": {
           "color": "sienna",
           "width": 2
          },
          "type": "line",
          "x0": -0.5,
          "x1": 2.5,
          "xref": "x4",
          "y0": 0.5,
          "y1": 0.5,
          "yref": "y4"
         },
         {
          "line": {
           "color": "sienna",
           "width": 2
          },
          "type": "line",
          "x0": -0.5,
          "x1": 2.5,
          "xref": "x4",
          "y0": 1.5,
          "y1": 1.5,
          "yref": "y4"
         },
         {
          "line": {
           "color": "sienna",
           "width": 2
          },
          "type": "line",
          "x0": -0.5,
          "x1": -0.5,
          "xref": "x4",
          "y0": -0.5,
          "y1": 2.5,
          "yref": "y4"
         },
         {
          "line": {
           "color": "sienna",
           "width": 2
          },
          "type": "line",
          "x0": 0.5,
          "x1": 0.5,
          "xref": "x4",
          "y0": -0.5,
          "y1": 2.5,
          "yref": "y4"
         },
         {
          "line": {
           "color": "sienna",
           "width": 2
          },
          "type": "line",
          "x0": 1.5,
          "x1": 1.5,
          "xref": "x4",
          "y0": -0.5,
          "y1": 2.5,
          "yref": "y4"
         },
         {
          "line": {
           "color": "sienna",
           "width": 2
          },
          "type": "line",
          "x0": -0.5,
          "x1": 11.5,
          "xref": "x5",
          "y0": -0.5,
          "y1": -0.5,
          "yref": "y5"
         },
         {
          "line": {
           "color": "sienna",
           "width": 2
          },
          "type": "line",
          "x0": -0.5,
          "x1": 11.5,
          "xref": "x5",
          "y0": 0.5,
          "y1": 0.5,
          "yref": "y5"
         },
         {
          "line": {
           "color": "sienna",
           "width": 2
          },
          "type": "line",
          "x0": -0.5,
          "x1": 11.5,
          "xref": "x5",
          "y0": 1.5,
          "y1": 1.5,
          "yref": "y5"
         },
         {
          "line": {
           "color": "sienna",
           "width": 2
          },
          "type": "line",
          "x0": -0.5,
          "x1": 11.5,
          "xref": "x5",
          "y0": 2.5,
          "y1": 2.5,
          "yref": "y5"
         },
         {
          "line": {
           "color": "sienna",
           "width": 2
          },
          "type": "line",
          "x0": -0.5,
          "x1": 11.5,
          "xref": "x5",
          "y0": 3.5,
          "y1": 3.5,
          "yref": "y5"
         },
         {
          "line": {
           "color": "sienna",
           "width": 2
          },
          "type": "line",
          "x0": -0.5,
          "x1": 11.5,
          "xref": "x5",
          "y0": 4.5,
          "y1": 4.5,
          "yref": "y5"
         },
         {
          "line": {
           "color": "sienna",
           "width": 2
          },
          "type": "line",
          "x0": -0.5,
          "x1": 11.5,
          "xref": "x5",
          "y0": 5.5,
          "y1": 5.5,
          "yref": "y5"
         },
         {
          "line": {
           "color": "sienna",
           "width": 2
          },
          "type": "line",
          "x0": -0.5,
          "x1": 11.5,
          "xref": "x5",
          "y0": 6.5,
          "y1": 6.5,
          "yref": "y5"
         },
         {
          "line": {
           "color": "sienna",
           "width": 2
          },
          "type": "line",
          "x0": -0.5,
          "x1": 11.5,
          "xref": "x5",
          "y0": 7.5,
          "y1": 7.5,
          "yref": "y5"
         },
         {
          "line": {
           "color": "sienna",
           "width": 2
          },
          "type": "line",
          "x0": -0.5,
          "x1": 11.5,
          "xref": "x5",
          "y0": 8.5,
          "y1": 8.5,
          "yref": "y5"
         },
         {
          "line": {
           "color": "sienna",
           "width": 2
          },
          "type": "line",
          "x0": -0.5,
          "x1": 11.5,
          "xref": "x5",
          "y0": 9.5,
          "y1": 9.5,
          "yref": "y5"
         },
         {
          "line": {
           "color": "sienna",
           "width": 2
          },
          "type": "line",
          "x0": -0.5,
          "x1": 11.5,
          "xref": "x5",
          "y0": 10.5,
          "y1": 10.5,
          "yref": "y5"
         },
         {
          "line": {
           "color": "sienna",
           "width": 2
          },
          "type": "line",
          "x0": -0.5,
          "x1": -0.5,
          "xref": "x5",
          "y0": -0.5,
          "y1": 11.5,
          "yref": "y5"
         },
         {
          "line": {
           "color": "sienna",
           "width": 2
          },
          "type": "line",
          "x0": 0.5,
          "x1": 0.5,
          "xref": "x5",
          "y0": -0.5,
          "y1": 11.5,
          "yref": "y5"
         },
         {
          "line": {
           "color": "sienna",
           "width": 2
          },
          "type": "line",
          "x0": 1.5,
          "x1": 1.5,
          "xref": "x5",
          "y0": -0.5,
          "y1": 11.5,
          "yref": "y5"
         },
         {
          "line": {
           "color": "sienna",
           "width": 2
          },
          "type": "line",
          "x0": 2.5,
          "x1": 2.5,
          "xref": "x5",
          "y0": -0.5,
          "y1": 11.5,
          "yref": "y5"
         },
         {
          "line": {
           "color": "sienna",
           "width": 2
          },
          "type": "line",
          "x0": 3.5,
          "x1": 3.5,
          "xref": "x5",
          "y0": -0.5,
          "y1": 11.5,
          "yref": "y5"
         },
         {
          "line": {
           "color": "sienna",
           "width": 2
          },
          "type": "line",
          "x0": 4.5,
          "x1": 4.5,
          "xref": "x5",
          "y0": -0.5,
          "y1": 11.5,
          "yref": "y5"
         },
         {
          "line": {
           "color": "sienna",
           "width": 2
          },
          "type": "line",
          "x0": 5.5,
          "x1": 5.5,
          "xref": "x5",
          "y0": -0.5,
          "y1": 11.5,
          "yref": "y5"
         },
         {
          "line": {
           "color": "sienna",
           "width": 2
          },
          "type": "line",
          "x0": 6.5,
          "x1": 6.5,
          "xref": "x5",
          "y0": -0.5,
          "y1": 11.5,
          "yref": "y5"
         },
         {
          "line": {
           "color": "sienna",
           "width": 2
          },
          "type": "line",
          "x0": 7.5,
          "x1": 7.5,
          "xref": "x5",
          "y0": -0.5,
          "y1": 11.5,
          "yref": "y5"
         },
         {
          "line": {
           "color": "sienna",
           "width": 2
          },
          "type": "line",
          "x0": 8.5,
          "x1": 8.5,
          "xref": "x5",
          "y0": -0.5,
          "y1": 11.5,
          "yref": "y5"
         },
         {
          "line": {
           "color": "sienna",
           "width": 2
          },
          "type": "line",
          "x0": 9.5,
          "x1": 9.5,
          "xref": "x5",
          "y0": -0.5,
          "y1": 11.5,
          "yref": "y5"
         },
         {
          "line": {
           "color": "sienna",
           "width": 2
          },
          "type": "line",
          "x0": 10.5,
          "x1": 10.5,
          "xref": "x5",
          "y0": -0.5,
          "y1": 11.5,
          "yref": "y5"
         },
         {
          "line": {
           "color": "sienna",
           "width": 2
          },
          "type": "line",
          "x0": -0.5,
          "x1": 3.5,
          "xref": "x6",
          "y0": -0.5,
          "y1": -0.5,
          "yref": "y6"
         },
         {
          "line": {
           "color": "sienna",
           "width": 2
          },
          "type": "line",
          "x0": -0.5,
          "x1": 3.5,
          "xref": "x6",
          "y0": 0.5,
          "y1": 0.5,
          "yref": "y6"
         },
         {
          "line": {
           "color": "sienna",
           "width": 2
          },
          "type": "line",
          "x0": -0.5,
          "x1": 3.5,
          "xref": "x6",
          "y0": 1.5,
          "y1": 1.5,
          "yref": "y6"
         },
         {
          "line": {
           "color": "sienna",
           "width": 2
          },
          "type": "line",
          "x0": -0.5,
          "x1": 3.5,
          "xref": "x6",
          "y0": 2.5,
          "y1": 2.5,
          "yref": "y6"
         },
         {
          "line": {
           "color": "sienna",
           "width": 2
          },
          "type": "line",
          "x0": -0.5,
          "x1": -0.5,
          "xref": "x6",
          "y0": -0.5,
          "y1": 3.5,
          "yref": "y6"
         },
         {
          "line": {
           "color": "sienna",
           "width": 2
          },
          "type": "line",
          "x0": 0.5,
          "x1": 0.5,
          "xref": "x6",
          "y0": -0.5,
          "y1": 3.5,
          "yref": "y6"
         },
         {
          "line": {
           "color": "sienna",
           "width": 2
          },
          "type": "line",
          "x0": 1.5,
          "x1": 1.5,
          "xref": "x6",
          "y0": -0.5,
          "y1": 3.5,
          "yref": "y6"
         },
         {
          "line": {
           "color": "sienna",
           "width": 2
          },
          "type": "line",
          "x0": 2.5,
          "x1": 2.5,
          "xref": "x6",
          "y0": -0.5,
          "y1": 3.5,
          "yref": "y6"
         }
        ],
        "template": {
         "data": {
          "bar": [
           {
            "error_x": {
             "color": "#2a3f5f"
            },
            "error_y": {
             "color": "#2a3f5f"
            },
            "marker": {
             "line": {
              "color": "#E5ECF6",
              "width": 0.5
             },
             "pattern": {
              "fillmode": "overlay",
              "size": 10,
              "solidity": 0.2
             }
            },
            "type": "bar"
           }
          ],
          "barpolar": [
           {
            "marker": {
             "line": {
              "color": "#E5ECF6",
              "width": 0.5
             },
             "pattern": {
              "fillmode": "overlay",
              "size": 10,
              "solidity": 0.2
             }
            },
            "type": "barpolar"
           }
          ],
          "carpet": [
           {
            "aaxis": {
             "endlinecolor": "#2a3f5f",
             "gridcolor": "white",
             "linecolor": "white",
             "minorgridcolor": "white",
             "startlinecolor": "#2a3f5f"
            },
            "baxis": {
             "endlinecolor": "#2a3f5f",
             "gridcolor": "white",
             "linecolor": "white",
             "minorgridcolor": "white",
             "startlinecolor": "#2a3f5f"
            },
            "type": "carpet"
           }
          ],
          "choropleth": [
           {
            "colorbar": {
             "outlinewidth": 0,
             "ticks": ""
            },
            "type": "choropleth"
           }
          ],
          "contour": [
           {
            "colorbar": {
             "outlinewidth": 0,
             "ticks": ""
            },
            "colorscale": [
             [
              0,
              "#0d0887"
             ],
             [
              0.1111111111111111,
              "#46039f"
             ],
             [
              0.2222222222222222,
              "#7201a8"
             ],
             [
              0.3333333333333333,
              "#9c179e"
             ],
             [
              0.4444444444444444,
              "#bd3786"
             ],
             [
              0.5555555555555556,
              "#d8576b"
             ],
             [
              0.6666666666666666,
              "#ed7953"
             ],
             [
              0.7777777777777778,
              "#fb9f3a"
             ],
             [
              0.8888888888888888,
              "#fdca26"
             ],
             [
              1,
              "#f0f921"
             ]
            ],
            "type": "contour"
           }
          ],
          "contourcarpet": [
           {
            "colorbar": {
             "outlinewidth": 0,
             "ticks": ""
            },
            "type": "contourcarpet"
           }
          ],
          "heatmap": [
           {
            "colorbar": {
             "outlinewidth": 0,
             "ticks": ""
            },
            "colorscale": [
             [
              0,
              "#0d0887"
             ],
             [
              0.1111111111111111,
              "#46039f"
             ],
             [
              0.2222222222222222,
              "#7201a8"
             ],
             [
              0.3333333333333333,
              "#9c179e"
             ],
             [
              0.4444444444444444,
              "#bd3786"
             ],
             [
              0.5555555555555556,
              "#d8576b"
             ],
             [
              0.6666666666666666,
              "#ed7953"
             ],
             [
              0.7777777777777778,
              "#fb9f3a"
             ],
             [
              0.8888888888888888,
              "#fdca26"
             ],
             [
              1,
              "#f0f921"
             ]
            ],
            "type": "heatmap"
           }
          ],
          "heatmapgl": [
           {
            "colorbar": {
             "outlinewidth": 0,
             "ticks": ""
            },
            "colorscale": [
             [
              0,
              "#0d0887"
             ],
             [
              0.1111111111111111,
              "#46039f"
             ],
             [
              0.2222222222222222,
              "#7201a8"
             ],
             [
              0.3333333333333333,
              "#9c179e"
             ],
             [
              0.4444444444444444,
              "#bd3786"
             ],
             [
              0.5555555555555556,
              "#d8576b"
             ],
             [
              0.6666666666666666,
              "#ed7953"
             ],
             [
              0.7777777777777778,
              "#fb9f3a"
             ],
             [
              0.8888888888888888,
              "#fdca26"
             ],
             [
              1,
              "#f0f921"
             ]
            ],
            "type": "heatmapgl"
           }
          ],
          "histogram": [
           {
            "marker": {
             "pattern": {
              "fillmode": "overlay",
              "size": 10,
              "solidity": 0.2
             }
            },
            "type": "histogram"
           }
          ],
          "histogram2d": [
           {
            "colorbar": {
             "outlinewidth": 0,
             "ticks": ""
            },
            "colorscale": [
             [
              0,
              "#0d0887"
             ],
             [
              0.1111111111111111,
              "#46039f"
             ],
             [
              0.2222222222222222,
              "#7201a8"
             ],
             [
              0.3333333333333333,
              "#9c179e"
             ],
             [
              0.4444444444444444,
              "#bd3786"
             ],
             [
              0.5555555555555556,
              "#d8576b"
             ],
             [
              0.6666666666666666,
              "#ed7953"
             ],
             [
              0.7777777777777778,
              "#fb9f3a"
             ],
             [
              0.8888888888888888,
              "#fdca26"
             ],
             [
              1,
              "#f0f921"
             ]
            ],
            "type": "histogram2d"
           }
          ],
          "histogram2dcontour": [
           {
            "colorbar": {
             "outlinewidth": 0,
             "ticks": ""
            },
            "colorscale": [
             [
              0,
              "#0d0887"
             ],
             [
              0.1111111111111111,
              "#46039f"
             ],
             [
              0.2222222222222222,
              "#7201a8"
             ],
             [
              0.3333333333333333,
              "#9c179e"
             ],
             [
              0.4444444444444444,
              "#bd3786"
             ],
             [
              0.5555555555555556,
              "#d8576b"
             ],
             [
              0.6666666666666666,
              "#ed7953"
             ],
             [
              0.7777777777777778,
              "#fb9f3a"
             ],
             [
              0.8888888888888888,
              "#fdca26"
             ],
             [
              1,
              "#f0f921"
             ]
            ],
            "type": "histogram2dcontour"
           }
          ],
          "mesh3d": [
           {
            "colorbar": {
             "outlinewidth": 0,
             "ticks": ""
            },
            "type": "mesh3d"
           }
          ],
          "parcoords": [
           {
            "line": {
             "colorbar": {
              "outlinewidth": 0,
              "ticks": ""
             }
            },
            "type": "parcoords"
           }
          ],
          "pie": [
           {
            "automargin": true,
            "type": "pie"
           }
          ],
          "scatter": [
           {
            "fillpattern": {
             "fillmode": "overlay",
             "size": 10,
             "solidity": 0.2
            },
            "type": "scatter"
           }
          ],
          "scatter3d": [
           {
            "line": {
             "colorbar": {
              "outlinewidth": 0,
              "ticks": ""
             }
            },
            "marker": {
             "colorbar": {
              "outlinewidth": 0,
              "ticks": ""
             }
            },
            "type": "scatter3d"
           }
          ],
          "scattercarpet": [
           {
            "marker": {
             "colorbar": {
              "outlinewidth": 0,
              "ticks": ""
             }
            },
            "type": "scattercarpet"
           }
          ],
          "scattergeo": [
           {
            "marker": {
             "colorbar": {
              "outlinewidth": 0,
              "ticks": ""
             }
            },
            "type": "scattergeo"
           }
          ],
          "scattergl": [
           {
            "marker": {
             "colorbar": {
              "outlinewidth": 0,
              "ticks": ""
             }
            },
            "type": "scattergl"
           }
          ],
          "scattermapbox": [
           {
            "marker": {
             "colorbar": {
              "outlinewidth": 0,
              "ticks": ""
             }
            },
            "type": "scattermapbox"
           }
          ],
          "scatterpolar": [
           {
            "marker": {
             "colorbar": {
              "outlinewidth": 0,
              "ticks": ""
             }
            },
            "type": "scatterpolar"
           }
          ],
          "scatterpolargl": [
           {
            "marker": {
             "colorbar": {
              "outlinewidth": 0,
              "ticks": ""
             }
            },
            "type": "scatterpolargl"
           }
          ],
          "scatterternary": [
           {
            "marker": {
             "colorbar": {
              "outlinewidth": 0,
              "ticks": ""
             }
            },
            "type": "scatterternary"
           }
          ],
          "surface": [
           {
            "colorbar": {
             "outlinewidth": 0,
             "ticks": ""
            },
            "colorscale": [
             [
              0,
              "#0d0887"
             ],
             [
              0.1111111111111111,
              "#46039f"
             ],
             [
              0.2222222222222222,
              "#7201a8"
             ],
             [
              0.3333333333333333,
              "#9c179e"
             ],
             [
              0.4444444444444444,
              "#bd3786"
             ],
             [
              0.5555555555555556,
              "#d8576b"
             ],
             [
              0.6666666666666666,
              "#ed7953"
             ],
             [
              0.7777777777777778,
              "#fb9f3a"
             ],
             [
              0.8888888888888888,
              "#fdca26"
             ],
             [
              1,
              "#f0f921"
             ]
            ],
            "type": "surface"
           }
          ],
          "table": [
           {
            "cells": {
             "fill": {
              "color": "#EBF0F8"
             },
             "line": {
              "color": "white"
             }
            },
            "header": {
             "fill": {
              "color": "#C8D4E3"
             },
             "line": {
              "color": "white"
             }
            },
            "type": "table"
           }
          ]
         },
         "layout": {
          "annotationdefaults": {
           "arrowcolor": "#2a3f5f",
           "arrowhead": 0,
           "arrowwidth": 1
          },
          "autotypenumbers": "strict",
          "coloraxis": {
           "colorbar": {
            "outlinewidth": 0,
            "ticks": ""
           }
          },
          "colorscale": {
           "diverging": [
            [
             0,
             "#8e0152"
            ],
            [
             0.1,
             "#c51b7d"
            ],
            [
             0.2,
             "#de77ae"
            ],
            [
             0.3,
             "#f1b6da"
            ],
            [
             0.4,
             "#fde0ef"
            ],
            [
             0.5,
             "#f7f7f7"
            ],
            [
             0.6,
             "#e6f5d0"
            ],
            [
             0.7,
             "#b8e186"
            ],
            [
             0.8,
             "#7fbc41"
            ],
            [
             0.9,
             "#4d9221"
            ],
            [
             1,
             "#276419"
            ]
           ],
           "sequential": [
            [
             0,
             "#0d0887"
            ],
            [
             0.1111111111111111,
             "#46039f"
            ],
            [
             0.2222222222222222,
             "#7201a8"
            ],
            [
             0.3333333333333333,
             "#9c179e"
            ],
            [
             0.4444444444444444,
             "#bd3786"
            ],
            [
             0.5555555555555556,
             "#d8576b"
            ],
            [
             0.6666666666666666,
             "#ed7953"
            ],
            [
             0.7777777777777778,
             "#fb9f3a"
            ],
            [
             0.8888888888888888,
             "#fdca26"
            ],
            [
             1,
             "#f0f921"
            ]
           ],
           "sequentialminus": [
            [
             0,
             "#0d0887"
            ],
            [
             0.1111111111111111,
             "#46039f"
            ],
            [
             0.2222222222222222,
             "#7201a8"
            ],
            [
             0.3333333333333333,
             "#9c179e"
            ],
            [
             0.4444444444444444,
             "#bd3786"
            ],
            [
             0.5555555555555556,
             "#d8576b"
            ],
            [
             0.6666666666666666,
             "#ed7953"
            ],
            [
             0.7777777777777778,
             "#fb9f3a"
            ],
            [
             0.8888888888888888,
             "#fdca26"
            ],
            [
             1,
             "#f0f921"
            ]
           ]
          },
          "colorway": [
           "#636efa",
           "#EF553B",
           "#00cc96",
           "#ab63fa",
           "#FFA15A",
           "#19d3f3",
           "#FF6692",
           "#B6E880",
           "#FF97FF",
           "#FECB52"
          ],
          "font": {
           "color": "#2a3f5f"
          },
          "geo": {
           "bgcolor": "white",
           "lakecolor": "white",
           "landcolor": "#E5ECF6",
           "showlakes": true,
           "showland": true,
           "subunitcolor": "white"
          },
          "hoverlabel": {
           "align": "left"
          },
          "hovermode": "closest",
          "mapbox": {
           "style": "light"
          },
          "paper_bgcolor": "white",
          "plot_bgcolor": "#E5ECF6",
          "polar": {
           "angularaxis": {
            "gridcolor": "white",
            "linecolor": "white",
            "ticks": ""
           },
           "bgcolor": "#E5ECF6",
           "radialaxis": {
            "gridcolor": "white",
            "linecolor": "white",
            "ticks": ""
           }
          },
          "scene": {
           "xaxis": {
            "backgroundcolor": "#E5ECF6",
            "gridcolor": "white",
            "gridwidth": 2,
            "linecolor": "white",
            "showbackground": true,
            "ticks": "",
            "zerolinecolor": "white"
           },
           "yaxis": {
            "backgroundcolor": "#E5ECF6",
            "gridcolor": "white",
            "gridwidth": 2,
            "linecolor": "white",
            "showbackground": true,
            "ticks": "",
            "zerolinecolor": "white"
           },
           "zaxis": {
            "backgroundcolor": "#E5ECF6",
            "gridcolor": "white",
            "gridwidth": 2,
            "linecolor": "white",
            "showbackground": true,
            "ticks": "",
            "zerolinecolor": "white"
           }
          },
          "shapedefaults": {
           "line": {
            "color": "#2a3f5f"
           }
          },
          "ternary": {
           "aaxis": {
            "gridcolor": "white",
            "linecolor": "white",
            "ticks": ""
           },
           "baxis": {
            "gridcolor": "white",
            "linecolor": "white",
            "ticks": ""
           },
           "bgcolor": "#E5ECF6",
           "caxis": {
            "gridcolor": "white",
            "linecolor": "white",
            "ticks": ""
           }
          },
          "title": {
           "x": 0.05
          },
          "xaxis": {
           "automargin": true,
           "gridcolor": "white",
           "linecolor": "white",
           "ticks": "",
           "title": {
            "standoff": 15
           },
           "zerolinecolor": "white",
           "zerolinewidth": 2
          },
          "yaxis": {
           "automargin": true,
           "gridcolor": "white",
           "linecolor": "white",
           "ticks": "",
           "title": {
            "standoff": 15
           },
           "zerolinecolor": "white",
           "zerolinewidth": 2
          }
         }
        },
        "xaxis": {
         "anchor": "y",
         "domain": [
          0,
          0.45
         ]
        },
        "xaxis2": {
         "anchor": "y2",
         "domain": [
          0.55,
          1
         ]
        },
        "xaxis3": {
         "anchor": "y3",
         "domain": [
          0,
          0.45
         ]
        },
        "xaxis4": {
         "anchor": "y4",
         "domain": [
          0.55,
          1
         ]
        },
        "xaxis5": {
         "anchor": "y5",
         "domain": [
          0,
          0.45
         ]
        },
        "xaxis6": {
         "anchor": "y6",
         "domain": [
          0.55,
          1
         ]
        },
        "yaxis": {
         "anchor": "x",
         "domain": [
          0.7333333333333333,
          1
         ]
        },
        "yaxis2": {
         "anchor": "x2",
         "domain": [
          0.7333333333333333,
          1
         ]
        },
        "yaxis3": {
         "anchor": "x3",
         "domain": [
          0.36666666666666664,
          0.6333333333333333
         ]
        },
        "yaxis4": {
         "anchor": "x4",
         "domain": [
          0.36666666666666664,
          0.6333333333333333
         ]
        },
        "yaxis5": {
         "anchor": "x5",
         "domain": [
          0,
          0.26666666666666666
         ]
        },
        "yaxis6": {
         "anchor": "x6",
         "domain": [
          0,
          0.26666666666666666
         ]
        }
       }
      }
     },
     "metadata": {},
     "output_type": "display_data"
    },
    {
     "name": "stdout",
     "output_type": "stream",
     "text": [
      "8e1813be-test\n"
     ]
    },
    {
     "data": {
      "application/vnd.plotly.v1+json": {
       "config": {
        "plotlyServerURL": "https://plot.ly"
       },
       "data": [
        {
         "type": "image",
         "xaxis": "x",
         "yaxis": "y",
         "z": [
          [
           [
            255,
            65,
            54
           ],
           [
            255,
            65,
            54
           ],
           [
            255,
            65,
            54
           ],
           [
            255,
            65,
            54
           ],
           [
            255,
            65,
            54
           ],
           [
            255,
            65,
            54
           ],
           [
            255,
            65,
            54
           ],
           [
            0,
            0,
            0
           ],
           [
            0,
            0,
            0
           ],
           [
            0,
            0,
            0
           ],
           [
            0,
            0,
            0
           ],
           [
            0,
            0,
            0
           ],
           [
            0,
            0,
            0
           ],
           [
            0,
            0,
            0
           ],
           [
            0,
            0,
            0
           ],
           [
            0,
            0,
            0
           ],
           [
            255,
            65,
            54
           ],
           [
            255,
            65,
            54
           ],
           [
            255,
            65,
            54
           ]
          ],
          [
           [
            0,
            0,
            0
           ],
           [
            0,
            0,
            0
           ],
           [
            0,
            0,
            0
           ],
           [
            0,
            0,
            0
           ],
           [
            0,
            0,
            0
           ],
           [
            0,
            0,
            0
           ],
           [
            0,
            0,
            0
           ],
           [
            0,
            0,
            0
           ],
           [
            170,
            170,
            170
           ],
           [
            170,
            170,
            170
           ],
           [
            170,
            170,
            170
           ],
           [
            170,
            170,
            170
           ],
           [
            170,
            170,
            170
           ],
           [
            170,
            170,
            170
           ],
           [
            170,
            170,
            170
           ],
           [
            0,
            0,
            0
           ],
           [
            0,
            0,
            0
           ],
           [
            0,
            0,
            0
           ],
           [
            0,
            0,
            0
           ]
          ],
          [
           [
            0,
            0,
            0
           ],
           [
            0,
            0,
            0
           ],
           [
            0,
            0,
            0
           ],
           [
            0,
            0,
            0
           ],
           [
            0,
            0,
            0
           ],
           [
            0,
            0,
            0
           ],
           [
            0,
            0,
            0
           ],
           [
            0,
            0,
            0
           ],
           [
            170,
            170,
            170
           ],
           [
            170,
            170,
            170
           ],
           [
            170,
            170,
            170
           ],
           [
            170,
            170,
            170
           ],
           [
            170,
            170,
            170
           ],
           [
            170,
            170,
            170
           ],
           [
            170,
            170,
            170
           ],
           [
            0,
            0,
            0
           ],
           [
            0,
            0,
            0
           ],
           [
            0,
            0,
            0
           ],
           [
            0,
            0,
            0
           ]
          ],
          [
           [
            46,
            204,
            64
           ],
           [
            46,
            204,
            64
           ],
           [
            46,
            204,
            64
           ],
           [
            46,
            204,
            64
           ],
           [
            46,
            204,
            64
           ],
           [
            46,
            204,
            64
           ],
           [
            46,
            204,
            64
           ],
           [
            0,
            0,
            0
           ],
           [
            170,
            170,
            170
           ],
           [
            170,
            170,
            170
           ],
           [
            170,
            170,
            170
           ],
           [
            170,
            170,
            170
           ],
           [
            170,
            170,
            170
           ],
           [
            170,
            170,
            170
           ],
           [
            170,
            170,
            170
           ],
           [
            0,
            0,
            0
           ],
           [
            46,
            204,
            64
           ],
           [
            46,
            204,
            64
           ],
           [
            46,
            204,
            64
           ]
          ],
          [
           [
            0,
            0,
            0
           ],
           [
            0,
            0,
            0
           ],
           [
            0,
            0,
            0
           ],
           [
            0,
            0,
            0
           ],
           [
            0,
            0,
            0
           ],
           [
            0,
            0,
            0
           ],
           [
            0,
            0,
            0
           ],
           [
            0,
            0,
            0
           ],
           [
            170,
            170,
            170
           ],
           [
            170,
            170,
            170
           ],
           [
            170,
            170,
            170
           ],
           [
            170,
            170,
            170
           ],
           [
            170,
            170,
            170
           ],
           [
            170,
            170,
            170
           ],
           [
            170,
            170,
            170
           ],
           [
            0,
            0,
            0
           ],
           [
            0,
            0,
            0
           ],
           [
            0,
            0,
            0
           ],
           [
            0,
            0,
            0
           ]
          ],
          [
           [
            0,
            0,
            0
           ],
           [
            0,
            0,
            0
           ],
           [
            0,
            0,
            0
           ],
           [
            0,
            0,
            0
           ],
           [
            0,
            0,
            0
           ],
           [
            0,
            0,
            0
           ],
           [
            0,
            0,
            0
           ],
           [
            0,
            0,
            0
           ],
           [
            170,
            170,
            170
           ],
           [
            170,
            170,
            170
           ],
           [
            170,
            170,
            170
           ],
           [
            170,
            170,
            170
           ],
           [
            170,
            170,
            170
           ],
           [
            170,
            170,
            170
           ],
           [
            170,
            170,
            170
           ],
           [
            0,
            0,
            0
           ],
           [
            0,
            0,
            0
           ],
           [
            0,
            0,
            0
           ],
           [
            0,
            0,
            0
           ]
          ],
          [
           [
            127,
            219,
            255
           ],
           [
            127,
            219,
            255
           ],
           [
            127,
            219,
            255
           ],
           [
            127,
            219,
            255
           ],
           [
            127,
            219,
            255
           ],
           [
            127,
            219,
            255
           ],
           [
            127,
            219,
            255
           ],
           [
            0,
            0,
            0
           ],
           [
            170,
            170,
            170
           ],
           [
            170,
            170,
            170
           ],
           [
            170,
            170,
            170
           ],
           [
            170,
            170,
            170
           ],
           [
            170,
            170,
            170
           ],
           [
            170,
            170,
            170
           ],
           [
            170,
            170,
            170
           ],
           [
            0,
            0,
            0
           ],
           [
            127,
            219,
            255
           ],
           [
            127,
            219,
            255
           ],
           [
            127,
            219,
            255
           ]
          ],
          [
           [
            0,
            0,
            0
           ],
           [
            0,
            0,
            0
           ],
           [
            0,
            0,
            0
           ],
           [
            0,
            0,
            0
           ],
           [
            0,
            0,
            0
           ],
           [
            0,
            0,
            0
           ],
           [
            0,
            0,
            0
           ],
           [
            0,
            0,
            0
           ],
           [
            170,
            170,
            170
           ],
           [
            170,
            170,
            170
           ],
           [
            170,
            170,
            170
           ],
           [
            170,
            170,
            170
           ],
           [
            170,
            170,
            170
           ],
           [
            170,
            170,
            170
           ],
           [
            170,
            170,
            170
           ],
           [
            0,
            0,
            0
           ],
           [
            0,
            0,
            0
           ],
           [
            0,
            0,
            0
           ],
           [
            0,
            0,
            0
           ]
          ],
          [
           [
            0,
            0,
            0
           ],
           [
            0,
            0,
            0
           ],
           [
            0,
            0,
            0
           ],
           [
            0,
            0,
            0
           ],
           [
            0,
            0,
            0
           ],
           [
            0,
            0,
            0
           ],
           [
            0,
            0,
            0
           ],
           [
            0,
            0,
            0
           ],
           [
            0,
            0,
            0
           ],
           [
            0,
            0,
            0
           ],
           [
            0,
            0,
            0
           ],
           [
            0,
            0,
            0
           ],
           [
            0,
            0,
            0
           ],
           [
            0,
            0,
            0
           ],
           [
            0,
            0,
            0
           ],
           [
            0,
            0,
            0
           ],
           [
            0,
            0,
            0
           ],
           [
            0,
            0,
            0
           ],
           [
            0,
            0,
            0
           ]
          ],
          [
           [
            255,
            220,
            0
           ],
           [
            255,
            220,
            0
           ],
           [
            255,
            220,
            0
           ],
           [
            255,
            220,
            0
           ],
           [
            255,
            220,
            0
           ],
           [
            255,
            220,
            0
           ],
           [
            255,
            220,
            0
           ],
           [
            255,
            220,
            0
           ],
           [
            255,
            220,
            0
           ],
           [
            255,
            220,
            0
           ],
           [
            255,
            220,
            0
           ],
           [
            255,
            220,
            0
           ],
           [
            255,
            220,
            0
           ],
           [
            255,
            220,
            0
           ],
           [
            255,
            220,
            0
           ],
           [
            255,
            220,
            0
           ],
           [
            255,
            220,
            0
           ],
           [
            255,
            220,
            0
           ],
           [
            255,
            220,
            0
           ]
          ],
          [
           [
            0,
            0,
            0
           ],
           [
            0,
            0,
            0
           ],
           [
            0,
            0,
            0
           ],
           [
            0,
            0,
            0
           ],
           [
            0,
            0,
            0
           ],
           [
            0,
            0,
            0
           ],
           [
            0,
            0,
            0
           ],
           [
            0,
            0,
            0
           ],
           [
            0,
            0,
            0
           ],
           [
            0,
            0,
            0
           ],
           [
            0,
            0,
            0
           ],
           [
            0,
            0,
            0
           ],
           [
            0,
            0,
            0
           ],
           [
            0,
            0,
            0
           ],
           [
            0,
            0,
            0
           ],
           [
            0,
            0,
            0
           ],
           [
            0,
            0,
            0
           ],
           [
            0,
            0,
            0
           ],
           [
            0,
            0,
            0
           ]
          ],
          [
           [
            0,
            0,
            0
           ],
           [
            0,
            0,
            0
           ],
           [
            0,
            0,
            0
           ],
           [
            0,
            0,
            0
           ],
           [
            0,
            0,
            0
           ],
           [
            0,
            0,
            0
           ],
           [
            0,
            0,
            0
           ],
           [
            0,
            0,
            0
           ],
           [
            0,
            0,
            0
           ],
           [
            0,
            0,
            0
           ],
           [
            0,
            0,
            0
           ],
           [
            0,
            0,
            0
           ],
           [
            0,
            0,
            0
           ],
           [
            0,
            0,
            0
           ],
           [
            0,
            0,
            0
           ],
           [
            0,
            0,
            0
           ],
           [
            0,
            0,
            0
           ],
           [
            0,
            0,
            0
           ],
           [
            0,
            0,
            0
           ]
          ],
          [
           [
            240,
            18,
            190
           ],
           [
            240,
            18,
            190
           ],
           [
            240,
            18,
            190
           ],
           [
            240,
            18,
            190
           ],
           [
            240,
            18,
            190
           ],
           [
            240,
            18,
            190
           ],
           [
            240,
            18,
            190
           ],
           [
            240,
            18,
            190
           ],
           [
            240,
            18,
            190
           ],
           [
            240,
            18,
            190
           ],
           [
            240,
            18,
            190
           ],
           [
            240,
            18,
            190
           ],
           [
            240,
            18,
            190
           ],
           [
            240,
            18,
            190
           ],
           [
            240,
            18,
            190
           ],
           [
            240,
            18,
            190
           ],
           [
            240,
            18,
            190
           ],
           [
            240,
            18,
            190
           ],
           [
            240,
            18,
            190
           ]
          ],
          [
           [
            0,
            0,
            0
           ],
           [
            0,
            0,
            0
           ],
           [
            0,
            0,
            0
           ],
           [
            0,
            0,
            0
           ],
           [
            0,
            0,
            0
           ],
           [
            0,
            0,
            0
           ],
           [
            0,
            0,
            0
           ],
           [
            0,
            0,
            0
           ],
           [
            0,
            0,
            0
           ],
           [
            0,
            0,
            0
           ],
           [
            0,
            0,
            0
           ],
           [
            0,
            0,
            0
           ],
           [
            0,
            0,
            0
           ],
           [
            0,
            0,
            0
           ],
           [
            0,
            0,
            0
           ],
           [
            0,
            0,
            0
           ],
           [
            0,
            0,
            0
           ],
           [
            0,
            0,
            0
           ],
           [
            0,
            0,
            0
           ]
          ],
          [
           [
            0,
            0,
            0
           ],
           [
            0,
            0,
            0
           ],
           [
            0,
            0,
            0
           ],
           [
            0,
            0,
            0
           ],
           [
            0,
            0,
            0
           ],
           [
            0,
            0,
            0
           ],
           [
            0,
            0,
            0
           ],
           [
            0,
            0,
            0
           ],
           [
            0,
            0,
            0
           ],
           [
            0,
            0,
            0
           ],
           [
            0,
            0,
            0
           ],
           [
            0,
            0,
            0
           ],
           [
            0,
            0,
            0
           ],
           [
            0,
            0,
            0
           ],
           [
            0,
            0,
            0
           ],
           [
            0,
            0,
            0
           ],
           [
            0,
            0,
            0
           ],
           [
            0,
            0,
            0
           ],
           [
            0,
            0,
            0
           ]
          ],
          [
           [
            37,
            150,
            190
           ],
           [
            37,
            150,
            190
           ],
           [
            37,
            150,
            190
           ],
           [
            37,
            150,
            190
           ],
           [
            37,
            150,
            190
           ],
           [
            37,
            150,
            190
           ],
           [
            37,
            150,
            190
           ],
           [
            37,
            150,
            190
           ],
           [
            37,
            150,
            190
           ],
           [
            37,
            150,
            190
           ],
           [
            37,
            150,
            190
           ],
           [
            37,
            150,
            190
           ],
           [
            37,
            150,
            190
           ],
           [
            37,
            150,
            190
           ],
           [
            37,
            150,
            190
           ],
           [
            37,
            150,
            190
           ],
           [
            37,
            150,
            190
           ],
           [
            37,
            150,
            190
           ],
           [
            37,
            150,
            190
           ]
          ],
          [
           [
            0,
            0,
            0
           ],
           [
            0,
            0,
            0
           ],
           [
            0,
            0,
            0
           ],
           [
            0,
            0,
            0
           ],
           [
            0,
            0,
            0
           ],
           [
            0,
            0,
            0
           ],
           [
            0,
            0,
            0
           ],
           [
            0,
            0,
            0
           ],
           [
            0,
            0,
            0
           ],
           [
            0,
            0,
            0
           ],
           [
            0,
            0,
            0
           ],
           [
            0,
            0,
            0
           ],
           [
            0,
            0,
            0
           ],
           [
            0,
            0,
            0
           ],
           [
            0,
            0,
            0
           ],
           [
            0,
            0,
            0
           ],
           [
            0,
            0,
            0
           ],
           [
            0,
            0,
            0
           ],
           [
            0,
            0,
            0
           ]
          ],
          [
           [
            0,
            0,
            0
           ],
           [
            0,
            0,
            0
           ],
           [
            0,
            0,
            0
           ],
           [
            0,
            0,
            0
           ],
           [
            0,
            0,
            0
           ],
           [
            0,
            0,
            0
           ],
           [
            0,
            0,
            0
           ],
           [
            0,
            0,
            0
           ],
           [
            0,
            0,
            0
           ],
           [
            0,
            0,
            0
           ],
           [
            0,
            0,
            0
           ],
           [
            0,
            0,
            0
           ],
           [
            0,
            0,
            0
           ],
           [
            0,
            0,
            0
           ],
           [
            0,
            0,
            0
           ],
           [
            0,
            0,
            0
           ],
           [
            0,
            0,
            0
           ],
           [
            0,
            0,
            0
           ],
           [
            0,
            0,
            0
           ]
          ],
          [
           [
            255,
            133,
            27
           ],
           [
            255,
            133,
            27
           ],
           [
            255,
            133,
            27
           ],
           [
            255,
            133,
            27
           ],
           [
            255,
            133,
            27
           ],
           [
            255,
            133,
            27
           ],
           [
            255,
            133,
            27
           ],
           [
            255,
            133,
            27
           ],
           [
            255,
            133,
            27
           ],
           [
            255,
            133,
            27
           ],
           [
            255,
            133,
            27
           ],
           [
            255,
            133,
            27
           ],
           [
            255,
            133,
            27
           ],
           [
            255,
            133,
            27
           ],
           [
            255,
            133,
            27
           ],
           [
            255,
            133,
            27
           ],
           [
            255,
            133,
            27
           ],
           [
            255,
            133,
            27
           ],
           [
            255,
            133,
            27
           ]
          ]
         ]
        },
        {
         "type": "image",
         "xaxis": "x2",
         "yaxis": "y2",
         "z": [
          [
           [
            255,
            65,
            54
           ],
           [
            255,
            65,
            54
           ],
           [
            255,
            65,
            54
           ],
           [
            255,
            65,
            54
           ],
           [
            255,
            65,
            54
           ],
           [
            255,
            65,
            54
           ],
           [
            255,
            65,
            54
           ]
          ],
          [
           [
            46,
            204,
            64
           ],
           [
            46,
            204,
            64
           ],
           [
            46,
            204,
            64
           ],
           [
            46,
            204,
            64
           ],
           [
            46,
            204,
            64
           ],
           [
            46,
            204,
            64
           ],
           [
            46,
            204,
            64
           ]
          ],
          [
           [
            127,
            219,
            255
           ],
           [
            127,
            219,
            255
           ],
           [
            127,
            219,
            255
           ],
           [
            127,
            219,
            255
           ],
           [
            127,
            219,
            255
           ],
           [
            127,
            219,
            255
           ],
           [
            127,
            219,
            255
           ]
          ],
          [
           [
            255,
            220,
            0
           ],
           [
            255,
            220,
            0
           ],
           [
            255,
            220,
            0
           ],
           [
            255,
            220,
            0
           ],
           [
            255,
            220,
            0
           ],
           [
            255,
            220,
            0
           ],
           [
            255,
            220,
            0
           ]
          ],
          [
           [
            240,
            18,
            190
           ],
           [
            240,
            18,
            190
           ],
           [
            240,
            18,
            190
           ],
           [
            240,
            18,
            190
           ],
           [
            240,
            18,
            190
           ],
           [
            240,
            18,
            190
           ],
           [
            240,
            18,
            190
           ]
          ],
          [
           [
            37,
            150,
            190
           ],
           [
            37,
            150,
            190
           ],
           [
            37,
            150,
            190
           ],
           [
            37,
            150,
            190
           ],
           [
            37,
            150,
            190
           ],
           [
            37,
            150,
            190
           ],
           [
            37,
            150,
            190
           ]
          ],
          [
           [
            255,
            133,
            27
           ],
           [
            255,
            133,
            27
           ],
           [
            255,
            133,
            27
           ],
           [
            255,
            133,
            27
           ],
           [
            255,
            133,
            27
           ],
           [
            255,
            133,
            27
           ],
           [
            255,
            133,
            27
           ]
          ]
         ]
        }
       ],
       "layout": {
        "height": 400,
        "shapes": [
         {
          "line": {
           "color": "sienna",
           "width": 2
          },
          "type": "line",
          "x0": -0.5,
          "x1": 18.5,
          "xref": "x",
          "y0": -0.5,
          "y1": -0.5,
          "yref": "y"
         },
         {
          "line": {
           "color": "sienna",
           "width": 2
          },
          "type": "line",
          "x0": -0.5,
          "x1": 18.5,
          "xref": "x",
          "y0": 0.5,
          "y1": 0.5,
          "yref": "y"
         },
         {
          "line": {
           "color": "sienna",
           "width": 2
          },
          "type": "line",
          "x0": -0.5,
          "x1": 18.5,
          "xref": "x",
          "y0": 1.5,
          "y1": 1.5,
          "yref": "y"
         },
         {
          "line": {
           "color": "sienna",
           "width": 2
          },
          "type": "line",
          "x0": -0.5,
          "x1": 18.5,
          "xref": "x",
          "y0": 2.5,
          "y1": 2.5,
          "yref": "y"
         },
         {
          "line": {
           "color": "sienna",
           "width": 2
          },
          "type": "line",
          "x0": -0.5,
          "x1": 18.5,
          "xref": "x",
          "y0": 3.5,
          "y1": 3.5,
          "yref": "y"
         },
         {
          "line": {
           "color": "sienna",
           "width": 2
          },
          "type": "line",
          "x0": -0.5,
          "x1": 18.5,
          "xref": "x",
          "y0": 4.5,
          "y1": 4.5,
          "yref": "y"
         },
         {
          "line": {
           "color": "sienna",
           "width": 2
          },
          "type": "line",
          "x0": -0.5,
          "x1": 18.5,
          "xref": "x",
          "y0": 5.5,
          "y1": 5.5,
          "yref": "y"
         },
         {
          "line": {
           "color": "sienna",
           "width": 2
          },
          "type": "line",
          "x0": -0.5,
          "x1": 18.5,
          "xref": "x",
          "y0": 6.5,
          "y1": 6.5,
          "yref": "y"
         },
         {
          "line": {
           "color": "sienna",
           "width": 2
          },
          "type": "line",
          "x0": -0.5,
          "x1": 18.5,
          "xref": "x",
          "y0": 7.5,
          "y1": 7.5,
          "yref": "y"
         },
         {
          "line": {
           "color": "sienna",
           "width": 2
          },
          "type": "line",
          "x0": -0.5,
          "x1": 18.5,
          "xref": "x",
          "y0": 8.5,
          "y1": 8.5,
          "yref": "y"
         },
         {
          "line": {
           "color": "sienna",
           "width": 2
          },
          "type": "line",
          "x0": -0.5,
          "x1": 18.5,
          "xref": "x",
          "y0": 9.5,
          "y1": 9.5,
          "yref": "y"
         },
         {
          "line": {
           "color": "sienna",
           "width": 2
          },
          "type": "line",
          "x0": -0.5,
          "x1": 18.5,
          "xref": "x",
          "y0": 10.5,
          "y1": 10.5,
          "yref": "y"
         },
         {
          "line": {
           "color": "sienna",
           "width": 2
          },
          "type": "line",
          "x0": -0.5,
          "x1": 18.5,
          "xref": "x",
          "y0": 11.5,
          "y1": 11.5,
          "yref": "y"
         },
         {
          "line": {
           "color": "sienna",
           "width": 2
          },
          "type": "line",
          "x0": -0.5,
          "x1": 18.5,
          "xref": "x",
          "y0": 12.5,
          "y1": 12.5,
          "yref": "y"
         },
         {
          "line": {
           "color": "sienna",
           "width": 2
          },
          "type": "line",
          "x0": -0.5,
          "x1": 18.5,
          "xref": "x",
          "y0": 13.5,
          "y1": 13.5,
          "yref": "y"
         },
         {
          "line": {
           "color": "sienna",
           "width": 2
          },
          "type": "line",
          "x0": -0.5,
          "x1": 18.5,
          "xref": "x",
          "y0": 14.5,
          "y1": 14.5,
          "yref": "y"
         },
         {
          "line": {
           "color": "sienna",
           "width": 2
          },
          "type": "line",
          "x0": -0.5,
          "x1": 18.5,
          "xref": "x",
          "y0": 15.5,
          "y1": 15.5,
          "yref": "y"
         },
         {
          "line": {
           "color": "sienna",
           "width": 2
          },
          "type": "line",
          "x0": -0.5,
          "x1": 18.5,
          "xref": "x",
          "y0": 16.5,
          "y1": 16.5,
          "yref": "y"
         },
         {
          "line": {
           "color": "sienna",
           "width": 2
          },
          "type": "line",
          "x0": -0.5,
          "x1": 18.5,
          "xref": "x",
          "y0": 17.5,
          "y1": 17.5,
          "yref": "y"
         },
         {
          "line": {
           "color": "sienna",
           "width": 2
          },
          "type": "line",
          "x0": -0.5,
          "x1": -0.5,
          "xref": "x",
          "y0": -0.5,
          "y1": 18.5,
          "yref": "y"
         },
         {
          "line": {
           "color": "sienna",
           "width": 2
          },
          "type": "line",
          "x0": 0.5,
          "x1": 0.5,
          "xref": "x",
          "y0": -0.5,
          "y1": 18.5,
          "yref": "y"
         },
         {
          "line": {
           "color": "sienna",
           "width": 2
          },
          "type": "line",
          "x0": 1.5,
          "x1": 1.5,
          "xref": "x",
          "y0": -0.5,
          "y1": 18.5,
          "yref": "y"
         },
         {
          "line": {
           "color": "sienna",
           "width": 2
          },
          "type": "line",
          "x0": 2.5,
          "x1": 2.5,
          "xref": "x",
          "y0": -0.5,
          "y1": 18.5,
          "yref": "y"
         },
         {
          "line": {
           "color": "sienna",
           "width": 2
          },
          "type": "line",
          "x0": 3.5,
          "x1": 3.5,
          "xref": "x",
          "y0": -0.5,
          "y1": 18.5,
          "yref": "y"
         },
         {
          "line": {
           "color": "sienna",
           "width": 2
          },
          "type": "line",
          "x0": 4.5,
          "x1": 4.5,
          "xref": "x",
          "y0": -0.5,
          "y1": 18.5,
          "yref": "y"
         },
         {
          "line": {
           "color": "sienna",
           "width": 2
          },
          "type": "line",
          "x0": 5.5,
          "x1": 5.5,
          "xref": "x",
          "y0": -0.5,
          "y1": 18.5,
          "yref": "y"
         },
         {
          "line": {
           "color": "sienna",
           "width": 2
          },
          "type": "line",
          "x0": 6.5,
          "x1": 6.5,
          "xref": "x",
          "y0": -0.5,
          "y1": 18.5,
          "yref": "y"
         },
         {
          "line": {
           "color": "sienna",
           "width": 2
          },
          "type": "line",
          "x0": 7.5,
          "x1": 7.5,
          "xref": "x",
          "y0": -0.5,
          "y1": 18.5,
          "yref": "y"
         },
         {
          "line": {
           "color": "sienna",
           "width": 2
          },
          "type": "line",
          "x0": 8.5,
          "x1": 8.5,
          "xref": "x",
          "y0": -0.5,
          "y1": 18.5,
          "yref": "y"
         },
         {
          "line": {
           "color": "sienna",
           "width": 2
          },
          "type": "line",
          "x0": 9.5,
          "x1": 9.5,
          "xref": "x",
          "y0": -0.5,
          "y1": 18.5,
          "yref": "y"
         },
         {
          "line": {
           "color": "sienna",
           "width": 2
          },
          "type": "line",
          "x0": 10.5,
          "x1": 10.5,
          "xref": "x",
          "y0": -0.5,
          "y1": 18.5,
          "yref": "y"
         },
         {
          "line": {
           "color": "sienna",
           "width": 2
          },
          "type": "line",
          "x0": 11.5,
          "x1": 11.5,
          "xref": "x",
          "y0": -0.5,
          "y1": 18.5,
          "yref": "y"
         },
         {
          "line": {
           "color": "sienna",
           "width": 2
          },
          "type": "line",
          "x0": 12.5,
          "x1": 12.5,
          "xref": "x",
          "y0": -0.5,
          "y1": 18.5,
          "yref": "y"
         },
         {
          "line": {
           "color": "sienna",
           "width": 2
          },
          "type": "line",
          "x0": 13.5,
          "x1": 13.5,
          "xref": "x",
          "y0": -0.5,
          "y1": 18.5,
          "yref": "y"
         },
         {
          "line": {
           "color": "sienna",
           "width": 2
          },
          "type": "line",
          "x0": 14.5,
          "x1": 14.5,
          "xref": "x",
          "y0": -0.5,
          "y1": 18.5,
          "yref": "y"
         },
         {
          "line": {
           "color": "sienna",
           "width": 2
          },
          "type": "line",
          "x0": 15.5,
          "x1": 15.5,
          "xref": "x",
          "y0": -0.5,
          "y1": 18.5,
          "yref": "y"
         },
         {
          "line": {
           "color": "sienna",
           "width": 2
          },
          "type": "line",
          "x0": 16.5,
          "x1": 16.5,
          "xref": "x",
          "y0": -0.5,
          "y1": 18.5,
          "yref": "y"
         },
         {
          "line": {
           "color": "sienna",
           "width": 2
          },
          "type": "line",
          "x0": 17.5,
          "x1": 17.5,
          "xref": "x",
          "y0": -0.5,
          "y1": 18.5,
          "yref": "y"
         },
         {
          "line": {
           "color": "sienna",
           "width": 2
          },
          "type": "line",
          "x0": -0.5,
          "x1": 6.5,
          "xref": "x2",
          "y0": -0.5,
          "y1": -0.5,
          "yref": "y2"
         },
         {
          "line": {
           "color": "sienna",
           "width": 2
          },
          "type": "line",
          "x0": -0.5,
          "x1": 6.5,
          "xref": "x2",
          "y0": 0.5,
          "y1": 0.5,
          "yref": "y2"
         },
         {
          "line": {
           "color": "sienna",
           "width": 2
          },
          "type": "line",
          "x0": -0.5,
          "x1": 6.5,
          "xref": "x2",
          "y0": 1.5,
          "y1": 1.5,
          "yref": "y2"
         },
         {
          "line": {
           "color": "sienna",
           "width": 2
          },
          "type": "line",
          "x0": -0.5,
          "x1": 6.5,
          "xref": "x2",
          "y0": 2.5,
          "y1": 2.5,
          "yref": "y2"
         },
         {
          "line": {
           "color": "sienna",
           "width": 2
          },
          "type": "line",
          "x0": -0.5,
          "x1": 6.5,
          "xref": "x2",
          "y0": 3.5,
          "y1": 3.5,
          "yref": "y2"
         },
         {
          "line": {
           "color": "sienna",
           "width": 2
          },
          "type": "line",
          "x0": -0.5,
          "x1": 6.5,
          "xref": "x2",
          "y0": 4.5,
          "y1": 4.5,
          "yref": "y2"
         },
         {
          "line": {
           "color": "sienna",
           "width": 2
          },
          "type": "line",
          "x0": -0.5,
          "x1": 6.5,
          "xref": "x2",
          "y0": 5.5,
          "y1": 5.5,
          "yref": "y2"
         },
         {
          "line": {
           "color": "sienna",
           "width": 2
          },
          "type": "line",
          "x0": -0.5,
          "x1": -0.5,
          "xref": "x2",
          "y0": -0.5,
          "y1": 6.5,
          "yref": "y2"
         },
         {
          "line": {
           "color": "sienna",
           "width": 2
          },
          "type": "line",
          "x0": 0.5,
          "x1": 0.5,
          "xref": "x2",
          "y0": -0.5,
          "y1": 6.5,
          "yref": "y2"
         },
         {
          "line": {
           "color": "sienna",
           "width": 2
          },
          "type": "line",
          "x0": 1.5,
          "x1": 1.5,
          "xref": "x2",
          "y0": -0.5,
          "y1": 6.5,
          "yref": "y2"
         },
         {
          "line": {
           "color": "sienna",
           "width": 2
          },
          "type": "line",
          "x0": 2.5,
          "x1": 2.5,
          "xref": "x2",
          "y0": -0.5,
          "y1": 6.5,
          "yref": "y2"
         },
         {
          "line": {
           "color": "sienna",
           "width": 2
          },
          "type": "line",
          "x0": 3.5,
          "x1": 3.5,
          "xref": "x2",
          "y0": -0.5,
          "y1": 6.5,
          "yref": "y2"
         },
         {
          "line": {
           "color": "sienna",
           "width": 2
          },
          "type": "line",
          "x0": 4.5,
          "x1": 4.5,
          "xref": "x2",
          "y0": -0.5,
          "y1": 6.5,
          "yref": "y2"
         },
         {
          "line": {
           "color": "sienna",
           "width": 2
          },
          "type": "line",
          "x0": 5.5,
          "x1": 5.5,
          "xref": "x2",
          "y0": -0.5,
          "y1": 6.5,
          "yref": "y2"
         }
        ],
        "template": {
         "data": {
          "bar": [
           {
            "error_x": {
             "color": "#2a3f5f"
            },
            "error_y": {
             "color": "#2a3f5f"
            },
            "marker": {
             "line": {
              "color": "#E5ECF6",
              "width": 0.5
             },
             "pattern": {
              "fillmode": "overlay",
              "size": 10,
              "solidity": 0.2
             }
            },
            "type": "bar"
           }
          ],
          "barpolar": [
           {
            "marker": {
             "line": {
              "color": "#E5ECF6",
              "width": 0.5
             },
             "pattern": {
              "fillmode": "overlay",
              "size": 10,
              "solidity": 0.2
             }
            },
            "type": "barpolar"
           }
          ],
          "carpet": [
           {
            "aaxis": {
             "endlinecolor": "#2a3f5f",
             "gridcolor": "white",
             "linecolor": "white",
             "minorgridcolor": "white",
             "startlinecolor": "#2a3f5f"
            },
            "baxis": {
             "endlinecolor": "#2a3f5f",
             "gridcolor": "white",
             "linecolor": "white",
             "minorgridcolor": "white",
             "startlinecolor": "#2a3f5f"
            },
            "type": "carpet"
           }
          ],
          "choropleth": [
           {
            "colorbar": {
             "outlinewidth": 0,
             "ticks": ""
            },
            "type": "choropleth"
           }
          ],
          "contour": [
           {
            "colorbar": {
             "outlinewidth": 0,
             "ticks": ""
            },
            "colorscale": [
             [
              0,
              "#0d0887"
             ],
             [
              0.1111111111111111,
              "#46039f"
             ],
             [
              0.2222222222222222,
              "#7201a8"
             ],
             [
              0.3333333333333333,
              "#9c179e"
             ],
             [
              0.4444444444444444,
              "#bd3786"
             ],
             [
              0.5555555555555556,
              "#d8576b"
             ],
             [
              0.6666666666666666,
              "#ed7953"
             ],
             [
              0.7777777777777778,
              "#fb9f3a"
             ],
             [
              0.8888888888888888,
              "#fdca26"
             ],
             [
              1,
              "#f0f921"
             ]
            ],
            "type": "contour"
           }
          ],
          "contourcarpet": [
           {
            "colorbar": {
             "outlinewidth": 0,
             "ticks": ""
            },
            "type": "contourcarpet"
           }
          ],
          "heatmap": [
           {
            "colorbar": {
             "outlinewidth": 0,
             "ticks": ""
            },
            "colorscale": [
             [
              0,
              "#0d0887"
             ],
             [
              0.1111111111111111,
              "#46039f"
             ],
             [
              0.2222222222222222,
              "#7201a8"
             ],
             [
              0.3333333333333333,
              "#9c179e"
             ],
             [
              0.4444444444444444,
              "#bd3786"
             ],
             [
              0.5555555555555556,
              "#d8576b"
             ],
             [
              0.6666666666666666,
              "#ed7953"
             ],
             [
              0.7777777777777778,
              "#fb9f3a"
             ],
             [
              0.8888888888888888,
              "#fdca26"
             ],
             [
              1,
              "#f0f921"
             ]
            ],
            "type": "heatmap"
           }
          ],
          "heatmapgl": [
           {
            "colorbar": {
             "outlinewidth": 0,
             "ticks": ""
            },
            "colorscale": [
             [
              0,
              "#0d0887"
             ],
             [
              0.1111111111111111,
              "#46039f"
             ],
             [
              0.2222222222222222,
              "#7201a8"
             ],
             [
              0.3333333333333333,
              "#9c179e"
             ],
             [
              0.4444444444444444,
              "#bd3786"
             ],
             [
              0.5555555555555556,
              "#d8576b"
             ],
             [
              0.6666666666666666,
              "#ed7953"
             ],
             [
              0.7777777777777778,
              "#fb9f3a"
             ],
             [
              0.8888888888888888,
              "#fdca26"
             ],
             [
              1,
              "#f0f921"
             ]
            ],
            "type": "heatmapgl"
           }
          ],
          "histogram": [
           {
            "marker": {
             "pattern": {
              "fillmode": "overlay",
              "size": 10,
              "solidity": 0.2
             }
            },
            "type": "histogram"
           }
          ],
          "histogram2d": [
           {
            "colorbar": {
             "outlinewidth": 0,
             "ticks": ""
            },
            "colorscale": [
             [
              0,
              "#0d0887"
             ],
             [
              0.1111111111111111,
              "#46039f"
             ],
             [
              0.2222222222222222,
              "#7201a8"
             ],
             [
              0.3333333333333333,
              "#9c179e"
             ],
             [
              0.4444444444444444,
              "#bd3786"
             ],
             [
              0.5555555555555556,
              "#d8576b"
             ],
             [
              0.6666666666666666,
              "#ed7953"
             ],
             [
              0.7777777777777778,
              "#fb9f3a"
             ],
             [
              0.8888888888888888,
              "#fdca26"
             ],
             [
              1,
              "#f0f921"
             ]
            ],
            "type": "histogram2d"
           }
          ],
          "histogram2dcontour": [
           {
            "colorbar": {
             "outlinewidth": 0,
             "ticks": ""
            },
            "colorscale": [
             [
              0,
              "#0d0887"
             ],
             [
              0.1111111111111111,
              "#46039f"
             ],
             [
              0.2222222222222222,
              "#7201a8"
             ],
             [
              0.3333333333333333,
              "#9c179e"
             ],
             [
              0.4444444444444444,
              "#bd3786"
             ],
             [
              0.5555555555555556,
              "#d8576b"
             ],
             [
              0.6666666666666666,
              "#ed7953"
             ],
             [
              0.7777777777777778,
              "#fb9f3a"
             ],
             [
              0.8888888888888888,
              "#fdca26"
             ],
             [
              1,
              "#f0f921"
             ]
            ],
            "type": "histogram2dcontour"
           }
          ],
          "mesh3d": [
           {
            "colorbar": {
             "outlinewidth": 0,
             "ticks": ""
            },
            "type": "mesh3d"
           }
          ],
          "parcoords": [
           {
            "line": {
             "colorbar": {
              "outlinewidth": 0,
              "ticks": ""
             }
            },
            "type": "parcoords"
           }
          ],
          "pie": [
           {
            "automargin": true,
            "type": "pie"
           }
          ],
          "scatter": [
           {
            "fillpattern": {
             "fillmode": "overlay",
             "size": 10,
             "solidity": 0.2
            },
            "type": "scatter"
           }
          ],
          "scatter3d": [
           {
            "line": {
             "colorbar": {
              "outlinewidth": 0,
              "ticks": ""
             }
            },
            "marker": {
             "colorbar": {
              "outlinewidth": 0,
              "ticks": ""
             }
            },
            "type": "scatter3d"
           }
          ],
          "scattercarpet": [
           {
            "marker": {
             "colorbar": {
              "outlinewidth": 0,
              "ticks": ""
             }
            },
            "type": "scattercarpet"
           }
          ],
          "scattergeo": [
           {
            "marker": {
             "colorbar": {
              "outlinewidth": 0,
              "ticks": ""
             }
            },
            "type": "scattergeo"
           }
          ],
          "scattergl": [
           {
            "marker": {
             "colorbar": {
              "outlinewidth": 0,
              "ticks": ""
             }
            },
            "type": "scattergl"
           }
          ],
          "scattermapbox": [
           {
            "marker": {
             "colorbar": {
              "outlinewidth": 0,
              "ticks": ""
             }
            },
            "type": "scattermapbox"
           }
          ],
          "scatterpolar": [
           {
            "marker": {
             "colorbar": {
              "outlinewidth": 0,
              "ticks": ""
             }
            },
            "type": "scatterpolar"
           }
          ],
          "scatterpolargl": [
           {
            "marker": {
             "colorbar": {
              "outlinewidth": 0,
              "ticks": ""
             }
            },
            "type": "scatterpolargl"
           }
          ],
          "scatterternary": [
           {
            "marker": {
             "colorbar": {
              "outlinewidth": 0,
              "ticks": ""
             }
            },
            "type": "scatterternary"
           }
          ],
          "surface": [
           {
            "colorbar": {
             "outlinewidth": 0,
             "ticks": ""
            },
            "colorscale": [
             [
              0,
              "#0d0887"
             ],
             [
              0.1111111111111111,
              "#46039f"
             ],
             [
              0.2222222222222222,
              "#7201a8"
             ],
             [
              0.3333333333333333,
              "#9c179e"
             ],
             [
              0.4444444444444444,
              "#bd3786"
             ],
             [
              0.5555555555555556,
              "#d8576b"
             ],
             [
              0.6666666666666666,
              "#ed7953"
             ],
             [
              0.7777777777777778,
              "#fb9f3a"
             ],
             [
              0.8888888888888888,
              "#fdca26"
             ],
             [
              1,
              "#f0f921"
             ]
            ],
            "type": "surface"
           }
          ],
          "table": [
           {
            "cells": {
             "fill": {
              "color": "#EBF0F8"
             },
             "line": {
              "color": "white"
             }
            },
            "header": {
             "fill": {
              "color": "#C8D4E3"
             },
             "line": {
              "color": "white"
             }
            },
            "type": "table"
           }
          ]
         },
         "layout": {
          "annotationdefaults": {
           "arrowcolor": "#2a3f5f",
           "arrowhead": 0,
           "arrowwidth": 1
          },
          "autotypenumbers": "strict",
          "coloraxis": {
           "colorbar": {
            "outlinewidth": 0,
            "ticks": ""
           }
          },
          "colorscale": {
           "diverging": [
            [
             0,
             "#8e0152"
            ],
            [
             0.1,
             "#c51b7d"
            ],
            [
             0.2,
             "#de77ae"
            ],
            [
             0.3,
             "#f1b6da"
            ],
            [
             0.4,
             "#fde0ef"
            ],
            [
             0.5,
             "#f7f7f7"
            ],
            [
             0.6,
             "#e6f5d0"
            ],
            [
             0.7,
             "#b8e186"
            ],
            [
             0.8,
             "#7fbc41"
            ],
            [
             0.9,
             "#4d9221"
            ],
            [
             1,
             "#276419"
            ]
           ],
           "sequential": [
            [
             0,
             "#0d0887"
            ],
            [
             0.1111111111111111,
             "#46039f"
            ],
            [
             0.2222222222222222,
             "#7201a8"
            ],
            [
             0.3333333333333333,
             "#9c179e"
            ],
            [
             0.4444444444444444,
             "#bd3786"
            ],
            [
             0.5555555555555556,
             "#d8576b"
            ],
            [
             0.6666666666666666,
             "#ed7953"
            ],
            [
             0.7777777777777778,
             "#fb9f3a"
            ],
            [
             0.8888888888888888,
             "#fdca26"
            ],
            [
             1,
             "#f0f921"
            ]
           ],
           "sequentialminus": [
            [
             0,
             "#0d0887"
            ],
            [
             0.1111111111111111,
             "#46039f"
            ],
            [
             0.2222222222222222,
             "#7201a8"
            ],
            [
             0.3333333333333333,
             "#9c179e"
            ],
            [
             0.4444444444444444,
             "#bd3786"
            ],
            [
             0.5555555555555556,
             "#d8576b"
            ],
            [
             0.6666666666666666,
             "#ed7953"
            ],
            [
             0.7777777777777778,
             "#fb9f3a"
            ],
            [
             0.8888888888888888,
             "#fdca26"
            ],
            [
             1,
             "#f0f921"
            ]
           ]
          },
          "colorway": [
           "#636efa",
           "#EF553B",
           "#00cc96",
           "#ab63fa",
           "#FFA15A",
           "#19d3f3",
           "#FF6692",
           "#B6E880",
           "#FF97FF",
           "#FECB52"
          ],
          "font": {
           "color": "#2a3f5f"
          },
          "geo": {
           "bgcolor": "white",
           "lakecolor": "white",
           "landcolor": "#E5ECF6",
           "showlakes": true,
           "showland": true,
           "subunitcolor": "white"
          },
          "hoverlabel": {
           "align": "left"
          },
          "hovermode": "closest",
          "mapbox": {
           "style": "light"
          },
          "paper_bgcolor": "white",
          "plot_bgcolor": "#E5ECF6",
          "polar": {
           "angularaxis": {
            "gridcolor": "white",
            "linecolor": "white",
            "ticks": ""
           },
           "bgcolor": "#E5ECF6",
           "radialaxis": {
            "gridcolor": "white",
            "linecolor": "white",
            "ticks": ""
           }
          },
          "scene": {
           "xaxis": {
            "backgroundcolor": "#E5ECF6",
            "gridcolor": "white",
            "gridwidth": 2,
            "linecolor": "white",
            "showbackground": true,
            "ticks": "",
            "zerolinecolor": "white"
           },
           "yaxis": {
            "backgroundcolor": "#E5ECF6",
            "gridcolor": "white",
            "gridwidth": 2,
            "linecolor": "white",
            "showbackground": true,
            "ticks": "",
            "zerolinecolor": "white"
           },
           "zaxis": {
            "backgroundcolor": "#E5ECF6",
            "gridcolor": "white",
            "gridwidth": 2,
            "linecolor": "white",
            "showbackground": true,
            "ticks": "",
            "zerolinecolor": "white"
           }
          },
          "shapedefaults": {
           "line": {
            "color": "#2a3f5f"
           }
          },
          "ternary": {
           "aaxis": {
            "gridcolor": "white",
            "linecolor": "white",
            "ticks": ""
           },
           "baxis": {
            "gridcolor": "white",
            "linecolor": "white",
            "ticks": ""
           },
           "bgcolor": "#E5ECF6",
           "caxis": {
            "gridcolor": "white",
            "linecolor": "white",
            "ticks": ""
           }
          },
          "title": {
           "x": 0.05
          },
          "xaxis": {
           "automargin": true,
           "gridcolor": "white",
           "linecolor": "white",
           "ticks": "",
           "title": {
            "standoff": 15
           },
           "zerolinecolor": "white",
           "zerolinewidth": 2
          },
          "yaxis": {
           "automargin": true,
           "gridcolor": "white",
           "linecolor": "white",
           "ticks": "",
           "title": {
            "standoff": 15
           },
           "zerolinecolor": "white",
           "zerolinewidth": 2
          }
         }
        },
        "xaxis": {
         "anchor": "y",
         "domain": [
          0,
          0.45
         ]
        },
        "xaxis2": {
         "anchor": "y2",
         "domain": [
          0.55,
          1
         ]
        },
        "yaxis": {
         "anchor": "x",
         "domain": [
          0,
          1
         ]
        },
        "yaxis2": {
         "anchor": "x2",
         "domain": [
          0,
          1
         ]
        }
       }
      }
     },
     "metadata": {},
     "output_type": "display_data"
    },
    {
     "name": "stdout",
     "output_type": "stream",
     "text": [
      "a699fb00-train\n"
     ]
    },
    {
     "data": {
      "application/vnd.plotly.v1+json": {
       "config": {
        "plotlyServerURL": "https://plot.ly"
       },
       "data": [
        {
         "type": "image",
         "xaxis": "x",
         "yaxis": "y",
         "z": [
          [
           [
            37,
            150,
            190
           ],
           [
            0,
            0,
            0
           ],
           [
            37,
            150,
            190
           ],
           [
            0,
            0,
            0
           ],
           [
            0,
            0,
            0
           ]
          ],
          [
           [
            0,
            0,
            0
           ],
           [
            0,
            0,
            0
           ],
           [
            0,
            0,
            0
           ],
           [
            0,
            0,
            0
           ],
           [
            0,
            0,
            0
           ]
          ],
          [
           [
            0,
            0,
            0
           ],
           [
            0,
            0,
            0
           ],
           [
            0,
            0,
            0
           ],
           [
            0,
            0,
            0
           ],
           [
            0,
            0,
            0
           ]
          ],
          [
           [
            0,
            0,
            0
           ],
           [
            37,
            150,
            190
           ],
           [
            0,
            0,
            0
           ],
           [
            37,
            150,
            190
           ],
           [
            0,
            0,
            0
           ]
          ],
          [
           [
            0,
            0,
            0
           ],
           [
            0,
            0,
            0
           ],
           [
            0,
            0,
            0
           ],
           [
            0,
            0,
            0
           ],
           [
            0,
            0,
            0
           ]
          ]
         ]
        },
        {
         "type": "image",
         "xaxis": "x2",
         "yaxis": "y2",
         "z": [
          [
           [
            37,
            150,
            190
           ],
           [
            255,
            65,
            54
           ],
           [
            37,
            150,
            190
           ],
           [
            0,
            0,
            0
           ],
           [
            0,
            0,
            0
           ]
          ],
          [
           [
            0,
            0,
            0
           ],
           [
            0,
            0,
            0
           ],
           [
            0,
            0,
            0
           ],
           [
            0,
            0,
            0
           ],
           [
            0,
            0,
            0
           ]
          ],
          [
           [
            0,
            0,
            0
           ],
           [
            0,
            0,
            0
           ],
           [
            0,
            0,
            0
           ],
           [
            0,
            0,
            0
           ],
           [
            0,
            0,
            0
           ]
          ],
          [
           [
            0,
            0,
            0
           ],
           [
            37,
            150,
            190
           ],
           [
            255,
            65,
            54
           ],
           [
            37,
            150,
            190
           ],
           [
            0,
            0,
            0
           ]
          ],
          [
           [
            0,
            0,
            0
           ],
           [
            0,
            0,
            0
           ],
           [
            0,
            0,
            0
           ],
           [
            0,
            0,
            0
           ],
           [
            0,
            0,
            0
           ]
          ]
         ]
        },
        {
         "type": "image",
         "xaxis": "x3",
         "yaxis": "y3",
         "z": [
          [
           [
            0,
            0,
            0
           ],
           [
            0,
            0,
            0
           ],
           [
            0,
            0,
            0
           ],
           [
            0,
            0,
            0
           ],
           [
            0,
            0,
            0
           ],
           [
            0,
            0,
            0
           ],
           [
            0,
            0,
            0
           ],
           [
            0,
            0,
            0
           ],
           [
            0,
            0,
            0
           ],
           [
            0,
            0,
            0
           ]
          ],
          [
           [
            0,
            0,
            0
           ],
           [
            37,
            150,
            190
           ],
           [
            0,
            0,
            0
           ],
           [
            37,
            150,
            190
           ],
           [
            0,
            0,
            0
           ],
           [
            37,
            150,
            190
           ],
           [
            0,
            0,
            0
           ],
           [
            37,
            150,
            190
           ],
           [
            0,
            0,
            0
           ],
           [
            0,
            0,
            0
           ]
          ],
          [
           [
            0,
            0,
            0
           ],
           [
            0,
            0,
            0
           ],
           [
            0,
            0,
            0
           ],
           [
            0,
            0,
            0
           ],
           [
            0,
            0,
            0
           ],
           [
            0,
            0,
            0
           ],
           [
            0,
            0,
            0
           ],
           [
            0,
            0,
            0
           ],
           [
            0,
            0,
            0
           ],
           [
            0,
            0,
            0
           ]
          ],
          [
           [
            0,
            0,
            0
           ],
           [
            0,
            0,
            0
           ],
           [
            0,
            0,
            0
           ],
           [
            0,
            0,
            0
           ],
           [
            0,
            0,
            0
           ],
           [
            0,
            0,
            0
           ],
           [
            0,
            0,
            0
           ],
           [
            0,
            0,
            0
           ],
           [
            0,
            0,
            0
           ],
           [
            0,
            0,
            0
           ]
          ],
          [
           [
            0,
            0,
            0
           ],
           [
            0,
            0,
            0
           ],
           [
            37,
            150,
            190
           ],
           [
            0,
            0,
            0
           ],
           [
            37,
            150,
            190
           ],
           [
            0,
            0,
            0
           ],
           [
            0,
            0,
            0
           ],
           [
            0,
            0,
            0
           ],
           [
            0,
            0,
            0
           ],
           [
            0,
            0,
            0
           ]
          ],
          [
           [
            0,
            0,
            0
           ],
           [
            0,
            0,
            0
           ],
           [
            0,
            0,
            0
           ],
           [
            0,
            0,
            0
           ],
           [
            0,
            0,
            0
           ],
           [
            0,
            0,
            0
           ],
           [
            0,
            0,
            0
           ],
           [
            0,
            0,
            0
           ],
           [
            0,
            0,
            0
           ],
           [
            0,
            0,
            0
           ]
          ],
          [
           [
            0,
            0,
            0
           ],
           [
            0,
            0,
            0
           ],
           [
            0,
            0,
            0
           ],
           [
            0,
            0,
            0
           ],
           [
            0,
            0,
            0
           ],
           [
            0,
            0,
            0
           ],
           [
            37,
            150,
            190
           ],
           [
            0,
            0,
            0
           ],
           [
            37,
            150,
            190
           ],
           [
            0,
            0,
            0
           ]
          ],
          [
           [
            0,
            0,
            0
           ],
           [
            0,
            0,
            0
           ],
           [
            0,
            0,
            0
           ],
           [
            0,
            0,
            0
           ],
           [
            0,
            0,
            0
           ],
           [
            0,
            0,
            0
           ],
           [
            0,
            0,
            0
           ],
           [
            0,
            0,
            0
           ],
           [
            0,
            0,
            0
           ],
           [
            0,
            0,
            0
           ]
          ],
          [
           [
            0,
            0,
            0
           ],
           [
            0,
            0,
            0
           ],
           [
            0,
            0,
            0
           ],
           [
            37,
            150,
            190
           ],
           [
            0,
            0,
            0
           ],
           [
            37,
            150,
            190
           ],
           [
            0,
            0,
            0
           ],
           [
            0,
            0,
            0
           ],
           [
            0,
            0,
            0
           ],
           [
            0,
            0,
            0
           ]
          ],
          [
           [
            0,
            0,
            0
           ],
           [
            0,
            0,
            0
           ],
           [
            0,
            0,
            0
           ],
           [
            0,
            0,
            0
           ],
           [
            0,
            0,
            0
           ],
           [
            0,
            0,
            0
           ],
           [
            0,
            0,
            0
           ],
           [
            0,
            0,
            0
           ],
           [
            0,
            0,
            0
           ],
           [
            0,
            0,
            0
           ]
          ]
         ]
        },
        {
         "type": "image",
         "xaxis": "x4",
         "yaxis": "y4",
         "z": [
          [
           [
            0,
            0,
            0
           ],
           [
            0,
            0,
            0
           ],
           [
            0,
            0,
            0
           ],
           [
            0,
            0,
            0
           ],
           [
            0,
            0,
            0
           ],
           [
            0,
            0,
            0
           ],
           [
            0,
            0,
            0
           ],
           [
            0,
            0,
            0
           ],
           [
            0,
            0,
            0
           ],
           [
            0,
            0,
            0
           ]
          ],
          [
           [
            0,
            0,
            0
           ],
           [
            37,
            150,
            190
           ],
           [
            255,
            65,
            54
           ],
           [
            37,
            150,
            190
           ],
           [
            255,
            65,
            54
           ],
           [
            37,
            150,
            190
           ],
           [
            255,
            65,
            54
           ],
           [
            37,
            150,
            190
           ],
           [
            0,
            0,
            0
           ],
           [
            0,
            0,
            0
           ]
          ],
          [
           [
            0,
            0,
            0
           ],
           [
            0,
            0,
            0
           ],
           [
            0,
            0,
            0
           ],
           [
            0,
            0,
            0
           ],
           [
            0,
            0,
            0
           ],
           [
            0,
            0,
            0
           ],
           [
            0,
            0,
            0
           ],
           [
            0,
            0,
            0
           ],
           [
            0,
            0,
            0
           ],
           [
            0,
            0,
            0
           ]
          ],
          [
           [
            0,
            0,
            0
           ],
           [
            0,
            0,
            0
           ],
           [
            0,
            0,
            0
           ],
           [
            0,
            0,
            0
           ],
           [
            0,
            0,
            0
           ],
           [
            0,
            0,
            0
           ],
           [
            0,
            0,
            0
           ],
           [
            0,
            0,
            0
           ],
           [
            0,
            0,
            0
           ],
           [
            0,
            0,
            0
           ]
          ],
          [
           [
            0,
            0,
            0
           ],
           [
            0,
            0,
            0
           ],
           [
            37,
            150,
            190
           ],
           [
            255,
            65,
            54
           ],
           [
            37,
            150,
            190
           ],
           [
            0,
            0,
            0
           ],
           [
            0,
            0,
            0
           ],
           [
            0,
            0,
            0
           ],
           [
            0,
            0,
            0
           ],
           [
            0,
            0,
            0
           ]
          ],
          [
           [
            0,
            0,
            0
           ],
           [
            0,
            0,
            0
           ],
           [
            0,
            0,
            0
           ],
           [
            0,
            0,
            0
           ],
           [
            0,
            0,
            0
           ],
           [
            0,
            0,
            0
           ],
           [
            0,
            0,
            0
           ],
           [
            0,
            0,
            0
           ],
           [
            0,
            0,
            0
           ],
           [
            0,
            0,
            0
           ]
          ],
          [
           [
            0,
            0,
            0
           ],
           [
            0,
            0,
            0
           ],
           [
            0,
            0,
            0
           ],
           [
            0,
            0,
            0
           ],
           [
            0,
            0,
            0
           ],
           [
            0,
            0,
            0
           ],
           [
            37,
            150,
            190
           ],
           [
            255,
            65,
            54
           ],
           [
            37,
            150,
            190
           ],
           [
            0,
            0,
            0
           ]
          ],
          [
           [
            0,
            0,
            0
           ],
           [
            0,
            0,
            0
           ],
           [
            0,
            0,
            0
           ],
           [
            0,
            0,
            0
           ],
           [
            0,
            0,
            0
           ],
           [
            0,
            0,
            0
           ],
           [
            0,
            0,
            0
           ],
           [
            0,
            0,
            0
           ],
           [
            0,
            0,
            0
           ],
           [
            0,
            0,
            0
           ]
          ],
          [
           [
            0,
            0,
            0
           ],
           [
            0,
            0,
            0
           ],
           [
            0,
            0,
            0
           ],
           [
            37,
            150,
            190
           ],
           [
            255,
            65,
            54
           ],
           [
            37,
            150,
            190
           ],
           [
            0,
            0,
            0
           ],
           [
            0,
            0,
            0
           ],
           [
            0,
            0,
            0
           ],
           [
            0,
            0,
            0
           ]
          ],
          [
           [
            0,
            0,
            0
           ],
           [
            0,
            0,
            0
           ],
           [
            0,
            0,
            0
           ],
           [
            0,
            0,
            0
           ],
           [
            0,
            0,
            0
           ],
           [
            0,
            0,
            0
           ],
           [
            0,
            0,
            0
           ],
           [
            0,
            0,
            0
           ],
           [
            0,
            0,
            0
           ],
           [
            0,
            0,
            0
           ]
          ]
         ]
        },
        {
         "type": "image",
         "xaxis": "x5",
         "yaxis": "y5",
         "z": [
          [
           [
            0,
            0,
            0
           ],
           [
            0,
            0,
            0
           ],
           [
            0,
            0,
            0
           ],
           [
            0,
            0,
            0
           ],
           [
            0,
            0,
            0
           ],
           [
            0,
            0,
            0
           ],
           [
            0,
            0,
            0
           ],
           [
            0,
            0,
            0
           ],
           [
            0,
            0,
            0
           ],
           [
            0,
            0,
            0
           ]
          ],
          [
           [
            0,
            0,
            0
           ],
           [
            0,
            0,
            0
           ],
           [
            0,
            0,
            0
           ],
           [
            0,
            0,
            0
           ],
           [
            0,
            0,
            0
           ],
           [
            0,
            0,
            0
           ],
           [
            37,
            150,
            190
           ],
           [
            0,
            0,
            0
           ],
           [
            37,
            150,
            190
           ],
           [
            0,
            0,
            0
           ]
          ],
          [
           [
            0,
            0,
            0
           ],
           [
            37,
            150,
            190
           ],
           [
            0,
            0,
            0
           ],
           [
            37,
            150,
            190
           ],
           [
            0,
            0,
            0
           ],
           [
            0,
            0,
            0
           ],
           [
            0,
            0,
            0
           ],
           [
            0,
            0,
            0
           ],
           [
            0,
            0,
            0
           ],
           [
            0,
            0,
            0
           ]
          ],
          [
           [
            0,
            0,
            0
           ],
           [
            0,
            0,
            0
           ],
           [
            0,
            0,
            0
           ],
           [
            0,
            0,
            0
           ],
           [
            0,
            0,
            0
           ],
           [
            0,
            0,
            0
           ],
           [
            0,
            0,
            0
           ],
           [
            0,
            0,
            0
           ],
           [
            0,
            0,
            0
           ],
           [
            0,
            0,
            0
           ]
          ],
          [
           [
            0,
            0,
            0
           ],
           [
            0,
            0,
            0
           ],
           [
            0,
            0,
            0
           ],
           [
            0,
            0,
            0
           ],
           [
            0,
            0,
            0
           ],
           [
            0,
            0,
            0
           ],
           [
            0,
            0,
            0
           ],
           [
            0,
            0,
            0
           ],
           [
            0,
            0,
            0
           ],
           [
            0,
            0,
            0
           ]
          ],
          [
           [
            0,
            0,
            0
           ],
           [
            0,
            0,
            0
           ],
           [
            0,
            0,
            0
           ],
           [
            37,
            150,
            190
           ],
           [
            0,
            0,
            0
           ],
           [
            37,
            150,
            190
           ],
           [
            0,
            0,
            0
           ],
           [
            37,
            150,
            190
           ],
           [
            0,
            0,
            0
           ],
           [
            0,
            0,
            0
           ]
          ],
          [
           [
            0,
            0,
            0
           ],
           [
            0,
            0,
            0
           ],
           [
            0,
            0,
            0
           ],
           [
            0,
            0,
            0
           ],
           [
            0,
            0,
            0
           ],
           [
            0,
            0,
            0
           ],
           [
            0,
            0,
            0
           ],
           [
            0,
            0,
            0
           ],
           [
            0,
            0,
            0
           ],
           [
            0,
            0,
            0
           ]
          ],
          [
           [
            0,
            0,
            0
           ],
           [
            0,
            0,
            0
           ],
           [
            0,
            0,
            0
           ],
           [
            0,
            0,
            0
           ],
           [
            37,
            150,
            190
           ],
           [
            0,
            0,
            0
           ],
           [
            37,
            150,
            190
           ],
           [
            0,
            0,
            0
           ],
           [
            0,
            0,
            0
           ],
           [
            0,
            0,
            0
           ]
          ],
          [
           [
            0,
            0,
            0
           ],
           [
            0,
            0,
            0
           ],
           [
            0,
            0,
            0
           ],
           [
            0,
            0,
            0
           ],
           [
            0,
            0,
            0
           ],
           [
            0,
            0,
            0
           ],
           [
            0,
            0,
            0
           ],
           [
            0,
            0,
            0
           ],
           [
            0,
            0,
            0
           ],
           [
            0,
            0,
            0
           ]
          ],
          [
           [
            0,
            0,
            0
           ],
           [
            37,
            150,
            190
           ],
           [
            0,
            0,
            0
           ],
           [
            37,
            150,
            190
           ],
           [
            0,
            0,
            0
           ],
           [
            0,
            0,
            0
           ],
           [
            0,
            0,
            0
           ],
           [
            0,
            0,
            0
           ],
           [
            0,
            0,
            0
           ],
           [
            0,
            0,
            0
           ]
          ]
         ]
        },
        {
         "type": "image",
         "xaxis": "x6",
         "yaxis": "y6",
         "z": [
          [
           [
            0,
            0,
            0
           ],
           [
            0,
            0,
            0
           ],
           [
            0,
            0,
            0
           ],
           [
            0,
            0,
            0
           ],
           [
            0,
            0,
            0
           ],
           [
            0,
            0,
            0
           ],
           [
            0,
            0,
            0
           ],
           [
            0,
            0,
            0
           ],
           [
            0,
            0,
            0
           ],
           [
            0,
            0,
            0
           ]
          ],
          [
           [
            0,
            0,
            0
           ],
           [
            0,
            0,
            0
           ],
           [
            0,
            0,
            0
           ],
           [
            0,
            0,
            0
           ],
           [
            0,
            0,
            0
           ],
           [
            0,
            0,
            0
           ],
           [
            37,
            150,
            190
           ],
           [
            255,
            65,
            54
           ],
           [
            37,
            150,
            190
           ],
           [
            0,
            0,
            0
           ]
          ],
          [
           [
            0,
            0,
            0
           ],
           [
            37,
            150,
            190
           ],
           [
            255,
            65,
            54
           ],
           [
            37,
            150,
            190
           ],
           [
            0,
            0,
            0
           ],
           [
            0,
            0,
            0
           ],
           [
            0,
            0,
            0
           ],
           [
            0,
            0,
            0
           ],
           [
            0,
            0,
            0
           ],
           [
            0,
            0,
            0
           ]
          ],
          [
           [
            0,
            0,
            0
           ],
           [
            0,
            0,
            0
           ],
           [
            0,
            0,
            0
           ],
           [
            0,
            0,
            0
           ],
           [
            0,
            0,
            0
           ],
           [
            0,
            0,
            0
           ],
           [
            0,
            0,
            0
           ],
           [
            0,
            0,
            0
           ],
           [
            0,
            0,
            0
           ],
           [
            0,
            0,
            0
           ]
          ],
          [
           [
            0,
            0,
            0
           ],
           [
            0,
            0,
            0
           ],
           [
            0,
            0,
            0
           ],
           [
            0,
            0,
            0
           ],
           [
            0,
            0,
            0
           ],
           [
            0,
            0,
            0
           ],
           [
            0,
            0,
            0
           ],
           [
            0,
            0,
            0
           ],
           [
            0,
            0,
            0
           ],
           [
            0,
            0,
            0
           ]
          ],
          [
           [
            0,
            0,
            0
           ],
           [
            0,
            0,
            0
           ],
           [
            0,
            0,
            0
           ],
           [
            37,
            150,
            190
           ],
           [
            255,
            65,
            54
           ],
           [
            37,
            150,
            190
           ],
           [
            255,
            65,
            54
           ],
           [
            37,
            150,
            190
           ],
           [
            0,
            0,
            0
           ],
           [
            0,
            0,
            0
           ]
          ],
          [
           [
            0,
            0,
            0
           ],
           [
            0,
            0,
            0
           ],
           [
            0,
            0,
            0
           ],
           [
            0,
            0,
            0
           ],
           [
            0,
            0,
            0
           ],
           [
            0,
            0,
            0
           ],
           [
            0,
            0,
            0
           ],
           [
            0,
            0,
            0
           ],
           [
            0,
            0,
            0
           ],
           [
            0,
            0,
            0
           ]
          ],
          [
           [
            0,
            0,
            0
           ],
           [
            0,
            0,
            0
           ],
           [
            0,
            0,
            0
           ],
           [
            0,
            0,
            0
           ],
           [
            37,
            150,
            190
           ],
           [
            255,
            65,
            54
           ],
           [
            37,
            150,
            190
           ],
           [
            0,
            0,
            0
           ],
           [
            0,
            0,
            0
           ],
           [
            0,
            0,
            0
           ]
          ],
          [
           [
            0,
            0,
            0
           ],
           [
            0,
            0,
            0
           ],
           [
            0,
            0,
            0
           ],
           [
            0,
            0,
            0
           ],
           [
            0,
            0,
            0
           ],
           [
            0,
            0,
            0
           ],
           [
            0,
            0,
            0
           ],
           [
            0,
            0,
            0
           ],
           [
            0,
            0,
            0
           ],
           [
            0,
            0,
            0
           ]
          ],
          [
           [
            0,
            0,
            0
           ],
           [
            37,
            150,
            190
           ],
           [
            255,
            65,
            54
           ],
           [
            37,
            150,
            190
           ],
           [
            0,
            0,
            0
           ],
           [
            0,
            0,
            0
           ],
           [
            0,
            0,
            0
           ],
           [
            0,
            0,
            0
           ],
           [
            0,
            0,
            0
           ],
           [
            0,
            0,
            0
           ]
          ]
         ]
        }
       ],
       "layout": {
        "height": 1200,
        "shapes": [
         {
          "line": {
           "color": "sienna",
           "width": 2
          },
          "type": "line",
          "x0": -0.5,
          "x1": 4.5,
          "xref": "x",
          "y0": -0.5,
          "y1": -0.5,
          "yref": "y"
         },
         {
          "line": {
           "color": "sienna",
           "width": 2
          },
          "type": "line",
          "x0": -0.5,
          "x1": 4.5,
          "xref": "x",
          "y0": 0.5,
          "y1": 0.5,
          "yref": "y"
         },
         {
          "line": {
           "color": "sienna",
           "width": 2
          },
          "type": "line",
          "x0": -0.5,
          "x1": 4.5,
          "xref": "x",
          "y0": 1.5,
          "y1": 1.5,
          "yref": "y"
         },
         {
          "line": {
           "color": "sienna",
           "width": 2
          },
          "type": "line",
          "x0": -0.5,
          "x1": 4.5,
          "xref": "x",
          "y0": 2.5,
          "y1": 2.5,
          "yref": "y"
         },
         {
          "line": {
           "color": "sienna",
           "width": 2
          },
          "type": "line",
          "x0": -0.5,
          "x1": 4.5,
          "xref": "x",
          "y0": 3.5,
          "y1": 3.5,
          "yref": "y"
         },
         {
          "line": {
           "color": "sienna",
           "width": 2
          },
          "type": "line",
          "x0": -0.5,
          "x1": -0.5,
          "xref": "x",
          "y0": -0.5,
          "y1": 4.5,
          "yref": "y"
         },
         {
          "line": {
           "color": "sienna",
           "width": 2
          },
          "type": "line",
          "x0": 0.5,
          "x1": 0.5,
          "xref": "x",
          "y0": -0.5,
          "y1": 4.5,
          "yref": "y"
         },
         {
          "line": {
           "color": "sienna",
           "width": 2
          },
          "type": "line",
          "x0": 1.5,
          "x1": 1.5,
          "xref": "x",
          "y0": -0.5,
          "y1": 4.5,
          "yref": "y"
         },
         {
          "line": {
           "color": "sienna",
           "width": 2
          },
          "type": "line",
          "x0": 2.5,
          "x1": 2.5,
          "xref": "x",
          "y0": -0.5,
          "y1": 4.5,
          "yref": "y"
         },
         {
          "line": {
           "color": "sienna",
           "width": 2
          },
          "type": "line",
          "x0": 3.5,
          "x1": 3.5,
          "xref": "x",
          "y0": -0.5,
          "y1": 4.5,
          "yref": "y"
         },
         {
          "line": {
           "color": "sienna",
           "width": 2
          },
          "type": "line",
          "x0": -0.5,
          "x1": 4.5,
          "xref": "x2",
          "y0": -0.5,
          "y1": -0.5,
          "yref": "y2"
         },
         {
          "line": {
           "color": "sienna",
           "width": 2
          },
          "type": "line",
          "x0": -0.5,
          "x1": 4.5,
          "xref": "x2",
          "y0": 0.5,
          "y1": 0.5,
          "yref": "y2"
         },
         {
          "line": {
           "color": "sienna",
           "width": 2
          },
          "type": "line",
          "x0": -0.5,
          "x1": 4.5,
          "xref": "x2",
          "y0": 1.5,
          "y1": 1.5,
          "yref": "y2"
         },
         {
          "line": {
           "color": "sienna",
           "width": 2
          },
          "type": "line",
          "x0": -0.5,
          "x1": 4.5,
          "xref": "x2",
          "y0": 2.5,
          "y1": 2.5,
          "yref": "y2"
         },
         {
          "line": {
           "color": "sienna",
           "width": 2
          },
          "type": "line",
          "x0": -0.5,
          "x1": 4.5,
          "xref": "x2",
          "y0": 3.5,
          "y1": 3.5,
          "yref": "y2"
         },
         {
          "line": {
           "color": "sienna",
           "width": 2
          },
          "type": "line",
          "x0": -0.5,
          "x1": -0.5,
          "xref": "x2",
          "y0": -0.5,
          "y1": 4.5,
          "yref": "y2"
         },
         {
          "line": {
           "color": "sienna",
           "width": 2
          },
          "type": "line",
          "x0": 0.5,
          "x1": 0.5,
          "xref": "x2",
          "y0": -0.5,
          "y1": 4.5,
          "yref": "y2"
         },
         {
          "line": {
           "color": "sienna",
           "width": 2
          },
          "type": "line",
          "x0": 1.5,
          "x1": 1.5,
          "xref": "x2",
          "y0": -0.5,
          "y1": 4.5,
          "yref": "y2"
         },
         {
          "line": {
           "color": "sienna",
           "width": 2
          },
          "type": "line",
          "x0": 2.5,
          "x1": 2.5,
          "xref": "x2",
          "y0": -0.5,
          "y1": 4.5,
          "yref": "y2"
         },
         {
          "line": {
           "color": "sienna",
           "width": 2
          },
          "type": "line",
          "x0": 3.5,
          "x1": 3.5,
          "xref": "x2",
          "y0": -0.5,
          "y1": 4.5,
          "yref": "y2"
         },
         {
          "line": {
           "color": "sienna",
           "width": 2
          },
          "type": "line",
          "x0": -0.5,
          "x1": 9.5,
          "xref": "x3",
          "y0": -0.5,
          "y1": -0.5,
          "yref": "y3"
         },
         {
          "line": {
           "color": "sienna",
           "width": 2
          },
          "type": "line",
          "x0": -0.5,
          "x1": 9.5,
          "xref": "x3",
          "y0": 0.5,
          "y1": 0.5,
          "yref": "y3"
         },
         {
          "line": {
           "color": "sienna",
           "width": 2
          },
          "type": "line",
          "x0": -0.5,
          "x1": 9.5,
          "xref": "x3",
          "y0": 1.5,
          "y1": 1.5,
          "yref": "y3"
         },
         {
          "line": {
           "color": "sienna",
           "width": 2
          },
          "type": "line",
          "x0": -0.5,
          "x1": 9.5,
          "xref": "x3",
          "y0": 2.5,
          "y1": 2.5,
          "yref": "y3"
         },
         {
          "line": {
           "color": "sienna",
           "width": 2
          },
          "type": "line",
          "x0": -0.5,
          "x1": 9.5,
          "xref": "x3",
          "y0": 3.5,
          "y1": 3.5,
          "yref": "y3"
         },
         {
          "line": {
           "color": "sienna",
           "width": 2
          },
          "type": "line",
          "x0": -0.5,
          "x1": 9.5,
          "xref": "x3",
          "y0": 4.5,
          "y1": 4.5,
          "yref": "y3"
         },
         {
          "line": {
           "color": "sienna",
           "width": 2
          },
          "type": "line",
          "x0": -0.5,
          "x1": 9.5,
          "xref": "x3",
          "y0": 5.5,
          "y1": 5.5,
          "yref": "y3"
         },
         {
          "line": {
           "color": "sienna",
           "width": 2
          },
          "type": "line",
          "x0": -0.5,
          "x1": 9.5,
          "xref": "x3",
          "y0": 6.5,
          "y1": 6.5,
          "yref": "y3"
         },
         {
          "line": {
           "color": "sienna",
           "width": 2
          },
          "type": "line",
          "x0": -0.5,
          "x1": 9.5,
          "xref": "x3",
          "y0": 7.5,
          "y1": 7.5,
          "yref": "y3"
         },
         {
          "line": {
           "color": "sienna",
           "width": 2
          },
          "type": "line",
          "x0": -0.5,
          "x1": 9.5,
          "xref": "x3",
          "y0": 8.5,
          "y1": 8.5,
          "yref": "y3"
         },
         {
          "line": {
           "color": "sienna",
           "width": 2
          },
          "type": "line",
          "x0": -0.5,
          "x1": -0.5,
          "xref": "x3",
          "y0": -0.5,
          "y1": 9.5,
          "yref": "y3"
         },
         {
          "line": {
           "color": "sienna",
           "width": 2
          },
          "type": "line",
          "x0": 0.5,
          "x1": 0.5,
          "xref": "x3",
          "y0": -0.5,
          "y1": 9.5,
          "yref": "y3"
         },
         {
          "line": {
           "color": "sienna",
           "width": 2
          },
          "type": "line",
          "x0": 1.5,
          "x1": 1.5,
          "xref": "x3",
          "y0": -0.5,
          "y1": 9.5,
          "yref": "y3"
         },
         {
          "line": {
           "color": "sienna",
           "width": 2
          },
          "type": "line",
          "x0": 2.5,
          "x1": 2.5,
          "xref": "x3",
          "y0": -0.5,
          "y1": 9.5,
          "yref": "y3"
         },
         {
          "line": {
           "color": "sienna",
           "width": 2
          },
          "type": "line",
          "x0": 3.5,
          "x1": 3.5,
          "xref": "x3",
          "y0": -0.5,
          "y1": 9.5,
          "yref": "y3"
         },
         {
          "line": {
           "color": "sienna",
           "width": 2
          },
          "type": "line",
          "x0": 4.5,
          "x1": 4.5,
          "xref": "x3",
          "y0": -0.5,
          "y1": 9.5,
          "yref": "y3"
         },
         {
          "line": {
           "color": "sienna",
           "width": 2
          },
          "type": "line",
          "x0": 5.5,
          "x1": 5.5,
          "xref": "x3",
          "y0": -0.5,
          "y1": 9.5,
          "yref": "y3"
         },
         {
          "line": {
           "color": "sienna",
           "width": 2
          },
          "type": "line",
          "x0": 6.5,
          "x1": 6.5,
          "xref": "x3",
          "y0": -0.5,
          "y1": 9.5,
          "yref": "y3"
         },
         {
          "line": {
           "color": "sienna",
           "width": 2
          },
          "type": "line",
          "x0": 7.5,
          "x1": 7.5,
          "xref": "x3",
          "y0": -0.5,
          "y1": 9.5,
          "yref": "y3"
         },
         {
          "line": {
           "color": "sienna",
           "width": 2
          },
          "type": "line",
          "x0": 8.5,
          "x1": 8.5,
          "xref": "x3",
          "y0": -0.5,
          "y1": 9.5,
          "yref": "y3"
         },
         {
          "line": {
           "color": "sienna",
           "width": 2
          },
          "type": "line",
          "x0": -0.5,
          "x1": 9.5,
          "xref": "x4",
          "y0": -0.5,
          "y1": -0.5,
          "yref": "y4"
         },
         {
          "line": {
           "color": "sienna",
           "width": 2
          },
          "type": "line",
          "x0": -0.5,
          "x1": 9.5,
          "xref": "x4",
          "y0": 0.5,
          "y1": 0.5,
          "yref": "y4"
         },
         {
          "line": {
           "color": "sienna",
           "width": 2
          },
          "type": "line",
          "x0": -0.5,
          "x1": 9.5,
          "xref": "x4",
          "y0": 1.5,
          "y1": 1.5,
          "yref": "y4"
         },
         {
          "line": {
           "color": "sienna",
           "width": 2
          },
          "type": "line",
          "x0": -0.5,
          "x1": 9.5,
          "xref": "x4",
          "y0": 2.5,
          "y1": 2.5,
          "yref": "y4"
         },
         {
          "line": {
           "color": "sienna",
           "width": 2
          },
          "type": "line",
          "x0": -0.5,
          "x1": 9.5,
          "xref": "x4",
          "y0": 3.5,
          "y1": 3.5,
          "yref": "y4"
         },
         {
          "line": {
           "color": "sienna",
           "width": 2
          },
          "type": "line",
          "x0": -0.5,
          "x1": 9.5,
          "xref": "x4",
          "y0": 4.5,
          "y1": 4.5,
          "yref": "y4"
         },
         {
          "line": {
           "color": "sienna",
           "width": 2
          },
          "type": "line",
          "x0": -0.5,
          "x1": 9.5,
          "xref": "x4",
          "y0": 5.5,
          "y1": 5.5,
          "yref": "y4"
         },
         {
          "line": {
           "color": "sienna",
           "width": 2
          },
          "type": "line",
          "x0": -0.5,
          "x1": 9.5,
          "xref": "x4",
          "y0": 6.5,
          "y1": 6.5,
          "yref": "y4"
         },
         {
          "line": {
           "color": "sienna",
           "width": 2
          },
          "type": "line",
          "x0": -0.5,
          "x1": 9.5,
          "xref": "x4",
          "y0": 7.5,
          "y1": 7.5,
          "yref": "y4"
         },
         {
          "line": {
           "color": "sienna",
           "width": 2
          },
          "type": "line",
          "x0": -0.5,
          "x1": 9.5,
          "xref": "x4",
          "y0": 8.5,
          "y1": 8.5,
          "yref": "y4"
         },
         {
          "line": {
           "color": "sienna",
           "width": 2
          },
          "type": "line",
          "x0": -0.5,
          "x1": -0.5,
          "xref": "x4",
          "y0": -0.5,
          "y1": 9.5,
          "yref": "y4"
         },
         {
          "line": {
           "color": "sienna",
           "width": 2
          },
          "type": "line",
          "x0": 0.5,
          "x1": 0.5,
          "xref": "x4",
          "y0": -0.5,
          "y1": 9.5,
          "yref": "y4"
         },
         {
          "line": {
           "color": "sienna",
           "width": 2
          },
          "type": "line",
          "x0": 1.5,
          "x1": 1.5,
          "xref": "x4",
          "y0": -0.5,
          "y1": 9.5,
          "yref": "y4"
         },
         {
          "line": {
           "color": "sienna",
           "width": 2
          },
          "type": "line",
          "x0": 2.5,
          "x1": 2.5,
          "xref": "x4",
          "y0": -0.5,
          "y1": 9.5,
          "yref": "y4"
         },
         {
          "line": {
           "color": "sienna",
           "width": 2
          },
          "type": "line",
          "x0": 3.5,
          "x1": 3.5,
          "xref": "x4",
          "y0": -0.5,
          "y1": 9.5,
          "yref": "y4"
         },
         {
          "line": {
           "color": "sienna",
           "width": 2
          },
          "type": "line",
          "x0": 4.5,
          "x1": 4.5,
          "xref": "x4",
          "y0": -0.5,
          "y1": 9.5,
          "yref": "y4"
         },
         {
          "line": {
           "color": "sienna",
           "width": 2
          },
          "type": "line",
          "x0": 5.5,
          "x1": 5.5,
          "xref": "x4",
          "y0": -0.5,
          "y1": 9.5,
          "yref": "y4"
         },
         {
          "line": {
           "color": "sienna",
           "width": 2
          },
          "type": "line",
          "x0": 6.5,
          "x1": 6.5,
          "xref": "x4",
          "y0": -0.5,
          "y1": 9.5,
          "yref": "y4"
         },
         {
          "line": {
           "color": "sienna",
           "width": 2
          },
          "type": "line",
          "x0": 7.5,
          "x1": 7.5,
          "xref": "x4",
          "y0": -0.5,
          "y1": 9.5,
          "yref": "y4"
         },
         {
          "line": {
           "color": "sienna",
           "width": 2
          },
          "type": "line",
          "x0": 8.5,
          "x1": 8.5,
          "xref": "x4",
          "y0": -0.5,
          "y1": 9.5,
          "yref": "y4"
         },
         {
          "line": {
           "color": "sienna",
           "width": 2
          },
          "type": "line",
          "x0": -0.5,
          "x1": 9.5,
          "xref": "x5",
          "y0": -0.5,
          "y1": -0.5,
          "yref": "y5"
         },
         {
          "line": {
           "color": "sienna",
           "width": 2
          },
          "type": "line",
          "x0": -0.5,
          "x1": 9.5,
          "xref": "x5",
          "y0": 0.5,
          "y1": 0.5,
          "yref": "y5"
         },
         {
          "line": {
           "color": "sienna",
           "width": 2
          },
          "type": "line",
          "x0": -0.5,
          "x1": 9.5,
          "xref": "x5",
          "y0": 1.5,
          "y1": 1.5,
          "yref": "y5"
         },
         {
          "line": {
           "color": "sienna",
           "width": 2
          },
          "type": "line",
          "x0": -0.5,
          "x1": 9.5,
          "xref": "x5",
          "y0": 2.5,
          "y1": 2.5,
          "yref": "y5"
         },
         {
          "line": {
           "color": "sienna",
           "width": 2
          },
          "type": "line",
          "x0": -0.5,
          "x1": 9.5,
          "xref": "x5",
          "y0": 3.5,
          "y1": 3.5,
          "yref": "y5"
         },
         {
          "line": {
           "color": "sienna",
           "width": 2
          },
          "type": "line",
          "x0": -0.5,
          "x1": 9.5,
          "xref": "x5",
          "y0": 4.5,
          "y1": 4.5,
          "yref": "y5"
         },
         {
          "line": {
           "color": "sienna",
           "width": 2
          },
          "type": "line",
          "x0": -0.5,
          "x1": 9.5,
          "xref": "x5",
          "y0": 5.5,
          "y1": 5.5,
          "yref": "y5"
         },
         {
          "line": {
           "color": "sienna",
           "width": 2
          },
          "type": "line",
          "x0": -0.5,
          "x1": 9.5,
          "xref": "x5",
          "y0": 6.5,
          "y1": 6.5,
          "yref": "y5"
         },
         {
          "line": {
           "color": "sienna",
           "width": 2
          },
          "type": "line",
          "x0": -0.5,
          "x1": 9.5,
          "xref": "x5",
          "y0": 7.5,
          "y1": 7.5,
          "yref": "y5"
         },
         {
          "line": {
           "color": "sienna",
           "width": 2
          },
          "type": "line",
          "x0": -0.5,
          "x1": 9.5,
          "xref": "x5",
          "y0": 8.5,
          "y1": 8.5,
          "yref": "y5"
         },
         {
          "line": {
           "color": "sienna",
           "width": 2
          },
          "type": "line",
          "x0": -0.5,
          "x1": -0.5,
          "xref": "x5",
          "y0": -0.5,
          "y1": 9.5,
          "yref": "y5"
         },
         {
          "line": {
           "color": "sienna",
           "width": 2
          },
          "type": "line",
          "x0": 0.5,
          "x1": 0.5,
          "xref": "x5",
          "y0": -0.5,
          "y1": 9.5,
          "yref": "y5"
         },
         {
          "line": {
           "color": "sienna",
           "width": 2
          },
          "type": "line",
          "x0": 1.5,
          "x1": 1.5,
          "xref": "x5",
          "y0": -0.5,
          "y1": 9.5,
          "yref": "y5"
         },
         {
          "line": {
           "color": "sienna",
           "width": 2
          },
          "type": "line",
          "x0": 2.5,
          "x1": 2.5,
          "xref": "x5",
          "y0": -0.5,
          "y1": 9.5,
          "yref": "y5"
         },
         {
          "line": {
           "color": "sienna",
           "width": 2
          },
          "type": "line",
          "x0": 3.5,
          "x1": 3.5,
          "xref": "x5",
          "y0": -0.5,
          "y1": 9.5,
          "yref": "y5"
         },
         {
          "line": {
           "color": "sienna",
           "width": 2
          },
          "type": "line",
          "x0": 4.5,
          "x1": 4.5,
          "xref": "x5",
          "y0": -0.5,
          "y1": 9.5,
          "yref": "y5"
         },
         {
          "line": {
           "color": "sienna",
           "width": 2
          },
          "type": "line",
          "x0": 5.5,
          "x1": 5.5,
          "xref": "x5",
          "y0": -0.5,
          "y1": 9.5,
          "yref": "y5"
         },
         {
          "line": {
           "color": "sienna",
           "width": 2
          },
          "type": "line",
          "x0": 6.5,
          "x1": 6.5,
          "xref": "x5",
          "y0": -0.5,
          "y1": 9.5,
          "yref": "y5"
         },
         {
          "line": {
           "color": "sienna",
           "width": 2
          },
          "type": "line",
          "x0": 7.5,
          "x1": 7.5,
          "xref": "x5",
          "y0": -0.5,
          "y1": 9.5,
          "yref": "y5"
         },
         {
          "line": {
           "color": "sienna",
           "width": 2
          },
          "type": "line",
          "x0": 8.5,
          "x1": 8.5,
          "xref": "x5",
          "y0": -0.5,
          "y1": 9.5,
          "yref": "y5"
         },
         {
          "line": {
           "color": "sienna",
           "width": 2
          },
          "type": "line",
          "x0": -0.5,
          "x1": 9.5,
          "xref": "x6",
          "y0": -0.5,
          "y1": -0.5,
          "yref": "y6"
         },
         {
          "line": {
           "color": "sienna",
           "width": 2
          },
          "type": "line",
          "x0": -0.5,
          "x1": 9.5,
          "xref": "x6",
          "y0": 0.5,
          "y1": 0.5,
          "yref": "y6"
         },
         {
          "line": {
           "color": "sienna",
           "width": 2
          },
          "type": "line",
          "x0": -0.5,
          "x1": 9.5,
          "xref": "x6",
          "y0": 1.5,
          "y1": 1.5,
          "yref": "y6"
         },
         {
          "line": {
           "color": "sienna",
           "width": 2
          },
          "type": "line",
          "x0": -0.5,
          "x1": 9.5,
          "xref": "x6",
          "y0": 2.5,
          "y1": 2.5,
          "yref": "y6"
         },
         {
          "line": {
           "color": "sienna",
           "width": 2
          },
          "type": "line",
          "x0": -0.5,
          "x1": 9.5,
          "xref": "x6",
          "y0": 3.5,
          "y1": 3.5,
          "yref": "y6"
         },
         {
          "line": {
           "color": "sienna",
           "width": 2
          },
          "type": "line",
          "x0": -0.5,
          "x1": 9.5,
          "xref": "x6",
          "y0": 4.5,
          "y1": 4.5,
          "yref": "y6"
         },
         {
          "line": {
           "color": "sienna",
           "width": 2
          },
          "type": "line",
          "x0": -0.5,
          "x1": 9.5,
          "xref": "x6",
          "y0": 5.5,
          "y1": 5.5,
          "yref": "y6"
         },
         {
          "line": {
           "color": "sienna",
           "width": 2
          },
          "type": "line",
          "x0": -0.5,
          "x1": 9.5,
          "xref": "x6",
          "y0": 6.5,
          "y1": 6.5,
          "yref": "y6"
         },
         {
          "line": {
           "color": "sienna",
           "width": 2
          },
          "type": "line",
          "x0": -0.5,
          "x1": 9.5,
          "xref": "x6",
          "y0": 7.5,
          "y1": 7.5,
          "yref": "y6"
         },
         {
          "line": {
           "color": "sienna",
           "width": 2
          },
          "type": "line",
          "x0": -0.5,
          "x1": 9.5,
          "xref": "x6",
          "y0": 8.5,
          "y1": 8.5,
          "yref": "y6"
         },
         {
          "line": {
           "color": "sienna",
           "width": 2
          },
          "type": "line",
          "x0": -0.5,
          "x1": -0.5,
          "xref": "x6",
          "y0": -0.5,
          "y1": 9.5,
          "yref": "y6"
         },
         {
          "line": {
           "color": "sienna",
           "width": 2
          },
          "type": "line",
          "x0": 0.5,
          "x1": 0.5,
          "xref": "x6",
          "y0": -0.5,
          "y1": 9.5,
          "yref": "y6"
         },
         {
          "line": {
           "color": "sienna",
           "width": 2
          },
          "type": "line",
          "x0": 1.5,
          "x1": 1.5,
          "xref": "x6",
          "y0": -0.5,
          "y1": 9.5,
          "yref": "y6"
         },
         {
          "line": {
           "color": "sienna",
           "width": 2
          },
          "type": "line",
          "x0": 2.5,
          "x1": 2.5,
          "xref": "x6",
          "y0": -0.5,
          "y1": 9.5,
          "yref": "y6"
         },
         {
          "line": {
           "color": "sienna",
           "width": 2
          },
          "type": "line",
          "x0": 3.5,
          "x1": 3.5,
          "xref": "x6",
          "y0": -0.5,
          "y1": 9.5,
          "yref": "y6"
         },
         {
          "line": {
           "color": "sienna",
           "width": 2
          },
          "type": "line",
          "x0": 4.5,
          "x1": 4.5,
          "xref": "x6",
          "y0": -0.5,
          "y1": 9.5,
          "yref": "y6"
         },
         {
          "line": {
           "color": "sienna",
           "width": 2
          },
          "type": "line",
          "x0": 5.5,
          "x1": 5.5,
          "xref": "x6",
          "y0": -0.5,
          "y1": 9.5,
          "yref": "y6"
         },
         {
          "line": {
           "color": "sienna",
           "width": 2
          },
          "type": "line",
          "x0": 6.5,
          "x1": 6.5,
          "xref": "x6",
          "y0": -0.5,
          "y1": 9.5,
          "yref": "y6"
         },
         {
          "line": {
           "color": "sienna",
           "width": 2
          },
          "type": "line",
          "x0": 7.5,
          "x1": 7.5,
          "xref": "x6",
          "y0": -0.5,
          "y1": 9.5,
          "yref": "y6"
         },
         {
          "line": {
           "color": "sienna",
           "width": 2
          },
          "type": "line",
          "x0": 8.5,
          "x1": 8.5,
          "xref": "x6",
          "y0": -0.5,
          "y1": 9.5,
          "yref": "y6"
         }
        ],
        "template": {
         "data": {
          "bar": [
           {
            "error_x": {
             "color": "#2a3f5f"
            },
            "error_y": {
             "color": "#2a3f5f"
            },
            "marker": {
             "line": {
              "color": "#E5ECF6",
              "width": 0.5
             },
             "pattern": {
              "fillmode": "overlay",
              "size": 10,
              "solidity": 0.2
             }
            },
            "type": "bar"
           }
          ],
          "barpolar": [
           {
            "marker": {
             "line": {
              "color": "#E5ECF6",
              "width": 0.5
             },
             "pattern": {
              "fillmode": "overlay",
              "size": 10,
              "solidity": 0.2
             }
            },
            "type": "barpolar"
           }
          ],
          "carpet": [
           {
            "aaxis": {
             "endlinecolor": "#2a3f5f",
             "gridcolor": "white",
             "linecolor": "white",
             "minorgridcolor": "white",
             "startlinecolor": "#2a3f5f"
            },
            "baxis": {
             "endlinecolor": "#2a3f5f",
             "gridcolor": "white",
             "linecolor": "white",
             "minorgridcolor": "white",
             "startlinecolor": "#2a3f5f"
            },
            "type": "carpet"
           }
          ],
          "choropleth": [
           {
            "colorbar": {
             "outlinewidth": 0,
             "ticks": ""
            },
            "type": "choropleth"
           }
          ],
          "contour": [
           {
            "colorbar": {
             "outlinewidth": 0,
             "ticks": ""
            },
            "colorscale": [
             [
              0,
              "#0d0887"
             ],
             [
              0.1111111111111111,
              "#46039f"
             ],
             [
              0.2222222222222222,
              "#7201a8"
             ],
             [
              0.3333333333333333,
              "#9c179e"
             ],
             [
              0.4444444444444444,
              "#bd3786"
             ],
             [
              0.5555555555555556,
              "#d8576b"
             ],
             [
              0.6666666666666666,
              "#ed7953"
             ],
             [
              0.7777777777777778,
              "#fb9f3a"
             ],
             [
              0.8888888888888888,
              "#fdca26"
             ],
             [
              1,
              "#f0f921"
             ]
            ],
            "type": "contour"
           }
          ],
          "contourcarpet": [
           {
            "colorbar": {
             "outlinewidth": 0,
             "ticks": ""
            },
            "type": "contourcarpet"
           }
          ],
          "heatmap": [
           {
            "colorbar": {
             "outlinewidth": 0,
             "ticks": ""
            },
            "colorscale": [
             [
              0,
              "#0d0887"
             ],
             [
              0.1111111111111111,
              "#46039f"
             ],
             [
              0.2222222222222222,
              "#7201a8"
             ],
             [
              0.3333333333333333,
              "#9c179e"
             ],
             [
              0.4444444444444444,
              "#bd3786"
             ],
             [
              0.5555555555555556,
              "#d8576b"
             ],
             [
              0.6666666666666666,
              "#ed7953"
             ],
             [
              0.7777777777777778,
              "#fb9f3a"
             ],
             [
              0.8888888888888888,
              "#fdca26"
             ],
             [
              1,
              "#f0f921"
             ]
            ],
            "type": "heatmap"
           }
          ],
          "heatmapgl": [
           {
            "colorbar": {
             "outlinewidth": 0,
             "ticks": ""
            },
            "colorscale": [
             [
              0,
              "#0d0887"
             ],
             [
              0.1111111111111111,
              "#46039f"
             ],
             [
              0.2222222222222222,
              "#7201a8"
             ],
             [
              0.3333333333333333,
              "#9c179e"
             ],
             [
              0.4444444444444444,
              "#bd3786"
             ],
             [
              0.5555555555555556,
              "#d8576b"
             ],
             [
              0.6666666666666666,
              "#ed7953"
             ],
             [
              0.7777777777777778,
              "#fb9f3a"
             ],
             [
              0.8888888888888888,
              "#fdca26"
             ],
             [
              1,
              "#f0f921"
             ]
            ],
            "type": "heatmapgl"
           }
          ],
          "histogram": [
           {
            "marker": {
             "pattern": {
              "fillmode": "overlay",
              "size": 10,
              "solidity": 0.2
             }
            },
            "type": "histogram"
           }
          ],
          "histogram2d": [
           {
            "colorbar": {
             "outlinewidth": 0,
             "ticks": ""
            },
            "colorscale": [
             [
              0,
              "#0d0887"
             ],
             [
              0.1111111111111111,
              "#46039f"
             ],
             [
              0.2222222222222222,
              "#7201a8"
             ],
             [
              0.3333333333333333,
              "#9c179e"
             ],
             [
              0.4444444444444444,
              "#bd3786"
             ],
             [
              0.5555555555555556,
              "#d8576b"
             ],
             [
              0.6666666666666666,
              "#ed7953"
             ],
             [
              0.7777777777777778,
              "#fb9f3a"
             ],
             [
              0.8888888888888888,
              "#fdca26"
             ],
             [
              1,
              "#f0f921"
             ]
            ],
            "type": "histogram2d"
           }
          ],
          "histogram2dcontour": [
           {
            "colorbar": {
             "outlinewidth": 0,
             "ticks": ""
            },
            "colorscale": [
             [
              0,
              "#0d0887"
             ],
             [
              0.1111111111111111,
              "#46039f"
             ],
             [
              0.2222222222222222,
              "#7201a8"
             ],
             [
              0.3333333333333333,
              "#9c179e"
             ],
             [
              0.4444444444444444,
              "#bd3786"
             ],
             [
              0.5555555555555556,
              "#d8576b"
             ],
             [
              0.6666666666666666,
              "#ed7953"
             ],
             [
              0.7777777777777778,
              "#fb9f3a"
             ],
             [
              0.8888888888888888,
              "#fdca26"
             ],
             [
              1,
              "#f0f921"
             ]
            ],
            "type": "histogram2dcontour"
           }
          ],
          "mesh3d": [
           {
            "colorbar": {
             "outlinewidth": 0,
             "ticks": ""
            },
            "type": "mesh3d"
           }
          ],
          "parcoords": [
           {
            "line": {
             "colorbar": {
              "outlinewidth": 0,
              "ticks": ""
             }
            },
            "type": "parcoords"
           }
          ],
          "pie": [
           {
            "automargin": true,
            "type": "pie"
           }
          ],
          "scatter": [
           {
            "fillpattern": {
             "fillmode": "overlay",
             "size": 10,
             "solidity": 0.2
            },
            "type": "scatter"
           }
          ],
          "scatter3d": [
           {
            "line": {
             "colorbar": {
              "outlinewidth": 0,
              "ticks": ""
             }
            },
            "marker": {
             "colorbar": {
              "outlinewidth": 0,
              "ticks": ""
             }
            },
            "type": "scatter3d"
           }
          ],
          "scattercarpet": [
           {
            "marker": {
             "colorbar": {
              "outlinewidth": 0,
              "ticks": ""
             }
            },
            "type": "scattercarpet"
           }
          ],
          "scattergeo": [
           {
            "marker": {
             "colorbar": {
              "outlinewidth": 0,
              "ticks": ""
             }
            },
            "type": "scattergeo"
           }
          ],
          "scattergl": [
           {
            "marker": {
             "colorbar": {
              "outlinewidth": 0,
              "ticks": ""
             }
            },
            "type": "scattergl"
           }
          ],
          "scattermapbox": [
           {
            "marker": {
             "colorbar": {
              "outlinewidth": 0,
              "ticks": ""
             }
            },
            "type": "scattermapbox"
           }
          ],
          "scatterpolar": [
           {
            "marker": {
             "colorbar": {
              "outlinewidth": 0,
              "ticks": ""
             }
            },
            "type": "scatterpolar"
           }
          ],
          "scatterpolargl": [
           {
            "marker": {
             "colorbar": {
              "outlinewidth": 0,
              "ticks": ""
             }
            },
            "type": "scatterpolargl"
           }
          ],
          "scatterternary": [
           {
            "marker": {
             "colorbar": {
              "outlinewidth": 0,
              "ticks": ""
             }
            },
            "type": "scatterternary"
           }
          ],
          "surface": [
           {
            "colorbar": {
             "outlinewidth": 0,
             "ticks": ""
            },
            "colorscale": [
             [
              0,
              "#0d0887"
             ],
             [
              0.1111111111111111,
              "#46039f"
             ],
             [
              0.2222222222222222,
              "#7201a8"
             ],
             [
              0.3333333333333333,
              "#9c179e"
             ],
             [
              0.4444444444444444,
              "#bd3786"
             ],
             [
              0.5555555555555556,
              "#d8576b"
             ],
             [
              0.6666666666666666,
              "#ed7953"
             ],
             [
              0.7777777777777778,
              "#fb9f3a"
             ],
             [
              0.8888888888888888,
              "#fdca26"
             ],
             [
              1,
              "#f0f921"
             ]
            ],
            "type": "surface"
           }
          ],
          "table": [
           {
            "cells": {
             "fill": {
              "color": "#EBF0F8"
             },
             "line": {
              "color": "white"
             }
            },
            "header": {
             "fill": {
              "color": "#C8D4E3"
             },
             "line": {
              "color": "white"
             }
            },
            "type": "table"
           }
          ]
         },
         "layout": {
          "annotationdefaults": {
           "arrowcolor": "#2a3f5f",
           "arrowhead": 0,
           "arrowwidth": 1
          },
          "autotypenumbers": "strict",
          "coloraxis": {
           "colorbar": {
            "outlinewidth": 0,
            "ticks": ""
           }
          },
          "colorscale": {
           "diverging": [
            [
             0,
             "#8e0152"
            ],
            [
             0.1,
             "#c51b7d"
            ],
            [
             0.2,
             "#de77ae"
            ],
            [
             0.3,
             "#f1b6da"
            ],
            [
             0.4,
             "#fde0ef"
            ],
            [
             0.5,
             "#f7f7f7"
            ],
            [
             0.6,
             "#e6f5d0"
            ],
            [
             0.7,
             "#b8e186"
            ],
            [
             0.8,
             "#7fbc41"
            ],
            [
             0.9,
             "#4d9221"
            ],
            [
             1,
             "#276419"
            ]
           ],
           "sequential": [
            [
             0,
             "#0d0887"
            ],
            [
             0.1111111111111111,
             "#46039f"
            ],
            [
             0.2222222222222222,
             "#7201a8"
            ],
            [
             0.3333333333333333,
             "#9c179e"
            ],
            [
             0.4444444444444444,
             "#bd3786"
            ],
            [
             0.5555555555555556,
             "#d8576b"
            ],
            [
             0.6666666666666666,
             "#ed7953"
            ],
            [
             0.7777777777777778,
             "#fb9f3a"
            ],
            [
             0.8888888888888888,
             "#fdca26"
            ],
            [
             1,
             "#f0f921"
            ]
           ],
           "sequentialminus": [
            [
             0,
             "#0d0887"
            ],
            [
             0.1111111111111111,
             "#46039f"
            ],
            [
             0.2222222222222222,
             "#7201a8"
            ],
            [
             0.3333333333333333,
             "#9c179e"
            ],
            [
             0.4444444444444444,
             "#bd3786"
            ],
            [
             0.5555555555555556,
             "#d8576b"
            ],
            [
             0.6666666666666666,
             "#ed7953"
            ],
            [
             0.7777777777777778,
             "#fb9f3a"
            ],
            [
             0.8888888888888888,
             "#fdca26"
            ],
            [
             1,
             "#f0f921"
            ]
           ]
          },
          "colorway": [
           "#636efa",
           "#EF553B",
           "#00cc96",
           "#ab63fa",
           "#FFA15A",
           "#19d3f3",
           "#FF6692",
           "#B6E880",
           "#FF97FF",
           "#FECB52"
          ],
          "font": {
           "color": "#2a3f5f"
          },
          "geo": {
           "bgcolor": "white",
           "lakecolor": "white",
           "landcolor": "#E5ECF6",
           "showlakes": true,
           "showland": true,
           "subunitcolor": "white"
          },
          "hoverlabel": {
           "align": "left"
          },
          "hovermode": "closest",
          "mapbox": {
           "style": "light"
          },
          "paper_bgcolor": "white",
          "plot_bgcolor": "#E5ECF6",
          "polar": {
           "angularaxis": {
            "gridcolor": "white",
            "linecolor": "white",
            "ticks": ""
           },
           "bgcolor": "#E5ECF6",
           "radialaxis": {
            "gridcolor": "white",
            "linecolor": "white",
            "ticks": ""
           }
          },
          "scene": {
           "xaxis": {
            "backgroundcolor": "#E5ECF6",
            "gridcolor": "white",
            "gridwidth": 2,
            "linecolor": "white",
            "showbackground": true,
            "ticks": "",
            "zerolinecolor": "white"
           },
           "yaxis": {
            "backgroundcolor": "#E5ECF6",
            "gridcolor": "white",
            "gridwidth": 2,
            "linecolor": "white",
            "showbackground": true,
            "ticks": "",
            "zerolinecolor": "white"
           },
           "zaxis": {
            "backgroundcolor": "#E5ECF6",
            "gridcolor": "white",
            "gridwidth": 2,
            "linecolor": "white",
            "showbackground": true,
            "ticks": "",
            "zerolinecolor": "white"
           }
          },
          "shapedefaults": {
           "line": {
            "color": "#2a3f5f"
           }
          },
          "ternary": {
           "aaxis": {
            "gridcolor": "white",
            "linecolor": "white",
            "ticks": ""
           },
           "baxis": {
            "gridcolor": "white",
            "linecolor": "white",
            "ticks": ""
           },
           "bgcolor": "#E5ECF6",
           "caxis": {
            "gridcolor": "white",
            "linecolor": "white",
            "ticks": ""
           }
          },
          "title": {
           "x": 0.05
          },
          "xaxis": {
           "automargin": true,
           "gridcolor": "white",
           "linecolor": "white",
           "ticks": "",
           "title": {
            "standoff": 15
           },
           "zerolinecolor": "white",
           "zerolinewidth": 2
          },
          "yaxis": {
           "automargin": true,
           "gridcolor": "white",
           "linecolor": "white",
           "ticks": "",
           "title": {
            "standoff": 15
           },
           "zerolinecolor": "white",
           "zerolinewidth": 2
          }
         }
        },
        "xaxis": {
         "anchor": "y",
         "domain": [
          0,
          0.45
         ]
        },
        "xaxis2": {
         "anchor": "y2",
         "domain": [
          0.55,
          1
         ]
        },
        "xaxis3": {
         "anchor": "y3",
         "domain": [
          0,
          0.45
         ]
        },
        "xaxis4": {
         "anchor": "y4",
         "domain": [
          0.55,
          1
         ]
        },
        "xaxis5": {
         "anchor": "y5",
         "domain": [
          0,
          0.45
         ]
        },
        "xaxis6": {
         "anchor": "y6",
         "domain": [
          0.55,
          1
         ]
        },
        "yaxis": {
         "anchor": "x",
         "domain": [
          0.7333333333333333,
          1
         ]
        },
        "yaxis2": {
         "anchor": "x2",
         "domain": [
          0.7333333333333333,
          1
         ]
        },
        "yaxis3": {
         "anchor": "x3",
         "domain": [
          0.36666666666666664,
          0.6333333333333333
         ]
        },
        "yaxis4": {
         "anchor": "x4",
         "domain": [
          0.36666666666666664,
          0.6333333333333333
         ]
        },
        "yaxis5": {
         "anchor": "x5",
         "domain": [
          0,
          0.26666666666666666
         ]
        },
        "yaxis6": {
         "anchor": "x6",
         "domain": [
          0,
          0.26666666666666666
         ]
        }
       }
      }
     },
     "metadata": {},
     "output_type": "display_data"
    },
    {
     "name": "stdout",
     "output_type": "stream",
     "text": [
      "a699fb00-test\n"
     ]
    },
    {
     "data": {
      "application/vnd.plotly.v1+json": {
       "config": {
        "plotlyServerURL": "https://plot.ly"
       },
       "data": [
        {
         "type": "image",
         "xaxis": "x",
         "yaxis": "y",
         "z": [
          [
           [
            0,
            0,
            0
           ],
           [
            37,
            150,
            190
           ],
           [
            0,
            0,
            0
           ],
           [
            37,
            150,
            190
           ],
           [
            0,
            0,
            0
           ],
           [
            0,
            0,
            0
           ],
           [
            0,
            0,
            0
           ],
           [
            0,
            0,
            0
           ],
           [
            0,
            0,
            0
           ],
           [
            0,
            0,
            0
           ]
          ],
          [
           [
            0,
            0,
            0
           ],
           [
            0,
            0,
            0
           ],
           [
            0,
            0,
            0
           ],
           [
            0,
            0,
            0
           ],
           [
            0,
            0,
            0
           ],
           [
            0,
            0,
            0
           ],
           [
            0,
            0,
            0
           ],
           [
            0,
            0,
            0
           ],
           [
            0,
            0,
            0
           ],
           [
            0,
            0,
            0
           ]
          ],
          [
           [
            0,
            0,
            0
           ],
           [
            0,
            0,
            0
           ],
           [
            37,
            150,
            190
           ],
           [
            0,
            0,
            0
           ],
           [
            37,
            150,
            190
           ],
           [
            0,
            0,
            0
           ],
           [
            37,
            150,
            190
           ],
           [
            0,
            0,
            0
           ],
           [
            37,
            150,
            190
           ],
           [
            0,
            0,
            0
           ]
          ],
          [
           [
            0,
            0,
            0
           ],
           [
            0,
            0,
            0
           ],
           [
            0,
            0,
            0
           ],
           [
            0,
            0,
            0
           ],
           [
            0,
            0,
            0
           ],
           [
            0,
            0,
            0
           ],
           [
            0,
            0,
            0
           ],
           [
            0,
            0,
            0
           ],
           [
            0,
            0,
            0
           ],
           [
            0,
            0,
            0
           ]
          ],
          [
           [
            0,
            0,
            0
           ],
           [
            37,
            150,
            190
           ],
           [
            0,
            0,
            0
           ],
           [
            37,
            150,
            190
           ],
           [
            0,
            0,
            0
           ],
           [
            0,
            0,
            0
           ],
           [
            0,
            0,
            0
           ],
           [
            0,
            0,
            0
           ],
           [
            0,
            0,
            0
           ],
           [
            0,
            0,
            0
           ]
          ],
          [
           [
            0,
            0,
            0
           ],
           [
            0,
            0,
            0
           ],
           [
            0,
            0,
            0
           ],
           [
            0,
            0,
            0
           ],
           [
            0,
            0,
            0
           ],
           [
            37,
            150,
            190
           ],
           [
            0,
            0,
            0
           ],
           [
            37,
            150,
            190
           ],
           [
            0,
            0,
            0
           ],
           [
            0,
            0,
            0
           ]
          ],
          [
           [
            0,
            0,
            0
           ],
           [
            0,
            0,
            0
           ],
           [
            0,
            0,
            0
           ],
           [
            0,
            0,
            0
           ],
           [
            0,
            0,
            0
           ],
           [
            0,
            0,
            0
           ],
           [
            0,
            0,
            0
           ],
           [
            0,
            0,
            0
           ],
           [
            0,
            0,
            0
           ],
           [
            0,
            0,
            0
           ]
          ],
          [
           [
            0,
            0,
            0
           ],
           [
            0,
            0,
            0
           ],
           [
            0,
            0,
            0
           ],
           [
            37,
            150,
            190
           ],
           [
            0,
            0,
            0
           ],
           [
            37,
            150,
            190
           ],
           [
            0,
            0,
            0
           ],
           [
            0,
            0,
            0
           ],
           [
            0,
            0,
            0
           ],
           [
            0,
            0,
            0
           ]
          ],
          [
           [
            0,
            0,
            0
           ],
           [
            0,
            0,
            0
           ],
           [
            0,
            0,
            0
           ],
           [
            0,
            0,
            0
           ],
           [
            0,
            0,
            0
           ],
           [
            0,
            0,
            0
           ],
           [
            0,
            0,
            0
           ],
           [
            0,
            0,
            0
           ],
           [
            0,
            0,
            0
           ],
           [
            0,
            0,
            0
           ]
          ],
          [
           [
            0,
            0,
            0
           ],
           [
            0,
            0,
            0
           ],
           [
            0,
            0,
            0
           ],
           [
            0,
            0,
            0
           ],
           [
            0,
            0,
            0
           ],
           [
            0,
            0,
            0
           ],
           [
            0,
            0,
            0
           ],
           [
            0,
            0,
            0
           ],
           [
            0,
            0,
            0
           ],
           [
            0,
            0,
            0
           ]
          ]
         ]
        },
        {
         "type": "image",
         "xaxis": "x2",
         "yaxis": "y2",
         "z": [
          [
           [
            0,
            0,
            0
           ],
           [
            37,
            150,
            190
           ],
           [
            255,
            65,
            54
           ],
           [
            37,
            150,
            190
           ],
           [
            0,
            0,
            0
           ],
           [
            0,
            0,
            0
           ],
           [
            0,
            0,
            0
           ],
           [
            0,
            0,
            0
           ],
           [
            0,
            0,
            0
           ],
           [
            0,
            0,
            0
           ]
          ],
          [
           [
            0,
            0,
            0
           ],
           [
            0,
            0,
            0
           ],
           [
            0,
            0,
            0
           ],
           [
            0,
            0,
            0
           ],
           [
            0,
            0,
            0
           ],
           [
            0,
            0,
            0
           ],
           [
            0,
            0,
            0
           ],
           [
            0,
            0,
            0
           ],
           [
            0,
            0,
            0
           ],
           [
            0,
            0,
            0
           ]
          ],
          [
           [
            0,
            0,
            0
           ],
           [
            0,
            0,
            0
           ],
           [
            37,
            150,
            190
           ],
           [
            255,
            65,
            54
           ],
           [
            37,
            150,
            190
           ],
           [
            255,
            65,
            54
           ],
           [
            37,
            150,
            190
           ],
           [
            255,
            65,
            54
           ],
           [
            37,
            150,
            190
           ],
           [
            0,
            0,
            0
           ]
          ],
          [
           [
            0,
            0,
            0
           ],
           [
            0,
            0,
            0
           ],
           [
            0,
            0,
            0
           ],
           [
            0,
            0,
            0
           ],
           [
            0,
            0,
            0
           ],
           [
            0,
            0,
            0
           ],
           [
            0,
            0,
            0
           ],
           [
            0,
            0,
            0
           ],
           [
            0,
            0,
            0
           ],
           [
            0,
            0,
            0
           ]
          ],
          [
           [
            0,
            0,
            0
           ],
           [
            37,
            150,
            190
           ],
           [
            255,
            65,
            54
           ],
           [
            37,
            150,
            190
           ],
           [
            0,
            0,
            0
           ],
           [
            0,
            0,
            0
           ],
           [
            0,
            0,
            0
           ],
           [
            0,
            0,
            0
           ],
           [
            0,
            0,
            0
           ],
           [
            0,
            0,
            0
           ]
          ],
          [
           [
            0,
            0,
            0
           ],
           [
            0,
            0,
            0
           ],
           [
            0,
            0,
            0
           ],
           [
            0,
            0,
            0
           ],
           [
            0,
            0,
            0
           ],
           [
            37,
            150,
            190
           ],
           [
            255,
            65,
            54
           ],
           [
            37,
            150,
            190
           ],
           [
            0,
            0,
            0
           ],
           [
            0,
            0,
            0
           ]
          ],
          [
           [
            0,
            0,
            0
           ],
           [
            0,
            0,
            0
           ],
           [
            0,
            0,
            0
           ],
           [
            0,
            0,
            0
           ],
           [
            0,
            0,
            0
           ],
           [
            0,
            0,
            0
           ],
           [
            0,
            0,
            0
           ],
           [
            0,
            0,
            0
           ],
           [
            0,
            0,
            0
           ],
           [
            0,
            0,
            0
           ]
          ],
          [
           [
            0,
            0,
            0
           ],
           [
            0,
            0,
            0
           ],
           [
            0,
            0,
            0
           ],
           [
            37,
            150,
            190
           ],
           [
            255,
            65,
            54
           ],
           [
            37,
            150,
            190
           ],
           [
            0,
            0,
            0
           ],
           [
            0,
            0,
            0
           ],
           [
            0,
            0,
            0
           ],
           [
            0,
            0,
            0
           ]
          ],
          [
           [
            0,
            0,
            0
           ],
           [
            0,
            0,
            0
           ],
           [
            0,
            0,
            0
           ],
           [
            0,
            0,
            0
           ],
           [
            0,
            0,
            0
           ],
           [
            0,
            0,
            0
           ],
           [
            0,
            0,
            0
           ],
           [
            0,
            0,
            0
           ],
           [
            0,
            0,
            0
           ],
           [
            0,
            0,
            0
           ]
          ],
          [
           [
            0,
            0,
            0
           ],
           [
            0,
            0,
            0
           ],
           [
            0,
            0,
            0
           ],
           [
            0,
            0,
            0
           ],
           [
            0,
            0,
            0
           ],
           [
            0,
            0,
            0
           ],
           [
            0,
            0,
            0
           ],
           [
            0,
            0,
            0
           ],
           [
            0,
            0,
            0
           ],
           [
            0,
            0,
            0
           ]
          ]
         ]
        }
       ],
       "layout": {
        "height": 400,
        "shapes": [
         {
          "line": {
           "color": "sienna",
           "width": 2
          },
          "type": "line",
          "x0": -0.5,
          "x1": 9.5,
          "xref": "x",
          "y0": -0.5,
          "y1": -0.5,
          "yref": "y"
         },
         {
          "line": {
           "color": "sienna",
           "width": 2
          },
          "type": "line",
          "x0": -0.5,
          "x1": 9.5,
          "xref": "x",
          "y0": 0.5,
          "y1": 0.5,
          "yref": "y"
         },
         {
          "line": {
           "color": "sienna",
           "width": 2
          },
          "type": "line",
          "x0": -0.5,
          "x1": 9.5,
          "xref": "x",
          "y0": 1.5,
          "y1": 1.5,
          "yref": "y"
         },
         {
          "line": {
           "color": "sienna",
           "width": 2
          },
          "type": "line",
          "x0": -0.5,
          "x1": 9.5,
          "xref": "x",
          "y0": 2.5,
          "y1": 2.5,
          "yref": "y"
         },
         {
          "line": {
           "color": "sienna",
           "width": 2
          },
          "type": "line",
          "x0": -0.5,
          "x1": 9.5,
          "xref": "x",
          "y0": 3.5,
          "y1": 3.5,
          "yref": "y"
         },
         {
          "line": {
           "color": "sienna",
           "width": 2
          },
          "type": "line",
          "x0": -0.5,
          "x1": 9.5,
          "xref": "x",
          "y0": 4.5,
          "y1": 4.5,
          "yref": "y"
         },
         {
          "line": {
           "color": "sienna",
           "width": 2
          },
          "type": "line",
          "x0": -0.5,
          "x1": 9.5,
          "xref": "x",
          "y0": 5.5,
          "y1": 5.5,
          "yref": "y"
         },
         {
          "line": {
           "color": "sienna",
           "width": 2
          },
          "type": "line",
          "x0": -0.5,
          "x1": 9.5,
          "xref": "x",
          "y0": 6.5,
          "y1": 6.5,
          "yref": "y"
         },
         {
          "line": {
           "color": "sienna",
           "width": 2
          },
          "type": "line",
          "x0": -0.5,
          "x1": 9.5,
          "xref": "x",
          "y0": 7.5,
          "y1": 7.5,
          "yref": "y"
         },
         {
          "line": {
           "color": "sienna",
           "width": 2
          },
          "type": "line",
          "x0": -0.5,
          "x1": 9.5,
          "xref": "x",
          "y0": 8.5,
          "y1": 8.5,
          "yref": "y"
         },
         {
          "line": {
           "color": "sienna",
           "width": 2
          },
          "type": "line",
          "x0": -0.5,
          "x1": -0.5,
          "xref": "x",
          "y0": -0.5,
          "y1": 9.5,
          "yref": "y"
         },
         {
          "line": {
           "color": "sienna",
           "width": 2
          },
          "type": "line",
          "x0": 0.5,
          "x1": 0.5,
          "xref": "x",
          "y0": -0.5,
          "y1": 9.5,
          "yref": "y"
         },
         {
          "line": {
           "color": "sienna",
           "width": 2
          },
          "type": "line",
          "x0": 1.5,
          "x1": 1.5,
          "xref": "x",
          "y0": -0.5,
          "y1": 9.5,
          "yref": "y"
         },
         {
          "line": {
           "color": "sienna",
           "width": 2
          },
          "type": "line",
          "x0": 2.5,
          "x1": 2.5,
          "xref": "x",
          "y0": -0.5,
          "y1": 9.5,
          "yref": "y"
         },
         {
          "line": {
           "color": "sienna",
           "width": 2
          },
          "type": "line",
          "x0": 3.5,
          "x1": 3.5,
          "xref": "x",
          "y0": -0.5,
          "y1": 9.5,
          "yref": "y"
         },
         {
          "line": {
           "color": "sienna",
           "width": 2
          },
          "type": "line",
          "x0": 4.5,
          "x1": 4.5,
          "xref": "x",
          "y0": -0.5,
          "y1": 9.5,
          "yref": "y"
         },
         {
          "line": {
           "color": "sienna",
           "width": 2
          },
          "type": "line",
          "x0": 5.5,
          "x1": 5.5,
          "xref": "x",
          "y0": -0.5,
          "y1": 9.5,
          "yref": "y"
         },
         {
          "line": {
           "color": "sienna",
           "width": 2
          },
          "type": "line",
          "x0": 6.5,
          "x1": 6.5,
          "xref": "x",
          "y0": -0.5,
          "y1": 9.5,
          "yref": "y"
         },
         {
          "line": {
           "color": "sienna",
           "width": 2
          },
          "type": "line",
          "x0": 7.5,
          "x1": 7.5,
          "xref": "x",
          "y0": -0.5,
          "y1": 9.5,
          "yref": "y"
         },
         {
          "line": {
           "color": "sienna",
           "width": 2
          },
          "type": "line",
          "x0": 8.5,
          "x1": 8.5,
          "xref": "x",
          "y0": -0.5,
          "y1": 9.5,
          "yref": "y"
         },
         {
          "line": {
           "color": "sienna",
           "width": 2
          },
          "type": "line",
          "x0": -0.5,
          "x1": 9.5,
          "xref": "x2",
          "y0": -0.5,
          "y1": -0.5,
          "yref": "y2"
         },
         {
          "line": {
           "color": "sienna",
           "width": 2
          },
          "type": "line",
          "x0": -0.5,
          "x1": 9.5,
          "xref": "x2",
          "y0": 0.5,
          "y1": 0.5,
          "yref": "y2"
         },
         {
          "line": {
           "color": "sienna",
           "width": 2
          },
          "type": "line",
          "x0": -0.5,
          "x1": 9.5,
          "xref": "x2",
          "y0": 1.5,
          "y1": 1.5,
          "yref": "y2"
         },
         {
          "line": {
           "color": "sienna",
           "width": 2
          },
          "type": "line",
          "x0": -0.5,
          "x1": 9.5,
          "xref": "x2",
          "y0": 2.5,
          "y1": 2.5,
          "yref": "y2"
         },
         {
          "line": {
           "color": "sienna",
           "width": 2
          },
          "type": "line",
          "x0": -0.5,
          "x1": 9.5,
          "xref": "x2",
          "y0": 3.5,
          "y1": 3.5,
          "yref": "y2"
         },
         {
          "line": {
           "color": "sienna",
           "width": 2
          },
          "type": "line",
          "x0": -0.5,
          "x1": 9.5,
          "xref": "x2",
          "y0": 4.5,
          "y1": 4.5,
          "yref": "y2"
         },
         {
          "line": {
           "color": "sienna",
           "width": 2
          },
          "type": "line",
          "x0": -0.5,
          "x1": 9.5,
          "xref": "x2",
          "y0": 5.5,
          "y1": 5.5,
          "yref": "y2"
         },
         {
          "line": {
           "color": "sienna",
           "width": 2
          },
          "type": "line",
          "x0": -0.5,
          "x1": 9.5,
          "xref": "x2",
          "y0": 6.5,
          "y1": 6.5,
          "yref": "y2"
         },
         {
          "line": {
           "color": "sienna",
           "width": 2
          },
          "type": "line",
          "x0": -0.5,
          "x1": 9.5,
          "xref": "x2",
          "y0": 7.5,
          "y1": 7.5,
          "yref": "y2"
         },
         {
          "line": {
           "color": "sienna",
           "width": 2
          },
          "type": "line",
          "x0": -0.5,
          "x1": 9.5,
          "xref": "x2",
          "y0": 8.5,
          "y1": 8.5,
          "yref": "y2"
         },
         {
          "line": {
           "color": "sienna",
           "width": 2
          },
          "type": "line",
          "x0": -0.5,
          "x1": -0.5,
          "xref": "x2",
          "y0": -0.5,
          "y1": 9.5,
          "yref": "y2"
         },
         {
          "line": {
           "color": "sienna",
           "width": 2
          },
          "type": "line",
          "x0": 0.5,
          "x1": 0.5,
          "xref": "x2",
          "y0": -0.5,
          "y1": 9.5,
          "yref": "y2"
         },
         {
          "line": {
           "color": "sienna",
           "width": 2
          },
          "type": "line",
          "x0": 1.5,
          "x1": 1.5,
          "xref": "x2",
          "y0": -0.5,
          "y1": 9.5,
          "yref": "y2"
         },
         {
          "line": {
           "color": "sienna",
           "width": 2
          },
          "type": "line",
          "x0": 2.5,
          "x1": 2.5,
          "xref": "x2",
          "y0": -0.5,
          "y1": 9.5,
          "yref": "y2"
         },
         {
          "line": {
           "color": "sienna",
           "width": 2
          },
          "type": "line",
          "x0": 3.5,
          "x1": 3.5,
          "xref": "x2",
          "y0": -0.5,
          "y1": 9.5,
          "yref": "y2"
         },
         {
          "line": {
           "color": "sienna",
           "width": 2
          },
          "type": "line",
          "x0": 4.5,
          "x1": 4.5,
          "xref": "x2",
          "y0": -0.5,
          "y1": 9.5,
          "yref": "y2"
         },
         {
          "line": {
           "color": "sienna",
           "width": 2
          },
          "type": "line",
          "x0": 5.5,
          "x1": 5.5,
          "xref": "x2",
          "y0": -0.5,
          "y1": 9.5,
          "yref": "y2"
         },
         {
          "line": {
           "color": "sienna",
           "width": 2
          },
          "type": "line",
          "x0": 6.5,
          "x1": 6.5,
          "xref": "x2",
          "y0": -0.5,
          "y1": 9.5,
          "yref": "y2"
         },
         {
          "line": {
           "color": "sienna",
           "width": 2
          },
          "type": "line",
          "x0": 7.5,
          "x1": 7.5,
          "xref": "x2",
          "y0": -0.5,
          "y1": 9.5,
          "yref": "y2"
         },
         {
          "line": {
           "color": "sienna",
           "width": 2
          },
          "type": "line",
          "x0": 8.5,
          "x1": 8.5,
          "xref": "x2",
          "y0": -0.5,
          "y1": 9.5,
          "yref": "y2"
         }
        ],
        "template": {
         "data": {
          "bar": [
           {
            "error_x": {
             "color": "#2a3f5f"
            },
            "error_y": {
             "color": "#2a3f5f"
            },
            "marker": {
             "line": {
              "color": "#E5ECF6",
              "width": 0.5
             },
             "pattern": {
              "fillmode": "overlay",
              "size": 10,
              "solidity": 0.2
             }
            },
            "type": "bar"
           }
          ],
          "barpolar": [
           {
            "marker": {
             "line": {
              "color": "#E5ECF6",
              "width": 0.5
             },
             "pattern": {
              "fillmode": "overlay",
              "size": 10,
              "solidity": 0.2
             }
            },
            "type": "barpolar"
           }
          ],
          "carpet": [
           {
            "aaxis": {
             "endlinecolor": "#2a3f5f",
             "gridcolor": "white",
             "linecolor": "white",
             "minorgridcolor": "white",
             "startlinecolor": "#2a3f5f"
            },
            "baxis": {
             "endlinecolor": "#2a3f5f",
             "gridcolor": "white",
             "linecolor": "white",
             "minorgridcolor": "white",
             "startlinecolor": "#2a3f5f"
            },
            "type": "carpet"
           }
          ],
          "choropleth": [
           {
            "colorbar": {
             "outlinewidth": 0,
             "ticks": ""
            },
            "type": "choropleth"
           }
          ],
          "contour": [
           {
            "colorbar": {
             "outlinewidth": 0,
             "ticks": ""
            },
            "colorscale": [
             [
              0,
              "#0d0887"
             ],
             [
              0.1111111111111111,
              "#46039f"
             ],
             [
              0.2222222222222222,
              "#7201a8"
             ],
             [
              0.3333333333333333,
              "#9c179e"
             ],
             [
              0.4444444444444444,
              "#bd3786"
             ],
             [
              0.5555555555555556,
              "#d8576b"
             ],
             [
              0.6666666666666666,
              "#ed7953"
             ],
             [
              0.7777777777777778,
              "#fb9f3a"
             ],
             [
              0.8888888888888888,
              "#fdca26"
             ],
             [
              1,
              "#f0f921"
             ]
            ],
            "type": "contour"
           }
          ],
          "contourcarpet": [
           {
            "colorbar": {
             "outlinewidth": 0,
             "ticks": ""
            },
            "type": "contourcarpet"
           }
          ],
          "heatmap": [
           {
            "colorbar": {
             "outlinewidth": 0,
             "ticks": ""
            },
            "colorscale": [
             [
              0,
              "#0d0887"
             ],
             [
              0.1111111111111111,
              "#46039f"
             ],
             [
              0.2222222222222222,
              "#7201a8"
             ],
             [
              0.3333333333333333,
              "#9c179e"
             ],
             [
              0.4444444444444444,
              "#bd3786"
             ],
             [
              0.5555555555555556,
              "#d8576b"
             ],
             [
              0.6666666666666666,
              "#ed7953"
             ],
             [
              0.7777777777777778,
              "#fb9f3a"
             ],
             [
              0.8888888888888888,
              "#fdca26"
             ],
             [
              1,
              "#f0f921"
             ]
            ],
            "type": "heatmap"
           }
          ],
          "heatmapgl": [
           {
            "colorbar": {
             "outlinewidth": 0,
             "ticks": ""
            },
            "colorscale": [
             [
              0,
              "#0d0887"
             ],
             [
              0.1111111111111111,
              "#46039f"
             ],
             [
              0.2222222222222222,
              "#7201a8"
             ],
             [
              0.3333333333333333,
              "#9c179e"
             ],
             [
              0.4444444444444444,
              "#bd3786"
             ],
             [
              0.5555555555555556,
              "#d8576b"
             ],
             [
              0.6666666666666666,
              "#ed7953"
             ],
             [
              0.7777777777777778,
              "#fb9f3a"
             ],
             [
              0.8888888888888888,
              "#fdca26"
             ],
             [
              1,
              "#f0f921"
             ]
            ],
            "type": "heatmapgl"
           }
          ],
          "histogram": [
           {
            "marker": {
             "pattern": {
              "fillmode": "overlay",
              "size": 10,
              "solidity": 0.2
             }
            },
            "type": "histogram"
           }
          ],
          "histogram2d": [
           {
            "colorbar": {
             "outlinewidth": 0,
             "ticks": ""
            },
            "colorscale": [
             [
              0,
              "#0d0887"
             ],
             [
              0.1111111111111111,
              "#46039f"
             ],
             [
              0.2222222222222222,
              "#7201a8"
             ],
             [
              0.3333333333333333,
              "#9c179e"
             ],
             [
              0.4444444444444444,
              "#bd3786"
             ],
             [
              0.5555555555555556,
              "#d8576b"
             ],
             [
              0.6666666666666666,
              "#ed7953"
             ],
             [
              0.7777777777777778,
              "#fb9f3a"
             ],
             [
              0.8888888888888888,
              "#fdca26"
             ],
             [
              1,
              "#f0f921"
             ]
            ],
            "type": "histogram2d"
           }
          ],
          "histogram2dcontour": [
           {
            "colorbar": {
             "outlinewidth": 0,
             "ticks": ""
            },
            "colorscale": [
             [
              0,
              "#0d0887"
             ],
             [
              0.1111111111111111,
              "#46039f"
             ],
             [
              0.2222222222222222,
              "#7201a8"
             ],
             [
              0.3333333333333333,
              "#9c179e"
             ],
             [
              0.4444444444444444,
              "#bd3786"
             ],
             [
              0.5555555555555556,
              "#d8576b"
             ],
             [
              0.6666666666666666,
              "#ed7953"
             ],
             [
              0.7777777777777778,
              "#fb9f3a"
             ],
             [
              0.8888888888888888,
              "#fdca26"
             ],
             [
              1,
              "#f0f921"
             ]
            ],
            "type": "histogram2dcontour"
           }
          ],
          "mesh3d": [
           {
            "colorbar": {
             "outlinewidth": 0,
             "ticks": ""
            },
            "type": "mesh3d"
           }
          ],
          "parcoords": [
           {
            "line": {
             "colorbar": {
              "outlinewidth": 0,
              "ticks": ""
             }
            },
            "type": "parcoords"
           }
          ],
          "pie": [
           {
            "automargin": true,
            "type": "pie"
           }
          ],
          "scatter": [
           {
            "fillpattern": {
             "fillmode": "overlay",
             "size": 10,
             "solidity": 0.2
            },
            "type": "scatter"
           }
          ],
          "scatter3d": [
           {
            "line": {
             "colorbar": {
              "outlinewidth": 0,
              "ticks": ""
             }
            },
            "marker": {
             "colorbar": {
              "outlinewidth": 0,
              "ticks": ""
             }
            },
            "type": "scatter3d"
           }
          ],
          "scattercarpet": [
           {
            "marker": {
             "colorbar": {
              "outlinewidth": 0,
              "ticks": ""
             }
            },
            "type": "scattercarpet"
           }
          ],
          "scattergeo": [
           {
            "marker": {
             "colorbar": {
              "outlinewidth": 0,
              "ticks": ""
             }
            },
            "type": "scattergeo"
           }
          ],
          "scattergl": [
           {
            "marker": {
             "colorbar": {
              "outlinewidth": 0,
              "ticks": ""
             }
            },
            "type": "scattergl"
           }
          ],
          "scattermapbox": [
           {
            "marker": {
             "colorbar": {
              "outlinewidth": 0,
              "ticks": ""
             }
            },
            "type": "scattermapbox"
           }
          ],
          "scatterpolar": [
           {
            "marker": {
             "colorbar": {
              "outlinewidth": 0,
              "ticks": ""
             }
            },
            "type": "scatterpolar"
           }
          ],
          "scatterpolargl": [
           {
            "marker": {
             "colorbar": {
              "outlinewidth": 0,
              "ticks": ""
             }
            },
            "type": "scatterpolargl"
           }
          ],
          "scatterternary": [
           {
            "marker": {
             "colorbar": {
              "outlinewidth": 0,
              "ticks": ""
             }
            },
            "type": "scatterternary"
           }
          ],
          "surface": [
           {
            "colorbar": {
             "outlinewidth": 0,
             "ticks": ""
            },
            "colorscale": [
             [
              0,
              "#0d0887"
             ],
             [
              0.1111111111111111,
              "#46039f"
             ],
             [
              0.2222222222222222,
              "#7201a8"
             ],
             [
              0.3333333333333333,
              "#9c179e"
             ],
             [
              0.4444444444444444,
              "#bd3786"
             ],
             [
              0.5555555555555556,
              "#d8576b"
             ],
             [
              0.6666666666666666,
              "#ed7953"
             ],
             [
              0.7777777777777778,
              "#fb9f3a"
             ],
             [
              0.8888888888888888,
              "#fdca26"
             ],
             [
              1,
              "#f0f921"
             ]
            ],
            "type": "surface"
           }
          ],
          "table": [
           {
            "cells": {
             "fill": {
              "color": "#EBF0F8"
             },
             "line": {
              "color": "white"
             }
            },
            "header": {
             "fill": {
              "color": "#C8D4E3"
             },
             "line": {
              "color": "white"
             }
            },
            "type": "table"
           }
          ]
         },
         "layout": {
          "annotationdefaults": {
           "arrowcolor": "#2a3f5f",
           "arrowhead": 0,
           "arrowwidth": 1
          },
          "autotypenumbers": "strict",
          "coloraxis": {
           "colorbar": {
            "outlinewidth": 0,
            "ticks": ""
           }
          },
          "colorscale": {
           "diverging": [
            [
             0,
             "#8e0152"
            ],
            [
             0.1,
             "#c51b7d"
            ],
            [
             0.2,
             "#de77ae"
            ],
            [
             0.3,
             "#f1b6da"
            ],
            [
             0.4,
             "#fde0ef"
            ],
            [
             0.5,
             "#f7f7f7"
            ],
            [
             0.6,
             "#e6f5d0"
            ],
            [
             0.7,
             "#b8e186"
            ],
            [
             0.8,
             "#7fbc41"
            ],
            [
             0.9,
             "#4d9221"
            ],
            [
             1,
             "#276419"
            ]
           ],
           "sequential": [
            [
             0,
             "#0d0887"
            ],
            [
             0.1111111111111111,
             "#46039f"
            ],
            [
             0.2222222222222222,
             "#7201a8"
            ],
            [
             0.3333333333333333,
             "#9c179e"
            ],
            [
             0.4444444444444444,
             "#bd3786"
            ],
            [
             0.5555555555555556,
             "#d8576b"
            ],
            [
             0.6666666666666666,
             "#ed7953"
            ],
            [
             0.7777777777777778,
             "#fb9f3a"
            ],
            [
             0.8888888888888888,
             "#fdca26"
            ],
            [
             1,
             "#f0f921"
            ]
           ],
           "sequentialminus": [
            [
             0,
             "#0d0887"
            ],
            [
             0.1111111111111111,
             "#46039f"
            ],
            [
             0.2222222222222222,
             "#7201a8"
            ],
            [
             0.3333333333333333,
             "#9c179e"
            ],
            [
             0.4444444444444444,
             "#bd3786"
            ],
            [
             0.5555555555555556,
             "#d8576b"
            ],
            [
             0.6666666666666666,
             "#ed7953"
            ],
            [
             0.7777777777777778,
             "#fb9f3a"
            ],
            [
             0.8888888888888888,
             "#fdca26"
            ],
            [
             1,
             "#f0f921"
            ]
           ]
          },
          "colorway": [
           "#636efa",
           "#EF553B",
           "#00cc96",
           "#ab63fa",
           "#FFA15A",
           "#19d3f3",
           "#FF6692",
           "#B6E880",
           "#FF97FF",
           "#FECB52"
          ],
          "font": {
           "color": "#2a3f5f"
          },
          "geo": {
           "bgcolor": "white",
           "lakecolor": "white",
           "landcolor": "#E5ECF6",
           "showlakes": true,
           "showland": true,
           "subunitcolor": "white"
          },
          "hoverlabel": {
           "align": "left"
          },
          "hovermode": "closest",
          "mapbox": {
           "style": "light"
          },
          "paper_bgcolor": "white",
          "plot_bgcolor": "#E5ECF6",
          "polar": {
           "angularaxis": {
            "gridcolor": "white",
            "linecolor": "white",
            "ticks": ""
           },
           "bgcolor": "#E5ECF6",
           "radialaxis": {
            "gridcolor": "white",
            "linecolor": "white",
            "ticks": ""
           }
          },
          "scene": {
           "xaxis": {
            "backgroundcolor": "#E5ECF6",
            "gridcolor": "white",
            "gridwidth": 2,
            "linecolor": "white",
            "showbackground": true,
            "ticks": "",
            "zerolinecolor": "white"
           },
           "yaxis": {
            "backgroundcolor": "#E5ECF6",
            "gridcolor": "white",
            "gridwidth": 2,
            "linecolor": "white",
            "showbackground": true,
            "ticks": "",
            "zerolinecolor": "white"
           },
           "zaxis": {
            "backgroundcolor": "#E5ECF6",
            "gridcolor": "white",
            "gridwidth": 2,
            "linecolor": "white",
            "showbackground": true,
            "ticks": "",
            "zerolinecolor": "white"
           }
          },
          "shapedefaults": {
           "line": {
            "color": "#2a3f5f"
           }
          },
          "ternary": {
           "aaxis": {
            "gridcolor": "white",
            "linecolor": "white",
            "ticks": ""
           },
           "baxis": {
            "gridcolor": "white",
            "linecolor": "white",
            "ticks": ""
           },
           "bgcolor": "#E5ECF6",
           "caxis": {
            "gridcolor": "white",
            "linecolor": "white",
            "ticks": ""
           }
          },
          "title": {
           "x": 0.05
          },
          "xaxis": {
           "automargin": true,
           "gridcolor": "white",
           "linecolor": "white",
           "ticks": "",
           "title": {
            "standoff": 15
           },
           "zerolinecolor": "white",
           "zerolinewidth": 2
          },
          "yaxis": {
           "automargin": true,
           "gridcolor": "white",
           "linecolor": "white",
           "ticks": "",
           "title": {
            "standoff": 15
           },
           "zerolinecolor": "white",
           "zerolinewidth": 2
          }
         }
        },
        "xaxis": {
         "anchor": "y",
         "domain": [
          0,
          0.45
         ]
        },
        "xaxis2": {
         "anchor": "y2",
         "domain": [
          0.55,
          1
         ]
        },
        "yaxis": {
         "anchor": "x",
         "domain": [
          0,
          1
         ]
        },
        "yaxis2": {
         "anchor": "x2",
         "domain": [
          0,
          1
         ]
        }
       }
      }
     },
     "metadata": {},
     "output_type": "display_data"
    },
    {
     "name": "stdout",
     "output_type": "stream",
     "text": [
      "5c2c9af4-train\n"
     ]
    },
    {
     "data": {
      "application/vnd.plotly.v1+json": {
       "config": {
        "plotlyServerURL": "https://plot.ly"
       },
       "data": [
        {
         "type": "image",
         "xaxis": "x",
         "yaxis": "y",
         "z": [
          [
           [
            0,
            0,
            0
           ],
           [
            0,
            0,
            0
           ],
           [
            0,
            0,
            0
           ],
           [
            0,
            0,
            0
           ],
           [
            0,
            0,
            0
           ],
           [
            0,
            0,
            0
           ],
           [
            0,
            0,
            0
           ],
           [
            0,
            0,
            0
           ],
           [
            0,
            0,
            0
           ],
           [
            0,
            0,
            0
           ],
           [
            0,
            0,
            0
           ],
           [
            0,
            0,
            0
           ],
           [
            0,
            0,
            0
           ],
           [
            0,
            0,
            0
           ],
           [
            0,
            0,
            0
           ],
           [
            0,
            0,
            0
           ],
           [
            0,
            0,
            0
           ],
           [
            0,
            0,
            0
           ],
           [
            0,
            0,
            0
           ],
           [
            0,
            0,
            0
           ],
           [
            0,
            0,
            0
           ],
           [
            0,
            0,
            0
           ],
           [
            0,
            0,
            0
           ]
          ],
          [
           [
            0,
            0,
            0
           ],
           [
            0,
            0,
            0
           ],
           [
            0,
            0,
            0
           ],
           [
            0,
            0,
            0
           ],
           [
            0,
            0,
            0
           ],
           [
            0,
            0,
            0
           ],
           [
            0,
            0,
            0
           ],
           [
            0,
            0,
            0
           ],
           [
            0,
            0,
            0
           ],
           [
            0,
            0,
            0
           ],
           [
            0,
            0,
            0
           ],
           [
            0,
            0,
            0
           ],
           [
            0,
            0,
            0
           ],
           [
            0,
            0,
            0
           ],
           [
            0,
            0,
            0
           ],
           [
            0,
            0,
            0
           ],
           [
            0,
            0,
            0
           ],
           [
            0,
            0,
            0
           ],
           [
            0,
            0,
            0
           ],
           [
            0,
            0,
            0
           ],
           [
            0,
            0,
            0
           ],
           [
            0,
            0,
            0
           ],
           [
            0,
            0,
            0
           ]
          ],
          [
           [
            0,
            0,
            0
           ],
           [
            0,
            0,
            0
           ],
           [
            0,
            0,
            0
           ],
           [
            0,
            0,
            0
           ],
           [
            0,
            0,
            0
           ],
           [
            0,
            0,
            0
           ],
           [
            0,
            0,
            0
           ],
           [
            0,
            0,
            0
           ],
           [
            0,
            0,
            0
           ],
           [
            0,
            0,
            0
           ],
           [
            0,
            0,
            0
           ],
           [
            127,
            219,
            255
           ],
           [
            0,
            0,
            0
           ],
           [
            0,
            0,
            0
           ],
           [
            0,
            0,
            0
           ],
           [
            0,
            0,
            0
           ],
           [
            0,
            0,
            0
           ],
           [
            0,
            0,
            0
           ],
           [
            0,
            0,
            0
           ],
           [
            0,
            0,
            0
           ],
           [
            0,
            0,
            0
           ],
           [
            0,
            0,
            0
           ],
           [
            0,
            0,
            0
           ]
          ],
          [
           [
            0,
            0,
            0
           ],
           [
            0,
            0,
            0
           ],
           [
            0,
            0,
            0
           ],
           [
            0,
            0,
            0
           ],
           [
            0,
            0,
            0
           ],
           [
            0,
            0,
            0
           ],
           [
            0,
            0,
            0
           ],
           [
            0,
            0,
            0
           ],
           [
            0,
            0,
            0
           ],
           [
            0,
            0,
            0
           ],
           [
            0,
            0,
            0
           ],
           [
            0,
            0,
            0
           ],
           [
            0,
            0,
            0
           ],
           [
            0,
            0,
            0
           ],
           [
            0,
            0,
            0
           ],
           [
            0,
            0,
            0
           ],
           [
            0,
            0,
            0
           ],
           [
            0,
            0,
            0
           ],
           [
            0,
            0,
            0
           ],
           [
            0,
            0,
            0
           ],
           [
            0,
            0,
            0
           ],
           [
            0,
            0,
            0
           ],
           [
            0,
            0,
            0
           ]
          ],
          [
           [
            0,
            0,
            0
           ],
           [
            0,
            0,
            0
           ],
           [
            0,
            0,
            0
           ],
           [
            0,
            0,
            0
           ],
           [
            0,
            0,
            0
           ],
           [
            0,
            0,
            0
           ],
           [
            0,
            0,
            0
           ],
           [
            0,
            0,
            0
           ],
           [
            0,
            0,
            0
           ],
           [
            0,
            0,
            0
           ],
           [
            0,
            0,
            0
           ],
           [
            0,
            0,
            0
           ],
           [
            0,
            0,
            0
           ],
           [
            0,
            0,
            0
           ],
           [
            0,
            0,
            0
           ],
           [
            0,
            0,
            0
           ],
           [
            0,
            0,
            0
           ],
           [
            0,
            0,
            0
           ],
           [
            0,
            0,
            0
           ],
           [
            0,
            0,
            0
           ],
           [
            0,
            0,
            0
           ],
           [
            0,
            0,
            0
           ],
           [
            0,
            0,
            0
           ]
          ],
          [
           [
            0,
            0,
            0
           ],
           [
            0,
            0,
            0
           ],
           [
            0,
            0,
            0
           ],
           [
            0,
            0,
            0
           ],
           [
            0,
            0,
            0
           ],
           [
            0,
            0,
            0
           ],
           [
            0,
            0,
            0
           ],
           [
            0,
            0,
            0
           ],
           [
            0,
            0,
            0
           ],
           [
            0,
            0,
            0
           ],
           [
            0,
            0,
            0
           ],
           [
            0,
            0,
            0
           ],
           [
            0,
            0,
            0
           ],
           [
            0,
            0,
            0
           ],
           [
            127,
            219,
            255
           ],
           [
            0,
            0,
            0
           ],
           [
            0,
            0,
            0
           ],
           [
            0,
            0,
            0
           ],
           [
            0,
            0,
            0
           ],
           [
            0,
            0,
            0
           ],
           [
            0,
            0,
            0
           ],
           [
            0,
            0,
            0
           ],
           [
            0,
            0,
            0
           ]
          ],
          [
           [
            0,
            0,
            0
           ],
           [
            0,
            0,
            0
           ],
           [
            0,
            0,
            0
           ],
           [
            0,
            0,
            0
           ],
           [
            0,
            0,
            0
           ],
           [
            0,
            0,
            0
           ],
           [
            0,
            0,
            0
           ],
           [
            0,
            0,
            0
           ],
           [
            0,
            0,
            0
           ],
           [
            0,
            0,
            0
           ],
           [
            0,
            0,
            0
           ],
           [
            0,
            0,
            0
           ],
           [
            0,
            0,
            0
           ],
           [
            0,
            0,
            0
           ],
           [
            0,
            0,
            0
           ],
           [
            0,
            0,
            0
           ],
           [
            0,
            0,
            0
           ],
           [
            0,
            0,
            0
           ],
           [
            0,
            0,
            0
           ],
           [
            0,
            0,
            0
           ],
           [
            0,
            0,
            0
           ],
           [
            0,
            0,
            0
           ],
           [
            0,
            0,
            0
           ]
          ],
          [
           [
            0,
            0,
            0
           ],
           [
            0,
            0,
            0
           ],
           [
            0,
            0,
            0
           ],
           [
            0,
            0,
            0
           ],
           [
            0,
            0,
            0
           ],
           [
            0,
            0,
            0
           ],
           [
            0,
            0,
            0
           ],
           [
            0,
            0,
            0
           ],
           [
            0,
            0,
            0
           ],
           [
            0,
            0,
            0
           ],
           [
            0,
            0,
            0
           ],
           [
            0,
            0,
            0
           ],
           [
            0,
            0,
            0
           ],
           [
            0,
            0,
            0
           ],
           [
            0,
            0,
            0
           ],
           [
            0,
            0,
            0
           ],
           [
            0,
            0,
            0
           ],
           [
            0,
            0,
            0
           ],
           [
            0,
            0,
            0
           ],
           [
            0,
            0,
            0
           ],
           [
            0,
            0,
            0
           ],
           [
            0,
            0,
            0
           ],
           [
            0,
            0,
            0
           ]
          ],
          [
           [
            0,
            0,
            0
           ],
           [
            0,
            0,
            0
           ],
           [
            0,
            0,
            0
           ],
           [
            0,
            0,
            0
           ],
           [
            0,
            0,
            0
           ],
           [
            0,
            0,
            0
           ],
           [
            0,
            0,
            0
           ],
           [
            0,
            0,
            0
           ],
           [
            0,
            0,
            0
           ],
           [
            0,
            0,
            0
           ],
           [
            0,
            0,
            0
           ],
           [
            0,
            0,
            0
           ],
           [
            0,
            0,
            0
           ],
           [
            0,
            0,
            0
           ],
           [
            0,
            0,
            0
           ],
           [
            0,
            0,
            0
           ],
           [
            0,
            0,
            0
           ],
           [
            127,
            219,
            255
           ],
           [
            0,
            0,
            0
           ],
           [
            0,
            0,
            0
           ],
           [
            0,
            0,
            0
           ],
           [
            0,
            0,
            0
           ],
           [
            0,
            0,
            0
           ]
          ],
          [
           [
            0,
            0,
            0
           ],
           [
            0,
            0,
            0
           ],
           [
            0,
            0,
            0
           ],
           [
            0,
            0,
            0
           ],
           [
            0,
            0,
            0
           ],
           [
            0,
            0,
            0
           ],
           [
            0,
            0,
            0
           ],
           [
            0,
            0,
            0
           ],
           [
            0,
            0,
            0
           ],
           [
            0,
            0,
            0
           ],
           [
            0,
            0,
            0
           ],
           [
            0,
            0,
            0
           ],
           [
            0,
            0,
            0
           ],
           [
            0,
            0,
            0
           ],
           [
            0,
            0,
            0
           ],
           [
            0,
            0,
            0
           ],
           [
            0,
            0,
            0
           ],
           [
            0,
            0,
            0
           ],
           [
            0,
            0,
            0
           ],
           [
            0,
            0,
            0
           ],
           [
            0,
            0,
            0
           ],
           [
            0,
            0,
            0
           ],
           [
            0,
            0,
            0
           ]
          ],
          [
           [
            0,
            0,
            0
           ],
           [
            0,
            0,
            0
           ],
           [
            0,
            0,
            0
           ],
           [
            0,
            0,
            0
           ],
           [
            0,
            0,
            0
           ],
           [
            0,
            0,
            0
           ],
           [
            0,
            0,
            0
           ],
           [
            0,
            0,
            0
           ],
           [
            0,
            0,
            0
           ],
           [
            0,
            0,
            0
           ],
           [
            0,
            0,
            0
           ],
           [
            0,
            0,
            0
           ],
           [
            0,
            0,
            0
           ],
           [
            0,
            0,
            0
           ],
           [
            0,
            0,
            0
           ],
           [
            0,
            0,
            0
           ],
           [
            0,
            0,
            0
           ],
           [
            0,
            0,
            0
           ],
           [
            0,
            0,
            0
           ],
           [
            0,
            0,
            0
           ],
           [
            0,
            0,
            0
           ],
           [
            0,
            0,
            0
           ],
           [
            0,
            0,
            0
           ]
          ],
          [
           [
            0,
            0,
            0
           ],
           [
            0,
            0,
            0
           ],
           [
            0,
            0,
            0
           ],
           [
            0,
            0,
            0
           ],
           [
            0,
            0,
            0
           ],
           [
            0,
            0,
            0
           ],
           [
            0,
            0,
            0
           ],
           [
            0,
            0,
            0
           ],
           [
            0,
            0,
            0
           ],
           [
            0,
            0,
            0
           ],
           [
            0,
            0,
            0
           ],
           [
            0,
            0,
            0
           ],
           [
            0,
            0,
            0
           ],
           [
            0,
            0,
            0
           ],
           [
            0,
            0,
            0
           ],
           [
            0,
            0,
            0
           ],
           [
            0,
            0,
            0
           ],
           [
            0,
            0,
            0
           ],
           [
            0,
            0,
            0
           ],
           [
            0,
            0,
            0
           ],
           [
            0,
            0,
            0
           ],
           [
            0,
            0,
            0
           ],
           [
            0,
            0,
            0
           ]
          ],
          [
           [
            0,
            0,
            0
           ],
           [
            0,
            0,
            0
           ],
           [
            0,
            0,
            0
           ],
           [
            0,
            0,
            0
           ],
           [
            0,
            0,
            0
           ],
           [
            0,
            0,
            0
           ],
           [
            0,
            0,
            0
           ],
           [
            0,
            0,
            0
           ],
           [
            0,
            0,
            0
           ],
           [
            0,
            0,
            0
           ],
           [
            0,
            0,
            0
           ],
           [
            0,
            0,
            0
           ],
           [
            0,
            0,
            0
           ],
           [
            0,
            0,
            0
           ],
           [
            0,
            0,
            0
           ],
           [
            0,
            0,
            0
           ],
           [
            0,
            0,
            0
           ],
           [
            0,
            0,
            0
           ],
           [
            0,
            0,
            0
           ],
           [
            0,
            0,
            0
           ],
           [
            0,
            0,
            0
           ],
           [
            0,
            0,
            0
           ],
           [
            0,
            0,
            0
           ]
          ],
          [
           [
            0,
            0,
            0
           ],
           [
            0,
            0,
            0
           ],
           [
            0,
            0,
            0
           ],
           [
            0,
            0,
            0
           ],
           [
            0,
            0,
            0
           ],
           [
            0,
            0,
            0
           ],
           [
            0,
            0,
            0
           ],
           [
            0,
            0,
            0
           ],
           [
            0,
            0,
            0
           ],
           [
            0,
            0,
            0
           ],
           [
            0,
            0,
            0
           ],
           [
            0,
            0,
            0
           ],
           [
            0,
            0,
            0
           ],
           [
            0,
            0,
            0
           ],
           [
            0,
            0,
            0
           ],
           [
            0,
            0,
            0
           ],
           [
            0,
            0,
            0
           ],
           [
            0,
            0,
            0
           ],
           [
            0,
            0,
            0
           ],
           [
            0,
            0,
            0
           ],
           [
            0,
            0,
            0
           ],
           [
            0,
            0,
            0
           ],
           [
            0,
            0,
            0
           ]
          ],
          [
           [
            0,
            0,
            0
           ],
           [
            0,
            0,
            0
           ],
           [
            0,
            0,
            0
           ],
           [
            0,
            0,
            0
           ],
           [
            0,
            0,
            0
           ],
           [
            0,
            0,
            0
           ],
           [
            0,
            0,
            0
           ],
           [
            0,
            0,
            0
           ],
           [
            0,
            0,
            0
           ],
           [
            0,
            0,
            0
           ],
           [
            0,
            0,
            0
           ],
           [
            0,
            0,
            0
           ],
           [
            0,
            0,
            0
           ],
           [
            0,
            0,
            0
           ],
           [
            0,
            0,
            0
           ],
           [
            0,
            0,
            0
           ],
           [
            0,
            0,
            0
           ],
           [
            0,
            0,
            0
           ],
           [
            0,
            0,
            0
           ],
           [
            0,
            0,
            0
           ],
           [
            0,
            0,
            0
           ],
           [
            0,
            0,
            0
           ],
           [
            0,
            0,
            0
           ]
          ],
          [
           [
            0,
            0,
            0
           ],
           [
            0,
            0,
            0
           ],
           [
            0,
            0,
            0
           ],
           [
            0,
            0,
            0
           ],
           [
            0,
            0,
            0
           ],
           [
            0,
            0,
            0
           ],
           [
            0,
            0,
            0
           ],
           [
            0,
            0,
            0
           ],
           [
            0,
            0,
            0
           ],
           [
            0,
            0,
            0
           ],
           [
            0,
            0,
            0
           ],
           [
            0,
            0,
            0
           ],
           [
            0,
            0,
            0
           ],
           [
            0,
            0,
            0
           ],
           [
            0,
            0,
            0
           ],
           [
            0,
            0,
            0
           ],
           [
            0,
            0,
            0
           ],
           [
            0,
            0,
            0
           ],
           [
            0,
            0,
            0
           ],
           [
            0,
            0,
            0
           ],
           [
            0,
            0,
            0
           ],
           [
            0,
            0,
            0
           ],
           [
            0,
            0,
            0
           ]
          ],
          [
           [
            0,
            0,
            0
           ],
           [
            0,
            0,
            0
           ],
           [
            0,
            0,
            0
           ],
           [
            0,
            0,
            0
           ],
           [
            0,
            0,
            0
           ],
           [
            0,
            0,
            0
           ],
           [
            0,
            0,
            0
           ],
           [
            0,
            0,
            0
           ],
           [
            0,
            0,
            0
           ],
           [
            0,
            0,
            0
           ],
           [
            0,
            0,
            0
           ],
           [
            0,
            0,
            0
           ],
           [
            0,
            0,
            0
           ],
           [
            0,
            0,
            0
           ],
           [
            0,
            0,
            0
           ],
           [
            0,
            0,
            0
           ],
           [
            0,
            0,
            0
           ],
           [
            0,
            0,
            0
           ],
           [
            0,
            0,
            0
           ],
           [
            0,
            0,
            0
           ],
           [
            0,
            0,
            0
           ],
           [
            0,
            0,
            0
           ],
           [
            0,
            0,
            0
           ]
          ],
          [
           [
            0,
            0,
            0
           ],
           [
            0,
            0,
            0
           ],
           [
            0,
            0,
            0
           ],
           [
            0,
            0,
            0
           ],
           [
            0,
            0,
            0
           ],
           [
            0,
            0,
            0
           ],
           [
            0,
            0,
            0
           ],
           [
            0,
            0,
            0
           ],
           [
            0,
            0,
            0
           ],
           [
            0,
            0,
            0
           ],
           [
            0,
            0,
            0
           ],
           [
            0,
            0,
            0
           ],
           [
            0,
            0,
            0
           ],
           [
            0,
            0,
            0
           ],
           [
            0,
            0,
            0
           ],
           [
            0,
            0,
            0
           ],
           [
            0,
            0,
            0
           ],
           [
            0,
            0,
            0
           ],
           [
            0,
            0,
            0
           ],
           [
            0,
            0,
            0
           ],
           [
            0,
            0,
            0
           ],
           [
            0,
            0,
            0
           ],
           [
            0,
            0,
            0
           ]
          ],
          [
           [
            0,
            0,
            0
           ],
           [
            0,
            0,
            0
           ],
           [
            0,
            0,
            0
           ],
           [
            0,
            0,
            0
           ],
           [
            0,
            0,
            0
           ],
           [
            0,
            0,
            0
           ],
           [
            0,
            0,
            0
           ],
           [
            0,
            0,
            0
           ],
           [
            0,
            0,
            0
           ],
           [
            0,
            0,
            0
           ],
           [
            0,
            0,
            0
           ],
           [
            0,
            0,
            0
           ],
           [
            0,
            0,
            0
           ],
           [
            0,
            0,
            0
           ],
           [
            0,
            0,
            0
           ],
           [
            0,
            0,
            0
           ],
           [
            0,
            0,
            0
           ],
           [
            0,
            0,
            0
           ],
           [
            0,
            0,
            0
           ],
           [
            0,
            0,
            0
           ],
           [
            0,
            0,
            0
           ],
           [
            0,
            0,
            0
           ],
           [
            0,
            0,
            0
           ]
          ],
          [
           [
            0,
            0,
            0
           ],
           [
            0,
            0,
            0
           ],
           [
            0,
            0,
            0
           ],
           [
            0,
            0,
            0
           ],
           [
            0,
            0,
            0
           ],
           [
            0,
            0,
            0
           ],
           [
            0,
            0,
            0
           ],
           [
            0,
            0,
            0
           ],
           [
            0,
            0,
            0
           ],
           [
            0,
            0,
            0
           ],
           [
            0,
            0,
            0
           ],
           [
            0,
            0,
            0
           ],
           [
            0,
            0,
            0
           ],
           [
            0,
            0,
            0
           ],
           [
            0,
            0,
            0
           ],
           [
            0,
            0,
            0
           ],
           [
            0,
            0,
            0
           ],
           [
            0,
            0,
            0
           ],
           [
            0,
            0,
            0
           ],
           [
            0,
            0,
            0
           ],
           [
            0,
            0,
            0
           ],
           [
            0,
            0,
            0
           ],
           [
            0,
            0,
            0
           ]
          ],
          [
           [
            0,
            0,
            0
           ],
           [
            0,
            0,
            0
           ],
           [
            0,
            0,
            0
           ],
           [
            0,
            0,
            0
           ],
           [
            0,
            0,
            0
           ],
           [
            0,
            0,
            0
           ],
           [
            0,
            0,
            0
           ],
           [
            0,
            0,
            0
           ],
           [
            0,
            0,
            0
           ],
           [
            0,
            0,
            0
           ],
           [
            0,
            0,
            0
           ],
           [
            0,
            0,
            0
           ],
           [
            0,
            0,
            0
           ],
           [
            0,
            0,
            0
           ],
           [
            0,
            0,
            0
           ],
           [
            0,
            0,
            0
           ],
           [
            0,
            0,
            0
           ],
           [
            0,
            0,
            0
           ],
           [
            0,
            0,
            0
           ],
           [
            0,
            0,
            0
           ],
           [
            0,
            0,
            0
           ],
           [
            0,
            0,
            0
           ],
           [
            0,
            0,
            0
           ]
          ],
          [
           [
            0,
            0,
            0
           ],
           [
            0,
            0,
            0
           ],
           [
            0,
            0,
            0
           ],
           [
            0,
            0,
            0
           ],
           [
            0,
            0,
            0
           ],
           [
            0,
            0,
            0
           ],
           [
            0,
            0,
            0
           ],
           [
            0,
            0,
            0
           ],
           [
            0,
            0,
            0
           ],
           [
            0,
            0,
            0
           ],
           [
            0,
            0,
            0
           ],
           [
            0,
            0,
            0
           ],
           [
            0,
            0,
            0
           ],
           [
            0,
            0,
            0
           ],
           [
            0,
            0,
            0
           ],
           [
            0,
            0,
            0
           ],
           [
            0,
            0,
            0
           ],
           [
            0,
            0,
            0
           ],
           [
            0,
            0,
            0
           ],
           [
            0,
            0,
            0
           ],
           [
            0,
            0,
            0
           ],
           [
            0,
            0,
            0
           ],
           [
            0,
            0,
            0
           ]
          ],
          [
           [
            0,
            0,
            0
           ],
           [
            0,
            0,
            0
           ],
           [
            0,
            0,
            0
           ],
           [
            0,
            0,
            0
           ],
           [
            0,
            0,
            0
           ],
           [
            0,
            0,
            0
           ],
           [
            0,
            0,
            0
           ],
           [
            0,
            0,
            0
           ],
           [
            0,
            0,
            0
           ],
           [
            0,
            0,
            0
           ],
           [
            0,
            0,
            0
           ],
           [
            0,
            0,
            0
           ],
           [
            0,
            0,
            0
           ],
           [
            0,
            0,
            0
           ],
           [
            0,
            0,
            0
           ],
           [
            0,
            0,
            0
           ],
           [
            0,
            0,
            0
           ],
           [
            0,
            0,
            0
           ],
           [
            0,
            0,
            0
           ],
           [
            0,
            0,
            0
           ],
           [
            0,
            0,
            0
           ],
           [
            0,
            0,
            0
           ],
           [
            0,
            0,
            0
           ]
          ]
         ]
        },
        {
         "type": "image",
         "xaxis": "x2",
         "yaxis": "y2",
         "z": [
          [
           [
            0,
            0,
            0
           ],
           [
            0,
            0,
            0
           ],
           [
            127,
            219,
            255
           ],
           [
            0,
            0,
            0
           ],
           [
            0,
            0,
            0
           ],
           [
            127,
            219,
            255
           ],
           [
            0,
            0,
            0
           ],
           [
            0,
            0,
            0
           ],
           [
            127,
            219,
            255
           ],
           [
            0,
            0,
            0
           ],
           [
            0,
            0,
            0
           ],
           [
            0,
            0,
            0
           ],
           [
            0,
            0,
            0
           ],
           [
            0,
            0,
            0
           ],
           [
            0,
            0,
            0
           ],
           [
            0,
            0,
            0
           ],
           [
            0,
            0,
            0
           ],
           [
            0,
            0,
            0
           ],
           [
            0,
            0,
            0
           ],
           [
            0,
            0,
            0
           ],
           [
            127,
            219,
            255
           ],
           [
            0,
            0,
            0
           ],
           [
            0,
            0,
            0
           ]
          ],
          [
           [
            0,
            0,
            0
           ],
           [
            0,
            0,
            0
           ],
           [
            127,
            219,
            255
           ],
           [
            0,
            0,
            0
           ],
           [
            0,
            0,
            0
           ],
           [
            127,
            219,
            255
           ],
           [
            0,
            0,
            0
           ],
           [
            0,
            0,
            0
           ],
           [
            127,
            219,
            255
           ],
           [
            0,
            0,
            0
           ],
           [
            0,
            0,
            0
           ],
           [
            0,
            0,
            0
           ],
           [
            0,
            0,
            0
           ],
           [
            0,
            0,
            0
           ],
           [
            0,
            0,
            0
           ],
           [
            0,
            0,
            0
           ],
           [
            0,
            0,
            0
           ],
           [
            0,
            0,
            0
           ],
           [
            0,
            0,
            0
           ],
           [
            0,
            0,
            0
           ],
           [
            127,
            219,
            255
           ],
           [
            0,
            0,
            0
           ],
           [
            0,
            0,
            0
           ]
          ],
          [
           [
            0,
            0,
            0
           ],
           [
            0,
            0,
            0
           ],
           [
            127,
            219,
            255
           ],
           [
            0,
            0,
            0
           ],
           [
            0,
            0,
            0
           ],
           [
            127,
            219,
            255
           ],
           [
            0,
            0,
            0
           ],
           [
            0,
            0,
            0
           ],
           [
            127,
            219,
            255
           ],
           [
            0,
            0,
            0
           ],
           [
            0,
            0,
            0
           ],
           [
            127,
            219,
            255
           ],
           [
            127,
            219,
            255
           ],
           [
            127,
            219,
            255
           ],
           [
            127,
            219,
            255
           ],
           [
            127,
            219,
            255
           ],
           [
            127,
            219,
            255
           ],
           [
            127,
            219,
            255
           ],
           [
            0,
            0,
            0
           ],
           [
            0,
            0,
            0
           ],
           [
            127,
            219,
            255
           ],
           [
            0,
            0,
            0
           ],
           [
            0,
            0,
            0
           ]
          ],
          [
           [
            0,
            0,
            0
           ],
           [
            0,
            0,
            0
           ],
           [
            127,
            219,
            255
           ],
           [
            0,
            0,
            0
           ],
           [
            0,
            0,
            0
           ],
           [
            127,
            219,
            255
           ],
           [
            0,
            0,
            0
           ],
           [
            0,
            0,
            0
           ],
           [
            127,
            219,
            255
           ],
           [
            0,
            0,
            0
           ],
           [
            0,
            0,
            0
           ],
           [
            127,
            219,
            255
           ],
           [
            0,
            0,
            0
           ],
           [
            0,
            0,
            0
           ],
           [
            0,
            0,
            0
           ],
           [
            0,
            0,
            0
           ],
           [
            0,
            0,
            0
           ],
           [
            127,
            219,
            255
           ],
           [
            0,
            0,
            0
           ],
           [
            0,
            0,
            0
           ],
           [
            127,
            219,
            255
           ],
           [
            0,
            0,
            0
           ],
           [
            0,
            0,
            0
           ]
          ],
          [
           [
            0,
            0,
            0
           ],
           [
            0,
            0,
            0
           ],
           [
            127,
            219,
            255
           ],
           [
            0,
            0,
            0
           ],
           [
            0,
            0,
            0
           ],
           [
            127,
            219,
            255
           ],
           [
            0,
            0,
            0
           ],
           [
            0,
            0,
            0
           ],
           [
            127,
            219,
            255
           ],
           [
            0,
            0,
            0
           ],
           [
            0,
            0,
            0
           ],
           [
            127,
            219,
            255
           ],
           [
            0,
            0,
            0
           ],
           [
            0,
            0,
            0
           ],
           [
            0,
            0,
            0
           ],
           [
            0,
            0,
            0
           ],
           [
            0,
            0,
            0
           ],
           [
            127,
            219,
            255
           ],
           [
            0,
            0,
            0
           ],
           [
            0,
            0,
            0
           ],
           [
            127,
            219,
            255
           ],
           [
            0,
            0,
            0
           ],
           [
            0,
            0,
            0
           ]
          ],
          [
           [
            0,
            0,
            0
           ],
           [
            0,
            0,
            0
           ],
           [
            127,
            219,
            255
           ],
           [
            0,
            0,
            0
           ],
           [
            0,
            0,
            0
           ],
           [
            127,
            219,
            255
           ],
           [
            0,
            0,
            0
           ],
           [
            0,
            0,
            0
           ],
           [
            127,
            219,
            255
           ],
           [
            0,
            0,
            0
           ],
           [
            0,
            0,
            0
           ],
           [
            127,
            219,
            255
           ],
           [
            0,
            0,
            0
           ],
           [
            0,
            0,
            0
           ],
           [
            127,
            219,
            255
           ],
           [
            0,
            0,
            0
           ],
           [
            0,
            0,
            0
           ],
           [
            127,
            219,
            255
           ],
           [
            0,
            0,
            0
           ],
           [
            0,
            0,
            0
           ],
           [
            127,
            219,
            255
           ],
           [
            0,
            0,
            0
           ],
           [
            0,
            0,
            0
           ]
          ],
          [
           [
            0,
            0,
            0
           ],
           [
            0,
            0,
            0
           ],
           [
            127,
            219,
            255
           ],
           [
            0,
            0,
            0
           ],
           [
            0,
            0,
            0
           ],
           [
            127,
            219,
            255
           ],
           [
            0,
            0,
            0
           ],
           [
            0,
            0,
            0
           ],
           [
            127,
            219,
            255
           ],
           [
            0,
            0,
            0
           ],
           [
            0,
            0,
            0
           ],
           [
            127,
            219,
            255
           ],
           [
            0,
            0,
            0
           ],
           [
            0,
            0,
            0
           ],
           [
            0,
            0,
            0
           ],
           [
            0,
            0,
            0
           ],
           [
            0,
            0,
            0
           ],
           [
            127,
            219,
            255
           ],
           [
            0,
            0,
            0
           ],
           [
            0,
            0,
            0
           ],
           [
            127,
            219,
            255
           ],
           [
            0,
            0,
            0
           ],
           [
            0,
            0,
            0
           ]
          ],
          [
           [
            0,
            0,
            0
           ],
           [
            0,
            0,
            0
           ],
           [
            127,
            219,
            255
           ],
           [
            0,
            0,
            0
           ],
           [
            0,
            0,
            0
           ],
           [
            127,
            219,
            255
           ],
           [
            0,
            0,
            0
           ],
           [
            0,
            0,
            0
           ],
           [
            127,
            219,
            255
           ],
           [
            0,
            0,
            0
           ],
           [
            0,
            0,
            0
           ],
           [
            127,
            219,
            255
           ],
           [
            0,
            0,
            0
           ],
           [
            0,
            0,
            0
           ],
           [
            0,
            0,
            0
           ],
           [
            0,
            0,
            0
           ],
           [
            0,
            0,
            0
           ],
           [
            127,
            219,
            255
           ],
           [
            0,
            0,
            0
           ],
           [
            0,
            0,
            0
           ],
           [
            127,
            219,
            255
           ],
           [
            0,
            0,
            0
           ],
           [
            0,
            0,
            0
           ]
          ],
          [
           [
            0,
            0,
            0
           ],
           [
            0,
            0,
            0
           ],
           [
            127,
            219,
            255
           ],
           [
            0,
            0,
            0
           ],
           [
            0,
            0,
            0
           ],
           [
            127,
            219,
            255
           ],
           [
            0,
            0,
            0
           ],
           [
            0,
            0,
            0
           ],
           [
            127,
            219,
            255
           ],
           [
            0,
            0,
            0
           ],
           [
            0,
            0,
            0
           ],
           [
            127,
            219,
            255
           ],
           [
            127,
            219,
            255
           ],
           [
            127,
            219,
            255
           ],
           [
            127,
            219,
            255
           ],
           [
            127,
            219,
            255
           ],
           [
            127,
            219,
            255
           ],
           [
            127,
            219,
            255
           ],
           [
            0,
            0,
            0
           ],
           [
            0,
            0,
            0
           ],
           [
            127,
            219,
            255
           ],
           [
            0,
            0,
            0
           ],
           [
            0,
            0,
            0
           ]
          ],
          [
           [
            0,
            0,
            0
           ],
           [
            0,
            0,
            0
           ],
           [
            127,
            219,
            255
           ],
           [
            0,
            0,
            0
           ],
           [
            0,
            0,
            0
           ],
           [
            127,
            219,
            255
           ],
           [
            0,
            0,
            0
           ],
           [
            0,
            0,
            0
           ],
           [
            127,
            219,
            255
           ],
           [
            0,
            0,
            0
           ],
           [
            0,
            0,
            0
           ],
           [
            0,
            0,
            0
           ],
           [
            0,
            0,
            0
           ],
           [
            0,
            0,
            0
           ],
           [
            0,
            0,
            0
           ],
           [
            0,
            0,
            0
           ],
           [
            0,
            0,
            0
           ],
           [
            0,
            0,
            0
           ],
           [
            0,
            0,
            0
           ],
           [
            0,
            0,
            0
           ],
           [
            127,
            219,
            255
           ],
           [
            0,
            0,
            0
           ],
           [
            0,
            0,
            0
           ]
          ],
          [
           [
            0,
            0,
            0
           ],
           [
            0,
            0,
            0
           ],
           [
            127,
            219,
            255
           ],
           [
            0,
            0,
            0
           ],
           [
            0,
            0,
            0
           ],
           [
            127,
            219,
            255
           ],
           [
            0,
            0,
            0
           ],
           [
            0,
            0,
            0
           ],
           [
            127,
            219,
            255
           ],
           [
            0,
            0,
            0
           ],
           [
            0,
            0,
            0
           ],
           [
            0,
            0,
            0
           ],
           [
            0,
            0,
            0
           ],
           [
            0,
            0,
            0
           ],
           [
            0,
            0,
            0
           ],
           [
            0,
            0,
            0
           ],
           [
            0,
            0,
            0
           ],
           [
            0,
            0,
            0
           ],
           [
            0,
            0,
            0
           ],
           [
            0,
            0,
            0
           ],
           [
            127,
            219,
            255
           ],
           [
            0,
            0,
            0
           ],
           [
            0,
            0,
            0
           ]
          ],
          [
           [
            0,
            0,
            0
           ],
           [
            0,
            0,
            0
           ],
           [
            127,
            219,
            255
           ],
           [
            0,
            0,
            0
           ],
           [
            0,
            0,
            0
           ],
           [
            127,
            219,
            255
           ],
           [
            0,
            0,
            0
           ],
           [
            0,
            0,
            0
           ],
           [
            127,
            219,
            255
           ],
           [
            127,
            219,
            255
           ],
           [
            127,
            219,
            255
           ],
           [
            127,
            219,
            255
           ],
           [
            127,
            219,
            255
           ],
           [
            127,
            219,
            255
           ],
           [
            127,
            219,
            255
           ],
           [
            127,
            219,
            255
           ],
           [
            127,
            219,
            255
           ],
           [
            127,
            219,
            255
           ],
           [
            127,
            219,
            255
           ],
           [
            127,
            219,
            255
           ],
           [
            127,
            219,
            255
           ],
           [
            0,
            0,
            0
           ],
           [
            0,
            0,
            0
           ]
          ],
          [
           [
            0,
            0,
            0
           ],
           [
            0,
            0,
            0
           ],
           [
            127,
            219,
            255
           ],
           [
            0,
            0,
            0
           ],
           [
            0,
            0,
            0
           ],
           [
            127,
            219,
            255
           ],
           [
            0,
            0,
            0
           ],
           [
            0,
            0,
            0
           ],
           [
            0,
            0,
            0
           ],
           [
            0,
            0,
            0
           ],
           [
            0,
            0,
            0
           ],
           [
            0,
            0,
            0
           ],
           [
            0,
            0,
            0
           ],
           [
            0,
            0,
            0
           ],
           [
            0,
            0,
            0
           ],
           [
            0,
            0,
            0
           ],
           [
            0,
            0,
            0
           ],
           [
            0,
            0,
            0
           ],
           [
            0,
            0,
            0
           ],
           [
            0,
            0,
            0
           ],
           [
            0,
            0,
            0
           ],
           [
            0,
            0,
            0
           ],
           [
            0,
            0,
            0
           ]
          ],
          [
           [
            0,
            0,
            0
           ],
           [
            0,
            0,
            0
           ],
           [
            127,
            219,
            255
           ],
           [
            0,
            0,
            0
           ],
           [
            0,
            0,
            0
           ],
           [
            127,
            219,
            255
           ],
           [
            0,
            0,
            0
           ],
           [
            0,
            0,
            0
           ],
           [
            0,
            0,
            0
           ],
           [
            0,
            0,
            0
           ],
           [
            0,
            0,
            0
           ],
           [
            0,
            0,
            0
           ],
           [
            0,
            0,
            0
           ],
           [
            0,
            0,
            0
           ],
           [
            0,
            0,
            0
           ],
           [
            0,
            0,
            0
           ],
           [
            0,
            0,
            0
           ],
           [
            0,
            0,
            0
           ],
           [
            0,
            0,
            0
           ],
           [
            0,
            0,
            0
           ],
           [
            0,
            0,
            0
           ],
           [
            0,
            0,
            0
           ],
           [
            0,
            0,
            0
           ]
          ],
          [
           [
            0,
            0,
            0
           ],
           [
            0,
            0,
            0
           ],
           [
            127,
            219,
            255
           ],
           [
            0,
            0,
            0
           ],
           [
            0,
            0,
            0
           ],
           [
            127,
            219,
            255
           ],
           [
            127,
            219,
            255
           ],
           [
            127,
            219,
            255
           ],
           [
            127,
            219,
            255
           ],
           [
            127,
            219,
            255
           ],
           [
            127,
            219,
            255
           ],
           [
            127,
            219,
            255
           ],
           [
            127,
            219,
            255
           ],
           [
            127,
            219,
            255
           ],
           [
            127,
            219,
            255
           ],
           [
            127,
            219,
            255
           ],
           [
            127,
            219,
            255
           ],
           [
            127,
            219,
            255
           ],
           [
            127,
            219,
            255
           ],
           [
            127,
            219,
            255
           ],
           [
            127,
            219,
            255
           ],
           [
            127,
            219,
            255
           ],
           [
            127,
            219,
            255
           ]
          ],
          [
           [
            0,
            0,
            0
           ],
           [
            0,
            0,
            0
           ],
           [
            127,
            219,
            255
           ],
           [
            0,
            0,
            0
           ],
           [
            0,
            0,
            0
           ],
           [
            0,
            0,
            0
           ],
           [
            0,
            0,
            0
           ],
           [
            0,
            0,
            0
           ],
           [
            0,
            0,
            0
           ],
           [
            0,
            0,
            0
           ],
           [
            0,
            0,
            0
           ],
           [
            0,
            0,
            0
           ],
           [
            0,
            0,
            0
           ],
           [
            0,
            0,
            0
           ],
           [
            0,
            0,
            0
           ],
           [
            0,
            0,
            0
           ],
           [
            0,
            0,
            0
           ],
           [
            0,
            0,
            0
           ],
           [
            0,
            0,
            0
           ],
           [
            0,
            0,
            0
           ],
           [
            0,
            0,
            0
           ],
           [
            0,
            0,
            0
           ],
           [
            0,
            0,
            0
           ]
          ],
          [
           [
            0,
            0,
            0
           ],
           [
            0,
            0,
            0
           ],
           [
            127,
            219,
            255
           ],
           [
            0,
            0,
            0
           ],
           [
            0,
            0,
            0
           ],
           [
            0,
            0,
            0
           ],
           [
            0,
            0,
            0
           ],
           [
            0,
            0,
            0
           ],
           [
            0,
            0,
            0
           ],
           [
            0,
            0,
            0
           ],
           [
            0,
            0,
            0
           ],
           [
            0,
            0,
            0
           ],
           [
            0,
            0,
            0
           ],
           [
            0,
            0,
            0
           ],
           [
            0,
            0,
            0
           ],
           [
            0,
            0,
            0
           ],
           [
            0,
            0,
            0
           ],
           [
            0,
            0,
            0
           ],
           [
            0,
            0,
            0
           ],
           [
            0,
            0,
            0
           ],
           [
            0,
            0,
            0
           ],
           [
            0,
            0,
            0
           ],
           [
            0,
            0,
            0
           ]
          ],
          [
           [
            0,
            0,
            0
           ],
           [
            0,
            0,
            0
           ],
           [
            127,
            219,
            255
           ],
           [
            127,
            219,
            255
           ],
           [
            127,
            219,
            255
           ],
           [
            127,
            219,
            255
           ],
           [
            127,
            219,
            255
           ],
           [
            127,
            219,
            255
           ],
           [
            127,
            219,
            255
           ],
           [
            127,
            219,
            255
           ],
           [
            127,
            219,
            255
           ],
           [
            127,
            219,
            255
           ],
           [
            127,
            219,
            255
           ],
           [
            127,
            219,
            255
           ],
           [
            127,
            219,
            255
           ],
           [
            127,
            219,
            255
           ],
           [
            127,
            219,
            255
           ],
           [
            127,
            219,
            255
           ],
           [
            127,
            219,
            255
           ],
           [
            127,
            219,
            255
           ],
           [
            127,
            219,
            255
           ],
           [
            127,
            219,
            255
           ],
           [
            127,
            219,
            255
           ]
          ],
          [
           [
            0,
            0,
            0
           ],
           [
            0,
            0,
            0
           ],
           [
            0,
            0,
            0
           ],
           [
            0,
            0,
            0
           ],
           [
            0,
            0,
            0
           ],
           [
            0,
            0,
            0
           ],
           [
            0,
            0,
            0
           ],
           [
            0,
            0,
            0
           ],
           [
            0,
            0,
            0
           ],
           [
            0,
            0,
            0
           ],
           [
            0,
            0,
            0
           ],
           [
            0,
            0,
            0
           ],
           [
            0,
            0,
            0
           ],
           [
            0,
            0,
            0
           ],
           [
            0,
            0,
            0
           ],
           [
            0,
            0,
            0
           ],
           [
            0,
            0,
            0
           ],
           [
            0,
            0,
            0
           ],
           [
            0,
            0,
            0
           ],
           [
            0,
            0,
            0
           ],
           [
            0,
            0,
            0
           ],
           [
            0,
            0,
            0
           ],
           [
            0,
            0,
            0
           ]
          ],
          [
           [
            0,
            0,
            0
           ],
           [
            0,
            0,
            0
           ],
           [
            0,
            0,
            0
           ],
           [
            0,
            0,
            0
           ],
           [
            0,
            0,
            0
           ],
           [
            0,
            0,
            0
           ],
           [
            0,
            0,
            0
           ],
           [
            0,
            0,
            0
           ],
           [
            0,
            0,
            0
           ],
           [
            0,
            0,
            0
           ],
           [
            0,
            0,
            0
           ],
           [
            0,
            0,
            0
           ],
           [
            0,
            0,
            0
           ],
           [
            0,
            0,
            0
           ],
           [
            0,
            0,
            0
           ],
           [
            0,
            0,
            0
           ],
           [
            0,
            0,
            0
           ],
           [
            0,
            0,
            0
           ],
           [
            0,
            0,
            0
           ],
           [
            0,
            0,
            0
           ],
           [
            0,
            0,
            0
           ],
           [
            0,
            0,
            0
           ],
           [
            0,
            0,
            0
           ]
          ],
          [
           [
            127,
            219,
            255
           ],
           [
            127,
            219,
            255
           ],
           [
            127,
            219,
            255
           ],
           [
            127,
            219,
            255
           ],
           [
            127,
            219,
            255
           ],
           [
            127,
            219,
            255
           ],
           [
            127,
            219,
            255
           ],
           [
            127,
            219,
            255
           ],
           [
            127,
            219,
            255
           ],
           [
            127,
            219,
            255
           ],
           [
            127,
            219,
            255
           ],
           [
            127,
            219,
            255
           ],
           [
            127,
            219,
            255
           ],
           [
            127,
            219,
            255
           ],
           [
            127,
            219,
            255
           ],
           [
            127,
            219,
            255
           ],
           [
            127,
            219,
            255
           ],
           [
            127,
            219,
            255
           ],
           [
            127,
            219,
            255
           ],
           [
            127,
            219,
            255
           ],
           [
            127,
            219,
            255
           ],
           [
            127,
            219,
            255
           ],
           [
            127,
            219,
            255
           ]
          ],
          [
           [
            0,
            0,
            0
           ],
           [
            0,
            0,
            0
           ],
           [
            0,
            0,
            0
           ],
           [
            0,
            0,
            0
           ],
           [
            0,
            0,
            0
           ],
           [
            0,
            0,
            0
           ],
           [
            0,
            0,
            0
           ],
           [
            0,
            0,
            0
           ],
           [
            0,
            0,
            0
           ],
           [
            0,
            0,
            0
           ],
           [
            0,
            0,
            0
           ],
           [
            0,
            0,
            0
           ],
           [
            0,
            0,
            0
           ],
           [
            0,
            0,
            0
           ],
           [
            0,
            0,
            0
           ],
           [
            0,
            0,
            0
           ],
           [
            0,
            0,
            0
           ],
           [
            0,
            0,
            0
           ],
           [
            0,
            0,
            0
           ],
           [
            0,
            0,
            0
           ],
           [
            0,
            0,
            0
           ],
           [
            0,
            0,
            0
           ],
           [
            0,
            0,
            0
           ]
          ],
          [
           [
            0,
            0,
            0
           ],
           [
            0,
            0,
            0
           ],
           [
            0,
            0,
            0
           ],
           [
            0,
            0,
            0
           ],
           [
            0,
            0,
            0
           ],
           [
            0,
            0,
            0
           ],
           [
            0,
            0,
            0
           ],
           [
            0,
            0,
            0
           ],
           [
            0,
            0,
            0
           ],
           [
            0,
            0,
            0
           ],
           [
            0,
            0,
            0
           ],
           [
            0,
            0,
            0
           ],
           [
            0,
            0,
            0
           ],
           [
            0,
            0,
            0
           ],
           [
            0,
            0,
            0
           ],
           [
            0,
            0,
            0
           ],
           [
            0,
            0,
            0
           ],
           [
            0,
            0,
            0
           ],
           [
            0,
            0,
            0
           ],
           [
            0,
            0,
            0
           ],
           [
            0,
            0,
            0
           ],
           [
            0,
            0,
            0
           ],
           [
            0,
            0,
            0
           ]
          ]
         ]
        },
        {
         "type": "image",
         "xaxis": "x3",
         "yaxis": "y3",
         "z": [
          [
           [
            0,
            0,
            0
           ],
           [
            0,
            0,
            0
           ],
           [
            0,
            0,
            0
           ],
           [
            0,
            0,
            0
           ],
           [
            0,
            0,
            0
           ],
           [
            0,
            0,
            0
           ],
           [
            0,
            0,
            0
           ],
           [
            0,
            0,
            0
           ],
           [
            0,
            0,
            0
           ],
           [
            0,
            0,
            0
           ],
           [
            0,
            0,
            0
           ],
           [
            0,
            0,
            0
           ],
           [
            0,
            0,
            0
           ],
           [
            0,
            0,
            0
           ],
           [
            0,
            0,
            0
           ],
           [
            0,
            0,
            0
           ],
           [
            0,
            0,
            0
           ],
           [
            0,
            0,
            0
           ],
           [
            0,
            0,
            0
           ],
           [
            0,
            0,
            0
           ],
           [
            0,
            0,
            0
           ],
           [
            0,
            0,
            0
           ],
           [
            0,
            0,
            0
           ]
          ],
          [
           [
            0,
            0,
            0
           ],
           [
            0,
            0,
            0
           ],
           [
            0,
            0,
            0
           ],
           [
            0,
            0,
            0
           ],
           [
            0,
            0,
            0
           ],
           [
            0,
            0,
            0
           ],
           [
            0,
            0,
            0
           ],
           [
            0,
            0,
            0
           ],
           [
            0,
            0,
            0
           ],
           [
            0,
            0,
            0
           ],
           [
            0,
            0,
            0
           ],
           [
            0,
            0,
            0
           ],
           [
            0,
            0,
            0
           ],
           [
            0,
            0,
            0
           ],
           [
            0,
            0,
            0
           ],
           [
            0,
            0,
            0
           ],
           [
            0,
            0,
            0
           ],
           [
            0,
            0,
            0
           ],
           [
            0,
            0,
            0
           ],
           [
            0,
            0,
            0
           ],
           [
            0,
            0,
            0
           ],
           [
            0,
            0,
            0
           ],
           [
            0,
            0,
            0
           ]
          ],
          [
           [
            0,
            0,
            0
           ],
           [
            0,
            0,
            0
           ],
           [
            0,
            0,
            0
           ],
           [
            0,
            0,
            0
           ],
           [
            0,
            0,
            0
           ],
           [
            0,
            0,
            0
           ],
           [
            0,
            0,
            0
           ],
           [
            0,
            0,
            0
           ],
           [
            0,
            0,
            0
           ],
           [
            0,
            0,
            0
           ],
           [
            0,
            0,
            0
           ],
           [
            0,
            0,
            0
           ],
           [
            0,
            0,
            0
           ],
           [
            0,
            0,
            0
           ],
           [
            0,
            0,
            0
           ],
           [
            0,
            0,
            0
           ],
           [
            0,
            0,
            0
           ],
           [
            0,
            0,
            0
           ],
           [
            0,
            0,
            0
           ],
           [
            0,
            0,
            0
           ],
           [
            0,
            0,
            0
           ],
           [
            0,
            0,
            0
           ],
           [
            0,
            0,
            0
           ]
          ],
          [
           [
            0,
            0,
            0
           ],
           [
            0,
            0,
            0
           ],
           [
            0,
            0,
            0
           ],
           [
            0,
            0,
            0
           ],
           [
            0,
            0,
            0
           ],
           [
            0,
            0,
            0
           ],
           [
            0,
            0,
            0
           ],
           [
            0,
            0,
            0
           ],
           [
            0,
            0,
            0
           ],
           [
            0,
            0,
            0
           ],
           [
            0,
            0,
            0
           ],
           [
            0,
            0,
            0
           ],
           [
            0,
            0,
            0
           ],
           [
            0,
            0,
            0
           ],
           [
            0,
            0,
            0
           ],
           [
            0,
            0,
            0
           ],
           [
            0,
            0,
            0
           ],
           [
            0,
            0,
            0
           ],
           [
            0,
            0,
            0
           ],
           [
            0,
            0,
            0
           ],
           [
            0,
            0,
            0
           ],
           [
            0,
            0,
            0
           ],
           [
            0,
            0,
            0
           ]
          ],
          [
           [
            0,
            0,
            0
           ],
           [
            0,
            0,
            0
           ],
           [
            0,
            0,
            0
           ],
           [
            0,
            0,
            0
           ],
           [
            0,
            0,
            0
           ],
           [
            0,
            0,
            0
           ],
           [
            0,
            0,
            0
           ],
           [
            0,
            0,
            0
           ],
           [
            0,
            0,
            0
           ],
           [
            0,
            0,
            0
           ],
           [
            0,
            0,
            0
           ],
           [
            0,
            0,
            0
           ],
           [
            0,
            0,
            0
           ],
           [
            0,
            0,
            0
           ],
           [
            0,
            0,
            0
           ],
           [
            0,
            0,
            0
           ],
           [
            0,
            0,
            0
           ],
           [
            0,
            0,
            0
           ],
           [
            0,
            0,
            0
           ],
           [
            0,
            0,
            0
           ],
           [
            0,
            0,
            0
           ],
           [
            0,
            0,
            0
           ],
           [
            0,
            0,
            0
           ]
          ],
          [
           [
            0,
            0,
            0
           ],
           [
            0,
            0,
            0
           ],
           [
            0,
            0,
            0
           ],
           [
            0,
            0,
            0
           ],
           [
            0,
            0,
            0
           ],
           [
            0,
            0,
            0
           ],
           [
            0,
            0,
            0
           ],
           [
            0,
            0,
            0
           ],
           [
            0,
            0,
            0
           ],
           [
            0,
            0,
            0
           ],
           [
            0,
            0,
            0
           ],
           [
            0,
            0,
            0
           ],
           [
            0,
            0,
            0
           ],
           [
            0,
            0,
            0
           ],
           [
            0,
            0,
            0
           ],
           [
            0,
            0,
            0
           ],
           [
            0,
            0,
            0
           ],
           [
            0,
            0,
            0
           ],
           [
            0,
            0,
            0
           ],
           [
            0,
            0,
            0
           ],
           [
            0,
            0,
            0
           ],
           [
            0,
            0,
            0
           ],
           [
            0,
            0,
            0
           ]
          ],
          [
           [
            0,
            0,
            0
           ],
           [
            0,
            0,
            0
           ],
           [
            0,
            0,
            0
           ],
           [
            0,
            0,
            0
           ],
           [
            0,
            0,
            0
           ],
           [
            0,
            0,
            0
           ],
           [
            0,
            0,
            0
           ],
           [
            0,
            0,
            0
           ],
           [
            0,
            0,
            0
           ],
           [
            0,
            0,
            0
           ],
           [
            0,
            0,
            0
           ],
           [
            0,
            0,
            0
           ],
           [
            0,
            0,
            0
           ],
           [
            0,
            0,
            0
           ],
           [
            0,
            0,
            0
           ],
           [
            0,
            0,
            0
           ],
           [
            0,
            0,
            0
           ],
           [
            0,
            0,
            0
           ],
           [
            0,
            0,
            0
           ],
           [
            0,
            0,
            0
           ],
           [
            0,
            0,
            0
           ],
           [
            0,
            0,
            0
           ],
           [
            0,
            0,
            0
           ]
          ],
          [
           [
            0,
            0,
            0
           ],
           [
            0,
            0,
            0
           ],
           [
            0,
            0,
            0
           ],
           [
            0,
            0,
            0
           ],
           [
            0,
            0,
            0
           ],
           [
            0,
            0,
            0
           ],
           [
            0,
            0,
            0
           ],
           [
            0,
            0,
            0
           ],
           [
            0,
            0,
            0
           ],
           [
            0,
            0,
            0
           ],
           [
            0,
            0,
            0
           ],
           [
            0,
            0,
            0
           ],
           [
            0,
            0,
            0
           ],
           [
            0,
            0,
            0
           ],
           [
            0,
            0,
            0
           ],
           [
            0,
            0,
            0
           ],
           [
            0,
            0,
            0
           ],
           [
            0,
            0,
            0
           ],
           [
            0,
            0,
            0
           ],
           [
            0,
            0,
            0
           ],
           [
            0,
            0,
            0
           ],
           [
            0,
            0,
            0
           ],
           [
            0,
            0,
            0
           ]
          ],
          [
           [
            0,
            0,
            0
           ],
           [
            0,
            0,
            0
           ],
           [
            0,
            0,
            0
           ],
           [
            0,
            0,
            0
           ],
           [
            0,
            0,
            0
           ],
           [
            0,
            0,
            0
           ],
           [
            0,
            0,
            0
           ],
           [
            0,
            0,
            0
           ],
           [
            0,
            0,
            0
           ],
           [
            0,
            0,
            0
           ],
           [
            0,
            0,
            0
           ],
           [
            0,
            0,
            0
           ],
           [
            0,
            0,
            0
           ],
           [
            0,
            0,
            0
           ],
           [
            0,
            0,
            0
           ],
           [
            0,
            0,
            0
           ],
           [
            0,
            0,
            0
           ],
           [
            0,
            0,
            0
           ],
           [
            0,
            0,
            0
           ],
           [
            0,
            0,
            0
           ],
           [
            0,
            0,
            0
           ],
           [
            0,
            0,
            0
           ],
           [
            0,
            0,
            0
           ]
          ],
          [
           [
            0,
            0,
            0
           ],
           [
            0,
            0,
            0
           ],
           [
            0,
            0,
            0
           ],
           [
            0,
            0,
            0
           ],
           [
            0,
            0,
            0
           ],
           [
            0,
            0,
            0
           ],
           [
            0,
            0,
            0
           ],
           [
            0,
            0,
            0
           ],
           [
            0,
            0,
            0
           ],
           [
            0,
            0,
            0
           ],
           [
            0,
            0,
            0
           ],
           [
            0,
            0,
            0
           ],
           [
            0,
            0,
            0
           ],
           [
            0,
            0,
            0
           ],
           [
            0,
            0,
            0
           ],
           [
            0,
            0,
            0
           ],
           [
            0,
            0,
            0
           ],
           [
            0,
            0,
            0
           ],
           [
            0,
            0,
            0
           ],
           [
            0,
            0,
            0
           ],
           [
            0,
            0,
            0
           ],
           [
            0,
            0,
            0
           ],
           [
            0,
            0,
            0
           ]
          ],
          [
           [
            0,
            0,
            0
           ],
           [
            0,
            0,
            0
           ],
           [
            0,
            0,
            0
           ],
           [
            0,
            0,
            0
           ],
           [
            0,
            0,
            0
           ],
           [
            0,
            0,
            0
           ],
           [
            0,
            0,
            0
           ],
           [
            0,
            0,
            0
           ],
           [
            0,
            0,
            0
           ],
           [
            0,
            0,
            0
           ],
           [
            0,
            0,
            0
           ],
           [
            0,
            0,
            0
           ],
           [
            0,
            0,
            0
           ],
           [
            0,
            0,
            0
           ],
           [
            0,
            0,
            0
           ],
           [
            0,
            0,
            0
           ],
           [
            0,
            0,
            0
           ],
           [
            0,
            0,
            0
           ],
           [
            0,
            0,
            0
           ],
           [
            0,
            0,
            0
           ],
           [
            0,
            0,
            0
           ],
           [
            0,
            0,
            0
           ],
           [
            0,
            0,
            0
           ]
          ],
          [
           [
            0,
            0,
            0
           ],
           [
            0,
            0,
            0
           ],
           [
            0,
            0,
            0
           ],
           [
            0,
            0,
            0
           ],
           [
            0,
            0,
            0
           ],
           [
            0,
            0,
            0
           ],
           [
            0,
            0,
            0
           ],
           [
            0,
            0,
            0
           ],
           [
            0,
            0,
            0
           ],
           [
            0,
            0,
            0
           ],
           [
            0,
            0,
            0
           ],
           [
            0,
            0,
            0
           ],
           [
            0,
            0,
            0
           ],
           [
            255,
            65,
            54
           ],
           [
            0,
            0,
            0
           ],
           [
            0,
            0,
            0
           ],
           [
            0,
            0,
            0
           ],
           [
            0,
            0,
            0
           ],
           [
            0,
            0,
            0
           ],
           [
            0,
            0,
            0
           ],
           [
            0,
            0,
            0
           ],
           [
            0,
            0,
            0
           ],
           [
            0,
            0,
            0
           ]
          ],
          [
           [
            0,
            0,
            0
           ],
           [
            0,
            0,
            0
           ],
           [
            0,
            0,
            0
           ],
           [
            0,
            0,
            0
           ],
           [
            0,
            0,
            0
           ],
           [
            0,
            0,
            0
           ],
           [
            0,
            0,
            0
           ],
           [
            0,
            0,
            0
           ],
           [
            0,
            0,
            0
           ],
           [
            0,
            0,
            0
           ],
           [
            0,
            0,
            0
           ],
           [
            0,
            0,
            0
           ],
           [
            0,
            0,
            0
           ],
           [
            0,
            0,
            0
           ],
           [
            0,
            0,
            0
           ],
           [
            0,
            0,
            0
           ],
           [
            0,
            0,
            0
           ],
           [
            0,
            0,
            0
           ],
           [
            0,
            0,
            0
           ],
           [
            0,
            0,
            0
           ],
           [
            0,
            0,
            0
           ],
           [
            0,
            0,
            0
           ],
           [
            0,
            0,
            0
           ]
          ],
          [
           [
            0,
            0,
            0
           ],
           [
            0,
            0,
            0
           ],
           [
            0,
            0,
            0
           ],
           [
            0,
            0,
            0
           ],
           [
            0,
            0,
            0
           ],
           [
            0,
            0,
            0
           ],
           [
            0,
            0,
            0
           ],
           [
            0,
            0,
            0
           ],
           [
            0,
            0,
            0
           ],
           [
            0,
            0,
            0
           ],
           [
            0,
            0,
            0
           ],
           [
            255,
            65,
            54
           ],
           [
            0,
            0,
            0
           ],
           [
            0,
            0,
            0
           ],
           [
            0,
            0,
            0
           ],
           [
            0,
            0,
            0
           ],
           [
            0,
            0,
            0
           ],
           [
            0,
            0,
            0
           ],
           [
            0,
            0,
            0
           ],
           [
            0,
            0,
            0
           ],
           [
            0,
            0,
            0
           ],
           [
            0,
            0,
            0
           ],
           [
            0,
            0,
            0
           ]
          ],
          [
           [
            0,
            0,
            0
           ],
           [
            0,
            0,
            0
           ],
           [
            0,
            0,
            0
           ],
           [
            0,
            0,
            0
           ],
           [
            0,
            0,
            0
           ],
           [
            0,
            0,
            0
           ],
           [
            0,
            0,
            0
           ],
           [
            0,
            0,
            0
           ],
           [
            0,
            0,
            0
           ],
           [
            0,
            0,
            0
           ],
           [
            0,
            0,
            0
           ],
           [
            0,
            0,
            0
           ],
           [
            0,
            0,
            0
           ],
           [
            0,
            0,
            0
           ],
           [
            0,
            0,
            0
           ],
           [
            0,
            0,
            0
           ],
           [
            0,
            0,
            0
           ],
           [
            0,
            0,
            0
           ],
           [
            0,
            0,
            0
           ],
           [
            0,
            0,
            0
           ],
           [
            0,
            0,
            0
           ],
           [
            0,
            0,
            0
           ],
           [
            0,
            0,
            0
           ]
          ],
          [
           [
            0,
            0,
            0
           ],
           [
            0,
            0,
            0
           ],
           [
            0,
            0,
            0
           ],
           [
            0,
            0,
            0
           ],
           [
            0,
            0,
            0
           ],
           [
            0,
            0,
            0
           ],
           [
            0,
            0,
            0
           ],
           [
            0,
            0,
            0
           ],
           [
            0,
            0,
            0
           ],
           [
            255,
            65,
            54
           ],
           [
            0,
            0,
            0
           ],
           [
            0,
            0,
            0
           ],
           [
            0,
            0,
            0
           ],
           [
            0,
            0,
            0
           ],
           [
            0,
            0,
            0
           ],
           [
            0,
            0,
            0
           ],
           [
            0,
            0,
            0
           ],
           [
            0,
            0,
            0
           ],
           [
            0,
            0,
            0
           ],
           [
            0,
            0,
            0
           ],
           [
            0,
            0,
            0
           ],
           [
            0,
            0,
            0
           ],
           [
            0,
            0,
            0
           ]
          ],
          [
           [
            0,
            0,
            0
           ],
           [
            0,
            0,
            0
           ],
           [
            0,
            0,
            0
           ],
           [
            0,
            0,
            0
           ],
           [
            0,
            0,
            0
           ],
           [
            0,
            0,
            0
           ],
           [
            0,
            0,
            0
           ],
           [
            0,
            0,
            0
           ],
           [
            0,
            0,
            0
           ],
           [
            0,
            0,
            0
           ],
           [
            0,
            0,
            0
           ],
           [
            0,
            0,
            0
           ],
           [
            0,
            0,
            0
           ],
           [
            0,
            0,
            0
           ],
           [
            0,
            0,
            0
           ],
           [
            0,
            0,
            0
           ],
           [
            0,
            0,
            0
           ],
           [
            0,
            0,
            0
           ],
           [
            0,
            0,
            0
           ],
           [
            0,
            0,
            0
           ],
           [
            0,
            0,
            0
           ],
           [
            0,
            0,
            0
           ],
           [
            0,
            0,
            0
           ]
          ],
          [
           [
            0,
            0,
            0
           ],
           [
            0,
            0,
            0
           ],
           [
            0,
            0,
            0
           ],
           [
            0,
            0,
            0
           ],
           [
            0,
            0,
            0
           ],
           [
            0,
            0,
            0
           ],
           [
            0,
            0,
            0
           ],
           [
            0,
            0,
            0
           ],
           [
            0,
            0,
            0
           ],
           [
            0,
            0,
            0
           ],
           [
            0,
            0,
            0
           ],
           [
            0,
            0,
            0
           ],
           [
            0,
            0,
            0
           ],
           [
            0,
            0,
            0
           ],
           [
            0,
            0,
            0
           ],
           [
            0,
            0,
            0
           ],
           [
            0,
            0,
            0
           ],
           [
            0,
            0,
            0
           ],
           [
            0,
            0,
            0
           ],
           [
            0,
            0,
            0
           ],
           [
            0,
            0,
            0
           ],
           [
            0,
            0,
            0
           ],
           [
            0,
            0,
            0
           ]
          ],
          [
           [
            0,
            0,
            0
           ],
           [
            0,
            0,
            0
           ],
           [
            0,
            0,
            0
           ],
           [
            0,
            0,
            0
           ],
           [
            0,
            0,
            0
           ],
           [
            0,
            0,
            0
           ],
           [
            0,
            0,
            0
           ],
           [
            0,
            0,
            0
           ],
           [
            0,
            0,
            0
           ],
           [
            0,
            0,
            0
           ],
           [
            0,
            0,
            0
           ],
           [
            0,
            0,
            0
           ],
           [
            0,
            0,
            0
           ],
           [
            0,
            0,
            0
           ],
           [
            0,
            0,
            0
           ],
           [
            0,
            0,
            0
           ],
           [
            0,
            0,
            0
           ],
           [
            0,
            0,
            0
           ],
           [
            0,
            0,
            0
           ],
           [
            0,
            0,
            0
           ],
           [
            0,
            0,
            0
           ],
           [
            0,
            0,
            0
           ],
           [
            0,
            0,
            0
           ]
          ],
          [
           [
            0,
            0,
            0
           ],
           [
            0,
            0,
            0
           ],
           [
            0,
            0,
            0
           ],
           [
            0,
            0,
            0
           ],
           [
            0,
            0,
            0
           ],
           [
            0,
            0,
            0
           ],
           [
            0,
            0,
            0
           ],
           [
            0,
            0,
            0
           ],
           [
            0,
            0,
            0
           ],
           [
            0,
            0,
            0
           ],
           [
            0,
            0,
            0
           ],
           [
            0,
            0,
            0
           ],
           [
            0,
            0,
            0
           ],
           [
            0,
            0,
            0
           ],
           [
            0,
            0,
            0
           ],
           [
            0,
            0,
            0
           ],
           [
            0,
            0,
            0
           ],
           [
            0,
            0,
            0
           ],
           [
            0,
            0,
            0
           ],
           [
            0,
            0,
            0
           ],
           [
            0,
            0,
            0
           ],
           [
            0,
            0,
            0
           ],
           [
            0,
            0,
            0
           ]
          ],
          [
           [
            0,
            0,
            0
           ],
           [
            0,
            0,
            0
           ],
           [
            0,
            0,
            0
           ],
           [
            0,
            0,
            0
           ],
           [
            0,
            0,
            0
           ],
           [
            0,
            0,
            0
           ],
           [
            0,
            0,
            0
           ],
           [
            0,
            0,
            0
           ],
           [
            0,
            0,
            0
           ],
           [
            0,
            0,
            0
           ],
           [
            0,
            0,
            0
           ],
           [
            0,
            0,
            0
           ],
           [
            0,
            0,
            0
           ],
           [
            0,
            0,
            0
           ],
           [
            0,
            0,
            0
           ],
           [
            0,
            0,
            0
           ],
           [
            0,
            0,
            0
           ],
           [
            0,
            0,
            0
           ],
           [
            0,
            0,
            0
           ],
           [
            0,
            0,
            0
           ],
           [
            0,
            0,
            0
           ],
           [
            0,
            0,
            0
           ],
           [
            0,
            0,
            0
           ]
          ],
          [
           [
            0,
            0,
            0
           ],
           [
            0,
            0,
            0
           ],
           [
            0,
            0,
            0
           ],
           [
            0,
            0,
            0
           ],
           [
            0,
            0,
            0
           ],
           [
            0,
            0,
            0
           ],
           [
            0,
            0,
            0
           ],
           [
            0,
            0,
            0
           ],
           [
            0,
            0,
            0
           ],
           [
            0,
            0,
            0
           ],
           [
            0,
            0,
            0
           ],
           [
            0,
            0,
            0
           ],
           [
            0,
            0,
            0
           ],
           [
            0,
            0,
            0
           ],
           [
            0,
            0,
            0
           ],
           [
            0,
            0,
            0
           ],
           [
            0,
            0,
            0
           ],
           [
            0,
            0,
            0
           ],
           [
            0,
            0,
            0
           ],
           [
            0,
            0,
            0
           ],
           [
            0,
            0,
            0
           ],
           [
            0,
            0,
            0
           ],
           [
            0,
            0,
            0
           ]
          ],
          [
           [
            0,
            0,
            0
           ],
           [
            0,
            0,
            0
           ],
           [
            0,
            0,
            0
           ],
           [
            0,
            0,
            0
           ],
           [
            0,
            0,
            0
           ],
           [
            0,
            0,
            0
           ],
           [
            0,
            0,
            0
           ],
           [
            0,
            0,
            0
           ],
           [
            0,
            0,
            0
           ],
           [
            0,
            0,
            0
           ],
           [
            0,
            0,
            0
           ],
           [
            0,
            0,
            0
           ],
           [
            0,
            0,
            0
           ],
           [
            0,
            0,
            0
           ],
           [
            0,
            0,
            0
           ],
           [
            0,
            0,
            0
           ],
           [
            0,
            0,
            0
           ],
           [
            0,
            0,
            0
           ],
           [
            0,
            0,
            0
           ],
           [
            0,
            0,
            0
           ],
           [
            0,
            0,
            0
           ],
           [
            0,
            0,
            0
           ],
           [
            0,
            0,
            0
           ]
          ]
         ]
        },
        {
         "type": "image",
         "xaxis": "x4",
         "yaxis": "y4",
         "z": [
          [
           [
            0,
            0,
            0
           ],
           [
            0,
            0,
            0
           ],
           [
            0,
            0,
            0
           ],
           [
            0,
            0,
            0
           ],
           [
            0,
            0,
            0
           ],
           [
            0,
            0,
            0
           ],
           [
            0,
            0,
            0
           ],
           [
            0,
            0,
            0
           ],
           [
            0,
            0,
            0
           ],
           [
            0,
            0,
            0
           ],
           [
            0,
            0,
            0
           ],
           [
            0,
            0,
            0
           ],
           [
            0,
            0,
            0
           ],
           [
            0,
            0,
            0
           ],
           [
            0,
            0,
            0
           ],
           [
            0,
            0,
            0
           ],
           [
            0,
            0,
            0
           ],
           [
            0,
            0,
            0
           ],
           [
            0,
            0,
            0
           ],
           [
            0,
            0,
            0
           ],
           [
            0,
            0,
            0
           ],
           [
            0,
            0,
            0
           ],
           [
            0,
            0,
            0
           ]
          ],
          [
           [
            255,
            65,
            54
           ],
           [
            255,
            65,
            54
           ],
           [
            255,
            65,
            54
           ],
           [
            255,
            65,
            54
           ],
           [
            255,
            65,
            54
           ],
           [
            255,
            65,
            54
           ],
           [
            255,
            65,
            54
           ],
           [
            255,
            65,
            54
           ],
           [
            255,
            65,
            54
           ],
           [
            255,
            65,
            54
           ],
           [
            255,
            65,
            54
           ],
           [
            255,
            65,
            54
           ],
           [
            255,
            65,
            54
           ],
           [
            255,
            65,
            54
           ],
           [
            255,
            65,
            54
           ],
           [
            255,
            65,
            54
           ],
           [
            255,
            65,
            54
           ],
           [
            255,
            65,
            54
           ],
           [
            255,
            65,
            54
           ],
           [
            255,
            65,
            54
           ],
           [
            255,
            65,
            54
           ],
           [
            255,
            65,
            54
           ],
           [
            255,
            65,
            54
           ]
          ],
          [
           [
            0,
            0,
            0
           ],
           [
            0,
            0,
            0
           ],
           [
            0,
            0,
            0
           ],
           [
            0,
            0,
            0
           ],
           [
            0,
            0,
            0
           ],
           [
            0,
            0,
            0
           ],
           [
            0,
            0,
            0
           ],
           [
            0,
            0,
            0
           ],
           [
            0,
            0,
            0
           ],
           [
            0,
            0,
            0
           ],
           [
            0,
            0,
            0
           ],
           [
            0,
            0,
            0
           ],
           [
            0,
            0,
            0
           ],
           [
            0,
            0,
            0
           ],
           [
            0,
            0,
            0
           ],
           [
            0,
            0,
            0
           ],
           [
            0,
            0,
            0
           ],
           [
            0,
            0,
            0
           ],
           [
            0,
            0,
            0
           ],
           [
            0,
            0,
            0
           ],
           [
            0,
            0,
            0
           ],
           [
            0,
            0,
            0
           ],
           [
            0,
            0,
            0
           ]
          ],
          [
           [
            0,
            0,
            0
           ],
           [
            255,
            65,
            54
           ],
           [
            255,
            65,
            54
           ],
           [
            255,
            65,
            54
           ],
           [
            255,
            65,
            54
           ],
           [
            255,
            65,
            54
           ],
           [
            255,
            65,
            54
           ],
           [
            255,
            65,
            54
           ],
           [
            255,
            65,
            54
           ],
           [
            255,
            65,
            54
           ],
           [
            255,
            65,
            54
           ],
           [
            255,
            65,
            54
           ],
           [
            255,
            65,
            54
           ],
           [
            255,
            65,
            54
           ],
           [
            255,
            65,
            54
           ],
           [
            255,
            65,
            54
           ],
           [
            255,
            65,
            54
           ],
           [
            255,
            65,
            54
           ],
           [
            255,
            65,
            54
           ],
           [
            255,
            65,
            54
           ],
           [
            255,
            65,
            54
           ],
           [
            255,
            65,
            54
           ],
           [
            0,
            0,
            0
           ]
          ],
          [
           [
            0,
            0,
            0
           ],
           [
            255,
            65,
            54
           ],
           [
            0,
            0,
            0
           ],
           [
            0,
            0,
            0
           ],
           [
            0,
            0,
            0
           ],
           [
            0,
            0,
            0
           ],
           [
            0,
            0,
            0
           ],
           [
            0,
            0,
            0
           ],
           [
            0,
            0,
            0
           ],
           [
            0,
            0,
            0
           ],
           [
            0,
            0,
            0
           ],
           [
            0,
            0,
            0
           ],
           [
            0,
            0,
            0
           ],
           [
            0,
            0,
            0
           ],
           [
            0,
            0,
            0
           ],
           [
            0,
            0,
            0
           ],
           [
            0,
            0,
            0
           ],
           [
            0,
            0,
            0
           ],
           [
            0,
            0,
            0
           ],
           [
            0,
            0,
            0
           ],
           [
            0,
            0,
            0
           ],
           [
            255,
            65,
            54
           ],
           [
            0,
            0,
            0
           ]
          ],
          [
           [
            0,
            0,
            0
           ],
           [
            255,
            65,
            54
           ],
           [
            0,
            0,
            0
           ],
           [
            255,
            65,
            54
           ],
           [
            255,
            65,
            54
           ],
           [
            255,
            65,
            54
           ],
           [
            255,
            65,
            54
           ],
           [
            255,
            65,
            54
           ],
           [
            255,
            65,
            54
           ],
           [
            255,
            65,
            54
           ],
           [
            255,
            65,
            54
           ],
           [
            255,
            65,
            54
           ],
           [
            255,
            65,
            54
           ],
           [
            255,
            65,
            54
           ],
           [
            255,
            65,
            54
           ],
           [
            255,
            65,
            54
           ],
           [
            255,
            65,
            54
           ],
           [
            255,
            65,
            54
           ],
           [
            255,
            65,
            54
           ],
           [
            255,
            65,
            54
           ],
           [
            0,
            0,
            0
           ],
           [
            255,
            65,
            54
           ],
           [
            0,
            0,
            0
           ]
          ],
          [
           [
            0,
            0,
            0
           ],
           [
            255,
            65,
            54
           ],
           [
            0,
            0,
            0
           ],
           [
            255,
            65,
            54
           ],
           [
            0,
            0,
            0
           ],
           [
            0,
            0,
            0
           ],
           [
            0,
            0,
            0
           ],
           [
            0,
            0,
            0
           ],
           [
            0,
            0,
            0
           ],
           [
            0,
            0,
            0
           ],
           [
            0,
            0,
            0
           ],
           [
            0,
            0,
            0
           ],
           [
            0,
            0,
            0
           ],
           [
            0,
            0,
            0
           ],
           [
            0,
            0,
            0
           ],
           [
            0,
            0,
            0
           ],
           [
            0,
            0,
            0
           ],
           [
            0,
            0,
            0
           ],
           [
            0,
            0,
            0
           ],
           [
            255,
            65,
            54
           ],
           [
            0,
            0,
            0
           ],
           [
            255,
            65,
            54
           ],
           [
            0,
            0,
            0
           ]
          ],
          [
           [
            0,
            0,
            0
           ],
           [
            255,
            65,
            54
           ],
           [
            0,
            0,
            0
           ],
           [
            255,
            65,
            54
           ],
           [
            0,
            0,
            0
           ],
           [
            255,
            65,
            54
           ],
           [
            255,
            65,
            54
           ],
           [
            255,
            65,
            54
           ],
           [
            255,
            65,
            54
           ],
           [
            255,
            65,
            54
           ],
           [
            255,
            65,
            54
           ],
           [
            255,
            65,
            54
           ],
           [
            255,
            65,
            54
           ],
           [
            255,
            65,
            54
           ],
           [
            255,
            65,
            54
           ],
           [
            255,
            65,
            54
           ],
           [
            255,
            65,
            54
           ],
           [
            255,
            65,
            54
           ],
           [
            0,
            0,
            0
           ],
           [
            255,
            65,
            54
           ],
           [
            0,
            0,
            0
           ],
           [
            255,
            65,
            54
           ],
           [
            0,
            0,
            0
           ]
          ],
          [
           [
            0,
            0,
            0
           ],
           [
            255,
            65,
            54
           ],
           [
            0,
            0,
            0
           ],
           [
            255,
            65,
            54
           ],
           [
            0,
            0,
            0
           ],
           [
            255,
            65,
            54
           ],
           [
            0,
            0,
            0
           ],
           [
            0,
            0,
            0
           ],
           [
            0,
            0,
            0
           ],
           [
            0,
            0,
            0
           ],
           [
            0,
            0,
            0
           ],
           [
            0,
            0,
            0
           ],
           [
            0,
            0,
            0
           ],
           [
            0,
            0,
            0
           ],
           [
            0,
            0,
            0
           ],
           [
            0,
            0,
            0
           ],
           [
            0,
            0,
            0
           ],
           [
            255,
            65,
            54
           ],
           [
            0,
            0,
            0
           ],
           [
            255,
            65,
            54
           ],
           [
            0,
            0,
            0
           ],
           [
            255,
            65,
            54
           ],
           [
            0,
            0,
            0
           ]
          ],
          [
           [
            0,
            0,
            0
           ],
           [
            255,
            65,
            54
           ],
           [
            0,
            0,
            0
           ],
           [
            255,
            65,
            54
           ],
           [
            0,
            0,
            0
           ],
           [
            255,
            65,
            54
           ],
           [
            0,
            0,
            0
           ],
           [
            255,
            65,
            54
           ],
           [
            255,
            65,
            54
           ],
           [
            255,
            65,
            54
           ],
           [
            255,
            65,
            54
           ],
           [
            255,
            65,
            54
           ],
           [
            255,
            65,
            54
           ],
           [
            255,
            65,
            54
           ],
           [
            255,
            65,
            54
           ],
           [
            255,
            65,
            54
           ],
           [
            0,
            0,
            0
           ],
           [
            255,
            65,
            54
           ],
           [
            0,
            0,
            0
           ],
           [
            255,
            65,
            54
           ],
           [
            0,
            0,
            0
           ],
           [
            255,
            65,
            54
           ],
           [
            0,
            0,
            0
           ]
          ],
          [
           [
            0,
            0,
            0
           ],
           [
            255,
            65,
            54
           ],
           [
            0,
            0,
            0
           ],
           [
            255,
            65,
            54
           ],
           [
            0,
            0,
            0
           ],
           [
            255,
            65,
            54
           ],
           [
            0,
            0,
            0
           ],
           [
            255,
            65,
            54
           ],
           [
            0,
            0,
            0
           ],
           [
            0,
            0,
            0
           ],
           [
            0,
            0,
            0
           ],
           [
            0,
            0,
            0
           ],
           [
            0,
            0,
            0
           ],
           [
            0,
            0,
            0
           ],
           [
            0,
            0,
            0
           ],
           [
            255,
            65,
            54
           ],
           [
            0,
            0,
            0
           ],
           [
            255,
            65,
            54
           ],
           [
            0,
            0,
            0
           ],
           [
            255,
            65,
            54
           ],
           [
            0,
            0,
            0
           ],
           [
            255,
            65,
            54
           ],
           [
            0,
            0,
            0
           ]
          ],
          [
           [
            0,
            0,
            0
           ],
           [
            255,
            65,
            54
           ],
           [
            0,
            0,
            0
           ],
           [
            255,
            65,
            54
           ],
           [
            0,
            0,
            0
           ],
           [
            255,
            65,
            54
           ],
           [
            0,
            0,
            0
           ],
           [
            255,
            65,
            54
           ],
           [
            0,
            0,
            0
           ],
           [
            255,
            65,
            54
           ],
           [
            255,
            65,
            54
           ],
           [
            255,
            65,
            54
           ],
           [
            255,
            65,
            54
           ],
           [
            255,
            65,
            54
           ],
           [
            0,
            0,
            0
           ],
           [
            255,
            65,
            54
           ],
           [
            0,
            0,
            0
           ],
           [
            255,
            65,
            54
           ],
           [
            0,
            0,
            0
           ],
           [
            255,
            65,
            54
           ],
           [
            0,
            0,
            0
           ],
           [
            255,
            65,
            54
           ],
           [
            0,
            0,
            0
           ]
          ],
          [
           [
            0,
            0,
            0
           ],
           [
            255,
            65,
            54
           ],
           [
            0,
            0,
            0
           ],
           [
            255,
            65,
            54
           ],
           [
            0,
            0,
            0
           ],
           [
            255,
            65,
            54
           ],
           [
            0,
            0,
            0
           ],
           [
            255,
            65,
            54
           ],
           [
            0,
            0,
            0
           ],
           [
            255,
            65,
            54
           ],
           [
            0,
            0,
            0
           ],
           [
            0,
            0,
            0
           ],
           [
            0,
            0,
            0
           ],
           [
            255,
            65,
            54
           ],
           [
            0,
            0,
            0
           ],
           [
            255,
            65,
            54
           ],
           [
            0,
            0,
            0
           ],
           [
            255,
            65,
            54
           ],
           [
            0,
            0,
            0
           ],
           [
            255,
            65,
            54
           ],
           [
            0,
            0,
            0
           ],
           [
            255,
            65,
            54
           ],
           [
            0,
            0,
            0
           ]
          ],
          [
           [
            0,
            0,
            0
           ],
           [
            255,
            65,
            54
           ],
           [
            0,
            0,
            0
           ],
           [
            255,
            65,
            54
           ],
           [
            0,
            0,
            0
           ],
           [
            255,
            65,
            54
           ],
           [
            0,
            0,
            0
           ],
           [
            255,
            65,
            54
           ],
           [
            0,
            0,
            0
           ],
           [
            255,
            65,
            54
           ],
           [
            0,
            0,
            0
           ],
           [
            255,
            65,
            54
           ],
           [
            0,
            0,
            0
           ],
           [
            255,
            65,
            54
           ],
           [
            0,
            0,
            0
           ],
           [
            255,
            65,
            54
           ],
           [
            0,
            0,
            0
           ],
           [
            255,
            65,
            54
           ],
           [
            0,
            0,
            0
           ],
           [
            255,
            65,
            54
           ],
           [
            0,
            0,
            0
           ],
           [
            255,
            65,
            54
           ],
           [
            0,
            0,
            0
           ]
          ],
          [
           [
            0,
            0,
            0
           ],
           [
            255,
            65,
            54
           ],
           [
            0,
            0,
            0
           ],
           [
            255,
            65,
            54
           ],
           [
            0,
            0,
            0
           ],
           [
            255,
            65,
            54
           ],
           [
            0,
            0,
            0
           ],
           [
            255,
            65,
            54
           ],
           [
            0,
            0,
            0
           ],
           [
            255,
            65,
            54
           ],
           [
            0,
            0,
            0
           ],
           [
            0,
            0,
            0
           ],
           [
            0,
            0,
            0
           ],
           [
            255,
            65,
            54
           ],
           [
            0,
            0,
            0
           ],
           [
            255,
            65,
            54
           ],
           [
            0,
            0,
            0
           ],
           [
            255,
            65,
            54
           ],
           [
            0,
            0,
            0
           ],
           [
            255,
            65,
            54
           ],
           [
            0,
            0,
            0
           ],
           [
            255,
            65,
            54
           ],
           [
            0,
            0,
            0
           ]
          ],
          [
           [
            0,
            0,
            0
           ],
           [
            255,
            65,
            54
           ],
           [
            0,
            0,
            0
           ],
           [
            255,
            65,
            54
           ],
           [
            0,
            0,
            0
           ],
           [
            255,
            65,
            54
           ],
           [
            0,
            0,
            0
           ],
           [
            255,
            65,
            54
           ],
           [
            0,
            0,
            0
           ],
           [
            255,
            65,
            54
           ],
           [
            255,
            65,
            54
           ],
           [
            255,
            65,
            54
           ],
           [
            255,
            65,
            54
           ],
           [
            255,
            65,
            54
           ],
           [
            0,
            0,
            0
           ],
           [
            255,
            65,
            54
           ],
           [
            0,
            0,
            0
           ],
           [
            255,
            65,
            54
           ],
           [
            0,
            0,
            0
           ],
           [
            255,
            65,
            54
           ],
           [
            0,
            0,
            0
           ],
           [
            255,
            65,
            54
           ],
           [
            0,
            0,
            0
           ]
          ],
          [
           [
            0,
            0,
            0
           ],
           [
            255,
            65,
            54
           ],
           [
            0,
            0,
            0
           ],
           [
            255,
            65,
            54
           ],
           [
            0,
            0,
            0
           ],
           [
            255,
            65,
            54
           ],
           [
            0,
            0,
            0
           ],
           [
            255,
            65,
            54
           ],
           [
            0,
            0,
            0
           ],
           [
            0,
            0,
            0
           ],
           [
            0,
            0,
            0
           ],
           [
            0,
            0,
            0
           ],
           [
            0,
            0,
            0
           ],
           [
            0,
            0,
            0
           ],
           [
            0,
            0,
            0
           ],
           [
            255,
            65,
            54
           ],
           [
            0,
            0,
            0
           ],
           [
            255,
            65,
            54
           ],
           [
            0,
            0,
            0
           ],
           [
            255,
            65,
            54
           ],
           [
            0,
            0,
            0
           ],
           [
            255,
            65,
            54
           ],
           [
            0,
            0,
            0
           ]
          ],
          [
           [
            0,
            0,
            0
           ],
           [
            255,
            65,
            54
           ],
           [
            0,
            0,
            0
           ],
           [
            255,
            65,
            54
           ],
           [
            0,
            0,
            0
           ],
           [
            255,
            65,
            54
           ],
           [
            0,
            0,
            0
           ],
           [
            255,
            65,
            54
           ],
           [
            255,
            65,
            54
           ],
           [
            255,
            65,
            54
           ],
           [
            255,
            65,
            54
           ],
           [
            255,
            65,
            54
           ],
           [
            255,
            65,
            54
           ],
           [
            255,
            65,
            54
           ],
           [
            255,
            65,
            54
           ],
           [
            255,
            65,
            54
           ],
           [
            0,
            0,
            0
           ],
           [
            255,
            65,
            54
           ],
           [
            0,
            0,
            0
           ],
           [
            255,
            65,
            54
           ],
           [
            0,
            0,
            0
           ],
           [
            255,
            65,
            54
           ],
           [
            0,
            0,
            0
           ]
          ],
          [
           [
            0,
            0,
            0
           ],
           [
            255,
            65,
            54
           ],
           [
            0,
            0,
            0
           ],
           [
            255,
            65,
            54
           ],
           [
            0,
            0,
            0
           ],
           [
            255,
            65,
            54
           ],
           [
            0,
            0,
            0
           ],
           [
            0,
            0,
            0
           ],
           [
            0,
            0,
            0
           ],
           [
            0,
            0,
            0
           ],
           [
            0,
            0,
            0
           ],
           [
            0,
            0,
            0
           ],
           [
            0,
            0,
            0
           ],
           [
            0,
            0,
            0
           ],
           [
            0,
            0,
            0
           ],
           [
            0,
            0,
            0
           ],
           [
            0,
            0,
            0
           ],
           [
            255,
            65,
            54
           ],
           [
            0,
            0,
            0
           ],
           [
            255,
            65,
            54
           ],
           [
            0,
            0,
            0
           ],
           [
            255,
            65,
            54
           ],
           [
            0,
            0,
            0
           ]
          ],
          [
           [
            0,
            0,
            0
           ],
           [
            255,
            65,
            54
           ],
           [
            0,
            0,
            0
           ],
           [
            255,
            65,
            54
           ],
           [
            0,
            0,
            0
           ],
           [
            255,
            65,
            54
           ],
           [
            255,
            65,
            54
           ],
           [
            255,
            65,
            54
           ],
           [
            255,
            65,
            54
           ],
           [
            255,
            65,
            54
           ],
           [
            255,
            65,
            54
           ],
           [
            255,
            65,
            54
           ],
           [
            255,
            65,
            54
           ],
           [
            255,
            65,
            54
           ],
           [
            255,
            65,
            54
           ],
           [
            255,
            65,
            54
           ],
           [
            255,
            65,
            54
           ],
           [
            255,
            65,
            54
           ],
           [
            0,
            0,
            0
           ],
           [
            255,
            65,
            54
           ],
           [
            0,
            0,
            0
           ],
           [
            255,
            65,
            54
           ],
           [
            0,
            0,
            0
           ]
          ],
          [
           [
            0,
            0,
            0
           ],
           [
            255,
            65,
            54
           ],
           [
            0,
            0,
            0
           ],
           [
            255,
            65,
            54
           ],
           [
            0,
            0,
            0
           ],
           [
            0,
            0,
            0
           ],
           [
            0,
            0,
            0
           ],
           [
            0,
            0,
            0
           ],
           [
            0,
            0,
            0
           ],
           [
            0,
            0,
            0
           ],
           [
            0,
            0,
            0
           ],
           [
            0,
            0,
            0
           ],
           [
            0,
            0,
            0
           ],
           [
            0,
            0,
            0
           ],
           [
            0,
            0,
            0
           ],
           [
            0,
            0,
            0
           ],
           [
            0,
            0,
            0
           ],
           [
            0,
            0,
            0
           ],
           [
            0,
            0,
            0
           ],
           [
            255,
            65,
            54
           ],
           [
            0,
            0,
            0
           ],
           [
            255,
            65,
            54
           ],
           [
            0,
            0,
            0
           ]
          ],
          [
           [
            0,
            0,
            0
           ],
           [
            255,
            65,
            54
           ],
           [
            0,
            0,
            0
           ],
           [
            255,
            65,
            54
           ],
           [
            255,
            65,
            54
           ],
           [
            255,
            65,
            54
           ],
           [
            255,
            65,
            54
           ],
           [
            255,
            65,
            54
           ],
           [
            255,
            65,
            54
           ],
           [
            255,
            65,
            54
           ],
           [
            255,
            65,
            54
           ],
           [
            255,
            65,
            54
           ],
           [
            255,
            65,
            54
           ],
           [
            255,
            65,
            54
           ],
           [
            255,
            65,
            54
           ],
           [
            255,
            65,
            54
           ],
           [
            255,
            65,
            54
           ],
           [
            255,
            65,
            54
           ],
           [
            255,
            65,
            54
           ],
           [
            255,
            65,
            54
           ],
           [
            0,
            0,
            0
           ],
           [
            255,
            65,
            54
           ],
           [
            0,
            0,
            0
           ]
          ],
          [
           [
            0,
            0,
            0
           ],
           [
            255,
            65,
            54
           ],
           [
            0,
            0,
            0
           ],
           [
            0,
            0,
            0
           ],
           [
            0,
            0,
            0
           ],
           [
            0,
            0,
            0
           ],
           [
            0,
            0,
            0
           ],
           [
            0,
            0,
            0
           ],
           [
            0,
            0,
            0
           ],
           [
            0,
            0,
            0
           ],
           [
            0,
            0,
            0
           ],
           [
            0,
            0,
            0
           ],
           [
            0,
            0,
            0
           ],
           [
            0,
            0,
            0
           ],
           [
            0,
            0,
            0
           ],
           [
            0,
            0,
            0
           ],
           [
            0,
            0,
            0
           ],
           [
            0,
            0,
            0
           ],
           [
            0,
            0,
            0
           ],
           [
            0,
            0,
            0
           ],
           [
            0,
            0,
            0
           ],
           [
            255,
            65,
            54
           ],
           [
            0,
            0,
            0
           ]
          ]
         ]
        },
        {
         "type": "image",
         "xaxis": "x5",
         "yaxis": "y5",
         "z": [
          [
           [
            0,
            0,
            0
           ],
           [
            0,
            0,
            0
           ],
           [
            0,
            0,
            0
           ],
           [
            0,
            0,
            0
           ],
           [
            0,
            0,
            0
           ],
           [
            0,
            0,
            0
           ],
           [
            0,
            0,
            0
           ],
           [
            0,
            0,
            0
           ],
           [
            0,
            0,
            0
           ],
           [
            0,
            0,
            0
           ],
           [
            0,
            0,
            0
           ],
           [
            0,
            0,
            0
           ],
           [
            0,
            0,
            0
           ],
           [
            0,
            0,
            0
           ],
           [
            0,
            0,
            0
           ],
           [
            0,
            0,
            0
           ],
           [
            0,
            0,
            0
           ],
           [
            0,
            0,
            0
           ],
           [
            0,
            0,
            0
           ],
           [
            0,
            0,
            0
           ],
           [
            0,
            0,
            0
           ],
           [
            0,
            0,
            0
           ],
           [
            0,
            0,
            0
           ]
          ],
          [
           [
            0,
            0,
            0
           ],
           [
            0,
            0,
            0
           ],
           [
            0,
            0,
            0
           ],
           [
            0,
            0,
            0
           ],
           [
            0,
            0,
            0
           ],
           [
            0,
            0,
            0
           ],
           [
            0,
            0,
            0
           ],
           [
            0,
            0,
            0
           ],
           [
            0,
            0,
            0
           ],
           [
            0,
            0,
            0
           ],
           [
            0,
            0,
            0
           ],
           [
            0,
            0,
            0
           ],
           [
            0,
            0,
            0
           ],
           [
            0,
            0,
            0
           ],
           [
            0,
            0,
            0
           ],
           [
            0,
            0,
            0
           ],
           [
            0,
            0,
            0
           ],
           [
            0,
            0,
            0
           ],
           [
            0,
            0,
            0
           ],
           [
            0,
            0,
            0
           ],
           [
            0,
            0,
            0
           ],
           [
            0,
            0,
            0
           ],
           [
            0,
            0,
            0
           ]
          ],
          [
           [
            0,
            0,
            0
           ],
           [
            0,
            0,
            0
           ],
           [
            0,
            0,
            0
           ],
           [
            0,
            0,
            0
           ],
           [
            0,
            0,
            0
           ],
           [
            0,
            0,
            0
           ],
           [
            0,
            0,
            0
           ],
           [
            0,
            0,
            0
           ],
           [
            0,
            0,
            0
           ],
           [
            0,
            0,
            0
           ],
           [
            0,
            0,
            0
           ],
           [
            0,
            0,
            0
           ],
           [
            0,
            0,
            0
           ],
           [
            0,
            0,
            0
           ],
           [
            0,
            0,
            0
           ],
           [
            0,
            0,
            0
           ],
           [
            0,
            0,
            0
           ],
           [
            0,
            0,
            0
           ],
           [
            0,
            0,
            0
           ],
           [
            0,
            0,
            0
           ],
           [
            0,
            0,
            0
           ],
           [
            0,
            0,
            0
           ],
           [
            0,
            0,
            0
           ]
          ],
          [
           [
            0,
            0,
            0
           ],
           [
            0,
            0,
            0
           ],
           [
            0,
            0,
            0
           ],
           [
            0,
            0,
            0
           ],
           [
            0,
            0,
            0
           ],
           [
            0,
            0,
            0
           ],
           [
            0,
            0,
            0
           ],
           [
            0,
            0,
            0
           ],
           [
            0,
            0,
            0
           ],
           [
            0,
            0,
            0
           ],
           [
            0,
            0,
            0
           ],
           [
            0,
            0,
            0
           ],
           [
            0,
            0,
            0
           ],
           [
            0,
            0,
            0
           ],
           [
            0,
            0,
            0
           ],
           [
            0,
            0,
            0
           ],
           [
            0,
            0,
            0
           ],
           [
            0,
            0,
            0
           ],
           [
            0,
            0,
            0
           ],
           [
            0,
            0,
            0
           ],
           [
            0,
            0,
            0
           ],
           [
            0,
            0,
            0
           ],
           [
            0,
            0,
            0
           ]
          ],
          [
           [
            0,
            0,
            0
           ],
           [
            0,
            0,
            0
           ],
           [
            0,
            0,
            0
           ],
           [
            0,
            0,
            0
           ],
           [
            0,
            0,
            0
           ],
           [
            0,
            0,
            0
           ],
           [
            0,
            0,
            0
           ],
           [
            0,
            0,
            0
           ],
           [
            0,
            0,
            0
           ],
           [
            0,
            0,
            0
           ],
           [
            0,
            0,
            0
           ],
           [
            0,
            0,
            0
           ],
           [
            46,
            204,
            64
           ],
           [
            0,
            0,
            0
           ],
           [
            0,
            0,
            0
           ],
           [
            0,
            0,
            0
           ],
           [
            0,
            0,
            0
           ],
           [
            0,
            0,
            0
           ],
           [
            0,
            0,
            0
           ],
           [
            0,
            0,
            0
           ],
           [
            0,
            0,
            0
           ],
           [
            0,
            0,
            0
           ],
           [
            0,
            0,
            0
           ]
          ],
          [
           [
            0,
            0,
            0
           ],
           [
            0,
            0,
            0
           ],
           [
            0,
            0,
            0
           ],
           [
            0,
            0,
            0
           ],
           [
            0,
            0,
            0
           ],
           [
            0,
            0,
            0
           ],
           [
            0,
            0,
            0
           ],
           [
            0,
            0,
            0
           ],
           [
            0,
            0,
            0
           ],
           [
            0,
            0,
            0
           ],
           [
            0,
            0,
            0
           ],
           [
            0,
            0,
            0
           ],
           [
            0,
            0,
            0
           ],
           [
            0,
            0,
            0
           ],
           [
            0,
            0,
            0
           ],
           [
            0,
            0,
            0
           ],
           [
            0,
            0,
            0
           ],
           [
            0,
            0,
            0
           ],
           [
            0,
            0,
            0
           ],
           [
            0,
            0,
            0
           ],
           [
            0,
            0,
            0
           ],
           [
            0,
            0,
            0
           ],
           [
            0,
            0,
            0
           ]
          ],
          [
           [
            0,
            0,
            0
           ],
           [
            0,
            0,
            0
           ],
           [
            0,
            0,
            0
           ],
           [
            0,
            0,
            0
           ],
           [
            0,
            0,
            0
           ],
           [
            0,
            0,
            0
           ],
           [
            0,
            0,
            0
           ],
           [
            0,
            0,
            0
           ],
           [
            0,
            0,
            0
           ],
           [
            0,
            0,
            0
           ],
           [
            0,
            0,
            0
           ],
           [
            0,
            0,
            0
           ],
           [
            0,
            0,
            0
           ],
           [
            0,
            0,
            0
           ],
           [
            0,
            0,
            0
           ],
           [
            0,
            0,
            0
           ],
           [
            0,
            0,
            0
           ],
           [
            0,
            0,
            0
           ],
           [
            0,
            0,
            0
           ],
           [
            0,
            0,
            0
           ],
           [
            0,
            0,
            0
           ],
           [
            0,
            0,
            0
           ],
           [
            0,
            0,
            0
           ]
          ],
          [
           [
            0,
            0,
            0
           ],
           [
            0,
            0,
            0
           ],
           [
            0,
            0,
            0
           ],
           [
            0,
            0,
            0
           ],
           [
            0,
            0,
            0
           ],
           [
            0,
            0,
            0
           ],
           [
            0,
            0,
            0
           ],
           [
            0,
            0,
            0
           ],
           [
            0,
            0,
            0
           ],
           [
            0,
            0,
            0
           ],
           [
            0,
            0,
            0
           ],
           [
            0,
            0,
            0
           ],
           [
            0,
            0,
            0
           ],
           [
            0,
            0,
            0
           ],
           [
            0,
            0,
            0
           ],
           [
            0,
            0,
            0
           ],
           [
            0,
            0,
            0
           ],
           [
            0,
            0,
            0
           ],
           [
            0,
            0,
            0
           ],
           [
            0,
            0,
            0
           ],
           [
            0,
            0,
            0
           ],
           [
            0,
            0,
            0
           ],
           [
            0,
            0,
            0
           ]
          ],
          [
           [
            0,
            0,
            0
           ],
           [
            0,
            0,
            0
           ],
           [
            0,
            0,
            0
           ],
           [
            0,
            0,
            0
           ],
           [
            0,
            0,
            0
           ],
           [
            0,
            0,
            0
           ],
           [
            0,
            0,
            0
           ],
           [
            0,
            0,
            0
           ],
           [
            46,
            204,
            64
           ],
           [
            0,
            0,
            0
           ],
           [
            0,
            0,
            0
           ],
           [
            0,
            0,
            0
           ],
           [
            0,
            0,
            0
           ],
           [
            0,
            0,
            0
           ],
           [
            0,
            0,
            0
           ],
           [
            0,
            0,
            0
           ],
           [
            0,
            0,
            0
           ],
           [
            0,
            0,
            0
           ],
           [
            0,
            0,
            0
           ],
           [
            0,
            0,
            0
           ],
           [
            0,
            0,
            0
           ],
           [
            0,
            0,
            0
           ],
           [
            0,
            0,
            0
           ]
          ],
          [
           [
            0,
            0,
            0
           ],
           [
            0,
            0,
            0
           ],
           [
            0,
            0,
            0
           ],
           [
            0,
            0,
            0
           ],
           [
            0,
            0,
            0
           ],
           [
            0,
            0,
            0
           ],
           [
            0,
            0,
            0
           ],
           [
            0,
            0,
            0
           ],
           [
            0,
            0,
            0
           ],
           [
            0,
            0,
            0
           ],
           [
            0,
            0,
            0
           ],
           [
            0,
            0,
            0
           ],
           [
            0,
            0,
            0
           ],
           [
            0,
            0,
            0
           ],
           [
            0,
            0,
            0
           ],
           [
            0,
            0,
            0
           ],
           [
            0,
            0,
            0
           ],
           [
            0,
            0,
            0
           ],
           [
            0,
            0,
            0
           ],
           [
            0,
            0,
            0
           ],
           [
            0,
            0,
            0
           ],
           [
            0,
            0,
            0
           ],
           [
            0,
            0,
            0
           ]
          ],
          [
           [
            0,
            0,
            0
           ],
           [
            0,
            0,
            0
           ],
           [
            0,
            0,
            0
           ],
           [
            0,
            0,
            0
           ],
           [
            0,
            0,
            0
           ],
           [
            0,
            0,
            0
           ],
           [
            0,
            0,
            0
           ],
           [
            0,
            0,
            0
           ],
           [
            0,
            0,
            0
           ],
           [
            0,
            0,
            0
           ],
           [
            0,
            0,
            0
           ],
           [
            0,
            0,
            0
           ],
           [
            0,
            0,
            0
           ],
           [
            0,
            0,
            0
           ],
           [
            0,
            0,
            0
           ],
           [
            0,
            0,
            0
           ],
           [
            0,
            0,
            0
           ],
           [
            0,
            0,
            0
           ],
           [
            0,
            0,
            0
           ],
           [
            0,
            0,
            0
           ],
           [
            0,
            0,
            0
           ],
           [
            0,
            0,
            0
           ],
           [
            0,
            0,
            0
           ]
          ],
          [
           [
            0,
            0,
            0
           ],
           [
            0,
            0,
            0
           ],
           [
            0,
            0,
            0
           ],
           [
            0,
            0,
            0
           ],
           [
            0,
            0,
            0
           ],
           [
            0,
            0,
            0
           ],
           [
            0,
            0,
            0
           ],
           [
            0,
            0,
            0
           ],
           [
            0,
            0,
            0
           ],
           [
            0,
            0,
            0
           ],
           [
            0,
            0,
            0
           ],
           [
            0,
            0,
            0
           ],
           [
            0,
            0,
            0
           ],
           [
            0,
            0,
            0
           ],
           [
            0,
            0,
            0
           ],
           [
            0,
            0,
            0
           ],
           [
            0,
            0,
            0
           ],
           [
            0,
            0,
            0
           ],
           [
            0,
            0,
            0
           ],
           [
            0,
            0,
            0
           ],
           [
            0,
            0,
            0
           ],
           [
            0,
            0,
            0
           ],
           [
            0,
            0,
            0
           ]
          ],
          [
           [
            0,
            0,
            0
           ],
           [
            0,
            0,
            0
           ],
           [
            0,
            0,
            0
           ],
           [
            0,
            0,
            0
           ],
           [
            46,
            204,
            64
           ],
           [
            0,
            0,
            0
           ],
           [
            0,
            0,
            0
           ],
           [
            0,
            0,
            0
           ],
           [
            0,
            0,
            0
           ],
           [
            0,
            0,
            0
           ],
           [
            0,
            0,
            0
           ],
           [
            0,
            0,
            0
           ],
           [
            0,
            0,
            0
           ],
           [
            0,
            0,
            0
           ],
           [
            0,
            0,
            0
           ],
           [
            0,
            0,
            0
           ],
           [
            0,
            0,
            0
           ],
           [
            0,
            0,
            0
           ],
           [
            0,
            0,
            0
           ],
           [
            0,
            0,
            0
           ],
           [
            0,
            0,
            0
           ],
           [
            0,
            0,
            0
           ],
           [
            0,
            0,
            0
           ]
          ],
          [
           [
            0,
            0,
            0
           ],
           [
            0,
            0,
            0
           ],
           [
            0,
            0,
            0
           ],
           [
            0,
            0,
            0
           ],
           [
            0,
            0,
            0
           ],
           [
            0,
            0,
            0
           ],
           [
            0,
            0,
            0
           ],
           [
            0,
            0,
            0
           ],
           [
            0,
            0,
            0
           ],
           [
            0,
            0,
            0
           ],
           [
            0,
            0,
            0
           ],
           [
            0,
            0,
            0
           ],
           [
            0,
            0,
            0
           ],
           [
            0,
            0,
            0
           ],
           [
            0,
            0,
            0
           ],
           [
            0,
            0,
            0
           ],
           [
            0,
            0,
            0
           ],
           [
            0,
            0,
            0
           ],
           [
            0,
            0,
            0
           ],
           [
            0,
            0,
            0
           ],
           [
            0,
            0,
            0
           ],
           [
            0,
            0,
            0
           ],
           [
            0,
            0,
            0
           ]
          ],
          [
           [
            0,
            0,
            0
           ],
           [
            0,
            0,
            0
           ],
           [
            0,
            0,
            0
           ],
           [
            0,
            0,
            0
           ],
           [
            0,
            0,
            0
           ],
           [
            0,
            0,
            0
           ],
           [
            0,
            0,
            0
           ],
           [
            0,
            0,
            0
           ],
           [
            0,
            0,
            0
           ],
           [
            0,
            0,
            0
           ],
           [
            0,
            0,
            0
           ],
           [
            0,
            0,
            0
           ],
           [
            0,
            0,
            0
           ],
           [
            0,
            0,
            0
           ],
           [
            0,
            0,
            0
           ],
           [
            0,
            0,
            0
           ],
           [
            0,
            0,
            0
           ],
           [
            0,
            0,
            0
           ],
           [
            0,
            0,
            0
           ],
           [
            0,
            0,
            0
           ],
           [
            0,
            0,
            0
           ],
           [
            0,
            0,
            0
           ],
           [
            0,
            0,
            0
           ]
          ],
          [
           [
            0,
            0,
            0
           ],
           [
            0,
            0,
            0
           ],
           [
            0,
            0,
            0
           ],
           [
            0,
            0,
            0
           ],
           [
            0,
            0,
            0
           ],
           [
            0,
            0,
            0
           ],
           [
            0,
            0,
            0
           ],
           [
            0,
            0,
            0
           ],
           [
            0,
            0,
            0
           ],
           [
            0,
            0,
            0
           ],
           [
            0,
            0,
            0
           ],
           [
            0,
            0,
            0
           ],
           [
            0,
            0,
            0
           ],
           [
            0,
            0,
            0
           ],
           [
            0,
            0,
            0
           ],
           [
            0,
            0,
            0
           ],
           [
            0,
            0,
            0
           ],
           [
            0,
            0,
            0
           ],
           [
            0,
            0,
            0
           ],
           [
            0,
            0,
            0
           ],
           [
            0,
            0,
            0
           ],
           [
            0,
            0,
            0
           ],
           [
            0,
            0,
            0
           ]
          ],
          [
           [
            0,
            0,
            0
           ],
           [
            0,
            0,
            0
           ],
           [
            0,
            0,
            0
           ],
           [
            0,
            0,
            0
           ],
           [
            0,
            0,
            0
           ],
           [
            0,
            0,
            0
           ],
           [
            0,
            0,
            0
           ],
           [
            0,
            0,
            0
           ],
           [
            0,
            0,
            0
           ],
           [
            0,
            0,
            0
           ],
           [
            0,
            0,
            0
           ],
           [
            0,
            0,
            0
           ],
           [
            0,
            0,
            0
           ],
           [
            0,
            0,
            0
           ],
           [
            0,
            0,
            0
           ],
           [
            0,
            0,
            0
           ],
           [
            0,
            0,
            0
           ],
           [
            0,
            0,
            0
           ],
           [
            0,
            0,
            0
           ],
           [
            0,
            0,
            0
           ],
           [
            0,
            0,
            0
           ],
           [
            0,
            0,
            0
           ],
           [
            0,
            0,
            0
           ]
          ],
          [
           [
            0,
            0,
            0
           ],
           [
            0,
            0,
            0
           ],
           [
            0,
            0,
            0
           ],
           [
            0,
            0,
            0
           ],
           [
            0,
            0,
            0
           ],
           [
            0,
            0,
            0
           ],
           [
            0,
            0,
            0
           ],
           [
            0,
            0,
            0
           ],
           [
            0,
            0,
            0
           ],
           [
            0,
            0,
            0
           ],
           [
            0,
            0,
            0
           ],
           [
            0,
            0,
            0
           ],
           [
            0,
            0,
            0
           ],
           [
            0,
            0,
            0
           ],
           [
            0,
            0,
            0
           ],
           [
            0,
            0,
            0
           ],
           [
            0,
            0,
            0
           ],
           [
            0,
            0,
            0
           ],
           [
            0,
            0,
            0
           ],
           [
            0,
            0,
            0
           ],
           [
            0,
            0,
            0
           ],
           [
            0,
            0,
            0
           ],
           [
            0,
            0,
            0
           ]
          ],
          [
           [
            0,
            0,
            0
           ],
           [
            0,
            0,
            0
           ],
           [
            0,
            0,
            0
           ],
           [
            0,
            0,
            0
           ],
           [
            0,
            0,
            0
           ],
           [
            0,
            0,
            0
           ],
           [
            0,
            0,
            0
           ],
           [
            0,
            0,
            0
           ],
           [
            0,
            0,
            0
           ],
           [
            0,
            0,
            0
           ],
           [
            0,
            0,
            0
           ],
           [
            0,
            0,
            0
           ],
           [
            0,
            0,
            0
           ],
           [
            0,
            0,
            0
           ],
           [
            0,
            0,
            0
           ],
           [
            0,
            0,
            0
           ],
           [
            0,
            0,
            0
           ],
           [
            0,
            0,
            0
           ],
           [
            0,
            0,
            0
           ],
           [
            0,
            0,
            0
           ],
           [
            0,
            0,
            0
           ],
           [
            0,
            0,
            0
           ],
           [
            0,
            0,
            0
           ]
          ],
          [
           [
            0,
            0,
            0
           ],
           [
            0,
            0,
            0
           ],
           [
            0,
            0,
            0
           ],
           [
            0,
            0,
            0
           ],
           [
            0,
            0,
            0
           ],
           [
            0,
            0,
            0
           ],
           [
            0,
            0,
            0
           ],
           [
            0,
            0,
            0
           ],
           [
            0,
            0,
            0
           ],
           [
            0,
            0,
            0
           ],
           [
            0,
            0,
            0
           ],
           [
            0,
            0,
            0
           ],
           [
            0,
            0,
            0
           ],
           [
            0,
            0,
            0
           ],
           [
            0,
            0,
            0
           ],
           [
            0,
            0,
            0
           ],
           [
            0,
            0,
            0
           ],
           [
            0,
            0,
            0
           ],
           [
            0,
            0,
            0
           ],
           [
            0,
            0,
            0
           ],
           [
            0,
            0,
            0
           ],
           [
            0,
            0,
            0
           ],
           [
            0,
            0,
            0
           ]
          ],
          [
           [
            0,
            0,
            0
           ],
           [
            0,
            0,
            0
           ],
           [
            0,
            0,
            0
           ],
           [
            0,
            0,
            0
           ],
           [
            0,
            0,
            0
           ],
           [
            0,
            0,
            0
           ],
           [
            0,
            0,
            0
           ],
           [
            0,
            0,
            0
           ],
           [
            0,
            0,
            0
           ],
           [
            0,
            0,
            0
           ],
           [
            0,
            0,
            0
           ],
           [
            0,
            0,
            0
           ],
           [
            0,
            0,
            0
           ],
           [
            0,
            0,
            0
           ],
           [
            0,
            0,
            0
           ],
           [
            0,
            0,
            0
           ],
           [
            0,
            0,
            0
           ],
           [
            0,
            0,
            0
           ],
           [
            0,
            0,
            0
           ],
           [
            0,
            0,
            0
           ],
           [
            0,
            0,
            0
           ],
           [
            0,
            0,
            0
           ],
           [
            0,
            0,
            0
           ]
          ],
          [
           [
            0,
            0,
            0
           ],
           [
            0,
            0,
            0
           ],
           [
            0,
            0,
            0
           ],
           [
            0,
            0,
            0
           ],
           [
            0,
            0,
            0
           ],
           [
            0,
            0,
            0
           ],
           [
            0,
            0,
            0
           ],
           [
            0,
            0,
            0
           ],
           [
            0,
            0,
            0
           ],
           [
            0,
            0,
            0
           ],
           [
            0,
            0,
            0
           ],
           [
            0,
            0,
            0
           ],
           [
            0,
            0,
            0
           ],
           [
            0,
            0,
            0
           ],
           [
            0,
            0,
            0
           ],
           [
            0,
            0,
            0
           ],
           [
            0,
            0,
            0
           ],
           [
            0,
            0,
            0
           ],
           [
            0,
            0,
            0
           ],
           [
            0,
            0,
            0
           ],
           [
            0,
            0,
            0
           ],
           [
            0,
            0,
            0
           ],
           [
            0,
            0,
            0
           ]
          ],
          [
           [
            0,
            0,
            0
           ],
           [
            0,
            0,
            0
           ],
           [
            0,
            0,
            0
           ],
           [
            0,
            0,
            0
           ],
           [
            0,
            0,
            0
           ],
           [
            0,
            0,
            0
           ],
           [
            0,
            0,
            0
           ],
           [
            0,
            0,
            0
           ],
           [
            0,
            0,
            0
           ],
           [
            0,
            0,
            0
           ],
           [
            0,
            0,
            0
           ],
           [
            0,
            0,
            0
           ],
           [
            0,
            0,
            0
           ],
           [
            0,
            0,
            0
           ],
           [
            0,
            0,
            0
           ],
           [
            0,
            0,
            0
           ],
           [
            0,
            0,
            0
           ],
           [
            0,
            0,
            0
           ],
           [
            0,
            0,
            0
           ],
           [
            0,
            0,
            0
           ],
           [
            0,
            0,
            0
           ],
           [
            0,
            0,
            0
           ],
           [
            0,
            0,
            0
           ]
          ]
         ]
        },
        {
         "type": "image",
         "xaxis": "x6",
         "yaxis": "y6",
         "z": [
          [
           [
            46,
            204,
            64
           ],
           [
            46,
            204,
            64
           ],
           [
            46,
            204,
            64
           ],
           [
            46,
            204,
            64
           ],
           [
            46,
            204,
            64
           ],
           [
            46,
            204,
            64
           ],
           [
            46,
            204,
            64
           ],
           [
            46,
            204,
            64
           ],
           [
            46,
            204,
            64
           ],
           [
            46,
            204,
            64
           ],
           [
            46,
            204,
            64
           ],
           [
            46,
            204,
            64
           ],
           [
            46,
            204,
            64
           ],
           [
            46,
            204,
            64
           ],
           [
            46,
            204,
            64
           ],
           [
            46,
            204,
            64
           ],
           [
            46,
            204,
            64
           ],
           [
            0,
            0,
            0
           ],
           [
            0,
            0,
            0
           ],
           [
            0,
            0,
            0
           ],
           [
            46,
            204,
            64
           ],
           [
            0,
            0,
            0
           ],
           [
            0,
            0,
            0
           ]
          ],
          [
           [
            46,
            204,
            64
           ],
           [
            0,
            0,
            0
           ],
           [
            0,
            0,
            0
           ],
           [
            0,
            0,
            0
           ],
           [
            0,
            0,
            0
           ],
           [
            0,
            0,
            0
           ],
           [
            0,
            0,
            0
           ],
           [
            0,
            0,
            0
           ],
           [
            0,
            0,
            0
           ],
           [
            0,
            0,
            0
           ],
           [
            0,
            0,
            0
           ],
           [
            0,
            0,
            0
           ],
           [
            0,
            0,
            0
           ],
           [
            0,
            0,
            0
           ],
           [
            0,
            0,
            0
           ],
           [
            0,
            0,
            0
           ],
           [
            46,
            204,
            64
           ],
           [
            0,
            0,
            0
           ],
           [
            0,
            0,
            0
           ],
           [
            0,
            0,
            0
           ],
           [
            46,
            204,
            64
           ],
           [
            0,
            0,
            0
           ],
           [
            0,
            0,
            0
           ]
          ],
          [
           [
            46,
            204,
            64
           ],
           [
            0,
            0,
            0
           ],
           [
            0,
            0,
            0
           ],
           [
            0,
            0,
            0
           ],
           [
            0,
            0,
            0
           ],
           [
            0,
            0,
            0
           ],
           [
            0,
            0,
            0
           ],
           [
            0,
            0,
            0
           ],
           [
            0,
            0,
            0
           ],
           [
            0,
            0,
            0
           ],
           [
            0,
            0,
            0
           ],
           [
            0,
            0,
            0
           ],
           [
            0,
            0,
            0
           ],
           [
            0,
            0,
            0
           ],
           [
            0,
            0,
            0
           ],
           [
            0,
            0,
            0
           ],
           [
            46,
            204,
            64
           ],
           [
            0,
            0,
            0
           ],
           [
            0,
            0,
            0
           ],
           [
            0,
            0,
            0
           ],
           [
            46,
            204,
            64
           ],
           [
            0,
            0,
            0
           ],
           [
            0,
            0,
            0
           ]
          ],
          [
           [
            46,
            204,
            64
           ],
           [
            0,
            0,
            0
           ],
           [
            0,
            0,
            0
           ],
           [
            0,
            0,
            0
           ],
           [
            0,
            0,
            0
           ],
           [
            0,
            0,
            0
           ],
           [
            0,
            0,
            0
           ],
           [
            0,
            0,
            0
           ],
           [
            0,
            0,
            0
           ],
           [
            0,
            0,
            0
           ],
           [
            0,
            0,
            0
           ],
           [
            0,
            0,
            0
           ],
           [
            0,
            0,
            0
           ],
           [
            0,
            0,
            0
           ],
           [
            0,
            0,
            0
           ],
           [
            0,
            0,
            0
           ],
           [
            46,
            204,
            64
           ],
           [
            0,
            0,
            0
           ],
           [
            0,
            0,
            0
           ],
           [
            0,
            0,
            0
           ],
           [
            46,
            204,
            64
           ],
           [
            0,
            0,
            0
           ],
           [
            0,
            0,
            0
           ]
          ],
          [
           [
            46,
            204,
            64
           ],
           [
            0,
            0,
            0
           ],
           [
            0,
            0,
            0
           ],
           [
            0,
            0,
            0
           ],
           [
            46,
            204,
            64
           ],
           [
            46,
            204,
            64
           ],
           [
            46,
            204,
            64
           ],
           [
            46,
            204,
            64
           ],
           [
            46,
            204,
            64
           ],
           [
            46,
            204,
            64
           ],
           [
            46,
            204,
            64
           ],
           [
            46,
            204,
            64
           ],
           [
            46,
            204,
            64
           ],
           [
            0,
            0,
            0
           ],
           [
            0,
            0,
            0
           ],
           [
            0,
            0,
            0
           ],
           [
            46,
            204,
            64
           ],
           [
            0,
            0,
            0
           ],
           [
            0,
            0,
            0
           ],
           [
            0,
            0,
            0
           ],
           [
            46,
            204,
            64
           ],
           [
            0,
            0,
            0
           ],
           [
            0,
            0,
            0
           ]
          ],
          [
           [
            46,
            204,
            64
           ],
           [
            0,
            0,
            0
           ],
           [
            0,
            0,
            0
           ],
           [
            0,
            0,
            0
           ],
           [
            46,
            204,
            64
           ],
           [
            0,
            0,
            0
           ],
           [
            0,
            0,
            0
           ],
           [
            0,
            0,
            0
           ],
           [
            0,
            0,
            0
           ],
           [
            0,
            0,
            0
           ],
           [
            0,
            0,
            0
           ],
           [
            0,
            0,
            0
           ],
           [
            46,
            204,
            64
           ],
           [
            0,
            0,
            0
           ],
           [
            0,
            0,
            0
           ],
           [
            0,
            0,
            0
           ],
           [
            46,
            204,
            64
           ],
           [
            0,
            0,
            0
           ],
           [
            0,
            0,
            0
           ],
           [
            0,
            0,
            0
           ],
           [
            46,
            204,
            64
           ],
           [
            0,
            0,
            0
           ],
           [
            0,
            0,
            0
           ]
          ],
          [
           [
            46,
            204,
            64
           ],
           [
            0,
            0,
            0
           ],
           [
            0,
            0,
            0
           ],
           [
            0,
            0,
            0
           ],
           [
            46,
            204,
            64
           ],
           [
            0,
            0,
            0
           ],
           [
            0,
            0,
            0
           ],
           [
            0,
            0,
            0
           ],
           [
            0,
            0,
            0
           ],
           [
            0,
            0,
            0
           ],
           [
            0,
            0,
            0
           ],
           [
            0,
            0,
            0
           ],
           [
            46,
            204,
            64
           ],
           [
            0,
            0,
            0
           ],
           [
            0,
            0,
            0
           ],
           [
            0,
            0,
            0
           ],
           [
            46,
            204,
            64
           ],
           [
            0,
            0,
            0
           ],
           [
            0,
            0,
            0
           ],
           [
            0,
            0,
            0
           ],
           [
            46,
            204,
            64
           ],
           [
            0,
            0,
            0
           ],
           [
            0,
            0,
            0
           ]
          ],
          [
           [
            46,
            204,
            64
           ],
           [
            0,
            0,
            0
           ],
           [
            0,
            0,
            0
           ],
           [
            0,
            0,
            0
           ],
           [
            46,
            204,
            64
           ],
           [
            0,
            0,
            0
           ],
           [
            0,
            0,
            0
           ],
           [
            0,
            0,
            0
           ],
           [
            0,
            0,
            0
           ],
           [
            0,
            0,
            0
           ],
           [
            0,
            0,
            0
           ],
           [
            0,
            0,
            0
           ],
           [
            46,
            204,
            64
           ],
           [
            0,
            0,
            0
           ],
           [
            0,
            0,
            0
           ],
           [
            0,
            0,
            0
           ],
           [
            46,
            204,
            64
           ],
           [
            0,
            0,
            0
           ],
           [
            0,
            0,
            0
           ],
           [
            0,
            0,
            0
           ],
           [
            46,
            204,
            64
           ],
           [
            0,
            0,
            0
           ],
           [
            0,
            0,
            0
           ]
          ],
          [
           [
            46,
            204,
            64
           ],
           [
            0,
            0,
            0
           ],
           [
            0,
            0,
            0
           ],
           [
            0,
            0,
            0
           ],
           [
            46,
            204,
            64
           ],
           [
            0,
            0,
            0
           ],
           [
            0,
            0,
            0
           ],
           [
            0,
            0,
            0
           ],
           [
            46,
            204,
            64
           ],
           [
            0,
            0,
            0
           ],
           [
            0,
            0,
            0
           ],
           [
            0,
            0,
            0
           ],
           [
            46,
            204,
            64
           ],
           [
            0,
            0,
            0
           ],
           [
            0,
            0,
            0
           ],
           [
            0,
            0,
            0
           ],
           [
            46,
            204,
            64
           ],
           [
            0,
            0,
            0
           ],
           [
            0,
            0,
            0
           ],
           [
            0,
            0,
            0
           ],
           [
            46,
            204,
            64
           ],
           [
            0,
            0,
            0
           ],
           [
            0,
            0,
            0
           ]
          ],
          [
           [
            46,
            204,
            64
           ],
           [
            0,
            0,
            0
           ],
           [
            0,
            0,
            0
           ],
           [
            0,
            0,
            0
           ],
           [
            46,
            204,
            64
           ],
           [
            0,
            0,
            0
           ],
           [
            0,
            0,
            0
           ],
           [
            0,
            0,
            0
           ],
           [
            0,
            0,
            0
           ],
           [
            0,
            0,
            0
           ],
           [
            0,
            0,
            0
           ],
           [
            0,
            0,
            0
           ],
           [
            46,
            204,
            64
           ],
           [
            0,
            0,
            0
           ],
           [
            0,
            0,
            0
           ],
           [
            0,
            0,
            0
           ],
           [
            46,
            204,
            64
           ],
           [
            0,
            0,
            0
           ],
           [
            0,
            0,
            0
           ],
           [
            0,
            0,
            0
           ],
           [
            46,
            204,
            64
           ],
           [
            0,
            0,
            0
           ],
           [
            0,
            0,
            0
           ]
          ],
          [
           [
            46,
            204,
            64
           ],
           [
            0,
            0,
            0
           ],
           [
            0,
            0,
            0
           ],
           [
            0,
            0,
            0
           ],
           [
            46,
            204,
            64
           ],
           [
            0,
            0,
            0
           ],
           [
            0,
            0,
            0
           ],
           [
            0,
            0,
            0
           ],
           [
            0,
            0,
            0
           ],
           [
            0,
            0,
            0
           ],
           [
            0,
            0,
            0
           ],
           [
            0,
            0,
            0
           ],
           [
            46,
            204,
            64
           ],
           [
            0,
            0,
            0
           ],
           [
            0,
            0,
            0
           ],
           [
            0,
            0,
            0
           ],
           [
            46,
            204,
            64
           ],
           [
            0,
            0,
            0
           ],
           [
            0,
            0,
            0
           ],
           [
            0,
            0,
            0
           ],
           [
            46,
            204,
            64
           ],
           [
            0,
            0,
            0
           ],
           [
            0,
            0,
            0
           ]
          ],
          [
           [
            46,
            204,
            64
           ],
           [
            0,
            0,
            0
           ],
           [
            0,
            0,
            0
           ],
           [
            0,
            0,
            0
           ],
           [
            46,
            204,
            64
           ],
           [
            0,
            0,
            0
           ],
           [
            0,
            0,
            0
           ],
           [
            0,
            0,
            0
           ],
           [
            0,
            0,
            0
           ],
           [
            0,
            0,
            0
           ],
           [
            0,
            0,
            0
           ],
           [
            0,
            0,
            0
           ],
           [
            46,
            204,
            64
           ],
           [
            0,
            0,
            0
           ],
           [
            0,
            0,
            0
           ],
           [
            0,
            0,
            0
           ],
           [
            46,
            204,
            64
           ],
           [
            0,
            0,
            0
           ],
           [
            0,
            0,
            0
           ],
           [
            0,
            0,
            0
           ],
           [
            46,
            204,
            64
           ],
           [
            0,
            0,
            0
           ],
           [
            0,
            0,
            0
           ]
          ],
          [
           [
            46,
            204,
            64
           ],
           [
            0,
            0,
            0
           ],
           [
            0,
            0,
            0
           ],
           [
            0,
            0,
            0
           ],
           [
            46,
            204,
            64
           ],
           [
            46,
            204,
            64
           ],
           [
            46,
            204,
            64
           ],
           [
            46,
            204,
            64
           ],
           [
            46,
            204,
            64
           ],
           [
            46,
            204,
            64
           ],
           [
            46,
            204,
            64
           ],
           [
            46,
            204,
            64
           ],
           [
            46,
            204,
            64
           ],
           [
            0,
            0,
            0
           ],
           [
            0,
            0,
            0
           ],
           [
            0,
            0,
            0
           ],
           [
            46,
            204,
            64
           ],
           [
            0,
            0,
            0
           ],
           [
            0,
            0,
            0
           ],
           [
            0,
            0,
            0
           ],
           [
            46,
            204,
            64
           ],
           [
            0,
            0,
            0
           ],
           [
            0,
            0,
            0
           ]
          ],
          [
           [
            46,
            204,
            64
           ],
           [
            0,
            0,
            0
           ],
           [
            0,
            0,
            0
           ],
           [
            0,
            0,
            0
           ],
           [
            0,
            0,
            0
           ],
           [
            0,
            0,
            0
           ],
           [
            0,
            0,
            0
           ],
           [
            0,
            0,
            0
           ],
           [
            0,
            0,
            0
           ],
           [
            0,
            0,
            0
           ],
           [
            0,
            0,
            0
           ],
           [
            0,
            0,
            0
           ],
           [
            0,
            0,
            0
           ],
           [
            0,
            0,
            0
           ],
           [
            0,
            0,
            0
           ],
           [
            0,
            0,
            0
           ],
           [
            46,
            204,
            64
           ],
           [
            0,
            0,
            0
           ],
           [
            0,
            0,
            0
           ],
           [
            0,
            0,
            0
           ],
           [
            46,
            204,
            64
           ],
           [
            0,
            0,
            0
           ],
           [
            0,
            0,
            0
           ]
          ],
          [
           [
            46,
            204,
            64
           ],
           [
            0,
            0,
            0
           ],
           [
            0,
            0,
            0
           ],
           [
            0,
            0,
            0
           ],
           [
            0,
            0,
            0
           ],
           [
            0,
            0,
            0
           ],
           [
            0,
            0,
            0
           ],
           [
            0,
            0,
            0
           ],
           [
            0,
            0,
            0
           ],
           [
            0,
            0,
            0
           ],
           [
            0,
            0,
            0
           ],
           [
            0,
            0,
            0
           ],
           [
            0,
            0,
            0
           ],
           [
            0,
            0,
            0
           ],
           [
            0,
            0,
            0
           ],
           [
            0,
            0,
            0
           ],
           [
            46,
            204,
            64
           ],
           [
            0,
            0,
            0
           ],
           [
            0,
            0,
            0
           ],
           [
            0,
            0,
            0
           ],
           [
            46,
            204,
            64
           ],
           [
            0,
            0,
            0
           ],
           [
            0,
            0,
            0
           ]
          ],
          [
           [
            46,
            204,
            64
           ],
           [
            0,
            0,
            0
           ],
           [
            0,
            0,
            0
           ],
           [
            0,
            0,
            0
           ],
           [
            0,
            0,
            0
           ],
           [
            0,
            0,
            0
           ],
           [
            0,
            0,
            0
           ],
           [
            0,
            0,
            0
           ],
           [
            0,
            0,
            0
           ],
           [
            0,
            0,
            0
           ],
           [
            0,
            0,
            0
           ],
           [
            0,
            0,
            0
           ],
           [
            0,
            0,
            0
           ],
           [
            0,
            0,
            0
           ],
           [
            0,
            0,
            0
           ],
           [
            0,
            0,
            0
           ],
           [
            46,
            204,
            64
           ],
           [
            0,
            0,
            0
           ],
           [
            0,
            0,
            0
           ],
           [
            0,
            0,
            0
           ],
           [
            46,
            204,
            64
           ],
           [
            0,
            0,
            0
           ],
           [
            0,
            0,
            0
           ]
          ],
          [
           [
            46,
            204,
            64
           ],
           [
            46,
            204,
            64
           ],
           [
            46,
            204,
            64
           ],
           [
            46,
            204,
            64
           ],
           [
            46,
            204,
            64
           ],
           [
            46,
            204,
            64
           ],
           [
            46,
            204,
            64
           ],
           [
            46,
            204,
            64
           ],
           [
            46,
            204,
            64
           ],
           [
            46,
            204,
            64
           ],
           [
            46,
            204,
            64
           ],
           [
            46,
            204,
            64
           ],
           [
            46,
            204,
            64
           ],
           [
            46,
            204,
            64
           ],
           [
            46,
            204,
            64
           ],
           [
            46,
            204,
            64
           ],
           [
            46,
            204,
            64
           ],
           [
            0,
            0,
            0
           ],
           [
            0,
            0,
            0
           ],
           [
            0,
            0,
            0
           ],
           [
            46,
            204,
            64
           ],
           [
            0,
            0,
            0
           ],
           [
            0,
            0,
            0
           ]
          ],
          [
           [
            0,
            0,
            0
           ],
           [
            0,
            0,
            0
           ],
           [
            0,
            0,
            0
           ],
           [
            0,
            0,
            0
           ],
           [
            0,
            0,
            0
           ],
           [
            0,
            0,
            0
           ],
           [
            0,
            0,
            0
           ],
           [
            0,
            0,
            0
           ],
           [
            0,
            0,
            0
           ],
           [
            0,
            0,
            0
           ],
           [
            0,
            0,
            0
           ],
           [
            0,
            0,
            0
           ],
           [
            0,
            0,
            0
           ],
           [
            0,
            0,
            0
           ],
           [
            0,
            0,
            0
           ],
           [
            0,
            0,
            0
           ],
           [
            0,
            0,
            0
           ],
           [
            0,
            0,
            0
           ],
           [
            0,
            0,
            0
           ],
           [
            0,
            0,
            0
           ],
           [
            46,
            204,
            64
           ],
           [
            0,
            0,
            0
           ],
           [
            0,
            0,
            0
           ]
          ],
          [
           [
            0,
            0,
            0
           ],
           [
            0,
            0,
            0
           ],
           [
            0,
            0,
            0
           ],
           [
            0,
            0,
            0
           ],
           [
            0,
            0,
            0
           ],
           [
            0,
            0,
            0
           ],
           [
            0,
            0,
            0
           ],
           [
            0,
            0,
            0
           ],
           [
            0,
            0,
            0
           ],
           [
            0,
            0,
            0
           ],
           [
            0,
            0,
            0
           ],
           [
            0,
            0,
            0
           ],
           [
            0,
            0,
            0
           ],
           [
            0,
            0,
            0
           ],
           [
            0,
            0,
            0
           ],
           [
            0,
            0,
            0
           ],
           [
            0,
            0,
            0
           ],
           [
            0,
            0,
            0
           ],
           [
            0,
            0,
            0
           ],
           [
            0,
            0,
            0
           ],
           [
            46,
            204,
            64
           ],
           [
            0,
            0,
            0
           ],
           [
            0,
            0,
            0
           ]
          ],
          [
           [
            0,
            0,
            0
           ],
           [
            0,
            0,
            0
           ],
           [
            0,
            0,
            0
           ],
           [
            0,
            0,
            0
           ],
           [
            0,
            0,
            0
           ],
           [
            0,
            0,
            0
           ],
           [
            0,
            0,
            0
           ],
           [
            0,
            0,
            0
           ],
           [
            0,
            0,
            0
           ],
           [
            0,
            0,
            0
           ],
           [
            0,
            0,
            0
           ],
           [
            0,
            0,
            0
           ],
           [
            0,
            0,
            0
           ],
           [
            0,
            0,
            0
           ],
           [
            0,
            0,
            0
           ],
           [
            0,
            0,
            0
           ],
           [
            0,
            0,
            0
           ],
           [
            0,
            0,
            0
           ],
           [
            0,
            0,
            0
           ],
           [
            0,
            0,
            0
           ],
           [
            46,
            204,
            64
           ],
           [
            0,
            0,
            0
           ],
           [
            0,
            0,
            0
           ]
          ],
          [
           [
            46,
            204,
            64
           ],
           [
            46,
            204,
            64
           ],
           [
            46,
            204,
            64
           ],
           [
            46,
            204,
            64
           ],
           [
            46,
            204,
            64
           ],
           [
            46,
            204,
            64
           ],
           [
            46,
            204,
            64
           ],
           [
            46,
            204,
            64
           ],
           [
            46,
            204,
            64
           ],
           [
            46,
            204,
            64
           ],
           [
            46,
            204,
            64
           ],
           [
            46,
            204,
            64
           ],
           [
            46,
            204,
            64
           ],
           [
            46,
            204,
            64
           ],
           [
            46,
            204,
            64
           ],
           [
            46,
            204,
            64
           ],
           [
            46,
            204,
            64
           ],
           [
            46,
            204,
            64
           ],
           [
            46,
            204,
            64
           ],
           [
            46,
            204,
            64
           ],
           [
            46,
            204,
            64
           ],
           [
            0,
            0,
            0
           ],
           [
            0,
            0,
            0
           ]
          ],
          [
           [
            0,
            0,
            0
           ],
           [
            0,
            0,
            0
           ],
           [
            0,
            0,
            0
           ],
           [
            0,
            0,
            0
           ],
           [
            0,
            0,
            0
           ],
           [
            0,
            0,
            0
           ],
           [
            0,
            0,
            0
           ],
           [
            0,
            0,
            0
           ],
           [
            0,
            0,
            0
           ],
           [
            0,
            0,
            0
           ],
           [
            0,
            0,
            0
           ],
           [
            0,
            0,
            0
           ],
           [
            0,
            0,
            0
           ],
           [
            0,
            0,
            0
           ],
           [
            0,
            0,
            0
           ],
           [
            0,
            0,
            0
           ],
           [
            0,
            0,
            0
           ],
           [
            0,
            0,
            0
           ],
           [
            0,
            0,
            0
           ],
           [
            0,
            0,
            0
           ],
           [
            0,
            0,
            0
           ],
           [
            0,
            0,
            0
           ],
           [
            0,
            0,
            0
           ]
          ],
          [
           [
            0,
            0,
            0
           ],
           [
            0,
            0,
            0
           ],
           [
            0,
            0,
            0
           ],
           [
            0,
            0,
            0
           ],
           [
            0,
            0,
            0
           ],
           [
            0,
            0,
            0
           ],
           [
            0,
            0,
            0
           ],
           [
            0,
            0,
            0
           ],
           [
            0,
            0,
            0
           ],
           [
            0,
            0,
            0
           ],
           [
            0,
            0,
            0
           ],
           [
            0,
            0,
            0
           ],
           [
            0,
            0,
            0
           ],
           [
            0,
            0,
            0
           ],
           [
            0,
            0,
            0
           ],
           [
            0,
            0,
            0
           ],
           [
            0,
            0,
            0
           ],
           [
            0,
            0,
            0
           ],
           [
            0,
            0,
            0
           ],
           [
            0,
            0,
            0
           ],
           [
            0,
            0,
            0
           ],
           [
            0,
            0,
            0
           ],
           [
            0,
            0,
            0
           ]
          ]
         ]
        }
       ],
       "layout": {
        "height": 1200,
        "shapes": [
         {
          "line": {
           "color": "sienna",
           "width": 2
          },
          "type": "line",
          "x0": -0.5,
          "x1": 22.5,
          "xref": "x",
          "y0": -0.5,
          "y1": -0.5,
          "yref": "y"
         },
         {
          "line": {
           "color": "sienna",
           "width": 2
          },
          "type": "line",
          "x0": -0.5,
          "x1": 22.5,
          "xref": "x",
          "y0": 0.5,
          "y1": 0.5,
          "yref": "y"
         },
         {
          "line": {
           "color": "sienna",
           "width": 2
          },
          "type": "line",
          "x0": -0.5,
          "x1": 22.5,
          "xref": "x",
          "y0": 1.5,
          "y1": 1.5,
          "yref": "y"
         },
         {
          "line": {
           "color": "sienna",
           "width": 2
          },
          "type": "line",
          "x0": -0.5,
          "x1": 22.5,
          "xref": "x",
          "y0": 2.5,
          "y1": 2.5,
          "yref": "y"
         },
         {
          "line": {
           "color": "sienna",
           "width": 2
          },
          "type": "line",
          "x0": -0.5,
          "x1": 22.5,
          "xref": "x",
          "y0": 3.5,
          "y1": 3.5,
          "yref": "y"
         },
         {
          "line": {
           "color": "sienna",
           "width": 2
          },
          "type": "line",
          "x0": -0.5,
          "x1": 22.5,
          "xref": "x",
          "y0": 4.5,
          "y1": 4.5,
          "yref": "y"
         },
         {
          "line": {
           "color": "sienna",
           "width": 2
          },
          "type": "line",
          "x0": -0.5,
          "x1": 22.5,
          "xref": "x",
          "y0": 5.5,
          "y1": 5.5,
          "yref": "y"
         },
         {
          "line": {
           "color": "sienna",
           "width": 2
          },
          "type": "line",
          "x0": -0.5,
          "x1": 22.5,
          "xref": "x",
          "y0": 6.5,
          "y1": 6.5,
          "yref": "y"
         },
         {
          "line": {
           "color": "sienna",
           "width": 2
          },
          "type": "line",
          "x0": -0.5,
          "x1": 22.5,
          "xref": "x",
          "y0": 7.5,
          "y1": 7.5,
          "yref": "y"
         },
         {
          "line": {
           "color": "sienna",
           "width": 2
          },
          "type": "line",
          "x0": -0.5,
          "x1": 22.5,
          "xref": "x",
          "y0": 8.5,
          "y1": 8.5,
          "yref": "y"
         },
         {
          "line": {
           "color": "sienna",
           "width": 2
          },
          "type": "line",
          "x0": -0.5,
          "x1": 22.5,
          "xref": "x",
          "y0": 9.5,
          "y1": 9.5,
          "yref": "y"
         },
         {
          "line": {
           "color": "sienna",
           "width": 2
          },
          "type": "line",
          "x0": -0.5,
          "x1": 22.5,
          "xref": "x",
          "y0": 10.5,
          "y1": 10.5,
          "yref": "y"
         },
         {
          "line": {
           "color": "sienna",
           "width": 2
          },
          "type": "line",
          "x0": -0.5,
          "x1": 22.5,
          "xref": "x",
          "y0": 11.5,
          "y1": 11.5,
          "yref": "y"
         },
         {
          "line": {
           "color": "sienna",
           "width": 2
          },
          "type": "line",
          "x0": -0.5,
          "x1": 22.5,
          "xref": "x",
          "y0": 12.5,
          "y1": 12.5,
          "yref": "y"
         },
         {
          "line": {
           "color": "sienna",
           "width": 2
          },
          "type": "line",
          "x0": -0.5,
          "x1": 22.5,
          "xref": "x",
          "y0": 13.5,
          "y1": 13.5,
          "yref": "y"
         },
         {
          "line": {
           "color": "sienna",
           "width": 2
          },
          "type": "line",
          "x0": -0.5,
          "x1": 22.5,
          "xref": "x",
          "y0": 14.5,
          "y1": 14.5,
          "yref": "y"
         },
         {
          "line": {
           "color": "sienna",
           "width": 2
          },
          "type": "line",
          "x0": -0.5,
          "x1": 22.5,
          "xref": "x",
          "y0": 15.5,
          "y1": 15.5,
          "yref": "y"
         },
         {
          "line": {
           "color": "sienna",
           "width": 2
          },
          "type": "line",
          "x0": -0.5,
          "x1": 22.5,
          "xref": "x",
          "y0": 16.5,
          "y1": 16.5,
          "yref": "y"
         },
         {
          "line": {
           "color": "sienna",
           "width": 2
          },
          "type": "line",
          "x0": -0.5,
          "x1": 22.5,
          "xref": "x",
          "y0": 17.5,
          "y1": 17.5,
          "yref": "y"
         },
         {
          "line": {
           "color": "sienna",
           "width": 2
          },
          "type": "line",
          "x0": -0.5,
          "x1": 22.5,
          "xref": "x",
          "y0": 18.5,
          "y1": 18.5,
          "yref": "y"
         },
         {
          "line": {
           "color": "sienna",
           "width": 2
          },
          "type": "line",
          "x0": -0.5,
          "x1": 22.5,
          "xref": "x",
          "y0": 19.5,
          "y1": 19.5,
          "yref": "y"
         },
         {
          "line": {
           "color": "sienna",
           "width": 2
          },
          "type": "line",
          "x0": -0.5,
          "x1": 22.5,
          "xref": "x",
          "y0": 20.5,
          "y1": 20.5,
          "yref": "y"
         },
         {
          "line": {
           "color": "sienna",
           "width": 2
          },
          "type": "line",
          "x0": -0.5,
          "x1": 22.5,
          "xref": "x",
          "y0": 21.5,
          "y1": 21.5,
          "yref": "y"
         },
         {
          "line": {
           "color": "sienna",
           "width": 2
          },
          "type": "line",
          "x0": -0.5,
          "x1": -0.5,
          "xref": "x",
          "y0": -0.5,
          "y1": 22.5,
          "yref": "y"
         },
         {
          "line": {
           "color": "sienna",
           "width": 2
          },
          "type": "line",
          "x0": 0.5,
          "x1": 0.5,
          "xref": "x",
          "y0": -0.5,
          "y1": 22.5,
          "yref": "y"
         },
         {
          "line": {
           "color": "sienna",
           "width": 2
          },
          "type": "line",
          "x0": 1.5,
          "x1": 1.5,
          "xref": "x",
          "y0": -0.5,
          "y1": 22.5,
          "yref": "y"
         },
         {
          "line": {
           "color": "sienna",
           "width": 2
          },
          "type": "line",
          "x0": 2.5,
          "x1": 2.5,
          "xref": "x",
          "y0": -0.5,
          "y1": 22.5,
          "yref": "y"
         },
         {
          "line": {
           "color": "sienna",
           "width": 2
          },
          "type": "line",
          "x0": 3.5,
          "x1": 3.5,
          "xref": "x",
          "y0": -0.5,
          "y1": 22.5,
          "yref": "y"
         },
         {
          "line": {
           "color": "sienna",
           "width": 2
          },
          "type": "line",
          "x0": 4.5,
          "x1": 4.5,
          "xref": "x",
          "y0": -0.5,
          "y1": 22.5,
          "yref": "y"
         },
         {
          "line": {
           "color": "sienna",
           "width": 2
          },
          "type": "line",
          "x0": 5.5,
          "x1": 5.5,
          "xref": "x",
          "y0": -0.5,
          "y1": 22.5,
          "yref": "y"
         },
         {
          "line": {
           "color": "sienna",
           "width": 2
          },
          "type": "line",
          "x0": 6.5,
          "x1": 6.5,
          "xref": "x",
          "y0": -0.5,
          "y1": 22.5,
          "yref": "y"
         },
         {
          "line": {
           "color": "sienna",
           "width": 2
          },
          "type": "line",
          "x0": 7.5,
          "x1": 7.5,
          "xref": "x",
          "y0": -0.5,
          "y1": 22.5,
          "yref": "y"
         },
         {
          "line": {
           "color": "sienna",
           "width": 2
          },
          "type": "line",
          "x0": 8.5,
          "x1": 8.5,
          "xref": "x",
          "y0": -0.5,
          "y1": 22.5,
          "yref": "y"
         },
         {
          "line": {
           "color": "sienna",
           "width": 2
          },
          "type": "line",
          "x0": 9.5,
          "x1": 9.5,
          "xref": "x",
          "y0": -0.5,
          "y1": 22.5,
          "yref": "y"
         },
         {
          "line": {
           "color": "sienna",
           "width": 2
          },
          "type": "line",
          "x0": 10.5,
          "x1": 10.5,
          "xref": "x",
          "y0": -0.5,
          "y1": 22.5,
          "yref": "y"
         },
         {
          "line": {
           "color": "sienna",
           "width": 2
          },
          "type": "line",
          "x0": 11.5,
          "x1": 11.5,
          "xref": "x",
          "y0": -0.5,
          "y1": 22.5,
          "yref": "y"
         },
         {
          "line": {
           "color": "sienna",
           "width": 2
          },
          "type": "line",
          "x0": 12.5,
          "x1": 12.5,
          "xref": "x",
          "y0": -0.5,
          "y1": 22.5,
          "yref": "y"
         },
         {
          "line": {
           "color": "sienna",
           "width": 2
          },
          "type": "line",
          "x0": 13.5,
          "x1": 13.5,
          "xref": "x",
          "y0": -0.5,
          "y1": 22.5,
          "yref": "y"
         },
         {
          "line": {
           "color": "sienna",
           "width": 2
          },
          "type": "line",
          "x0": 14.5,
          "x1": 14.5,
          "xref": "x",
          "y0": -0.5,
          "y1": 22.5,
          "yref": "y"
         },
         {
          "line": {
           "color": "sienna",
           "width": 2
          },
          "type": "line",
          "x0": 15.5,
          "x1": 15.5,
          "xref": "x",
          "y0": -0.5,
          "y1": 22.5,
          "yref": "y"
         },
         {
          "line": {
           "color": "sienna",
           "width": 2
          },
          "type": "line",
          "x0": 16.5,
          "x1": 16.5,
          "xref": "x",
          "y0": -0.5,
          "y1": 22.5,
          "yref": "y"
         },
         {
          "line": {
           "color": "sienna",
           "width": 2
          },
          "type": "line",
          "x0": 17.5,
          "x1": 17.5,
          "xref": "x",
          "y0": -0.5,
          "y1": 22.5,
          "yref": "y"
         },
         {
          "line": {
           "color": "sienna",
           "width": 2
          },
          "type": "line",
          "x0": 18.5,
          "x1": 18.5,
          "xref": "x",
          "y0": -0.5,
          "y1": 22.5,
          "yref": "y"
         },
         {
          "line": {
           "color": "sienna",
           "width": 2
          },
          "type": "line",
          "x0": 19.5,
          "x1": 19.5,
          "xref": "x",
          "y0": -0.5,
          "y1": 22.5,
          "yref": "y"
         },
         {
          "line": {
           "color": "sienna",
           "width": 2
          },
          "type": "line",
          "x0": 20.5,
          "x1": 20.5,
          "xref": "x",
          "y0": -0.5,
          "y1": 22.5,
          "yref": "y"
         },
         {
          "line": {
           "color": "sienna",
           "width": 2
          },
          "type": "line",
          "x0": 21.5,
          "x1": 21.5,
          "xref": "x",
          "y0": -0.5,
          "y1": 22.5,
          "yref": "y"
         },
         {
          "line": {
           "color": "sienna",
           "width": 2
          },
          "type": "line",
          "x0": -0.5,
          "x1": 22.5,
          "xref": "x2",
          "y0": -0.5,
          "y1": -0.5,
          "yref": "y2"
         },
         {
          "line": {
           "color": "sienna",
           "width": 2
          },
          "type": "line",
          "x0": -0.5,
          "x1": 22.5,
          "xref": "x2",
          "y0": 0.5,
          "y1": 0.5,
          "yref": "y2"
         },
         {
          "line": {
           "color": "sienna",
           "width": 2
          },
          "type": "line",
          "x0": -0.5,
          "x1": 22.5,
          "xref": "x2",
          "y0": 1.5,
          "y1": 1.5,
          "yref": "y2"
         },
         {
          "line": {
           "color": "sienna",
           "width": 2
          },
          "type": "line",
          "x0": -0.5,
          "x1": 22.5,
          "xref": "x2",
          "y0": 2.5,
          "y1": 2.5,
          "yref": "y2"
         },
         {
          "line": {
           "color": "sienna",
           "width": 2
          },
          "type": "line",
          "x0": -0.5,
          "x1": 22.5,
          "xref": "x2",
          "y0": 3.5,
          "y1": 3.5,
          "yref": "y2"
         },
         {
          "line": {
           "color": "sienna",
           "width": 2
          },
          "type": "line",
          "x0": -0.5,
          "x1": 22.5,
          "xref": "x2",
          "y0": 4.5,
          "y1": 4.5,
          "yref": "y2"
         },
         {
          "line": {
           "color": "sienna",
           "width": 2
          },
          "type": "line",
          "x0": -0.5,
          "x1": 22.5,
          "xref": "x2",
          "y0": 5.5,
          "y1": 5.5,
          "yref": "y2"
         },
         {
          "line": {
           "color": "sienna",
           "width": 2
          },
          "type": "line",
          "x0": -0.5,
          "x1": 22.5,
          "xref": "x2",
          "y0": 6.5,
          "y1": 6.5,
          "yref": "y2"
         },
         {
          "line": {
           "color": "sienna",
           "width": 2
          },
          "type": "line",
          "x0": -0.5,
          "x1": 22.5,
          "xref": "x2",
          "y0": 7.5,
          "y1": 7.5,
          "yref": "y2"
         },
         {
          "line": {
           "color": "sienna",
           "width": 2
          },
          "type": "line",
          "x0": -0.5,
          "x1": 22.5,
          "xref": "x2",
          "y0": 8.5,
          "y1": 8.5,
          "yref": "y2"
         },
         {
          "line": {
           "color": "sienna",
           "width": 2
          },
          "type": "line",
          "x0": -0.5,
          "x1": 22.5,
          "xref": "x2",
          "y0": 9.5,
          "y1": 9.5,
          "yref": "y2"
         },
         {
          "line": {
           "color": "sienna",
           "width": 2
          },
          "type": "line",
          "x0": -0.5,
          "x1": 22.5,
          "xref": "x2",
          "y0": 10.5,
          "y1": 10.5,
          "yref": "y2"
         },
         {
          "line": {
           "color": "sienna",
           "width": 2
          },
          "type": "line",
          "x0": -0.5,
          "x1": 22.5,
          "xref": "x2",
          "y0": 11.5,
          "y1": 11.5,
          "yref": "y2"
         },
         {
          "line": {
           "color": "sienna",
           "width": 2
          },
          "type": "line",
          "x0": -0.5,
          "x1": 22.5,
          "xref": "x2",
          "y0": 12.5,
          "y1": 12.5,
          "yref": "y2"
         },
         {
          "line": {
           "color": "sienna",
           "width": 2
          },
          "type": "line",
          "x0": -0.5,
          "x1": 22.5,
          "xref": "x2",
          "y0": 13.5,
          "y1": 13.5,
          "yref": "y2"
         },
         {
          "line": {
           "color": "sienna",
           "width": 2
          },
          "type": "line",
          "x0": -0.5,
          "x1": 22.5,
          "xref": "x2",
          "y0": 14.5,
          "y1": 14.5,
          "yref": "y2"
         },
         {
          "line": {
           "color": "sienna",
           "width": 2
          },
          "type": "line",
          "x0": -0.5,
          "x1": 22.5,
          "xref": "x2",
          "y0": 15.5,
          "y1": 15.5,
          "yref": "y2"
         },
         {
          "line": {
           "color": "sienna",
           "width": 2
          },
          "type": "line",
          "x0": -0.5,
          "x1": 22.5,
          "xref": "x2",
          "y0": 16.5,
          "y1": 16.5,
          "yref": "y2"
         },
         {
          "line": {
           "color": "sienna",
           "width": 2
          },
          "type": "line",
          "x0": -0.5,
          "x1": 22.5,
          "xref": "x2",
          "y0": 17.5,
          "y1": 17.5,
          "yref": "y2"
         },
         {
          "line": {
           "color": "sienna",
           "width": 2
          },
          "type": "line",
          "x0": -0.5,
          "x1": 22.5,
          "xref": "x2",
          "y0": 18.5,
          "y1": 18.5,
          "yref": "y2"
         },
         {
          "line": {
           "color": "sienna",
           "width": 2
          },
          "type": "line",
          "x0": -0.5,
          "x1": 22.5,
          "xref": "x2",
          "y0": 19.5,
          "y1": 19.5,
          "yref": "y2"
         },
         {
          "line": {
           "color": "sienna",
           "width": 2
          },
          "type": "line",
          "x0": -0.5,
          "x1": 22.5,
          "xref": "x2",
          "y0": 20.5,
          "y1": 20.5,
          "yref": "y2"
         },
         {
          "line": {
           "color": "sienna",
           "width": 2
          },
          "type": "line",
          "x0": -0.5,
          "x1": 22.5,
          "xref": "x2",
          "y0": 21.5,
          "y1": 21.5,
          "yref": "y2"
         },
         {
          "line": {
           "color": "sienna",
           "width": 2
          },
          "type": "line",
          "x0": -0.5,
          "x1": -0.5,
          "xref": "x2",
          "y0": -0.5,
          "y1": 22.5,
          "yref": "y2"
         },
         {
          "line": {
           "color": "sienna",
           "width": 2
          },
          "type": "line",
          "x0": 0.5,
          "x1": 0.5,
          "xref": "x2",
          "y0": -0.5,
          "y1": 22.5,
          "yref": "y2"
         },
         {
          "line": {
           "color": "sienna",
           "width": 2
          },
          "type": "line",
          "x0": 1.5,
          "x1": 1.5,
          "xref": "x2",
          "y0": -0.5,
          "y1": 22.5,
          "yref": "y2"
         },
         {
          "line": {
           "color": "sienna",
           "width": 2
          },
          "type": "line",
          "x0": 2.5,
          "x1": 2.5,
          "xref": "x2",
          "y0": -0.5,
          "y1": 22.5,
          "yref": "y2"
         },
         {
          "line": {
           "color": "sienna",
           "width": 2
          },
          "type": "line",
          "x0": 3.5,
          "x1": 3.5,
          "xref": "x2",
          "y0": -0.5,
          "y1": 22.5,
          "yref": "y2"
         },
         {
          "line": {
           "color": "sienna",
           "width": 2
          },
          "type": "line",
          "x0": 4.5,
          "x1": 4.5,
          "xref": "x2",
          "y0": -0.5,
          "y1": 22.5,
          "yref": "y2"
         },
         {
          "line": {
           "color": "sienna",
           "width": 2
          },
          "type": "line",
          "x0": 5.5,
          "x1": 5.5,
          "xref": "x2",
          "y0": -0.5,
          "y1": 22.5,
          "yref": "y2"
         },
         {
          "line": {
           "color": "sienna",
           "width": 2
          },
          "type": "line",
          "x0": 6.5,
          "x1": 6.5,
          "xref": "x2",
          "y0": -0.5,
          "y1": 22.5,
          "yref": "y2"
         },
         {
          "line": {
           "color": "sienna",
           "width": 2
          },
          "type": "line",
          "x0": 7.5,
          "x1": 7.5,
          "xref": "x2",
          "y0": -0.5,
          "y1": 22.5,
          "yref": "y2"
         },
         {
          "line": {
           "color": "sienna",
           "width": 2
          },
          "type": "line",
          "x0": 8.5,
          "x1": 8.5,
          "xref": "x2",
          "y0": -0.5,
          "y1": 22.5,
          "yref": "y2"
         },
         {
          "line": {
           "color": "sienna",
           "width": 2
          },
          "type": "line",
          "x0": 9.5,
          "x1": 9.5,
          "xref": "x2",
          "y0": -0.5,
          "y1": 22.5,
          "yref": "y2"
         },
         {
          "line": {
           "color": "sienna",
           "width": 2
          },
          "type": "line",
          "x0": 10.5,
          "x1": 10.5,
          "xref": "x2",
          "y0": -0.5,
          "y1": 22.5,
          "yref": "y2"
         },
         {
          "line": {
           "color": "sienna",
           "width": 2
          },
          "type": "line",
          "x0": 11.5,
          "x1": 11.5,
          "xref": "x2",
          "y0": -0.5,
          "y1": 22.5,
          "yref": "y2"
         },
         {
          "line": {
           "color": "sienna",
           "width": 2
          },
          "type": "line",
          "x0": 12.5,
          "x1": 12.5,
          "xref": "x2",
          "y0": -0.5,
          "y1": 22.5,
          "yref": "y2"
         },
         {
          "line": {
           "color": "sienna",
           "width": 2
          },
          "type": "line",
          "x0": 13.5,
          "x1": 13.5,
          "xref": "x2",
          "y0": -0.5,
          "y1": 22.5,
          "yref": "y2"
         },
         {
          "line": {
           "color": "sienna",
           "width": 2
          },
          "type": "line",
          "x0": 14.5,
          "x1": 14.5,
          "xref": "x2",
          "y0": -0.5,
          "y1": 22.5,
          "yref": "y2"
         },
         {
          "line": {
           "color": "sienna",
           "width": 2
          },
          "type": "line",
          "x0": 15.5,
          "x1": 15.5,
          "xref": "x2",
          "y0": -0.5,
          "y1": 22.5,
          "yref": "y2"
         },
         {
          "line": {
           "color": "sienna",
           "width": 2
          },
          "type": "line",
          "x0": 16.5,
          "x1": 16.5,
          "xref": "x2",
          "y0": -0.5,
          "y1": 22.5,
          "yref": "y2"
         },
         {
          "line": {
           "color": "sienna",
           "width": 2
          },
          "type": "line",
          "x0": 17.5,
          "x1": 17.5,
          "xref": "x2",
          "y0": -0.5,
          "y1": 22.5,
          "yref": "y2"
         },
         {
          "line": {
           "color": "sienna",
           "width": 2
          },
          "type": "line",
          "x0": 18.5,
          "x1": 18.5,
          "xref": "x2",
          "y0": -0.5,
          "y1": 22.5,
          "yref": "y2"
         },
         {
          "line": {
           "color": "sienna",
           "width": 2
          },
          "type": "line",
          "x0": 19.5,
          "x1": 19.5,
          "xref": "x2",
          "y0": -0.5,
          "y1": 22.5,
          "yref": "y2"
         },
         {
          "line": {
           "color": "sienna",
           "width": 2
          },
          "type": "line",
          "x0": 20.5,
          "x1": 20.5,
          "xref": "x2",
          "y0": -0.5,
          "y1": 22.5,
          "yref": "y2"
         },
         {
          "line": {
           "color": "sienna",
           "width": 2
          },
          "type": "line",
          "x0": 21.5,
          "x1": 21.5,
          "xref": "x2",
          "y0": -0.5,
          "y1": 22.5,
          "yref": "y2"
         },
         {
          "line": {
           "color": "sienna",
           "width": 2
          },
          "type": "line",
          "x0": -0.5,
          "x1": 22.5,
          "xref": "x3",
          "y0": -0.5,
          "y1": -0.5,
          "yref": "y3"
         },
         {
          "line": {
           "color": "sienna",
           "width": 2
          },
          "type": "line",
          "x0": -0.5,
          "x1": 22.5,
          "xref": "x3",
          "y0": 0.5,
          "y1": 0.5,
          "yref": "y3"
         },
         {
          "line": {
           "color": "sienna",
           "width": 2
          },
          "type": "line",
          "x0": -0.5,
          "x1": 22.5,
          "xref": "x3",
          "y0": 1.5,
          "y1": 1.5,
          "yref": "y3"
         },
         {
          "line": {
           "color": "sienna",
           "width": 2
          },
          "type": "line",
          "x0": -0.5,
          "x1": 22.5,
          "xref": "x3",
          "y0": 2.5,
          "y1": 2.5,
          "yref": "y3"
         },
         {
          "line": {
           "color": "sienna",
           "width": 2
          },
          "type": "line",
          "x0": -0.5,
          "x1": 22.5,
          "xref": "x3",
          "y0": 3.5,
          "y1": 3.5,
          "yref": "y3"
         },
         {
          "line": {
           "color": "sienna",
           "width": 2
          },
          "type": "line",
          "x0": -0.5,
          "x1": 22.5,
          "xref": "x3",
          "y0": 4.5,
          "y1": 4.5,
          "yref": "y3"
         },
         {
          "line": {
           "color": "sienna",
           "width": 2
          },
          "type": "line",
          "x0": -0.5,
          "x1": 22.5,
          "xref": "x3",
          "y0": 5.5,
          "y1": 5.5,
          "yref": "y3"
         },
         {
          "line": {
           "color": "sienna",
           "width": 2
          },
          "type": "line",
          "x0": -0.5,
          "x1": 22.5,
          "xref": "x3",
          "y0": 6.5,
          "y1": 6.5,
          "yref": "y3"
         },
         {
          "line": {
           "color": "sienna",
           "width": 2
          },
          "type": "line",
          "x0": -0.5,
          "x1": 22.5,
          "xref": "x3",
          "y0": 7.5,
          "y1": 7.5,
          "yref": "y3"
         },
         {
          "line": {
           "color": "sienna",
           "width": 2
          },
          "type": "line",
          "x0": -0.5,
          "x1": 22.5,
          "xref": "x3",
          "y0": 8.5,
          "y1": 8.5,
          "yref": "y3"
         },
         {
          "line": {
           "color": "sienna",
           "width": 2
          },
          "type": "line",
          "x0": -0.5,
          "x1": 22.5,
          "xref": "x3",
          "y0": 9.5,
          "y1": 9.5,
          "yref": "y3"
         },
         {
          "line": {
           "color": "sienna",
           "width": 2
          },
          "type": "line",
          "x0": -0.5,
          "x1": 22.5,
          "xref": "x3",
          "y0": 10.5,
          "y1": 10.5,
          "yref": "y3"
         },
         {
          "line": {
           "color": "sienna",
           "width": 2
          },
          "type": "line",
          "x0": -0.5,
          "x1": 22.5,
          "xref": "x3",
          "y0": 11.5,
          "y1": 11.5,
          "yref": "y3"
         },
         {
          "line": {
           "color": "sienna",
           "width": 2
          },
          "type": "line",
          "x0": -0.5,
          "x1": 22.5,
          "xref": "x3",
          "y0": 12.5,
          "y1": 12.5,
          "yref": "y3"
         },
         {
          "line": {
           "color": "sienna",
           "width": 2
          },
          "type": "line",
          "x0": -0.5,
          "x1": 22.5,
          "xref": "x3",
          "y0": 13.5,
          "y1": 13.5,
          "yref": "y3"
         },
         {
          "line": {
           "color": "sienna",
           "width": 2
          },
          "type": "line",
          "x0": -0.5,
          "x1": 22.5,
          "xref": "x3",
          "y0": 14.5,
          "y1": 14.5,
          "yref": "y3"
         },
         {
          "line": {
           "color": "sienna",
           "width": 2
          },
          "type": "line",
          "x0": -0.5,
          "x1": 22.5,
          "xref": "x3",
          "y0": 15.5,
          "y1": 15.5,
          "yref": "y3"
         },
         {
          "line": {
           "color": "sienna",
           "width": 2
          },
          "type": "line",
          "x0": -0.5,
          "x1": 22.5,
          "xref": "x3",
          "y0": 16.5,
          "y1": 16.5,
          "yref": "y3"
         },
         {
          "line": {
           "color": "sienna",
           "width": 2
          },
          "type": "line",
          "x0": -0.5,
          "x1": 22.5,
          "xref": "x3",
          "y0": 17.5,
          "y1": 17.5,
          "yref": "y3"
         },
         {
          "line": {
           "color": "sienna",
           "width": 2
          },
          "type": "line",
          "x0": -0.5,
          "x1": 22.5,
          "xref": "x3",
          "y0": 18.5,
          "y1": 18.5,
          "yref": "y3"
         },
         {
          "line": {
           "color": "sienna",
           "width": 2
          },
          "type": "line",
          "x0": -0.5,
          "x1": 22.5,
          "xref": "x3",
          "y0": 19.5,
          "y1": 19.5,
          "yref": "y3"
         },
         {
          "line": {
           "color": "sienna",
           "width": 2
          },
          "type": "line",
          "x0": -0.5,
          "x1": 22.5,
          "xref": "x3",
          "y0": 20.5,
          "y1": 20.5,
          "yref": "y3"
         },
         {
          "line": {
           "color": "sienna",
           "width": 2
          },
          "type": "line",
          "x0": -0.5,
          "x1": 22.5,
          "xref": "x3",
          "y0": 21.5,
          "y1": 21.5,
          "yref": "y3"
         },
         {
          "line": {
           "color": "sienna",
           "width": 2
          },
          "type": "line",
          "x0": -0.5,
          "x1": -0.5,
          "xref": "x3",
          "y0": -0.5,
          "y1": 22.5,
          "yref": "y3"
         },
         {
          "line": {
           "color": "sienna",
           "width": 2
          },
          "type": "line",
          "x0": 0.5,
          "x1": 0.5,
          "xref": "x3",
          "y0": -0.5,
          "y1": 22.5,
          "yref": "y3"
         },
         {
          "line": {
           "color": "sienna",
           "width": 2
          },
          "type": "line",
          "x0": 1.5,
          "x1": 1.5,
          "xref": "x3",
          "y0": -0.5,
          "y1": 22.5,
          "yref": "y3"
         },
         {
          "line": {
           "color": "sienna",
           "width": 2
          },
          "type": "line",
          "x0": 2.5,
          "x1": 2.5,
          "xref": "x3",
          "y0": -0.5,
          "y1": 22.5,
          "yref": "y3"
         },
         {
          "line": {
           "color": "sienna",
           "width": 2
          },
          "type": "line",
          "x0": 3.5,
          "x1": 3.5,
          "xref": "x3",
          "y0": -0.5,
          "y1": 22.5,
          "yref": "y3"
         },
         {
          "line": {
           "color": "sienna",
           "width": 2
          },
          "type": "line",
          "x0": 4.5,
          "x1": 4.5,
          "xref": "x3",
          "y0": -0.5,
          "y1": 22.5,
          "yref": "y3"
         },
         {
          "line": {
           "color": "sienna",
           "width": 2
          },
          "type": "line",
          "x0": 5.5,
          "x1": 5.5,
          "xref": "x3",
          "y0": -0.5,
          "y1": 22.5,
          "yref": "y3"
         },
         {
          "line": {
           "color": "sienna",
           "width": 2
          },
          "type": "line",
          "x0": 6.5,
          "x1": 6.5,
          "xref": "x3",
          "y0": -0.5,
          "y1": 22.5,
          "yref": "y3"
         },
         {
          "line": {
           "color": "sienna",
           "width": 2
          },
          "type": "line",
          "x0": 7.5,
          "x1": 7.5,
          "xref": "x3",
          "y0": -0.5,
          "y1": 22.5,
          "yref": "y3"
         },
         {
          "line": {
           "color": "sienna",
           "width": 2
          },
          "type": "line",
          "x0": 8.5,
          "x1": 8.5,
          "xref": "x3",
          "y0": -0.5,
          "y1": 22.5,
          "yref": "y3"
         },
         {
          "line": {
           "color": "sienna",
           "width": 2
          },
          "type": "line",
          "x0": 9.5,
          "x1": 9.5,
          "xref": "x3",
          "y0": -0.5,
          "y1": 22.5,
          "yref": "y3"
         },
         {
          "line": {
           "color": "sienna",
           "width": 2
          },
          "type": "line",
          "x0": 10.5,
          "x1": 10.5,
          "xref": "x3",
          "y0": -0.5,
          "y1": 22.5,
          "yref": "y3"
         },
         {
          "line": {
           "color": "sienna",
           "width": 2
          },
          "type": "line",
          "x0": 11.5,
          "x1": 11.5,
          "xref": "x3",
          "y0": -0.5,
          "y1": 22.5,
          "yref": "y3"
         },
         {
          "line": {
           "color": "sienna",
           "width": 2
          },
          "type": "line",
          "x0": 12.5,
          "x1": 12.5,
          "xref": "x3",
          "y0": -0.5,
          "y1": 22.5,
          "yref": "y3"
         },
         {
          "line": {
           "color": "sienna",
           "width": 2
          },
          "type": "line",
          "x0": 13.5,
          "x1": 13.5,
          "xref": "x3",
          "y0": -0.5,
          "y1": 22.5,
          "yref": "y3"
         },
         {
          "line": {
           "color": "sienna",
           "width": 2
          },
          "type": "line",
          "x0": 14.5,
          "x1": 14.5,
          "xref": "x3",
          "y0": -0.5,
          "y1": 22.5,
          "yref": "y3"
         },
         {
          "line": {
           "color": "sienna",
           "width": 2
          },
          "type": "line",
          "x0": 15.5,
          "x1": 15.5,
          "xref": "x3",
          "y0": -0.5,
          "y1": 22.5,
          "yref": "y3"
         },
         {
          "line": {
           "color": "sienna",
           "width": 2
          },
          "type": "line",
          "x0": 16.5,
          "x1": 16.5,
          "xref": "x3",
          "y0": -0.5,
          "y1": 22.5,
          "yref": "y3"
         },
         {
          "line": {
           "color": "sienna",
           "width": 2
          },
          "type": "line",
          "x0": 17.5,
          "x1": 17.5,
          "xref": "x3",
          "y0": -0.5,
          "y1": 22.5,
          "yref": "y3"
         },
         {
          "line": {
           "color": "sienna",
           "width": 2
          },
          "type": "line",
          "x0": 18.5,
          "x1": 18.5,
          "xref": "x3",
          "y0": -0.5,
          "y1": 22.5,
          "yref": "y3"
         },
         {
          "line": {
           "color": "sienna",
           "width": 2
          },
          "type": "line",
          "x0": 19.5,
          "x1": 19.5,
          "xref": "x3",
          "y0": -0.5,
          "y1": 22.5,
          "yref": "y3"
         },
         {
          "line": {
           "color": "sienna",
           "width": 2
          },
          "type": "line",
          "x0": 20.5,
          "x1": 20.5,
          "xref": "x3",
          "y0": -0.5,
          "y1": 22.5,
          "yref": "y3"
         },
         {
          "line": {
           "color": "sienna",
           "width": 2
          },
          "type": "line",
          "x0": 21.5,
          "x1": 21.5,
          "xref": "x3",
          "y0": -0.5,
          "y1": 22.5,
          "yref": "y3"
         },
         {
          "line": {
           "color": "sienna",
           "width": 2
          },
          "type": "line",
          "x0": -0.5,
          "x1": 22.5,
          "xref": "x4",
          "y0": -0.5,
          "y1": -0.5,
          "yref": "y4"
         },
         {
          "line": {
           "color": "sienna",
           "width": 2
          },
          "type": "line",
          "x0": -0.5,
          "x1": 22.5,
          "xref": "x4",
          "y0": 0.5,
          "y1": 0.5,
          "yref": "y4"
         },
         {
          "line": {
           "color": "sienna",
           "width": 2
          },
          "type": "line",
          "x0": -0.5,
          "x1": 22.5,
          "xref": "x4",
          "y0": 1.5,
          "y1": 1.5,
          "yref": "y4"
         },
         {
          "line": {
           "color": "sienna",
           "width": 2
          },
          "type": "line",
          "x0": -0.5,
          "x1": 22.5,
          "xref": "x4",
          "y0": 2.5,
          "y1": 2.5,
          "yref": "y4"
         },
         {
          "line": {
           "color": "sienna",
           "width": 2
          },
          "type": "line",
          "x0": -0.5,
          "x1": 22.5,
          "xref": "x4",
          "y0": 3.5,
          "y1": 3.5,
          "yref": "y4"
         },
         {
          "line": {
           "color": "sienna",
           "width": 2
          },
          "type": "line",
          "x0": -0.5,
          "x1": 22.5,
          "xref": "x4",
          "y0": 4.5,
          "y1": 4.5,
          "yref": "y4"
         },
         {
          "line": {
           "color": "sienna",
           "width": 2
          },
          "type": "line",
          "x0": -0.5,
          "x1": 22.5,
          "xref": "x4",
          "y0": 5.5,
          "y1": 5.5,
          "yref": "y4"
         },
         {
          "line": {
           "color": "sienna",
           "width": 2
          },
          "type": "line",
          "x0": -0.5,
          "x1": 22.5,
          "xref": "x4",
          "y0": 6.5,
          "y1": 6.5,
          "yref": "y4"
         },
         {
          "line": {
           "color": "sienna",
           "width": 2
          },
          "type": "line",
          "x0": -0.5,
          "x1": 22.5,
          "xref": "x4",
          "y0": 7.5,
          "y1": 7.5,
          "yref": "y4"
         },
         {
          "line": {
           "color": "sienna",
           "width": 2
          },
          "type": "line",
          "x0": -0.5,
          "x1": 22.5,
          "xref": "x4",
          "y0": 8.5,
          "y1": 8.5,
          "yref": "y4"
         },
         {
          "line": {
           "color": "sienna",
           "width": 2
          },
          "type": "line",
          "x0": -0.5,
          "x1": 22.5,
          "xref": "x4",
          "y0": 9.5,
          "y1": 9.5,
          "yref": "y4"
         },
         {
          "line": {
           "color": "sienna",
           "width": 2
          },
          "type": "line",
          "x0": -0.5,
          "x1": 22.5,
          "xref": "x4",
          "y0": 10.5,
          "y1": 10.5,
          "yref": "y4"
         },
         {
          "line": {
           "color": "sienna",
           "width": 2
          },
          "type": "line",
          "x0": -0.5,
          "x1": 22.5,
          "xref": "x4",
          "y0": 11.5,
          "y1": 11.5,
          "yref": "y4"
         },
         {
          "line": {
           "color": "sienna",
           "width": 2
          },
          "type": "line",
          "x0": -0.5,
          "x1": 22.5,
          "xref": "x4",
          "y0": 12.5,
          "y1": 12.5,
          "yref": "y4"
         },
         {
          "line": {
           "color": "sienna",
           "width": 2
          },
          "type": "line",
          "x0": -0.5,
          "x1": 22.5,
          "xref": "x4",
          "y0": 13.5,
          "y1": 13.5,
          "yref": "y4"
         },
         {
          "line": {
           "color": "sienna",
           "width": 2
          },
          "type": "line",
          "x0": -0.5,
          "x1": 22.5,
          "xref": "x4",
          "y0": 14.5,
          "y1": 14.5,
          "yref": "y4"
         },
         {
          "line": {
           "color": "sienna",
           "width": 2
          },
          "type": "line",
          "x0": -0.5,
          "x1": 22.5,
          "xref": "x4",
          "y0": 15.5,
          "y1": 15.5,
          "yref": "y4"
         },
         {
          "line": {
           "color": "sienna",
           "width": 2
          },
          "type": "line",
          "x0": -0.5,
          "x1": 22.5,
          "xref": "x4",
          "y0": 16.5,
          "y1": 16.5,
          "yref": "y4"
         },
         {
          "line": {
           "color": "sienna",
           "width": 2
          },
          "type": "line",
          "x0": -0.5,
          "x1": 22.5,
          "xref": "x4",
          "y0": 17.5,
          "y1": 17.5,
          "yref": "y4"
         },
         {
          "line": {
           "color": "sienna",
           "width": 2
          },
          "type": "line",
          "x0": -0.5,
          "x1": 22.5,
          "xref": "x4",
          "y0": 18.5,
          "y1": 18.5,
          "yref": "y4"
         },
         {
          "line": {
           "color": "sienna",
           "width": 2
          },
          "type": "line",
          "x0": -0.5,
          "x1": 22.5,
          "xref": "x4",
          "y0": 19.5,
          "y1": 19.5,
          "yref": "y4"
         },
         {
          "line": {
           "color": "sienna",
           "width": 2
          },
          "type": "line",
          "x0": -0.5,
          "x1": 22.5,
          "xref": "x4",
          "y0": 20.5,
          "y1": 20.5,
          "yref": "y4"
         },
         {
          "line": {
           "color": "sienna",
           "width": 2
          },
          "type": "line",
          "x0": -0.5,
          "x1": 22.5,
          "xref": "x4",
          "y0": 21.5,
          "y1": 21.5,
          "yref": "y4"
         },
         {
          "line": {
           "color": "sienna",
           "width": 2
          },
          "type": "line",
          "x0": -0.5,
          "x1": -0.5,
          "xref": "x4",
          "y0": -0.5,
          "y1": 22.5,
          "yref": "y4"
         },
         {
          "line": {
           "color": "sienna",
           "width": 2
          },
          "type": "line",
          "x0": 0.5,
          "x1": 0.5,
          "xref": "x4",
          "y0": -0.5,
          "y1": 22.5,
          "yref": "y4"
         },
         {
          "line": {
           "color": "sienna",
           "width": 2
          },
          "type": "line",
          "x0": 1.5,
          "x1": 1.5,
          "xref": "x4",
          "y0": -0.5,
          "y1": 22.5,
          "yref": "y4"
         },
         {
          "line": {
           "color": "sienna",
           "width": 2
          },
          "type": "line",
          "x0": 2.5,
          "x1": 2.5,
          "xref": "x4",
          "y0": -0.5,
          "y1": 22.5,
          "yref": "y4"
         },
         {
          "line": {
           "color": "sienna",
           "width": 2
          },
          "type": "line",
          "x0": 3.5,
          "x1": 3.5,
          "xref": "x4",
          "y0": -0.5,
          "y1": 22.5,
          "yref": "y4"
         },
         {
          "line": {
           "color": "sienna",
           "width": 2
          },
          "type": "line",
          "x0": 4.5,
          "x1": 4.5,
          "xref": "x4",
          "y0": -0.5,
          "y1": 22.5,
          "yref": "y4"
         },
         {
          "line": {
           "color": "sienna",
           "width": 2
          },
          "type": "line",
          "x0": 5.5,
          "x1": 5.5,
          "xref": "x4",
          "y0": -0.5,
          "y1": 22.5,
          "yref": "y4"
         },
         {
          "line": {
           "color": "sienna",
           "width": 2
          },
          "type": "line",
          "x0": 6.5,
          "x1": 6.5,
          "xref": "x4",
          "y0": -0.5,
          "y1": 22.5,
          "yref": "y4"
         },
         {
          "line": {
           "color": "sienna",
           "width": 2
          },
          "type": "line",
          "x0": 7.5,
          "x1": 7.5,
          "xref": "x4",
          "y0": -0.5,
          "y1": 22.5,
          "yref": "y4"
         },
         {
          "line": {
           "color": "sienna",
           "width": 2
          },
          "type": "line",
          "x0": 8.5,
          "x1": 8.5,
          "xref": "x4",
          "y0": -0.5,
          "y1": 22.5,
          "yref": "y4"
         },
         {
          "line": {
           "color": "sienna",
           "width": 2
          },
          "type": "line",
          "x0": 9.5,
          "x1": 9.5,
          "xref": "x4",
          "y0": -0.5,
          "y1": 22.5,
          "yref": "y4"
         },
         {
          "line": {
           "color": "sienna",
           "width": 2
          },
          "type": "line",
          "x0": 10.5,
          "x1": 10.5,
          "xref": "x4",
          "y0": -0.5,
          "y1": 22.5,
          "yref": "y4"
         },
         {
          "line": {
           "color": "sienna",
           "width": 2
          },
          "type": "line",
          "x0": 11.5,
          "x1": 11.5,
          "xref": "x4",
          "y0": -0.5,
          "y1": 22.5,
          "yref": "y4"
         },
         {
          "line": {
           "color": "sienna",
           "width": 2
          },
          "type": "line",
          "x0": 12.5,
          "x1": 12.5,
          "xref": "x4",
          "y0": -0.5,
          "y1": 22.5,
          "yref": "y4"
         },
         {
          "line": {
           "color": "sienna",
           "width": 2
          },
          "type": "line",
          "x0": 13.5,
          "x1": 13.5,
          "xref": "x4",
          "y0": -0.5,
          "y1": 22.5,
          "yref": "y4"
         },
         {
          "line": {
           "color": "sienna",
           "width": 2
          },
          "type": "line",
          "x0": 14.5,
          "x1": 14.5,
          "xref": "x4",
          "y0": -0.5,
          "y1": 22.5,
          "yref": "y4"
         },
         {
          "line": {
           "color": "sienna",
           "width": 2
          },
          "type": "line",
          "x0": 15.5,
          "x1": 15.5,
          "xref": "x4",
          "y0": -0.5,
          "y1": 22.5,
          "yref": "y4"
         },
         {
          "line": {
           "color": "sienna",
           "width": 2
          },
          "type": "line",
          "x0": 16.5,
          "x1": 16.5,
          "xref": "x4",
          "y0": -0.5,
          "y1": 22.5,
          "yref": "y4"
         },
         {
          "line": {
           "color": "sienna",
           "width": 2
          },
          "type": "line",
          "x0": 17.5,
          "x1": 17.5,
          "xref": "x4",
          "y0": -0.5,
          "y1": 22.5,
          "yref": "y4"
         },
         {
          "line": {
           "color": "sienna",
           "width": 2
          },
          "type": "line",
          "x0": 18.5,
          "x1": 18.5,
          "xref": "x4",
          "y0": -0.5,
          "y1": 22.5,
          "yref": "y4"
         },
         {
          "line": {
           "color": "sienna",
           "width": 2
          },
          "type": "line",
          "x0": 19.5,
          "x1": 19.5,
          "xref": "x4",
          "y0": -0.5,
          "y1": 22.5,
          "yref": "y4"
         },
         {
          "line": {
           "color": "sienna",
           "width": 2
          },
          "type": "line",
          "x0": 20.5,
          "x1": 20.5,
          "xref": "x4",
          "y0": -0.5,
          "y1": 22.5,
          "yref": "y4"
         },
         {
          "line": {
           "color": "sienna",
           "width": 2
          },
          "type": "line",
          "x0": 21.5,
          "x1": 21.5,
          "xref": "x4",
          "y0": -0.5,
          "y1": 22.5,
          "yref": "y4"
         },
         {
          "line": {
           "color": "sienna",
           "width": 2
          },
          "type": "line",
          "x0": -0.5,
          "x1": 22.5,
          "xref": "x5",
          "y0": -0.5,
          "y1": -0.5,
          "yref": "y5"
         },
         {
          "line": {
           "color": "sienna",
           "width": 2
          },
          "type": "line",
          "x0": -0.5,
          "x1": 22.5,
          "xref": "x5",
          "y0": 0.5,
          "y1": 0.5,
          "yref": "y5"
         },
         {
          "line": {
           "color": "sienna",
           "width": 2
          },
          "type": "line",
          "x0": -0.5,
          "x1": 22.5,
          "xref": "x5",
          "y0": 1.5,
          "y1": 1.5,
          "yref": "y5"
         },
         {
          "line": {
           "color": "sienna",
           "width": 2
          },
          "type": "line",
          "x0": -0.5,
          "x1": 22.5,
          "xref": "x5",
          "y0": 2.5,
          "y1": 2.5,
          "yref": "y5"
         },
         {
          "line": {
           "color": "sienna",
           "width": 2
          },
          "type": "line",
          "x0": -0.5,
          "x1": 22.5,
          "xref": "x5",
          "y0": 3.5,
          "y1": 3.5,
          "yref": "y5"
         },
         {
          "line": {
           "color": "sienna",
           "width": 2
          },
          "type": "line",
          "x0": -0.5,
          "x1": 22.5,
          "xref": "x5",
          "y0": 4.5,
          "y1": 4.5,
          "yref": "y5"
         },
         {
          "line": {
           "color": "sienna",
           "width": 2
          },
          "type": "line",
          "x0": -0.5,
          "x1": 22.5,
          "xref": "x5",
          "y0": 5.5,
          "y1": 5.5,
          "yref": "y5"
         },
         {
          "line": {
           "color": "sienna",
           "width": 2
          },
          "type": "line",
          "x0": -0.5,
          "x1": 22.5,
          "xref": "x5",
          "y0": 6.5,
          "y1": 6.5,
          "yref": "y5"
         },
         {
          "line": {
           "color": "sienna",
           "width": 2
          },
          "type": "line",
          "x0": -0.5,
          "x1": 22.5,
          "xref": "x5",
          "y0": 7.5,
          "y1": 7.5,
          "yref": "y5"
         },
         {
          "line": {
           "color": "sienna",
           "width": 2
          },
          "type": "line",
          "x0": -0.5,
          "x1": 22.5,
          "xref": "x5",
          "y0": 8.5,
          "y1": 8.5,
          "yref": "y5"
         },
         {
          "line": {
           "color": "sienna",
           "width": 2
          },
          "type": "line",
          "x0": -0.5,
          "x1": 22.5,
          "xref": "x5",
          "y0": 9.5,
          "y1": 9.5,
          "yref": "y5"
         },
         {
          "line": {
           "color": "sienna",
           "width": 2
          },
          "type": "line",
          "x0": -0.5,
          "x1": 22.5,
          "xref": "x5",
          "y0": 10.5,
          "y1": 10.5,
          "yref": "y5"
         },
         {
          "line": {
           "color": "sienna",
           "width": 2
          },
          "type": "line",
          "x0": -0.5,
          "x1": 22.5,
          "xref": "x5",
          "y0": 11.5,
          "y1": 11.5,
          "yref": "y5"
         },
         {
          "line": {
           "color": "sienna",
           "width": 2
          },
          "type": "line",
          "x0": -0.5,
          "x1": 22.5,
          "xref": "x5",
          "y0": 12.5,
          "y1": 12.5,
          "yref": "y5"
         },
         {
          "line": {
           "color": "sienna",
           "width": 2
          },
          "type": "line",
          "x0": -0.5,
          "x1": 22.5,
          "xref": "x5",
          "y0": 13.5,
          "y1": 13.5,
          "yref": "y5"
         },
         {
          "line": {
           "color": "sienna",
           "width": 2
          },
          "type": "line",
          "x0": -0.5,
          "x1": 22.5,
          "xref": "x5",
          "y0": 14.5,
          "y1": 14.5,
          "yref": "y5"
         },
         {
          "line": {
           "color": "sienna",
           "width": 2
          },
          "type": "line",
          "x0": -0.5,
          "x1": 22.5,
          "xref": "x5",
          "y0": 15.5,
          "y1": 15.5,
          "yref": "y5"
         },
         {
          "line": {
           "color": "sienna",
           "width": 2
          },
          "type": "line",
          "x0": -0.5,
          "x1": 22.5,
          "xref": "x5",
          "y0": 16.5,
          "y1": 16.5,
          "yref": "y5"
         },
         {
          "line": {
           "color": "sienna",
           "width": 2
          },
          "type": "line",
          "x0": -0.5,
          "x1": 22.5,
          "xref": "x5",
          "y0": 17.5,
          "y1": 17.5,
          "yref": "y5"
         },
         {
          "line": {
           "color": "sienna",
           "width": 2
          },
          "type": "line",
          "x0": -0.5,
          "x1": 22.5,
          "xref": "x5",
          "y0": 18.5,
          "y1": 18.5,
          "yref": "y5"
         },
         {
          "line": {
           "color": "sienna",
           "width": 2
          },
          "type": "line",
          "x0": -0.5,
          "x1": 22.5,
          "xref": "x5",
          "y0": 19.5,
          "y1": 19.5,
          "yref": "y5"
         },
         {
          "line": {
           "color": "sienna",
           "width": 2
          },
          "type": "line",
          "x0": -0.5,
          "x1": 22.5,
          "xref": "x5",
          "y0": 20.5,
          "y1": 20.5,
          "yref": "y5"
         },
         {
          "line": {
           "color": "sienna",
           "width": 2
          },
          "type": "line",
          "x0": -0.5,
          "x1": 22.5,
          "xref": "x5",
          "y0": 21.5,
          "y1": 21.5,
          "yref": "y5"
         },
         {
          "line": {
           "color": "sienna",
           "width": 2
          },
          "type": "line",
          "x0": -0.5,
          "x1": -0.5,
          "xref": "x5",
          "y0": -0.5,
          "y1": 22.5,
          "yref": "y5"
         },
         {
          "line": {
           "color": "sienna",
           "width": 2
          },
          "type": "line",
          "x0": 0.5,
          "x1": 0.5,
          "xref": "x5",
          "y0": -0.5,
          "y1": 22.5,
          "yref": "y5"
         },
         {
          "line": {
           "color": "sienna",
           "width": 2
          },
          "type": "line",
          "x0": 1.5,
          "x1": 1.5,
          "xref": "x5",
          "y0": -0.5,
          "y1": 22.5,
          "yref": "y5"
         },
         {
          "line": {
           "color": "sienna",
           "width": 2
          },
          "type": "line",
          "x0": 2.5,
          "x1": 2.5,
          "xref": "x5",
          "y0": -0.5,
          "y1": 22.5,
          "yref": "y5"
         },
         {
          "line": {
           "color": "sienna",
           "width": 2
          },
          "type": "line",
          "x0": 3.5,
          "x1": 3.5,
          "xref": "x5",
          "y0": -0.5,
          "y1": 22.5,
          "yref": "y5"
         },
         {
          "line": {
           "color": "sienna",
           "width": 2
          },
          "type": "line",
          "x0": 4.5,
          "x1": 4.5,
          "xref": "x5",
          "y0": -0.5,
          "y1": 22.5,
          "yref": "y5"
         },
         {
          "line": {
           "color": "sienna",
           "width": 2
          },
          "type": "line",
          "x0": 5.5,
          "x1": 5.5,
          "xref": "x5",
          "y0": -0.5,
          "y1": 22.5,
          "yref": "y5"
         },
         {
          "line": {
           "color": "sienna",
           "width": 2
          },
          "type": "line",
          "x0": 6.5,
          "x1": 6.5,
          "xref": "x5",
          "y0": -0.5,
          "y1": 22.5,
          "yref": "y5"
         },
         {
          "line": {
           "color": "sienna",
           "width": 2
          },
          "type": "line",
          "x0": 7.5,
          "x1": 7.5,
          "xref": "x5",
          "y0": -0.5,
          "y1": 22.5,
          "yref": "y5"
         },
         {
          "line": {
           "color": "sienna",
           "width": 2
          },
          "type": "line",
          "x0": 8.5,
          "x1": 8.5,
          "xref": "x5",
          "y0": -0.5,
          "y1": 22.5,
          "yref": "y5"
         },
         {
          "line": {
           "color": "sienna",
           "width": 2
          },
          "type": "line",
          "x0": 9.5,
          "x1": 9.5,
          "xref": "x5",
          "y0": -0.5,
          "y1": 22.5,
          "yref": "y5"
         },
         {
          "line": {
           "color": "sienna",
           "width": 2
          },
          "type": "line",
          "x0": 10.5,
          "x1": 10.5,
          "xref": "x5",
          "y0": -0.5,
          "y1": 22.5,
          "yref": "y5"
         },
         {
          "line": {
           "color": "sienna",
           "width": 2
          },
          "type": "line",
          "x0": 11.5,
          "x1": 11.5,
          "xref": "x5",
          "y0": -0.5,
          "y1": 22.5,
          "yref": "y5"
         },
         {
          "line": {
           "color": "sienna",
           "width": 2
          },
          "type": "line",
          "x0": 12.5,
          "x1": 12.5,
          "xref": "x5",
          "y0": -0.5,
          "y1": 22.5,
          "yref": "y5"
         },
         {
          "line": {
           "color": "sienna",
           "width": 2
          },
          "type": "line",
          "x0": 13.5,
          "x1": 13.5,
          "xref": "x5",
          "y0": -0.5,
          "y1": 22.5,
          "yref": "y5"
         },
         {
          "line": {
           "color": "sienna",
           "width": 2
          },
          "type": "line",
          "x0": 14.5,
          "x1": 14.5,
          "xref": "x5",
          "y0": -0.5,
          "y1": 22.5,
          "yref": "y5"
         },
         {
          "line": {
           "color": "sienna",
           "width": 2
          },
          "type": "line",
          "x0": 15.5,
          "x1": 15.5,
          "xref": "x5",
          "y0": -0.5,
          "y1": 22.5,
          "yref": "y5"
         },
         {
          "line": {
           "color": "sienna",
           "width": 2
          },
          "type": "line",
          "x0": 16.5,
          "x1": 16.5,
          "xref": "x5",
          "y0": -0.5,
          "y1": 22.5,
          "yref": "y5"
         },
         {
          "line": {
           "color": "sienna",
           "width": 2
          },
          "type": "line",
          "x0": 17.5,
          "x1": 17.5,
          "xref": "x5",
          "y0": -0.5,
          "y1": 22.5,
          "yref": "y5"
         },
         {
          "line": {
           "color": "sienna",
           "width": 2
          },
          "type": "line",
          "x0": 18.5,
          "x1": 18.5,
          "xref": "x5",
          "y0": -0.5,
          "y1": 22.5,
          "yref": "y5"
         },
         {
          "line": {
           "color": "sienna",
           "width": 2
          },
          "type": "line",
          "x0": 19.5,
          "x1": 19.5,
          "xref": "x5",
          "y0": -0.5,
          "y1": 22.5,
          "yref": "y5"
         },
         {
          "line": {
           "color": "sienna",
           "width": 2
          },
          "type": "line",
          "x0": 20.5,
          "x1": 20.5,
          "xref": "x5",
          "y0": -0.5,
          "y1": 22.5,
          "yref": "y5"
         },
         {
          "line": {
           "color": "sienna",
           "width": 2
          },
          "type": "line",
          "x0": 21.5,
          "x1": 21.5,
          "xref": "x5",
          "y0": -0.5,
          "y1": 22.5,
          "yref": "y5"
         },
         {
          "line": {
           "color": "sienna",
           "width": 2
          },
          "type": "line",
          "x0": -0.5,
          "x1": 22.5,
          "xref": "x6",
          "y0": -0.5,
          "y1": -0.5,
          "yref": "y6"
         },
         {
          "line": {
           "color": "sienna",
           "width": 2
          },
          "type": "line",
          "x0": -0.5,
          "x1": 22.5,
          "xref": "x6",
          "y0": 0.5,
          "y1": 0.5,
          "yref": "y6"
         },
         {
          "line": {
           "color": "sienna",
           "width": 2
          },
          "type": "line",
          "x0": -0.5,
          "x1": 22.5,
          "xref": "x6",
          "y0": 1.5,
          "y1": 1.5,
          "yref": "y6"
         },
         {
          "line": {
           "color": "sienna",
           "width": 2
          },
          "type": "line",
          "x0": -0.5,
          "x1": 22.5,
          "xref": "x6",
          "y0": 2.5,
          "y1": 2.5,
          "yref": "y6"
         },
         {
          "line": {
           "color": "sienna",
           "width": 2
          },
          "type": "line",
          "x0": -0.5,
          "x1": 22.5,
          "xref": "x6",
          "y0": 3.5,
          "y1": 3.5,
          "yref": "y6"
         },
         {
          "line": {
           "color": "sienna",
           "width": 2
          },
          "type": "line",
          "x0": -0.5,
          "x1": 22.5,
          "xref": "x6",
          "y0": 4.5,
          "y1": 4.5,
          "yref": "y6"
         },
         {
          "line": {
           "color": "sienna",
           "width": 2
          },
          "type": "line",
          "x0": -0.5,
          "x1": 22.5,
          "xref": "x6",
          "y0": 5.5,
          "y1": 5.5,
          "yref": "y6"
         },
         {
          "line": {
           "color": "sienna",
           "width": 2
          },
          "type": "line",
          "x0": -0.5,
          "x1": 22.5,
          "xref": "x6",
          "y0": 6.5,
          "y1": 6.5,
          "yref": "y6"
         },
         {
          "line": {
           "color": "sienna",
           "width": 2
          },
          "type": "line",
          "x0": -0.5,
          "x1": 22.5,
          "xref": "x6",
          "y0": 7.5,
          "y1": 7.5,
          "yref": "y6"
         },
         {
          "line": {
           "color": "sienna",
           "width": 2
          },
          "type": "line",
          "x0": -0.5,
          "x1": 22.5,
          "xref": "x6",
          "y0": 8.5,
          "y1": 8.5,
          "yref": "y6"
         },
         {
          "line": {
           "color": "sienna",
           "width": 2
          },
          "type": "line",
          "x0": -0.5,
          "x1": 22.5,
          "xref": "x6",
          "y0": 9.5,
          "y1": 9.5,
          "yref": "y6"
         },
         {
          "line": {
           "color": "sienna",
           "width": 2
          },
          "type": "line",
          "x0": -0.5,
          "x1": 22.5,
          "xref": "x6",
          "y0": 10.5,
          "y1": 10.5,
          "yref": "y6"
         },
         {
          "line": {
           "color": "sienna",
           "width": 2
          },
          "type": "line",
          "x0": -0.5,
          "x1": 22.5,
          "xref": "x6",
          "y0": 11.5,
          "y1": 11.5,
          "yref": "y6"
         },
         {
          "line": {
           "color": "sienna",
           "width": 2
          },
          "type": "line",
          "x0": -0.5,
          "x1": 22.5,
          "xref": "x6",
          "y0": 12.5,
          "y1": 12.5,
          "yref": "y6"
         },
         {
          "line": {
           "color": "sienna",
           "width": 2
          },
          "type": "line",
          "x0": -0.5,
          "x1": 22.5,
          "xref": "x6",
          "y0": 13.5,
          "y1": 13.5,
          "yref": "y6"
         },
         {
          "line": {
           "color": "sienna",
           "width": 2
          },
          "type": "line",
          "x0": -0.5,
          "x1": 22.5,
          "xref": "x6",
          "y0": 14.5,
          "y1": 14.5,
          "yref": "y6"
         },
         {
          "line": {
           "color": "sienna",
           "width": 2
          },
          "type": "line",
          "x0": -0.5,
          "x1": 22.5,
          "xref": "x6",
          "y0": 15.5,
          "y1": 15.5,
          "yref": "y6"
         },
         {
          "line": {
           "color": "sienna",
           "width": 2
          },
          "type": "line",
          "x0": -0.5,
          "x1": 22.5,
          "xref": "x6",
          "y0": 16.5,
          "y1": 16.5,
          "yref": "y6"
         },
         {
          "line": {
           "color": "sienna",
           "width": 2
          },
          "type": "line",
          "x0": -0.5,
          "x1": 22.5,
          "xref": "x6",
          "y0": 17.5,
          "y1": 17.5,
          "yref": "y6"
         },
         {
          "line": {
           "color": "sienna",
           "width": 2
          },
          "type": "line",
          "x0": -0.5,
          "x1": 22.5,
          "xref": "x6",
          "y0": 18.5,
          "y1": 18.5,
          "yref": "y6"
         },
         {
          "line": {
           "color": "sienna",
           "width": 2
          },
          "type": "line",
          "x0": -0.5,
          "x1": 22.5,
          "xref": "x6",
          "y0": 19.5,
          "y1": 19.5,
          "yref": "y6"
         },
         {
          "line": {
           "color": "sienna",
           "width": 2
          },
          "type": "line",
          "x0": -0.5,
          "x1": 22.5,
          "xref": "x6",
          "y0": 20.5,
          "y1": 20.5,
          "yref": "y6"
         },
         {
          "line": {
           "color": "sienna",
           "width": 2
          },
          "type": "line",
          "x0": -0.5,
          "x1": 22.5,
          "xref": "x6",
          "y0": 21.5,
          "y1": 21.5,
          "yref": "y6"
         },
         {
          "line": {
           "color": "sienna",
           "width": 2
          },
          "type": "line",
          "x0": -0.5,
          "x1": -0.5,
          "xref": "x6",
          "y0": -0.5,
          "y1": 22.5,
          "yref": "y6"
         },
         {
          "line": {
           "color": "sienna",
           "width": 2
          },
          "type": "line",
          "x0": 0.5,
          "x1": 0.5,
          "xref": "x6",
          "y0": -0.5,
          "y1": 22.5,
          "yref": "y6"
         },
         {
          "line": {
           "color": "sienna",
           "width": 2
          },
          "type": "line",
          "x0": 1.5,
          "x1": 1.5,
          "xref": "x6",
          "y0": -0.5,
          "y1": 22.5,
          "yref": "y6"
         },
         {
          "line": {
           "color": "sienna",
           "width": 2
          },
          "type": "line",
          "x0": 2.5,
          "x1": 2.5,
          "xref": "x6",
          "y0": -0.5,
          "y1": 22.5,
          "yref": "y6"
         },
         {
          "line": {
           "color": "sienna",
           "width": 2
          },
          "type": "line",
          "x0": 3.5,
          "x1": 3.5,
          "xref": "x6",
          "y0": -0.5,
          "y1": 22.5,
          "yref": "y6"
         },
         {
          "line": {
           "color": "sienna",
           "width": 2
          },
          "type": "line",
          "x0": 4.5,
          "x1": 4.5,
          "xref": "x6",
          "y0": -0.5,
          "y1": 22.5,
          "yref": "y6"
         },
         {
          "line": {
           "color": "sienna",
           "width": 2
          },
          "type": "line",
          "x0": 5.5,
          "x1": 5.5,
          "xref": "x6",
          "y0": -0.5,
          "y1": 22.5,
          "yref": "y6"
         },
         {
          "line": {
           "color": "sienna",
           "width": 2
          },
          "type": "line",
          "x0": 6.5,
          "x1": 6.5,
          "xref": "x6",
          "y0": -0.5,
          "y1": 22.5,
          "yref": "y6"
         },
         {
          "line": {
           "color": "sienna",
           "width": 2
          },
          "type": "line",
          "x0": 7.5,
          "x1": 7.5,
          "xref": "x6",
          "y0": -0.5,
          "y1": 22.5,
          "yref": "y6"
         },
         {
          "line": {
           "color": "sienna",
           "width": 2
          },
          "type": "line",
          "x0": 8.5,
          "x1": 8.5,
          "xref": "x6",
          "y0": -0.5,
          "y1": 22.5,
          "yref": "y6"
         },
         {
          "line": {
           "color": "sienna",
           "width": 2
          },
          "type": "line",
          "x0": 9.5,
          "x1": 9.5,
          "xref": "x6",
          "y0": -0.5,
          "y1": 22.5,
          "yref": "y6"
         },
         {
          "line": {
           "color": "sienna",
           "width": 2
          },
          "type": "line",
          "x0": 10.5,
          "x1": 10.5,
          "xref": "x6",
          "y0": -0.5,
          "y1": 22.5,
          "yref": "y6"
         },
         {
          "line": {
           "color": "sienna",
           "width": 2
          },
          "type": "line",
          "x0": 11.5,
          "x1": 11.5,
          "xref": "x6",
          "y0": -0.5,
          "y1": 22.5,
          "yref": "y6"
         },
         {
          "line": {
           "color": "sienna",
           "width": 2
          },
          "type": "line",
          "x0": 12.5,
          "x1": 12.5,
          "xref": "x6",
          "y0": -0.5,
          "y1": 22.5,
          "yref": "y6"
         },
         {
          "line": {
           "color": "sienna",
           "width": 2
          },
          "type": "line",
          "x0": 13.5,
          "x1": 13.5,
          "xref": "x6",
          "y0": -0.5,
          "y1": 22.5,
          "yref": "y6"
         },
         {
          "line": {
           "color": "sienna",
           "width": 2
          },
          "type": "line",
          "x0": 14.5,
          "x1": 14.5,
          "xref": "x6",
          "y0": -0.5,
          "y1": 22.5,
          "yref": "y6"
         },
         {
          "line": {
           "color": "sienna",
           "width": 2
          },
          "type": "line",
          "x0": 15.5,
          "x1": 15.5,
          "xref": "x6",
          "y0": -0.5,
          "y1": 22.5,
          "yref": "y6"
         },
         {
          "line": {
           "color": "sienna",
           "width": 2
          },
          "type": "line",
          "x0": 16.5,
          "x1": 16.5,
          "xref": "x6",
          "y0": -0.5,
          "y1": 22.5,
          "yref": "y6"
         },
         {
          "line": {
           "color": "sienna",
           "width": 2
          },
          "type": "line",
          "x0": 17.5,
          "x1": 17.5,
          "xref": "x6",
          "y0": -0.5,
          "y1": 22.5,
          "yref": "y6"
         },
         {
          "line": {
           "color": "sienna",
           "width": 2
          },
          "type": "line",
          "x0": 18.5,
          "x1": 18.5,
          "xref": "x6",
          "y0": -0.5,
          "y1": 22.5,
          "yref": "y6"
         },
         {
          "line": {
           "color": "sienna",
           "width": 2
          },
          "type": "line",
          "x0": 19.5,
          "x1": 19.5,
          "xref": "x6",
          "y0": -0.5,
          "y1": 22.5,
          "yref": "y6"
         },
         {
          "line": {
           "color": "sienna",
           "width": 2
          },
          "type": "line",
          "x0": 20.5,
          "x1": 20.5,
          "xref": "x6",
          "y0": -0.5,
          "y1": 22.5,
          "yref": "y6"
         },
         {
          "line": {
           "color": "sienna",
           "width": 2
          },
          "type": "line",
          "x0": 21.5,
          "x1": 21.5,
          "xref": "x6",
          "y0": -0.5,
          "y1": 22.5,
          "yref": "y6"
         }
        ],
        "template": {
         "data": {
          "bar": [
           {
            "error_x": {
             "color": "#2a3f5f"
            },
            "error_y": {
             "color": "#2a3f5f"
            },
            "marker": {
             "line": {
              "color": "#E5ECF6",
              "width": 0.5
             },
             "pattern": {
              "fillmode": "overlay",
              "size": 10,
              "solidity": 0.2
             }
            },
            "type": "bar"
           }
          ],
          "barpolar": [
           {
            "marker": {
             "line": {
              "color": "#E5ECF6",
              "width": 0.5
             },
             "pattern": {
              "fillmode": "overlay",
              "size": 10,
              "solidity": 0.2
             }
            },
            "type": "barpolar"
           }
          ],
          "carpet": [
           {
            "aaxis": {
             "endlinecolor": "#2a3f5f",
             "gridcolor": "white",
             "linecolor": "white",
             "minorgridcolor": "white",
             "startlinecolor": "#2a3f5f"
            },
            "baxis": {
             "endlinecolor": "#2a3f5f",
             "gridcolor": "white",
             "linecolor": "white",
             "minorgridcolor": "white",
             "startlinecolor": "#2a3f5f"
            },
            "type": "carpet"
           }
          ],
          "choropleth": [
           {
            "colorbar": {
             "outlinewidth": 0,
             "ticks": ""
            },
            "type": "choropleth"
           }
          ],
          "contour": [
           {
            "colorbar": {
             "outlinewidth": 0,
             "ticks": ""
            },
            "colorscale": [
             [
              0,
              "#0d0887"
             ],
             [
              0.1111111111111111,
              "#46039f"
             ],
             [
              0.2222222222222222,
              "#7201a8"
             ],
             [
              0.3333333333333333,
              "#9c179e"
             ],
             [
              0.4444444444444444,
              "#bd3786"
             ],
             [
              0.5555555555555556,
              "#d8576b"
             ],
             [
              0.6666666666666666,
              "#ed7953"
             ],
             [
              0.7777777777777778,
              "#fb9f3a"
             ],
             [
              0.8888888888888888,
              "#fdca26"
             ],
             [
              1,
              "#f0f921"
             ]
            ],
            "type": "contour"
           }
          ],
          "contourcarpet": [
           {
            "colorbar": {
             "outlinewidth": 0,
             "ticks": ""
            },
            "type": "contourcarpet"
           }
          ],
          "heatmap": [
           {
            "colorbar": {
             "outlinewidth": 0,
             "ticks": ""
            },
            "colorscale": [
             [
              0,
              "#0d0887"
             ],
             [
              0.1111111111111111,
              "#46039f"
             ],
             [
              0.2222222222222222,
              "#7201a8"
             ],
             [
              0.3333333333333333,
              "#9c179e"
             ],
             [
              0.4444444444444444,
              "#bd3786"
             ],
             [
              0.5555555555555556,
              "#d8576b"
             ],
             [
              0.6666666666666666,
              "#ed7953"
             ],
             [
              0.7777777777777778,
              "#fb9f3a"
             ],
             [
              0.8888888888888888,
              "#fdca26"
             ],
             [
              1,
              "#f0f921"
             ]
            ],
            "type": "heatmap"
           }
          ],
          "heatmapgl": [
           {
            "colorbar": {
             "outlinewidth": 0,
             "ticks": ""
            },
            "colorscale": [
             [
              0,
              "#0d0887"
             ],
             [
              0.1111111111111111,
              "#46039f"
             ],
             [
              0.2222222222222222,
              "#7201a8"
             ],
             [
              0.3333333333333333,
              "#9c179e"
             ],
             [
              0.4444444444444444,
              "#bd3786"
             ],
             [
              0.5555555555555556,
              "#d8576b"
             ],
             [
              0.6666666666666666,
              "#ed7953"
             ],
             [
              0.7777777777777778,
              "#fb9f3a"
             ],
             [
              0.8888888888888888,
              "#fdca26"
             ],
             [
              1,
              "#f0f921"
             ]
            ],
            "type": "heatmapgl"
           }
          ],
          "histogram": [
           {
            "marker": {
             "pattern": {
              "fillmode": "overlay",
              "size": 10,
              "solidity": 0.2
             }
            },
            "type": "histogram"
           }
          ],
          "histogram2d": [
           {
            "colorbar": {
             "outlinewidth": 0,
             "ticks": ""
            },
            "colorscale": [
             [
              0,
              "#0d0887"
             ],
             [
              0.1111111111111111,
              "#46039f"
             ],
             [
              0.2222222222222222,
              "#7201a8"
             ],
             [
              0.3333333333333333,
              "#9c179e"
             ],
             [
              0.4444444444444444,
              "#bd3786"
             ],
             [
              0.5555555555555556,
              "#d8576b"
             ],
             [
              0.6666666666666666,
              "#ed7953"
             ],
             [
              0.7777777777777778,
              "#fb9f3a"
             ],
             [
              0.8888888888888888,
              "#fdca26"
             ],
             [
              1,
              "#f0f921"
             ]
            ],
            "type": "histogram2d"
           }
          ],
          "histogram2dcontour": [
           {
            "colorbar": {
             "outlinewidth": 0,
             "ticks": ""
            },
            "colorscale": [
             [
              0,
              "#0d0887"
             ],
             [
              0.1111111111111111,
              "#46039f"
             ],
             [
              0.2222222222222222,
              "#7201a8"
             ],
             [
              0.3333333333333333,
              "#9c179e"
             ],
             [
              0.4444444444444444,
              "#bd3786"
             ],
             [
              0.5555555555555556,
              "#d8576b"
             ],
             [
              0.6666666666666666,
              "#ed7953"
             ],
             [
              0.7777777777777778,
              "#fb9f3a"
             ],
             [
              0.8888888888888888,
              "#fdca26"
             ],
             [
              1,
              "#f0f921"
             ]
            ],
            "type": "histogram2dcontour"
           }
          ],
          "mesh3d": [
           {
            "colorbar": {
             "outlinewidth": 0,
             "ticks": ""
            },
            "type": "mesh3d"
           }
          ],
          "parcoords": [
           {
            "line": {
             "colorbar": {
              "outlinewidth": 0,
              "ticks": ""
             }
            },
            "type": "parcoords"
           }
          ],
          "pie": [
           {
            "automargin": true,
            "type": "pie"
           }
          ],
          "scatter": [
           {
            "fillpattern": {
             "fillmode": "overlay",
             "size": 10,
             "solidity": 0.2
            },
            "type": "scatter"
           }
          ],
          "scatter3d": [
           {
            "line": {
             "colorbar": {
              "outlinewidth": 0,
              "ticks": ""
             }
            },
            "marker": {
             "colorbar": {
              "outlinewidth": 0,
              "ticks": ""
             }
            },
            "type": "scatter3d"
           }
          ],
          "scattercarpet": [
           {
            "marker": {
             "colorbar": {
              "outlinewidth": 0,
              "ticks": ""
             }
            },
            "type": "scattercarpet"
           }
          ],
          "scattergeo": [
           {
            "marker": {
             "colorbar": {
              "outlinewidth": 0,
              "ticks": ""
             }
            },
            "type": "scattergeo"
           }
          ],
          "scattergl": [
           {
            "marker": {
             "colorbar": {
              "outlinewidth": 0,
              "ticks": ""
             }
            },
            "type": "scattergl"
           }
          ],
          "scattermapbox": [
           {
            "marker": {
             "colorbar": {
              "outlinewidth": 0,
              "ticks": ""
             }
            },
            "type": "scattermapbox"
           }
          ],
          "scatterpolar": [
           {
            "marker": {
             "colorbar": {
              "outlinewidth": 0,
              "ticks": ""
             }
            },
            "type": "scatterpolar"
           }
          ],
          "scatterpolargl": [
           {
            "marker": {
             "colorbar": {
              "outlinewidth": 0,
              "ticks": ""
             }
            },
            "type": "scatterpolargl"
           }
          ],
          "scatterternary": [
           {
            "marker": {
             "colorbar": {
              "outlinewidth": 0,
              "ticks": ""
             }
            },
            "type": "scatterternary"
           }
          ],
          "surface": [
           {
            "colorbar": {
             "outlinewidth": 0,
             "ticks": ""
            },
            "colorscale": [
             [
              0,
              "#0d0887"
             ],
             [
              0.1111111111111111,
              "#46039f"
             ],
             [
              0.2222222222222222,
              "#7201a8"
             ],
             [
              0.3333333333333333,
              "#9c179e"
             ],
             [
              0.4444444444444444,
              "#bd3786"
             ],
             [
              0.5555555555555556,
              "#d8576b"
             ],
             [
              0.6666666666666666,
              "#ed7953"
             ],
             [
              0.7777777777777778,
              "#fb9f3a"
             ],
             [
              0.8888888888888888,
              "#fdca26"
             ],
             [
              1,
              "#f0f921"
             ]
            ],
            "type": "surface"
           }
          ],
          "table": [
           {
            "cells": {
             "fill": {
              "color": "#EBF0F8"
             },
             "line": {
              "color": "white"
             }
            },
            "header": {
             "fill": {
              "color": "#C8D4E3"
             },
             "line": {
              "color": "white"
             }
            },
            "type": "table"
           }
          ]
         },
         "layout": {
          "annotationdefaults": {
           "arrowcolor": "#2a3f5f",
           "arrowhead": 0,
           "arrowwidth": 1
          },
          "autotypenumbers": "strict",
          "coloraxis": {
           "colorbar": {
            "outlinewidth": 0,
            "ticks": ""
           }
          },
          "colorscale": {
           "diverging": [
            [
             0,
             "#8e0152"
            ],
            [
             0.1,
             "#c51b7d"
            ],
            [
             0.2,
             "#de77ae"
            ],
            [
             0.3,
             "#f1b6da"
            ],
            [
             0.4,
             "#fde0ef"
            ],
            [
             0.5,
             "#f7f7f7"
            ],
            [
             0.6,
             "#e6f5d0"
            ],
            [
             0.7,
             "#b8e186"
            ],
            [
             0.8,
             "#7fbc41"
            ],
            [
             0.9,
             "#4d9221"
            ],
            [
             1,
             "#276419"
            ]
           ],
           "sequential": [
            [
             0,
             "#0d0887"
            ],
            [
             0.1111111111111111,
             "#46039f"
            ],
            [
             0.2222222222222222,
             "#7201a8"
            ],
            [
             0.3333333333333333,
             "#9c179e"
            ],
            [
             0.4444444444444444,
             "#bd3786"
            ],
            [
             0.5555555555555556,
             "#d8576b"
            ],
            [
             0.6666666666666666,
             "#ed7953"
            ],
            [
             0.7777777777777778,
             "#fb9f3a"
            ],
            [
             0.8888888888888888,
             "#fdca26"
            ],
            [
             1,
             "#f0f921"
            ]
           ],
           "sequentialminus": [
            [
             0,
             "#0d0887"
            ],
            [
             0.1111111111111111,
             "#46039f"
            ],
            [
             0.2222222222222222,
             "#7201a8"
            ],
            [
             0.3333333333333333,
             "#9c179e"
            ],
            [
             0.4444444444444444,
             "#bd3786"
            ],
            [
             0.5555555555555556,
             "#d8576b"
            ],
            [
             0.6666666666666666,
             "#ed7953"
            ],
            [
             0.7777777777777778,
             "#fb9f3a"
            ],
            [
             0.8888888888888888,
             "#fdca26"
            ],
            [
             1,
             "#f0f921"
            ]
           ]
          },
          "colorway": [
           "#636efa",
           "#EF553B",
           "#00cc96",
           "#ab63fa",
           "#FFA15A",
           "#19d3f3",
           "#FF6692",
           "#B6E880",
           "#FF97FF",
           "#FECB52"
          ],
          "font": {
           "color": "#2a3f5f"
          },
          "geo": {
           "bgcolor": "white",
           "lakecolor": "white",
           "landcolor": "#E5ECF6",
           "showlakes": true,
           "showland": true,
           "subunitcolor": "white"
          },
          "hoverlabel": {
           "align": "left"
          },
          "hovermode": "closest",
          "mapbox": {
           "style": "light"
          },
          "paper_bgcolor": "white",
          "plot_bgcolor": "#E5ECF6",
          "polar": {
           "angularaxis": {
            "gridcolor": "white",
            "linecolor": "white",
            "ticks": ""
           },
           "bgcolor": "#E5ECF6",
           "radialaxis": {
            "gridcolor": "white",
            "linecolor": "white",
            "ticks": ""
           }
          },
          "scene": {
           "xaxis": {
            "backgroundcolor": "#E5ECF6",
            "gridcolor": "white",
            "gridwidth": 2,
            "linecolor": "white",
            "showbackground": true,
            "ticks": "",
            "zerolinecolor": "white"
           },
           "yaxis": {
            "backgroundcolor": "#E5ECF6",
            "gridcolor": "white",
            "gridwidth": 2,
            "linecolor": "white",
            "showbackground": true,
            "ticks": "",
            "zerolinecolor": "white"
           },
           "zaxis": {
            "backgroundcolor": "#E5ECF6",
            "gridcolor": "white",
            "gridwidth": 2,
            "linecolor": "white",
            "showbackground": true,
            "ticks": "",
            "zerolinecolor": "white"
           }
          },
          "shapedefaults": {
           "line": {
            "color": "#2a3f5f"
           }
          },
          "ternary": {
           "aaxis": {
            "gridcolor": "white",
            "linecolor": "white",
            "ticks": ""
           },
           "baxis": {
            "gridcolor": "white",
            "linecolor": "white",
            "ticks": ""
           },
           "bgcolor": "#E5ECF6",
           "caxis": {
            "gridcolor": "white",
            "linecolor": "white",
            "ticks": ""
           }
          },
          "title": {
           "x": 0.05
          },
          "xaxis": {
           "automargin": true,
           "gridcolor": "white",
           "linecolor": "white",
           "ticks": "",
           "title": {
            "standoff": 15
           },
           "zerolinecolor": "white",
           "zerolinewidth": 2
          },
          "yaxis": {
           "automargin": true,
           "gridcolor": "white",
           "linecolor": "white",
           "ticks": "",
           "title": {
            "standoff": 15
           },
           "zerolinecolor": "white",
           "zerolinewidth": 2
          }
         }
        },
        "xaxis": {
         "anchor": "y",
         "domain": [
          0,
          0.45
         ]
        },
        "xaxis2": {
         "anchor": "y2",
         "domain": [
          0.55,
          1
         ]
        },
        "xaxis3": {
         "anchor": "y3",
         "domain": [
          0,
          0.45
         ]
        },
        "xaxis4": {
         "anchor": "y4",
         "domain": [
          0.55,
          1
         ]
        },
        "xaxis5": {
         "anchor": "y5",
         "domain": [
          0,
          0.45
         ]
        },
        "xaxis6": {
         "anchor": "y6",
         "domain": [
          0.55,
          1
         ]
        },
        "yaxis": {
         "anchor": "x",
         "domain": [
          0.7333333333333333,
          1
         ]
        },
        "yaxis2": {
         "anchor": "x2",
         "domain": [
          0.7333333333333333,
          1
         ]
        },
        "yaxis3": {
         "anchor": "x3",
         "domain": [
          0.36666666666666664,
          0.6333333333333333
         ]
        },
        "yaxis4": {
         "anchor": "x4",
         "domain": [
          0.36666666666666664,
          0.6333333333333333
         ]
        },
        "yaxis5": {
         "anchor": "x5",
         "domain": [
          0,
          0.26666666666666666
         ]
        },
        "yaxis6": {
         "anchor": "x6",
         "domain": [
          0,
          0.26666666666666666
         ]
        }
       }
      }
     },
     "metadata": {},
     "output_type": "display_data"
    },
    {
     "name": "stdout",
     "output_type": "stream",
     "text": [
      "5c2c9af4-test\n"
     ]
    },
    {
     "data": {
      "application/vnd.plotly.v1+json": {
       "config": {
        "plotlyServerURL": "https://plot.ly"
       },
       "data": [
        {
         "type": "image",
         "xaxis": "x",
         "yaxis": "y",
         "z": [
          [
           [
            0,
            0,
            0
           ],
           [
            0,
            0,
            0
           ],
           [
            0,
            0,
            0
           ],
           [
            0,
            0,
            0
           ],
           [
            0,
            0,
            0
           ],
           [
            0,
            0,
            0
           ],
           [
            0,
            0,
            0
           ],
           [
            0,
            0,
            0
           ],
           [
            0,
            0,
            0
           ],
           [
            0,
            0,
            0
           ],
           [
            0,
            0,
            0
           ],
           [
            0,
            0,
            0
           ],
           [
            0,
            0,
            0
           ],
           [
            0,
            0,
            0
           ],
           [
            0,
            0,
            0
           ],
           [
            0,
            0,
            0
           ],
           [
            0,
            0,
            0
           ],
           [
            0,
            0,
            0
           ],
           [
            0,
            0,
            0
           ],
           [
            0,
            0,
            0
           ],
           [
            0,
            0,
            0
           ],
           [
            0,
            0,
            0
           ],
           [
            0,
            0,
            0
           ],
           [
            0,
            0,
            0
           ],
           [
            0,
            0,
            0
           ],
           [
            0,
            0,
            0
           ],
           [
            0,
            0,
            0
           ],
           [
            0,
            0,
            0
           ]
          ],
          [
           [
            0,
            0,
            0
           ],
           [
            0,
            0,
            0
           ],
           [
            0,
            0,
            0
           ],
           [
            0,
            0,
            0
           ],
           [
            0,
            0,
            0
           ],
           [
            0,
            0,
            0
           ],
           [
            0,
            0,
            0
           ],
           [
            0,
            0,
            0
           ],
           [
            0,
            0,
            0
           ],
           [
            0,
            0,
            0
           ],
           [
            0,
            0,
            0
           ],
           [
            0,
            0,
            0
           ],
           [
            0,
            0,
            0
           ],
           [
            0,
            0,
            0
           ],
           [
            0,
            0,
            0
           ],
           [
            0,
            0,
            0
           ],
           [
            0,
            0,
            0
           ],
           [
            0,
            0,
            0
           ],
           [
            0,
            0,
            0
           ],
           [
            0,
            0,
            0
           ],
           [
            0,
            0,
            0
           ],
           [
            0,
            0,
            0
           ],
           [
            0,
            0,
            0
           ],
           [
            0,
            0,
            0
           ],
           [
            0,
            0,
            0
           ],
           [
            0,
            0,
            0
           ],
           [
            0,
            0,
            0
           ],
           [
            0,
            0,
            0
           ]
          ],
          [
           [
            0,
            0,
            0
           ],
           [
            0,
            0,
            0
           ],
           [
            0,
            0,
            0
           ],
           [
            0,
            0,
            0
           ],
           [
            0,
            0,
            0
           ],
           [
            0,
            0,
            0
           ],
           [
            0,
            0,
            0
           ],
           [
            0,
            0,
            0
           ],
           [
            0,
            0,
            0
           ],
           [
            0,
            0,
            0
           ],
           [
            0,
            0,
            0
           ],
           [
            0,
            0,
            0
           ],
           [
            0,
            0,
            0
           ],
           [
            0,
            0,
            0
           ],
           [
            0,
            0,
            0
           ],
           [
            0,
            0,
            0
           ],
           [
            0,
            0,
            0
           ],
           [
            0,
            0,
            0
           ],
           [
            0,
            0,
            0
           ],
           [
            0,
            0,
            0
           ],
           [
            0,
            0,
            0
           ],
           [
            0,
            0,
            0
           ],
           [
            0,
            0,
            0
           ],
           [
            0,
            0,
            0
           ],
           [
            0,
            0,
            0
           ],
           [
            0,
            0,
            0
           ],
           [
            0,
            0,
            0
           ],
           [
            0,
            0,
            0
           ]
          ],
          [
           [
            0,
            0,
            0
           ],
           [
            0,
            0,
            0
           ],
           [
            0,
            0,
            0
           ],
           [
            0,
            0,
            0
           ],
           [
            0,
            0,
            0
           ],
           [
            0,
            0,
            0
           ],
           [
            0,
            0,
            0
           ],
           [
            0,
            0,
            0
           ],
           [
            0,
            0,
            0
           ],
           [
            0,
            0,
            0
           ],
           [
            0,
            0,
            0
           ],
           [
            0,
            0,
            0
           ],
           [
            0,
            0,
            0
           ],
           [
            0,
            0,
            0
           ],
           [
            0,
            0,
            0
           ],
           [
            0,
            0,
            0
           ],
           [
            0,
            0,
            0
           ],
           [
            0,
            0,
            0
           ],
           [
            0,
            0,
            0
           ],
           [
            0,
            0,
            0
           ],
           [
            0,
            0,
            0
           ],
           [
            0,
            0,
            0
           ],
           [
            0,
            0,
            0
           ],
           [
            0,
            0,
            0
           ],
           [
            0,
            0,
            0
           ],
           [
            0,
            0,
            0
           ],
           [
            0,
            0,
            0
           ],
           [
            0,
            0,
            0
           ]
          ],
          [
           [
            0,
            0,
            0
           ],
           [
            0,
            0,
            0
           ],
           [
            0,
            0,
            0
           ],
           [
            0,
            0,
            0
           ],
           [
            0,
            0,
            0
           ],
           [
            0,
            0,
            0
           ],
           [
            0,
            0,
            0
           ],
           [
            0,
            0,
            0
           ],
           [
            0,
            0,
            0
           ],
           [
            0,
            0,
            0
           ],
           [
            0,
            0,
            0
           ],
           [
            0,
            0,
            0
           ],
           [
            0,
            0,
            0
           ],
           [
            0,
            0,
            0
           ],
           [
            0,
            0,
            0
           ],
           [
            0,
            0,
            0
           ],
           [
            0,
            0,
            0
           ],
           [
            0,
            0,
            0
           ],
           [
            0,
            0,
            0
           ],
           [
            0,
            0,
            0
           ],
           [
            0,
            0,
            0
           ],
           [
            0,
            0,
            0
           ],
           [
            0,
            0,
            0
           ],
           [
            0,
            0,
            0
           ],
           [
            0,
            0,
            0
           ],
           [
            0,
            0,
            0
           ],
           [
            0,
            0,
            0
           ],
           [
            0,
            0,
            0
           ]
          ],
          [
           [
            0,
            0,
            0
           ],
           [
            0,
            0,
            0
           ],
           [
            0,
            0,
            0
           ],
           [
            0,
            0,
            0
           ],
           [
            0,
            0,
            0
           ],
           [
            0,
            0,
            0
           ],
           [
            0,
            0,
            0
           ],
           [
            0,
            0,
            0
           ],
           [
            0,
            0,
            0
           ],
           [
            0,
            0,
            0
           ],
           [
            0,
            0,
            0
           ],
           [
            0,
            0,
            0
           ],
           [
            0,
            0,
            0
           ],
           [
            0,
            0,
            0
           ],
           [
            0,
            0,
            0
           ],
           [
            0,
            0,
            0
           ],
           [
            0,
            0,
            0
           ],
           [
            0,
            0,
            0
           ],
           [
            0,
            0,
            0
           ],
           [
            0,
            0,
            0
           ],
           [
            0,
            0,
            0
           ],
           [
            0,
            0,
            0
           ],
           [
            0,
            0,
            0
           ],
           [
            0,
            0,
            0
           ],
           [
            0,
            0,
            0
           ],
           [
            0,
            0,
            0
           ],
           [
            0,
            0,
            0
           ],
           [
            0,
            0,
            0
           ]
          ],
          [
           [
            0,
            0,
            0
           ],
           [
            0,
            0,
            0
           ],
           [
            0,
            0,
            0
           ],
           [
            0,
            0,
            0
           ],
           [
            0,
            0,
            0
           ],
           [
            0,
            0,
            0
           ],
           [
            0,
            0,
            0
           ],
           [
            0,
            0,
            0
           ],
           [
            0,
            0,
            0
           ],
           [
            0,
            0,
            0
           ],
           [
            0,
            0,
            0
           ],
           [
            0,
            0,
            0
           ],
           [
            0,
            0,
            0
           ],
           [
            0,
            0,
            0
           ],
           [
            0,
            0,
            0
           ],
           [
            0,
            0,
            0
           ],
           [
            0,
            0,
            0
           ],
           [
            0,
            0,
            0
           ],
           [
            0,
            0,
            0
           ],
           [
            0,
            0,
            0
           ],
           [
            0,
            0,
            0
           ],
           [
            0,
            0,
            0
           ],
           [
            0,
            0,
            0
           ],
           [
            0,
            0,
            0
           ],
           [
            0,
            0,
            0
           ],
           [
            0,
            0,
            0
           ],
           [
            0,
            0,
            0
           ],
           [
            0,
            0,
            0
           ]
          ],
          [
           [
            0,
            0,
            0
           ],
           [
            0,
            0,
            0
           ],
           [
            0,
            0,
            0
           ],
           [
            0,
            0,
            0
           ],
           [
            0,
            0,
            0
           ],
           [
            0,
            0,
            0
           ],
           [
            0,
            0,
            0
           ],
           [
            0,
            0,
            0
           ],
           [
            0,
            0,
            0
           ],
           [
            0,
            0,
            0
           ],
           [
            0,
            0,
            0
           ],
           [
            0,
            0,
            0
           ],
           [
            0,
            0,
            0
           ],
           [
            0,
            0,
            0
           ],
           [
            0,
            0,
            0
           ],
           [
            0,
            0,
            0
           ],
           [
            0,
            0,
            0
           ],
           [
            0,
            0,
            0
           ],
           [
            0,
            0,
            0
           ],
           [
            0,
            0,
            0
           ],
           [
            0,
            0,
            0
           ],
           [
            0,
            0,
            0
           ],
           [
            0,
            0,
            0
           ],
           [
            0,
            0,
            0
           ],
           [
            0,
            0,
            0
           ],
           [
            0,
            0,
            0
           ],
           [
            0,
            0,
            0
           ],
           [
            0,
            0,
            0
           ]
          ],
          [
           [
            0,
            0,
            0
           ],
           [
            0,
            0,
            0
           ],
           [
            0,
            0,
            0
           ],
           [
            0,
            0,
            0
           ],
           [
            0,
            0,
            0
           ],
           [
            0,
            0,
            0
           ],
           [
            0,
            0,
            0
           ],
           [
            0,
            0,
            0
           ],
           [
            0,
            0,
            0
           ],
           [
            0,
            0,
            0
           ],
           [
            0,
            0,
            0
           ],
           [
            0,
            0,
            0
           ],
           [
            0,
            0,
            0
           ],
           [
            0,
            0,
            0
           ],
           [
            0,
            0,
            0
           ],
           [
            0,
            0,
            0
           ],
           [
            0,
            0,
            0
           ],
           [
            0,
            0,
            0
           ],
           [
            0,
            0,
            0
           ],
           [
            0,
            0,
            0
           ],
           [
            0,
            0,
            0
           ],
           [
            0,
            0,
            0
           ],
           [
            0,
            0,
            0
           ],
           [
            0,
            0,
            0
           ],
           [
            0,
            0,
            0
           ],
           [
            0,
            0,
            0
           ],
           [
            0,
            0,
            0
           ],
           [
            0,
            0,
            0
           ]
          ],
          [
           [
            0,
            0,
            0
           ],
           [
            0,
            0,
            0
           ],
           [
            0,
            0,
            0
           ],
           [
            0,
            0,
            0
           ],
           [
            0,
            0,
            0
           ],
           [
            0,
            0,
            0
           ],
           [
            0,
            0,
            0
           ],
           [
            0,
            0,
            0
           ],
           [
            0,
            0,
            0
           ],
           [
            0,
            0,
            0
           ],
           [
            0,
            0,
            0
           ],
           [
            0,
            0,
            0
           ],
           [
            0,
            0,
            0
           ],
           [
            0,
            0,
            0
           ],
           [
            0,
            0,
            0
           ],
           [
            0,
            0,
            0
           ],
           [
            0,
            0,
            0
           ],
           [
            0,
            0,
            0
           ],
           [
            0,
            0,
            0
           ],
           [
            0,
            0,
            0
           ],
           [
            0,
            0,
            0
           ],
           [
            0,
            0,
            0
           ],
           [
            0,
            0,
            0
           ],
           [
            0,
            0,
            0
           ],
           [
            0,
            0,
            0
           ],
           [
            0,
            0,
            0
           ],
           [
            0,
            0,
            0
           ],
           [
            0,
            0,
            0
           ]
          ],
          [
           [
            0,
            0,
            0
           ],
           [
            0,
            0,
            0
           ],
           [
            0,
            0,
            0
           ],
           [
            0,
            0,
            0
           ],
           [
            0,
            0,
            0
           ],
           [
            0,
            0,
            0
           ],
           [
            0,
            0,
            0
           ],
           [
            0,
            0,
            0
           ],
           [
            0,
            0,
            0
           ],
           [
            0,
            0,
            0
           ],
           [
            0,
            0,
            0
           ],
           [
            0,
            0,
            0
           ],
           [
            0,
            0,
            0
           ],
           [
            0,
            0,
            0
           ],
           [
            0,
            0,
            0
           ],
           [
            0,
            0,
            0
           ],
           [
            0,
            0,
            0
           ],
           [
            0,
            0,
            0
           ],
           [
            0,
            0,
            0
           ],
           [
            0,
            0,
            0
           ],
           [
            0,
            0,
            0
           ],
           [
            0,
            0,
            0
           ],
           [
            0,
            0,
            0
           ],
           [
            0,
            0,
            0
           ],
           [
            0,
            0,
            0
           ],
           [
            0,
            0,
            0
           ],
           [
            0,
            0,
            0
           ],
           [
            0,
            0,
            0
           ]
          ],
          [
           [
            0,
            0,
            0
           ],
           [
            0,
            0,
            0
           ],
           [
            0,
            0,
            0
           ],
           [
            0,
            0,
            0
           ],
           [
            0,
            0,
            0
           ],
           [
            0,
            0,
            0
           ],
           [
            0,
            0,
            0
           ],
           [
            0,
            0,
            0
           ],
           [
            0,
            0,
            0
           ],
           [
            0,
            0,
            0
           ],
           [
            0,
            0,
            0
           ],
           [
            0,
            0,
            0
           ],
           [
            0,
            0,
            0
           ],
           [
            0,
            0,
            0
           ],
           [
            0,
            0,
            0
           ],
           [
            0,
            0,
            0
           ],
           [
            0,
            0,
            0
           ],
           [
            0,
            0,
            0
           ],
           [
            0,
            0,
            0
           ],
           [
            0,
            0,
            0
           ],
           [
            0,
            0,
            0
           ],
           [
            0,
            0,
            0
           ],
           [
            0,
            0,
            0
           ],
           [
            0,
            0,
            0
           ],
           [
            0,
            0,
            0
           ],
           [
            0,
            0,
            0
           ],
           [
            0,
            0,
            0
           ],
           [
            0,
            0,
            0
           ]
          ],
          [
           [
            0,
            0,
            0
           ],
           [
            0,
            0,
            0
           ],
           [
            0,
            0,
            0
           ],
           [
            0,
            0,
            0
           ],
           [
            0,
            0,
            0
           ],
           [
            0,
            0,
            0
           ],
           [
            0,
            0,
            0
           ],
           [
            255,
            220,
            0
           ],
           [
            0,
            0,
            0
           ],
           [
            0,
            0,
            0
           ],
           [
            0,
            0,
            0
           ],
           [
            0,
            0,
            0
           ],
           [
            0,
            0,
            0
           ],
           [
            0,
            0,
            0
           ],
           [
            0,
            0,
            0
           ],
           [
            0,
            0,
            0
           ],
           [
            0,
            0,
            0
           ],
           [
            0,
            0,
            0
           ],
           [
            0,
            0,
            0
           ],
           [
            0,
            0,
            0
           ],
           [
            0,
            0,
            0
           ],
           [
            0,
            0,
            0
           ],
           [
            0,
            0,
            0
           ],
           [
            0,
            0,
            0
           ],
           [
            0,
            0,
            0
           ],
           [
            0,
            0,
            0
           ],
           [
            0,
            0,
            0
           ],
           [
            0,
            0,
            0
           ]
          ],
          [
           [
            0,
            0,
            0
           ],
           [
            0,
            0,
            0
           ],
           [
            0,
            0,
            0
           ],
           [
            0,
            0,
            0
           ],
           [
            0,
            0,
            0
           ],
           [
            0,
            0,
            0
           ],
           [
            0,
            0,
            0
           ],
           [
            0,
            0,
            0
           ],
           [
            0,
            0,
            0
           ],
           [
            0,
            0,
            0
           ],
           [
            0,
            0,
            0
           ],
           [
            0,
            0,
            0
           ],
           [
            0,
            0,
            0
           ],
           [
            0,
            0,
            0
           ],
           [
            0,
            0,
            0
           ],
           [
            0,
            0,
            0
           ],
           [
            0,
            0,
            0
           ],
           [
            0,
            0,
            0
           ],
           [
            0,
            0,
            0
           ],
           [
            0,
            0,
            0
           ],
           [
            0,
            0,
            0
           ],
           [
            0,
            0,
            0
           ],
           [
            0,
            0,
            0
           ],
           [
            0,
            0,
            0
           ],
           [
            0,
            0,
            0
           ],
           [
            0,
            0,
            0
           ],
           [
            0,
            0,
            0
           ],
           [
            0,
            0,
            0
           ]
          ],
          [
           [
            0,
            0,
            0
           ],
           [
            0,
            0,
            0
           ],
           [
            0,
            0,
            0
           ],
           [
            0,
            0,
            0
           ],
           [
            0,
            0,
            0
           ],
           [
            0,
            0,
            0
           ],
           [
            0,
            0,
            0
           ],
           [
            0,
            0,
            0
           ],
           [
            0,
            0,
            0
           ],
           [
            0,
            0,
            0
           ],
           [
            0,
            0,
            0
           ],
           [
            0,
            0,
            0
           ],
           [
            0,
            0,
            0
           ],
           [
            0,
            0,
            0
           ],
           [
            0,
            0,
            0
           ],
           [
            0,
            0,
            0
           ],
           [
            0,
            0,
            0
           ],
           [
            0,
            0,
            0
           ],
           [
            0,
            0,
            0
           ],
           [
            0,
            0,
            0
           ],
           [
            0,
            0,
            0
           ],
           [
            0,
            0,
            0
           ],
           [
            0,
            0,
            0
           ],
           [
            0,
            0,
            0
           ],
           [
            0,
            0,
            0
           ],
           [
            0,
            0,
            0
           ],
           [
            0,
            0,
            0
           ],
           [
            0,
            0,
            0
           ]
          ],
          [
           [
            0,
            0,
            0
           ],
           [
            0,
            0,
            0
           ],
           [
            0,
            0,
            0
           ],
           [
            0,
            0,
            0
           ],
           [
            0,
            0,
            0
           ],
           [
            0,
            0,
            0
           ],
           [
            0,
            0,
            0
           ],
           [
            0,
            0,
            0
           ],
           [
            0,
            0,
            0
           ],
           [
            0,
            0,
            0
           ],
           [
            0,
            0,
            0
           ],
           [
            0,
            0,
            0
           ],
           [
            0,
            0,
            0
           ],
           [
            0,
            0,
            0
           ],
           [
            0,
            0,
            0
           ],
           [
            0,
            0,
            0
           ],
           [
            0,
            0,
            0
           ],
           [
            0,
            0,
            0
           ],
           [
            0,
            0,
            0
           ],
           [
            0,
            0,
            0
           ],
           [
            0,
            0,
            0
           ],
           [
            0,
            0,
            0
           ],
           [
            0,
            0,
            0
           ],
           [
            0,
            0,
            0
           ],
           [
            0,
            0,
            0
           ],
           [
            0,
            0,
            0
           ],
           [
            0,
            0,
            0
           ],
           [
            0,
            0,
            0
           ]
          ],
          [
           [
            0,
            0,
            0
           ],
           [
            0,
            0,
            0
           ],
           [
            0,
            0,
            0
           ],
           [
            0,
            0,
            0
           ],
           [
            0,
            0,
            0
           ],
           [
            0,
            0,
            0
           ],
           [
            0,
            0,
            0
           ],
           [
            0,
            0,
            0
           ],
           [
            0,
            0,
            0
           ],
           [
            0,
            0,
            0
           ],
           [
            0,
            0,
            0
           ],
           [
            0,
            0,
            0
           ],
           [
            0,
            0,
            0
           ],
           [
            0,
            0,
            0
           ],
           [
            0,
            0,
            0
           ],
           [
            0,
            0,
            0
           ],
           [
            0,
            0,
            0
           ],
           [
            0,
            0,
            0
           ],
           [
            0,
            0,
            0
           ],
           [
            0,
            0,
            0
           ],
           [
            0,
            0,
            0
           ],
           [
            0,
            0,
            0
           ],
           [
            0,
            0,
            0
           ],
           [
            0,
            0,
            0
           ],
           [
            0,
            0,
            0
           ],
           [
            0,
            0,
            0
           ],
           [
            0,
            0,
            0
           ],
           [
            0,
            0,
            0
           ]
          ],
          [
           [
            0,
            0,
            0
           ],
           [
            0,
            0,
            0
           ],
           [
            0,
            0,
            0
           ],
           [
            0,
            0,
            0
           ],
           [
            0,
            0,
            0
           ],
           [
            0,
            0,
            0
           ],
           [
            0,
            0,
            0
           ],
           [
            0,
            0,
            0
           ],
           [
            0,
            0,
            0
           ],
           [
            0,
            0,
            0
           ],
           [
            0,
            0,
            0
           ],
           [
            0,
            0,
            0
           ],
           [
            0,
            0,
            0
           ],
           [
            0,
            0,
            0
           ],
           [
            0,
            0,
            0
           ],
           [
            0,
            0,
            0
           ],
           [
            0,
            0,
            0
           ],
           [
            0,
            0,
            0
           ],
           [
            0,
            0,
            0
           ],
           [
            0,
            0,
            0
           ],
           [
            0,
            0,
            0
           ],
           [
            0,
            0,
            0
           ],
           [
            0,
            0,
            0
           ],
           [
            0,
            0,
            0
           ],
           [
            0,
            0,
            0
           ],
           [
            0,
            0,
            0
           ],
           [
            0,
            0,
            0
           ],
           [
            0,
            0,
            0
           ]
          ],
          [
           [
            0,
            0,
            0
           ],
           [
            0,
            0,
            0
           ],
           [
            0,
            0,
            0
           ],
           [
            0,
            0,
            0
           ],
           [
            0,
            0,
            0
           ],
           [
            0,
            0,
            0
           ],
           [
            0,
            0,
            0
           ],
           [
            0,
            0,
            0
           ],
           [
            0,
            0,
            0
           ],
           [
            0,
            0,
            0
           ],
           [
            0,
            0,
            0
           ],
           [
            0,
            0,
            0
           ],
           [
            0,
            0,
            0
           ],
           [
            255,
            220,
            0
           ],
           [
            0,
            0,
            0
           ],
           [
            0,
            0,
            0
           ],
           [
            0,
            0,
            0
           ],
           [
            0,
            0,
            0
           ],
           [
            0,
            0,
            0
           ],
           [
            0,
            0,
            0
           ],
           [
            0,
            0,
            0
           ],
           [
            0,
            0,
            0
           ],
           [
            0,
            0,
            0
           ],
           [
            0,
            0,
            0
           ],
           [
            0,
            0,
            0
           ],
           [
            0,
            0,
            0
           ],
           [
            0,
            0,
            0
           ],
           [
            0,
            0,
            0
           ]
          ],
          [
           [
            0,
            0,
            0
           ],
           [
            0,
            0,
            0
           ],
           [
            0,
            0,
            0
           ],
           [
            0,
            0,
            0
           ],
           [
            0,
            0,
            0
           ],
           [
            0,
            0,
            0
           ],
           [
            0,
            0,
            0
           ],
           [
            0,
            0,
            0
           ],
           [
            0,
            0,
            0
           ],
           [
            0,
            0,
            0
           ],
           [
            0,
            0,
            0
           ],
           [
            0,
            0,
            0
           ],
           [
            0,
            0,
            0
           ],
           [
            0,
            0,
            0
           ],
           [
            0,
            0,
            0
           ],
           [
            0,
            0,
            0
           ],
           [
            0,
            0,
            0
           ],
           [
            0,
            0,
            0
           ],
           [
            0,
            0,
            0
           ],
           [
            0,
            0,
            0
           ],
           [
            0,
            0,
            0
           ],
           [
            0,
            0,
            0
           ],
           [
            0,
            0,
            0
           ],
           [
            0,
            0,
            0
           ],
           [
            0,
            0,
            0
           ],
           [
            0,
            0,
            0
           ],
           [
            0,
            0,
            0
           ],
           [
            0,
            0,
            0
           ]
          ],
          [
           [
            0,
            0,
            0
           ],
           [
            0,
            0,
            0
           ],
           [
            0,
            0,
            0
           ],
           [
            0,
            0,
            0
           ],
           [
            0,
            0,
            0
           ],
           [
            0,
            0,
            0
           ],
           [
            0,
            0,
            0
           ],
           [
            0,
            0,
            0
           ],
           [
            0,
            0,
            0
           ],
           [
            0,
            0,
            0
           ],
           [
            0,
            0,
            0
           ],
           [
            0,
            0,
            0
           ],
           [
            0,
            0,
            0
           ],
           [
            0,
            0,
            0
           ],
           [
            0,
            0,
            0
           ],
           [
            0,
            0,
            0
           ],
           [
            0,
            0,
            0
           ],
           [
            0,
            0,
            0
           ],
           [
            0,
            0,
            0
           ],
           [
            0,
            0,
            0
           ],
           [
            0,
            0,
            0
           ],
           [
            0,
            0,
            0
           ],
           [
            0,
            0,
            0
           ],
           [
            0,
            0,
            0
           ],
           [
            0,
            0,
            0
           ],
           [
            0,
            0,
            0
           ],
           [
            0,
            0,
            0
           ],
           [
            0,
            0,
            0
           ]
          ],
          [
           [
            0,
            0,
            0
           ],
           [
            0,
            0,
            0
           ],
           [
            0,
            0,
            0
           ],
           [
            0,
            0,
            0
           ],
           [
            0,
            0,
            0
           ],
           [
            0,
            0,
            0
           ],
           [
            0,
            0,
            0
           ],
           [
            0,
            0,
            0
           ],
           [
            0,
            0,
            0
           ],
           [
            0,
            0,
            0
           ],
           [
            0,
            0,
            0
           ],
           [
            0,
            0,
            0
           ],
           [
            0,
            0,
            0
           ],
           [
            0,
            0,
            0
           ],
           [
            0,
            0,
            0
           ],
           [
            0,
            0,
            0
           ],
           [
            0,
            0,
            0
           ],
           [
            0,
            0,
            0
           ],
           [
            0,
            0,
            0
           ],
           [
            0,
            0,
            0
           ],
           [
            0,
            0,
            0
           ],
           [
            0,
            0,
            0
           ],
           [
            0,
            0,
            0
           ],
           [
            0,
            0,
            0
           ],
           [
            0,
            0,
            0
           ],
           [
            0,
            0,
            0
           ],
           [
            0,
            0,
            0
           ],
           [
            0,
            0,
            0
           ]
          ],
          [
           [
            0,
            0,
            0
           ],
           [
            0,
            0,
            0
           ],
           [
            0,
            0,
            0
           ],
           [
            0,
            0,
            0
           ],
           [
            0,
            0,
            0
           ],
           [
            0,
            0,
            0
           ],
           [
            0,
            0,
            0
           ],
           [
            0,
            0,
            0
           ],
           [
            0,
            0,
            0
           ],
           [
            0,
            0,
            0
           ],
           [
            0,
            0,
            0
           ],
           [
            0,
            0,
            0
           ],
           [
            0,
            0,
            0
           ],
           [
            0,
            0,
            0
           ],
           [
            0,
            0,
            0
           ],
           [
            0,
            0,
            0
           ],
           [
            0,
            0,
            0
           ],
           [
            0,
            0,
            0
           ],
           [
            0,
            0,
            0
           ],
           [
            0,
            0,
            0
           ],
           [
            0,
            0,
            0
           ],
           [
            0,
            0,
            0
           ],
           [
            0,
            0,
            0
           ],
           [
            0,
            0,
            0
           ],
           [
            0,
            0,
            0
           ],
           [
            0,
            0,
            0
           ],
           [
            0,
            0,
            0
           ],
           [
            0,
            0,
            0
           ]
          ],
          [
           [
            0,
            0,
            0
           ],
           [
            0,
            0,
            0
           ],
           [
            0,
            0,
            0
           ],
           [
            0,
            0,
            0
           ],
           [
            0,
            0,
            0
           ],
           [
            0,
            0,
            0
           ],
           [
            0,
            0,
            0
           ],
           [
            0,
            0,
            0
           ],
           [
            0,
            0,
            0
           ],
           [
            0,
            0,
            0
           ],
           [
            0,
            0,
            0
           ],
           [
            0,
            0,
            0
           ],
           [
            0,
            0,
            0
           ],
           [
            0,
            0,
            0
           ],
           [
            0,
            0,
            0
           ],
           [
            0,
            0,
            0
           ],
           [
            0,
            0,
            0
           ],
           [
            0,
            0,
            0
           ],
           [
            0,
            0,
            0
           ],
           [
            0,
            0,
            0
           ],
           [
            0,
            0,
            0
           ],
           [
            0,
            0,
            0
           ],
           [
            0,
            0,
            0
           ],
           [
            0,
            0,
            0
           ],
           [
            0,
            0,
            0
           ],
           [
            0,
            0,
            0
           ],
           [
            0,
            0,
            0
           ],
           [
            0,
            0,
            0
           ]
          ],
          [
           [
            0,
            0,
            0
           ],
           [
            0,
            0,
            0
           ],
           [
            0,
            0,
            0
           ],
           [
            0,
            0,
            0
           ],
           [
            0,
            0,
            0
           ],
           [
            0,
            0,
            0
           ],
           [
            0,
            0,
            0
           ],
           [
            0,
            0,
            0
           ],
           [
            0,
            0,
            0
           ],
           [
            0,
            0,
            0
           ],
           [
            0,
            0,
            0
           ],
           [
            0,
            0,
            0
           ],
           [
            0,
            0,
            0
           ],
           [
            0,
            0,
            0
           ],
           [
            0,
            0,
            0
           ],
           [
            0,
            0,
            0
           ],
           [
            0,
            0,
            0
           ],
           [
            0,
            0,
            0
           ],
           [
            0,
            0,
            0
           ],
           [
            255,
            220,
            0
           ],
           [
            0,
            0,
            0
           ],
           [
            0,
            0,
            0
           ],
           [
            0,
            0,
            0
           ],
           [
            0,
            0,
            0
           ],
           [
            0,
            0,
            0
           ],
           [
            0,
            0,
            0
           ],
           [
            0,
            0,
            0
           ],
           [
            0,
            0,
            0
           ]
          ],
          [
           [
            0,
            0,
            0
           ],
           [
            0,
            0,
            0
           ],
           [
            0,
            0,
            0
           ],
           [
            0,
            0,
            0
           ],
           [
            0,
            0,
            0
           ],
           [
            0,
            0,
            0
           ],
           [
            0,
            0,
            0
           ],
           [
            0,
            0,
            0
           ],
           [
            0,
            0,
            0
           ],
           [
            0,
            0,
            0
           ],
           [
            0,
            0,
            0
           ],
           [
            0,
            0,
            0
           ],
           [
            0,
            0,
            0
           ],
           [
            0,
            0,
            0
           ],
           [
            0,
            0,
            0
           ],
           [
            0,
            0,
            0
           ],
           [
            0,
            0,
            0
           ],
           [
            0,
            0,
            0
           ],
           [
            0,
            0,
            0
           ],
           [
            0,
            0,
            0
           ],
           [
            0,
            0,
            0
           ],
           [
            0,
            0,
            0
           ],
           [
            0,
            0,
            0
           ],
           [
            0,
            0,
            0
           ],
           [
            0,
            0,
            0
           ],
           [
            0,
            0,
            0
           ],
           [
            0,
            0,
            0
           ],
           [
            0,
            0,
            0
           ]
          ],
          [
           [
            0,
            0,
            0
           ],
           [
            0,
            0,
            0
           ],
           [
            0,
            0,
            0
           ],
           [
            0,
            0,
            0
           ],
           [
            0,
            0,
            0
           ],
           [
            0,
            0,
            0
           ],
           [
            0,
            0,
            0
           ],
           [
            0,
            0,
            0
           ],
           [
            0,
            0,
            0
           ],
           [
            0,
            0,
            0
           ],
           [
            0,
            0,
            0
           ],
           [
            0,
            0,
            0
           ],
           [
            0,
            0,
            0
           ],
           [
            0,
            0,
            0
           ],
           [
            0,
            0,
            0
           ],
           [
            0,
            0,
            0
           ],
           [
            0,
            0,
            0
           ],
           [
            0,
            0,
            0
           ],
           [
            0,
            0,
            0
           ],
           [
            0,
            0,
            0
           ],
           [
            0,
            0,
            0
           ],
           [
            0,
            0,
            0
           ],
           [
            0,
            0,
            0
           ],
           [
            0,
            0,
            0
           ],
           [
            0,
            0,
            0
           ],
           [
            0,
            0,
            0
           ],
           [
            0,
            0,
            0
           ],
           [
            0,
            0,
            0
           ]
          ],
          [
           [
            0,
            0,
            0
           ],
           [
            0,
            0,
            0
           ],
           [
            0,
            0,
            0
           ],
           [
            0,
            0,
            0
           ],
           [
            0,
            0,
            0
           ],
           [
            0,
            0,
            0
           ],
           [
            0,
            0,
            0
           ],
           [
            0,
            0,
            0
           ],
           [
            0,
            0,
            0
           ],
           [
            0,
            0,
            0
           ],
           [
            0,
            0,
            0
           ],
           [
            0,
            0,
            0
           ],
           [
            0,
            0,
            0
           ],
           [
            0,
            0,
            0
           ],
           [
            0,
            0,
            0
           ],
           [
            0,
            0,
            0
           ],
           [
            0,
            0,
            0
           ],
           [
            0,
            0,
            0
           ],
           [
            0,
            0,
            0
           ],
           [
            0,
            0,
            0
           ],
           [
            0,
            0,
            0
           ],
           [
            0,
            0,
            0
           ],
           [
            0,
            0,
            0
           ],
           [
            0,
            0,
            0
           ],
           [
            0,
            0,
            0
           ],
           [
            0,
            0,
            0
           ],
           [
            0,
            0,
            0
           ],
           [
            0,
            0,
            0
           ]
          ]
         ]
        },
        {
         "type": "image",
         "xaxis": "x2",
         "yaxis": "y2",
         "z": [
          [
           [
            255,
            220,
            0
           ],
           [
            255,
            220,
            0
           ],
           [
            255,
            220,
            0
           ],
           [
            255,
            220,
            0
           ],
           [
            255,
            220,
            0
           ],
           [
            255,
            220,
            0
           ],
           [
            255,
            220,
            0
           ],
           [
            255,
            220,
            0
           ],
           [
            255,
            220,
            0
           ],
           [
            255,
            220,
            0
           ],
           [
            255,
            220,
            0
           ],
           [
            255,
            220,
            0
           ],
           [
            255,
            220,
            0
           ],
           [
            255,
            220,
            0
           ],
           [
            255,
            220,
            0
           ],
           [
            255,
            220,
            0
           ],
           [
            255,
            220,
            0
           ],
           [
            255,
            220,
            0
           ],
           [
            255,
            220,
            0
           ],
           [
            255,
            220,
            0
           ],
           [
            255,
            220,
            0
           ],
           [
            255,
            220,
            0
           ],
           [
            255,
            220,
            0
           ],
           [
            255,
            220,
            0
           ],
           [
            255,
            220,
            0
           ],
           [
            255,
            220,
            0
           ],
           [
            255,
            220,
            0
           ],
           [
            255,
            220,
            0
           ]
          ],
          [
           [
            0,
            0,
            0
           ],
           [
            0,
            0,
            0
           ],
           [
            0,
            0,
            0
           ],
           [
            0,
            0,
            0
           ],
           [
            0,
            0,
            0
           ],
           [
            0,
            0,
            0
           ],
           [
            0,
            0,
            0
           ],
           [
            0,
            0,
            0
           ],
           [
            0,
            0,
            0
           ],
           [
            0,
            0,
            0
           ],
           [
            0,
            0,
            0
           ],
           [
            0,
            0,
            0
           ],
           [
            0,
            0,
            0
           ],
           [
            0,
            0,
            0
           ],
           [
            0,
            0,
            0
           ],
           [
            0,
            0,
            0
           ],
           [
            0,
            0,
            0
           ],
           [
            0,
            0,
            0
           ],
           [
            0,
            0,
            0
           ],
           [
            0,
            0,
            0
           ],
           [
            0,
            0,
            0
           ],
           [
            0,
            0,
            0
           ],
           [
            0,
            0,
            0
           ],
           [
            0,
            0,
            0
           ],
           [
            0,
            0,
            0
           ],
           [
            0,
            0,
            0
           ],
           [
            0,
            0,
            0
           ],
           [
            0,
            0,
            0
           ]
          ],
          [
           [
            0,
            0,
            0
           ],
           [
            0,
            0,
            0
           ],
           [
            0,
            0,
            0
           ],
           [
            0,
            0,
            0
           ],
           [
            0,
            0,
            0
           ],
           [
            0,
            0,
            0
           ],
           [
            0,
            0,
            0
           ],
           [
            0,
            0,
            0
           ],
           [
            0,
            0,
            0
           ],
           [
            0,
            0,
            0
           ],
           [
            0,
            0,
            0
           ],
           [
            0,
            0,
            0
           ],
           [
            0,
            0,
            0
           ],
           [
            0,
            0,
            0
           ],
           [
            0,
            0,
            0
           ],
           [
            0,
            0,
            0
           ],
           [
            0,
            0,
            0
           ],
           [
            0,
            0,
            0
           ],
           [
            0,
            0,
            0
           ],
           [
            0,
            0,
            0
           ],
           [
            0,
            0,
            0
           ],
           [
            0,
            0,
            0
           ],
           [
            0,
            0,
            0
           ],
           [
            0,
            0,
            0
           ],
           [
            0,
            0,
            0
           ],
           [
            0,
            0,
            0
           ],
           [
            0,
            0,
            0
           ],
           [
            0,
            0,
            0
           ]
          ],
          [
           [
            0,
            0,
            0
           ],
           [
            0,
            0,
            0
           ],
           [
            0,
            0,
            0
           ],
           [
            0,
            0,
            0
           ],
           [
            0,
            0,
            0
           ],
           [
            0,
            0,
            0
           ],
           [
            0,
            0,
            0
           ],
           [
            0,
            0,
            0
           ],
           [
            0,
            0,
            0
           ],
           [
            0,
            0,
            0
           ],
           [
            0,
            0,
            0
           ],
           [
            0,
            0,
            0
           ],
           [
            0,
            0,
            0
           ],
           [
            0,
            0,
            0
           ],
           [
            0,
            0,
            0
           ],
           [
            0,
            0,
            0
           ],
           [
            0,
            0,
            0
           ],
           [
            0,
            0,
            0
           ],
           [
            0,
            0,
            0
           ],
           [
            0,
            0,
            0
           ],
           [
            0,
            0,
            0
           ],
           [
            0,
            0,
            0
           ],
           [
            0,
            0,
            0
           ],
           [
            0,
            0,
            0
           ],
           [
            0,
            0,
            0
           ],
           [
            0,
            0,
            0
           ],
           [
            0,
            0,
            0
           ],
           [
            0,
            0,
            0
           ]
          ],
          [
           [
            0,
            0,
            0
           ],
           [
            0,
            0,
            0
           ],
           [
            0,
            0,
            0
           ],
           [
            0,
            0,
            0
           ],
           [
            0,
            0,
            0
           ],
           [
            0,
            0,
            0
           ],
           [
            0,
            0,
            0
           ],
           [
            0,
            0,
            0
           ],
           [
            0,
            0,
            0
           ],
           [
            0,
            0,
            0
           ],
           [
            0,
            0,
            0
           ],
           [
            0,
            0,
            0
           ],
           [
            0,
            0,
            0
           ],
           [
            0,
            0,
            0
           ],
           [
            0,
            0,
            0
           ],
           [
            0,
            0,
            0
           ],
           [
            0,
            0,
            0
           ],
           [
            0,
            0,
            0
           ],
           [
            0,
            0,
            0
           ],
           [
            0,
            0,
            0
           ],
           [
            0,
            0,
            0
           ],
           [
            0,
            0,
            0
           ],
           [
            0,
            0,
            0
           ],
           [
            0,
            0,
            0
           ],
           [
            0,
            0,
            0
           ],
           [
            0,
            0,
            0
           ],
           [
            0,
            0,
            0
           ],
           [
            0,
            0,
            0
           ]
          ],
          [
           [
            0,
            0,
            0
           ],
           [
            0,
            0,
            0
           ],
           [
            0,
            0,
            0
           ],
           [
            0,
            0,
            0
           ],
           [
            0,
            0,
            0
           ],
           [
            0,
            0,
            0
           ],
           [
            0,
            0,
            0
           ],
           [
            0,
            0,
            0
           ],
           [
            0,
            0,
            0
           ],
           [
            0,
            0,
            0
           ],
           [
            0,
            0,
            0
           ],
           [
            0,
            0,
            0
           ],
           [
            0,
            0,
            0
           ],
           [
            0,
            0,
            0
           ],
           [
            0,
            0,
            0
           ],
           [
            0,
            0,
            0
           ],
           [
            0,
            0,
            0
           ],
           [
            0,
            0,
            0
           ],
           [
            0,
            0,
            0
           ],
           [
            0,
            0,
            0
           ],
           [
            0,
            0,
            0
           ],
           [
            0,
            0,
            0
           ],
           [
            0,
            0,
            0
           ],
           [
            0,
            0,
            0
           ],
           [
            0,
            0,
            0
           ],
           [
            0,
            0,
            0
           ],
           [
            0,
            0,
            0
           ],
           [
            0,
            0,
            0
           ]
          ],
          [
           [
            0,
            0,
            0
           ],
           [
            255,
            220,
            0
           ],
           [
            255,
            220,
            0
           ],
           [
            255,
            220,
            0
           ],
           [
            255,
            220,
            0
           ],
           [
            255,
            220,
            0
           ],
           [
            255,
            220,
            0
           ],
           [
            255,
            220,
            0
           ],
           [
            255,
            220,
            0
           ],
           [
            255,
            220,
            0
           ],
           [
            255,
            220,
            0
           ],
           [
            255,
            220,
            0
           ],
           [
            255,
            220,
            0
           ],
           [
            255,
            220,
            0
           ],
           [
            255,
            220,
            0
           ],
           [
            255,
            220,
            0
           ],
           [
            255,
            220,
            0
           ],
           [
            255,
            220,
            0
           ],
           [
            255,
            220,
            0
           ],
           [
            255,
            220,
            0
           ],
           [
            255,
            220,
            0
           ],
           [
            255,
            220,
            0
           ],
           [
            255,
            220,
            0
           ],
           [
            255,
            220,
            0
           ],
           [
            255,
            220,
            0
           ],
           [
            255,
            220,
            0
           ],
           [
            0,
            0,
            0
           ],
           [
            0,
            0,
            0
           ]
          ],
          [
           [
            0,
            0,
            0
           ],
           [
            255,
            220,
            0
           ],
           [
            0,
            0,
            0
           ],
           [
            0,
            0,
            0
           ],
           [
            0,
            0,
            0
           ],
           [
            0,
            0,
            0
           ],
           [
            0,
            0,
            0
           ],
           [
            0,
            0,
            0
           ],
           [
            0,
            0,
            0
           ],
           [
            0,
            0,
            0
           ],
           [
            0,
            0,
            0
           ],
           [
            0,
            0,
            0
           ],
           [
            0,
            0,
            0
           ],
           [
            0,
            0,
            0
           ],
           [
            0,
            0,
            0
           ],
           [
            0,
            0,
            0
           ],
           [
            0,
            0,
            0
           ],
           [
            0,
            0,
            0
           ],
           [
            0,
            0,
            0
           ],
           [
            0,
            0,
            0
           ],
           [
            0,
            0,
            0
           ],
           [
            0,
            0,
            0
           ],
           [
            0,
            0,
            0
           ],
           [
            0,
            0,
            0
           ],
           [
            0,
            0,
            0
           ],
           [
            255,
            220,
            0
           ],
           [
            0,
            0,
            0
           ],
           [
            0,
            0,
            0
           ]
          ],
          [
           [
            0,
            0,
            0
           ],
           [
            255,
            220,
            0
           ],
           [
            0,
            0,
            0
           ],
           [
            0,
            0,
            0
           ],
           [
            0,
            0,
            0
           ],
           [
            0,
            0,
            0
           ],
           [
            0,
            0,
            0
           ],
           [
            0,
            0,
            0
           ],
           [
            0,
            0,
            0
           ],
           [
            0,
            0,
            0
           ],
           [
            0,
            0,
            0
           ],
           [
            0,
            0,
            0
           ],
           [
            0,
            0,
            0
           ],
           [
            0,
            0,
            0
           ],
           [
            0,
            0,
            0
           ],
           [
            0,
            0,
            0
           ],
           [
            0,
            0,
            0
           ],
           [
            0,
            0,
            0
           ],
           [
            0,
            0,
            0
           ],
           [
            0,
            0,
            0
           ],
           [
            0,
            0,
            0
           ],
           [
            0,
            0,
            0
           ],
           [
            0,
            0,
            0
           ],
           [
            0,
            0,
            0
           ],
           [
            0,
            0,
            0
           ],
           [
            255,
            220,
            0
           ],
           [
            0,
            0,
            0
           ],
           [
            0,
            0,
            0
           ]
          ],
          [
           [
            0,
            0,
            0
           ],
           [
            255,
            220,
            0
           ],
           [
            0,
            0,
            0
           ],
           [
            0,
            0,
            0
           ],
           [
            0,
            0,
            0
           ],
           [
            0,
            0,
            0
           ],
           [
            0,
            0,
            0
           ],
           [
            0,
            0,
            0
           ],
           [
            0,
            0,
            0
           ],
           [
            0,
            0,
            0
           ],
           [
            0,
            0,
            0
           ],
           [
            0,
            0,
            0
           ],
           [
            0,
            0,
            0
           ],
           [
            0,
            0,
            0
           ],
           [
            0,
            0,
            0
           ],
           [
            0,
            0,
            0
           ],
           [
            0,
            0,
            0
           ],
           [
            0,
            0,
            0
           ],
           [
            0,
            0,
            0
           ],
           [
            0,
            0,
            0
           ],
           [
            0,
            0,
            0
           ],
           [
            0,
            0,
            0
           ],
           [
            0,
            0,
            0
           ],
           [
            0,
            0,
            0
           ],
           [
            0,
            0,
            0
           ],
           [
            255,
            220,
            0
           ],
           [
            0,
            0,
            0
           ],
           [
            0,
            0,
            0
           ]
          ],
          [
           [
            0,
            0,
            0
           ],
           [
            255,
            220,
            0
           ],
           [
            0,
            0,
            0
           ],
           [
            0,
            0,
            0
           ],
           [
            0,
            0,
            0
           ],
           [
            0,
            0,
            0
           ],
           [
            0,
            0,
            0
           ],
           [
            0,
            0,
            0
           ],
           [
            0,
            0,
            0
           ],
           [
            0,
            0,
            0
           ],
           [
            0,
            0,
            0
           ],
           [
            0,
            0,
            0
           ],
           [
            0,
            0,
            0
           ],
           [
            0,
            0,
            0
           ],
           [
            0,
            0,
            0
           ],
           [
            0,
            0,
            0
           ],
           [
            0,
            0,
            0
           ],
           [
            0,
            0,
            0
           ],
           [
            0,
            0,
            0
           ],
           [
            0,
            0,
            0
           ],
           [
            0,
            0,
            0
           ],
           [
            0,
            0,
            0
           ],
           [
            0,
            0,
            0
           ],
           [
            0,
            0,
            0
           ],
           [
            0,
            0,
            0
           ],
           [
            255,
            220,
            0
           ],
           [
            0,
            0,
            0
           ],
           [
            0,
            0,
            0
           ]
          ],
          [
           [
            0,
            0,
            0
           ],
           [
            255,
            220,
            0
           ],
           [
            0,
            0,
            0
           ],
           [
            0,
            0,
            0
           ],
           [
            0,
            0,
            0
           ],
           [
            0,
            0,
            0
           ],
           [
            0,
            0,
            0
           ],
           [
            0,
            0,
            0
           ],
           [
            0,
            0,
            0
           ],
           [
            0,
            0,
            0
           ],
           [
            0,
            0,
            0
           ],
           [
            0,
            0,
            0
           ],
           [
            0,
            0,
            0
           ],
           [
            0,
            0,
            0
           ],
           [
            0,
            0,
            0
           ],
           [
            0,
            0,
            0
           ],
           [
            0,
            0,
            0
           ],
           [
            0,
            0,
            0
           ],
           [
            0,
            0,
            0
           ],
           [
            0,
            0,
            0
           ],
           [
            0,
            0,
            0
           ],
           [
            0,
            0,
            0
           ],
           [
            0,
            0,
            0
           ],
           [
            0,
            0,
            0
           ],
           [
            0,
            0,
            0
           ],
           [
            255,
            220,
            0
           ],
           [
            0,
            0,
            0
           ],
           [
            0,
            0,
            0
           ]
          ],
          [
           [
            0,
            0,
            0
           ],
           [
            255,
            220,
            0
           ],
           [
            0,
            0,
            0
           ],
           [
            0,
            0,
            0
           ],
           [
            0,
            0,
            0
           ],
           [
            0,
            0,
            0
           ],
           [
            0,
            0,
            0
           ],
           [
            255,
            220,
            0
           ],
           [
            255,
            220,
            0
           ],
           [
            255,
            220,
            0
           ],
           [
            255,
            220,
            0
           ],
           [
            255,
            220,
            0
           ],
           [
            255,
            220,
            0
           ],
           [
            255,
            220,
            0
           ],
           [
            255,
            220,
            0
           ],
           [
            255,
            220,
            0
           ],
           [
            255,
            220,
            0
           ],
           [
            255,
            220,
            0
           ],
           [
            255,
            220,
            0
           ],
           [
            255,
            220,
            0
           ],
           [
            0,
            0,
            0
           ],
           [
            0,
            0,
            0
           ],
           [
            0,
            0,
            0
           ],
           [
            0,
            0,
            0
           ],
           [
            0,
            0,
            0
           ],
           [
            255,
            220,
            0
           ],
           [
            0,
            0,
            0
           ],
           [
            0,
            0,
            0
           ]
          ],
          [
           [
            0,
            0,
            0
           ],
           [
            255,
            220,
            0
           ],
           [
            0,
            0,
            0
           ],
           [
            0,
            0,
            0
           ],
           [
            0,
            0,
            0
           ],
           [
            0,
            0,
            0
           ],
           [
            0,
            0,
            0
           ],
           [
            255,
            220,
            0
           ],
           [
            0,
            0,
            0
           ],
           [
            0,
            0,
            0
           ],
           [
            0,
            0,
            0
           ],
           [
            0,
            0,
            0
           ],
           [
            0,
            0,
            0
           ],
           [
            0,
            0,
            0
           ],
           [
            0,
            0,
            0
           ],
           [
            0,
            0,
            0
           ],
           [
            0,
            0,
            0
           ],
           [
            0,
            0,
            0
           ],
           [
            0,
            0,
            0
           ],
           [
            255,
            220,
            0
           ],
           [
            0,
            0,
            0
           ],
           [
            0,
            0,
            0
           ],
           [
            0,
            0,
            0
           ],
           [
            0,
            0,
            0
           ],
           [
            0,
            0,
            0
           ],
           [
            255,
            220,
            0
           ],
           [
            0,
            0,
            0
           ],
           [
            0,
            0,
            0
           ]
          ],
          [
           [
            0,
            0,
            0
           ],
           [
            255,
            220,
            0
           ],
           [
            0,
            0,
            0
           ],
           [
            0,
            0,
            0
           ],
           [
            0,
            0,
            0
           ],
           [
            0,
            0,
            0
           ],
           [
            0,
            0,
            0
           ],
           [
            255,
            220,
            0
           ],
           [
            0,
            0,
            0
           ],
           [
            0,
            0,
            0
           ],
           [
            0,
            0,
            0
           ],
           [
            0,
            0,
            0
           ],
           [
            0,
            0,
            0
           ],
           [
            0,
            0,
            0
           ],
           [
            0,
            0,
            0
           ],
           [
            0,
            0,
            0
           ],
           [
            0,
            0,
            0
           ],
           [
            0,
            0,
            0
           ],
           [
            0,
            0,
            0
           ],
           [
            255,
            220,
            0
           ],
           [
            0,
            0,
            0
           ],
           [
            0,
            0,
            0
           ],
           [
            0,
            0,
            0
           ],
           [
            0,
            0,
            0
           ],
           [
            0,
            0,
            0
           ],
           [
            255,
            220,
            0
           ],
           [
            0,
            0,
            0
           ],
           [
            0,
            0,
            0
           ]
          ],
          [
           [
            0,
            0,
            0
           ],
           [
            255,
            220,
            0
           ],
           [
            0,
            0,
            0
           ],
           [
            0,
            0,
            0
           ],
           [
            0,
            0,
            0
           ],
           [
            0,
            0,
            0
           ],
           [
            0,
            0,
            0
           ],
           [
            255,
            220,
            0
           ],
           [
            0,
            0,
            0
           ],
           [
            0,
            0,
            0
           ],
           [
            0,
            0,
            0
           ],
           [
            0,
            0,
            0
           ],
           [
            0,
            0,
            0
           ],
           [
            0,
            0,
            0
           ],
           [
            0,
            0,
            0
           ],
           [
            0,
            0,
            0
           ],
           [
            0,
            0,
            0
           ],
           [
            0,
            0,
            0
           ],
           [
            0,
            0,
            0
           ],
           [
            255,
            220,
            0
           ],
           [
            0,
            0,
            0
           ],
           [
            0,
            0,
            0
           ],
           [
            0,
            0,
            0
           ],
           [
            0,
            0,
            0
           ],
           [
            0,
            0,
            0
           ],
           [
            255,
            220,
            0
           ],
           [
            0,
            0,
            0
           ],
           [
            0,
            0,
            0
           ]
          ],
          [
           [
            0,
            0,
            0
           ],
           [
            255,
            220,
            0
           ],
           [
            0,
            0,
            0
           ],
           [
            0,
            0,
            0
           ],
           [
            0,
            0,
            0
           ],
           [
            0,
            0,
            0
           ],
           [
            0,
            0,
            0
           ],
           [
            255,
            220,
            0
           ],
           [
            0,
            0,
            0
           ],
           [
            0,
            0,
            0
           ],
           [
            0,
            0,
            0
           ],
           [
            0,
            0,
            0
           ],
           [
            0,
            0,
            0
           ],
           [
            0,
            0,
            0
           ],
           [
            0,
            0,
            0
           ],
           [
            0,
            0,
            0
           ],
           [
            0,
            0,
            0
           ],
           [
            0,
            0,
            0
           ],
           [
            0,
            0,
            0
           ],
           [
            255,
            220,
            0
           ],
           [
            0,
            0,
            0
           ],
           [
            0,
            0,
            0
           ],
           [
            0,
            0,
            0
           ],
           [
            0,
            0,
            0
           ],
           [
            0,
            0,
            0
           ],
           [
            255,
            220,
            0
           ],
           [
            0,
            0,
            0
           ],
           [
            0,
            0,
            0
           ]
          ],
          [
           [
            0,
            0,
            0
           ],
           [
            255,
            220,
            0
           ],
           [
            0,
            0,
            0
           ],
           [
            0,
            0,
            0
           ],
           [
            0,
            0,
            0
           ],
           [
            0,
            0,
            0
           ],
           [
            0,
            0,
            0
           ],
           [
            255,
            220,
            0
           ],
           [
            0,
            0,
            0
           ],
           [
            0,
            0,
            0
           ],
           [
            0,
            0,
            0
           ],
           [
            0,
            0,
            0
           ],
           [
            0,
            0,
            0
           ],
           [
            0,
            0,
            0
           ],
           [
            0,
            0,
            0
           ],
           [
            0,
            0,
            0
           ],
           [
            0,
            0,
            0
           ],
           [
            0,
            0,
            0
           ],
           [
            0,
            0,
            0
           ],
           [
            255,
            220,
            0
           ],
           [
            0,
            0,
            0
           ],
           [
            0,
            0,
            0
           ],
           [
            0,
            0,
            0
           ],
           [
            0,
            0,
            0
           ],
           [
            0,
            0,
            0
           ],
           [
            255,
            220,
            0
           ],
           [
            0,
            0,
            0
           ],
           [
            0,
            0,
            0
           ]
          ],
          [
           [
            0,
            0,
            0
           ],
           [
            255,
            220,
            0
           ],
           [
            0,
            0,
            0
           ],
           [
            0,
            0,
            0
           ],
           [
            0,
            0,
            0
           ],
           [
            0,
            0,
            0
           ],
           [
            0,
            0,
            0
           ],
           [
            255,
            220,
            0
           ],
           [
            0,
            0,
            0
           ],
           [
            0,
            0,
            0
           ],
           [
            0,
            0,
            0
           ],
           [
            0,
            0,
            0
           ],
           [
            0,
            0,
            0
           ],
           [
            255,
            220,
            0
           ],
           [
            0,
            0,
            0
           ],
           [
            0,
            0,
            0
           ],
           [
            0,
            0,
            0
           ],
           [
            0,
            0,
            0
           ],
           [
            0,
            0,
            0
           ],
           [
            255,
            220,
            0
           ],
           [
            0,
            0,
            0
           ],
           [
            0,
            0,
            0
           ],
           [
            0,
            0,
            0
           ],
           [
            0,
            0,
            0
           ],
           [
            0,
            0,
            0
           ],
           [
            255,
            220,
            0
           ],
           [
            0,
            0,
            0
           ],
           [
            0,
            0,
            0
           ]
          ],
          [
           [
            0,
            0,
            0
           ],
           [
            255,
            220,
            0
           ],
           [
            0,
            0,
            0
           ],
           [
            0,
            0,
            0
           ],
           [
            0,
            0,
            0
           ],
           [
            0,
            0,
            0
           ],
           [
            0,
            0,
            0
           ],
           [
            255,
            220,
            0
           ],
           [
            0,
            0,
            0
           ],
           [
            0,
            0,
            0
           ],
           [
            0,
            0,
            0
           ],
           [
            0,
            0,
            0
           ],
           [
            0,
            0,
            0
           ],
           [
            0,
            0,
            0
           ],
           [
            0,
            0,
            0
           ],
           [
            0,
            0,
            0
           ],
           [
            0,
            0,
            0
           ],
           [
            0,
            0,
            0
           ],
           [
            0,
            0,
            0
           ],
           [
            255,
            220,
            0
           ],
           [
            0,
            0,
            0
           ],
           [
            0,
            0,
            0
           ],
           [
            0,
            0,
            0
           ],
           [
            0,
            0,
            0
           ],
           [
            0,
            0,
            0
           ],
           [
            255,
            220,
            0
           ],
           [
            0,
            0,
            0
           ],
           [
            0,
            0,
            0
           ]
          ],
          [
           [
            0,
            0,
            0
           ],
           [
            255,
            220,
            0
           ],
           [
            0,
            0,
            0
           ],
           [
            0,
            0,
            0
           ],
           [
            0,
            0,
            0
           ],
           [
            0,
            0,
            0
           ],
           [
            0,
            0,
            0
           ],
           [
            255,
            220,
            0
           ],
           [
            0,
            0,
            0
           ],
           [
            0,
            0,
            0
           ],
           [
            0,
            0,
            0
           ],
           [
            0,
            0,
            0
           ],
           [
            0,
            0,
            0
           ],
           [
            0,
            0,
            0
           ],
           [
            0,
            0,
            0
           ],
           [
            0,
            0,
            0
           ],
           [
            0,
            0,
            0
           ],
           [
            0,
            0,
            0
           ],
           [
            0,
            0,
            0
           ],
           [
            255,
            220,
            0
           ],
           [
            0,
            0,
            0
           ],
           [
            0,
            0,
            0
           ],
           [
            0,
            0,
            0
           ],
           [
            0,
            0,
            0
           ],
           [
            0,
            0,
            0
           ],
           [
            255,
            220,
            0
           ],
           [
            0,
            0,
            0
           ],
           [
            0,
            0,
            0
           ]
          ],
          [
           [
            0,
            0,
            0
           ],
           [
            255,
            220,
            0
           ],
           [
            0,
            0,
            0
           ],
           [
            0,
            0,
            0
           ],
           [
            0,
            0,
            0
           ],
           [
            0,
            0,
            0
           ],
           [
            0,
            0,
            0
           ],
           [
            255,
            220,
            0
           ],
           [
            0,
            0,
            0
           ],
           [
            0,
            0,
            0
           ],
           [
            0,
            0,
            0
           ],
           [
            0,
            0,
            0
           ],
           [
            0,
            0,
            0
           ],
           [
            0,
            0,
            0
           ],
           [
            0,
            0,
            0
           ],
           [
            0,
            0,
            0
           ],
           [
            0,
            0,
            0
           ],
           [
            0,
            0,
            0
           ],
           [
            0,
            0,
            0
           ],
           [
            255,
            220,
            0
           ],
           [
            0,
            0,
            0
           ],
           [
            0,
            0,
            0
           ],
           [
            0,
            0,
            0
           ],
           [
            0,
            0,
            0
           ],
           [
            0,
            0,
            0
           ],
           [
            255,
            220,
            0
           ],
           [
            0,
            0,
            0
           ],
           [
            0,
            0,
            0
           ]
          ],
          [
           [
            0,
            0,
            0
           ],
           [
            255,
            220,
            0
           ],
           [
            0,
            0,
            0
           ],
           [
            0,
            0,
            0
           ],
           [
            0,
            0,
            0
           ],
           [
            0,
            0,
            0
           ],
           [
            0,
            0,
            0
           ],
           [
            255,
            220,
            0
           ],
           [
            0,
            0,
            0
           ],
           [
            0,
            0,
            0
           ],
           [
            0,
            0,
            0
           ],
           [
            0,
            0,
            0
           ],
           [
            0,
            0,
            0
           ],
           [
            0,
            0,
            0
           ],
           [
            0,
            0,
            0
           ],
           [
            0,
            0,
            0
           ],
           [
            0,
            0,
            0
           ],
           [
            0,
            0,
            0
           ],
           [
            0,
            0,
            0
           ],
           [
            255,
            220,
            0
           ],
           [
            0,
            0,
            0
           ],
           [
            0,
            0,
            0
           ],
           [
            0,
            0,
            0
           ],
           [
            0,
            0,
            0
           ],
           [
            0,
            0,
            0
           ],
           [
            255,
            220,
            0
           ],
           [
            0,
            0,
            0
           ],
           [
            0,
            0,
            0
           ]
          ],
          [
           [
            0,
            0,
            0
           ],
           [
            255,
            220,
            0
           ],
           [
            0,
            0,
            0
           ],
           [
            0,
            0,
            0
           ],
           [
            0,
            0,
            0
           ],
           [
            0,
            0,
            0
           ],
           [
            0,
            0,
            0
           ],
           [
            255,
            220,
            0
           ],
           [
            0,
            0,
            0
           ],
           [
            0,
            0,
            0
           ],
           [
            0,
            0,
            0
           ],
           [
            0,
            0,
            0
           ],
           [
            0,
            0,
            0
           ],
           [
            0,
            0,
            0
           ],
           [
            0,
            0,
            0
           ],
           [
            0,
            0,
            0
           ],
           [
            0,
            0,
            0
           ],
           [
            0,
            0,
            0
           ],
           [
            0,
            0,
            0
           ],
           [
            255,
            220,
            0
           ],
           [
            0,
            0,
            0
           ],
           [
            0,
            0,
            0
           ],
           [
            0,
            0,
            0
           ],
           [
            0,
            0,
            0
           ],
           [
            0,
            0,
            0
           ],
           [
            255,
            220,
            0
           ],
           [
            0,
            0,
            0
           ],
           [
            0,
            0,
            0
           ]
          ],
          [
           [
            0,
            0,
            0
           ],
           [
            255,
            220,
            0
           ],
           [
            0,
            0,
            0
           ],
           [
            0,
            0,
            0
           ],
           [
            0,
            0,
            0
           ],
           [
            0,
            0,
            0
           ],
           [
            0,
            0,
            0
           ],
           [
            255,
            220,
            0
           ],
           [
            255,
            220,
            0
           ],
           [
            255,
            220,
            0
           ],
           [
            255,
            220,
            0
           ],
           [
            255,
            220,
            0
           ],
           [
            255,
            220,
            0
           ],
           [
            255,
            220,
            0
           ],
           [
            255,
            220,
            0
           ],
           [
            255,
            220,
            0
           ],
           [
            255,
            220,
            0
           ],
           [
            255,
            220,
            0
           ],
           [
            255,
            220,
            0
           ],
           [
            255,
            220,
            0
           ],
           [
            0,
            0,
            0
           ],
           [
            0,
            0,
            0
           ],
           [
            0,
            0,
            0
           ],
           [
            0,
            0,
            0
           ],
           [
            0,
            0,
            0
           ],
           [
            255,
            220,
            0
           ],
           [
            0,
            0,
            0
           ],
           [
            0,
            0,
            0
           ]
          ],
          [
           [
            0,
            0,
            0
           ],
           [
            255,
            220,
            0
           ],
           [
            0,
            0,
            0
           ],
           [
            0,
            0,
            0
           ],
           [
            0,
            0,
            0
           ],
           [
            0,
            0,
            0
           ],
           [
            0,
            0,
            0
           ],
           [
            0,
            0,
            0
           ],
           [
            0,
            0,
            0
           ],
           [
            0,
            0,
            0
           ],
           [
            0,
            0,
            0
           ],
           [
            0,
            0,
            0
           ],
           [
            0,
            0,
            0
           ],
           [
            0,
            0,
            0
           ],
           [
            0,
            0,
            0
           ],
           [
            0,
            0,
            0
           ],
           [
            0,
            0,
            0
           ],
           [
            0,
            0,
            0
           ],
           [
            0,
            0,
            0
           ],
           [
            0,
            0,
            0
           ],
           [
            0,
            0,
            0
           ],
           [
            0,
            0,
            0
           ],
           [
            0,
            0,
            0
           ],
           [
            0,
            0,
            0
           ],
           [
            0,
            0,
            0
           ],
           [
            255,
            220,
            0
           ],
           [
            0,
            0,
            0
           ],
           [
            0,
            0,
            0
           ]
          ],
          [
           [
            0,
            0,
            0
           ],
           [
            255,
            220,
            0
           ],
           [
            0,
            0,
            0
           ],
           [
            0,
            0,
            0
           ],
           [
            0,
            0,
            0
           ],
           [
            0,
            0,
            0
           ],
           [
            0,
            0,
            0
           ],
           [
            0,
            0,
            0
           ],
           [
            0,
            0,
            0
           ],
           [
            0,
            0,
            0
           ],
           [
            0,
            0,
            0
           ],
           [
            0,
            0,
            0
           ],
           [
            0,
            0,
            0
           ],
           [
            0,
            0,
            0
           ],
           [
            0,
            0,
            0
           ],
           [
            0,
            0,
            0
           ],
           [
            0,
            0,
            0
           ],
           [
            0,
            0,
            0
           ],
           [
            0,
            0,
            0
           ],
           [
            0,
            0,
            0
           ],
           [
            0,
            0,
            0
           ],
           [
            0,
            0,
            0
           ],
           [
            0,
            0,
            0
           ],
           [
            0,
            0,
            0
           ],
           [
            0,
            0,
            0
           ],
           [
            255,
            220,
            0
           ],
           [
            0,
            0,
            0
           ],
           [
            0,
            0,
            0
           ]
          ],
          [
           [
            0,
            0,
            0
           ],
           [
            255,
            220,
            0
           ],
           [
            0,
            0,
            0
           ],
           [
            0,
            0,
            0
           ],
           [
            0,
            0,
            0
           ],
           [
            0,
            0,
            0
           ],
           [
            0,
            0,
            0
           ],
           [
            0,
            0,
            0
           ],
           [
            0,
            0,
            0
           ],
           [
            0,
            0,
            0
           ],
           [
            0,
            0,
            0
           ],
           [
            0,
            0,
            0
           ],
           [
            0,
            0,
            0
           ],
           [
            0,
            0,
            0
           ],
           [
            0,
            0,
            0
           ],
           [
            0,
            0,
            0
           ],
           [
            0,
            0,
            0
           ],
           [
            0,
            0,
            0
           ],
           [
            0,
            0,
            0
           ],
           [
            0,
            0,
            0
           ],
           [
            0,
            0,
            0
           ],
           [
            0,
            0,
            0
           ],
           [
            0,
            0,
            0
           ],
           [
            0,
            0,
            0
           ],
           [
            0,
            0,
            0
           ],
           [
            255,
            220,
            0
           ],
           [
            0,
            0,
            0
           ],
           [
            0,
            0,
            0
           ]
          ]
         ]
        }
       ],
       "layout": {
        "height": 400,
        "shapes": [
         {
          "line": {
           "color": "sienna",
           "width": 2
          },
          "type": "line",
          "x0": -0.5,
          "x1": 27.5,
          "xref": "x",
          "y0": -0.5,
          "y1": -0.5,
          "yref": "y"
         },
         {
          "line": {
           "color": "sienna",
           "width": 2
          },
          "type": "line",
          "x0": -0.5,
          "x1": 27.5,
          "xref": "x",
          "y0": 0.5,
          "y1": 0.5,
          "yref": "y"
         },
         {
          "line": {
           "color": "sienna",
           "width": 2
          },
          "type": "line",
          "x0": -0.5,
          "x1": 27.5,
          "xref": "x",
          "y0": 1.5,
          "y1": 1.5,
          "yref": "y"
         },
         {
          "line": {
           "color": "sienna",
           "width": 2
          },
          "type": "line",
          "x0": -0.5,
          "x1": 27.5,
          "xref": "x",
          "y0": 2.5,
          "y1": 2.5,
          "yref": "y"
         },
         {
          "line": {
           "color": "sienna",
           "width": 2
          },
          "type": "line",
          "x0": -0.5,
          "x1": 27.5,
          "xref": "x",
          "y0": 3.5,
          "y1": 3.5,
          "yref": "y"
         },
         {
          "line": {
           "color": "sienna",
           "width": 2
          },
          "type": "line",
          "x0": -0.5,
          "x1": 27.5,
          "xref": "x",
          "y0": 4.5,
          "y1": 4.5,
          "yref": "y"
         },
         {
          "line": {
           "color": "sienna",
           "width": 2
          },
          "type": "line",
          "x0": -0.5,
          "x1": 27.5,
          "xref": "x",
          "y0": 5.5,
          "y1": 5.5,
          "yref": "y"
         },
         {
          "line": {
           "color": "sienna",
           "width": 2
          },
          "type": "line",
          "x0": -0.5,
          "x1": 27.5,
          "xref": "x",
          "y0": 6.5,
          "y1": 6.5,
          "yref": "y"
         },
         {
          "line": {
           "color": "sienna",
           "width": 2
          },
          "type": "line",
          "x0": -0.5,
          "x1": 27.5,
          "xref": "x",
          "y0": 7.5,
          "y1": 7.5,
          "yref": "y"
         },
         {
          "line": {
           "color": "sienna",
           "width": 2
          },
          "type": "line",
          "x0": -0.5,
          "x1": 27.5,
          "xref": "x",
          "y0": 8.5,
          "y1": 8.5,
          "yref": "y"
         },
         {
          "line": {
           "color": "sienna",
           "width": 2
          },
          "type": "line",
          "x0": -0.5,
          "x1": 27.5,
          "xref": "x",
          "y0": 9.5,
          "y1": 9.5,
          "yref": "y"
         },
         {
          "line": {
           "color": "sienna",
           "width": 2
          },
          "type": "line",
          "x0": -0.5,
          "x1": 27.5,
          "xref": "x",
          "y0": 10.5,
          "y1": 10.5,
          "yref": "y"
         },
         {
          "line": {
           "color": "sienna",
           "width": 2
          },
          "type": "line",
          "x0": -0.5,
          "x1": 27.5,
          "xref": "x",
          "y0": 11.5,
          "y1": 11.5,
          "yref": "y"
         },
         {
          "line": {
           "color": "sienna",
           "width": 2
          },
          "type": "line",
          "x0": -0.5,
          "x1": 27.5,
          "xref": "x",
          "y0": 12.5,
          "y1": 12.5,
          "yref": "y"
         },
         {
          "line": {
           "color": "sienna",
           "width": 2
          },
          "type": "line",
          "x0": -0.5,
          "x1": 27.5,
          "xref": "x",
          "y0": 13.5,
          "y1": 13.5,
          "yref": "y"
         },
         {
          "line": {
           "color": "sienna",
           "width": 2
          },
          "type": "line",
          "x0": -0.5,
          "x1": 27.5,
          "xref": "x",
          "y0": 14.5,
          "y1": 14.5,
          "yref": "y"
         },
         {
          "line": {
           "color": "sienna",
           "width": 2
          },
          "type": "line",
          "x0": -0.5,
          "x1": 27.5,
          "xref": "x",
          "y0": 15.5,
          "y1": 15.5,
          "yref": "y"
         },
         {
          "line": {
           "color": "sienna",
           "width": 2
          },
          "type": "line",
          "x0": -0.5,
          "x1": 27.5,
          "xref": "x",
          "y0": 16.5,
          "y1": 16.5,
          "yref": "y"
         },
         {
          "line": {
           "color": "sienna",
           "width": 2
          },
          "type": "line",
          "x0": -0.5,
          "x1": 27.5,
          "xref": "x",
          "y0": 17.5,
          "y1": 17.5,
          "yref": "y"
         },
         {
          "line": {
           "color": "sienna",
           "width": 2
          },
          "type": "line",
          "x0": -0.5,
          "x1": 27.5,
          "xref": "x",
          "y0": 18.5,
          "y1": 18.5,
          "yref": "y"
         },
         {
          "line": {
           "color": "sienna",
           "width": 2
          },
          "type": "line",
          "x0": -0.5,
          "x1": 27.5,
          "xref": "x",
          "y0": 19.5,
          "y1": 19.5,
          "yref": "y"
         },
         {
          "line": {
           "color": "sienna",
           "width": 2
          },
          "type": "line",
          "x0": -0.5,
          "x1": 27.5,
          "xref": "x",
          "y0": 20.5,
          "y1": 20.5,
          "yref": "y"
         },
         {
          "line": {
           "color": "sienna",
           "width": 2
          },
          "type": "line",
          "x0": -0.5,
          "x1": 27.5,
          "xref": "x",
          "y0": 21.5,
          "y1": 21.5,
          "yref": "y"
         },
         {
          "line": {
           "color": "sienna",
           "width": 2
          },
          "type": "line",
          "x0": -0.5,
          "x1": 27.5,
          "xref": "x",
          "y0": 22.5,
          "y1": 22.5,
          "yref": "y"
         },
         {
          "line": {
           "color": "sienna",
           "width": 2
          },
          "type": "line",
          "x0": -0.5,
          "x1": 27.5,
          "xref": "x",
          "y0": 23.5,
          "y1": 23.5,
          "yref": "y"
         },
         {
          "line": {
           "color": "sienna",
           "width": 2
          },
          "type": "line",
          "x0": -0.5,
          "x1": 27.5,
          "xref": "x",
          "y0": 24.5,
          "y1": 24.5,
          "yref": "y"
         },
         {
          "line": {
           "color": "sienna",
           "width": 2
          },
          "type": "line",
          "x0": -0.5,
          "x1": 27.5,
          "xref": "x",
          "y0": 25.5,
          "y1": 25.5,
          "yref": "y"
         },
         {
          "line": {
           "color": "sienna",
           "width": 2
          },
          "type": "line",
          "x0": -0.5,
          "x1": 27.5,
          "xref": "x",
          "y0": 26.5,
          "y1": 26.5,
          "yref": "y"
         },
         {
          "line": {
           "color": "sienna",
           "width": 2
          },
          "type": "line",
          "x0": -0.5,
          "x1": -0.5,
          "xref": "x",
          "y0": -0.5,
          "y1": 27.5,
          "yref": "y"
         },
         {
          "line": {
           "color": "sienna",
           "width": 2
          },
          "type": "line",
          "x0": 0.5,
          "x1": 0.5,
          "xref": "x",
          "y0": -0.5,
          "y1": 27.5,
          "yref": "y"
         },
         {
          "line": {
           "color": "sienna",
           "width": 2
          },
          "type": "line",
          "x0": 1.5,
          "x1": 1.5,
          "xref": "x",
          "y0": -0.5,
          "y1": 27.5,
          "yref": "y"
         },
         {
          "line": {
           "color": "sienna",
           "width": 2
          },
          "type": "line",
          "x0": 2.5,
          "x1": 2.5,
          "xref": "x",
          "y0": -0.5,
          "y1": 27.5,
          "yref": "y"
         },
         {
          "line": {
           "color": "sienna",
           "width": 2
          },
          "type": "line",
          "x0": 3.5,
          "x1": 3.5,
          "xref": "x",
          "y0": -0.5,
          "y1": 27.5,
          "yref": "y"
         },
         {
          "line": {
           "color": "sienna",
           "width": 2
          },
          "type": "line",
          "x0": 4.5,
          "x1": 4.5,
          "xref": "x",
          "y0": -0.5,
          "y1": 27.5,
          "yref": "y"
         },
         {
          "line": {
           "color": "sienna",
           "width": 2
          },
          "type": "line",
          "x0": 5.5,
          "x1": 5.5,
          "xref": "x",
          "y0": -0.5,
          "y1": 27.5,
          "yref": "y"
         },
         {
          "line": {
           "color": "sienna",
           "width": 2
          },
          "type": "line",
          "x0": 6.5,
          "x1": 6.5,
          "xref": "x",
          "y0": -0.5,
          "y1": 27.5,
          "yref": "y"
         },
         {
          "line": {
           "color": "sienna",
           "width": 2
          },
          "type": "line",
          "x0": 7.5,
          "x1": 7.5,
          "xref": "x",
          "y0": -0.5,
          "y1": 27.5,
          "yref": "y"
         },
         {
          "line": {
           "color": "sienna",
           "width": 2
          },
          "type": "line",
          "x0": 8.5,
          "x1": 8.5,
          "xref": "x",
          "y0": -0.5,
          "y1": 27.5,
          "yref": "y"
         },
         {
          "line": {
           "color": "sienna",
           "width": 2
          },
          "type": "line",
          "x0": 9.5,
          "x1": 9.5,
          "xref": "x",
          "y0": -0.5,
          "y1": 27.5,
          "yref": "y"
         },
         {
          "line": {
           "color": "sienna",
           "width": 2
          },
          "type": "line",
          "x0": 10.5,
          "x1": 10.5,
          "xref": "x",
          "y0": -0.5,
          "y1": 27.5,
          "yref": "y"
         },
         {
          "line": {
           "color": "sienna",
           "width": 2
          },
          "type": "line",
          "x0": 11.5,
          "x1": 11.5,
          "xref": "x",
          "y0": -0.5,
          "y1": 27.5,
          "yref": "y"
         },
         {
          "line": {
           "color": "sienna",
           "width": 2
          },
          "type": "line",
          "x0": 12.5,
          "x1": 12.5,
          "xref": "x",
          "y0": -0.5,
          "y1": 27.5,
          "yref": "y"
         },
         {
          "line": {
           "color": "sienna",
           "width": 2
          },
          "type": "line",
          "x0": 13.5,
          "x1": 13.5,
          "xref": "x",
          "y0": -0.5,
          "y1": 27.5,
          "yref": "y"
         },
         {
          "line": {
           "color": "sienna",
           "width": 2
          },
          "type": "line",
          "x0": 14.5,
          "x1": 14.5,
          "xref": "x",
          "y0": -0.5,
          "y1": 27.5,
          "yref": "y"
         },
         {
          "line": {
           "color": "sienna",
           "width": 2
          },
          "type": "line",
          "x0": 15.5,
          "x1": 15.5,
          "xref": "x",
          "y0": -0.5,
          "y1": 27.5,
          "yref": "y"
         },
         {
          "line": {
           "color": "sienna",
           "width": 2
          },
          "type": "line",
          "x0": 16.5,
          "x1": 16.5,
          "xref": "x",
          "y0": -0.5,
          "y1": 27.5,
          "yref": "y"
         },
         {
          "line": {
           "color": "sienna",
           "width": 2
          },
          "type": "line",
          "x0": 17.5,
          "x1": 17.5,
          "xref": "x",
          "y0": -0.5,
          "y1": 27.5,
          "yref": "y"
         },
         {
          "line": {
           "color": "sienna",
           "width": 2
          },
          "type": "line",
          "x0": 18.5,
          "x1": 18.5,
          "xref": "x",
          "y0": -0.5,
          "y1": 27.5,
          "yref": "y"
         },
         {
          "line": {
           "color": "sienna",
           "width": 2
          },
          "type": "line",
          "x0": 19.5,
          "x1": 19.5,
          "xref": "x",
          "y0": -0.5,
          "y1": 27.5,
          "yref": "y"
         },
         {
          "line": {
           "color": "sienna",
           "width": 2
          },
          "type": "line",
          "x0": 20.5,
          "x1": 20.5,
          "xref": "x",
          "y0": -0.5,
          "y1": 27.5,
          "yref": "y"
         },
         {
          "line": {
           "color": "sienna",
           "width": 2
          },
          "type": "line",
          "x0": 21.5,
          "x1": 21.5,
          "xref": "x",
          "y0": -0.5,
          "y1": 27.5,
          "yref": "y"
         },
         {
          "line": {
           "color": "sienna",
           "width": 2
          },
          "type": "line",
          "x0": 22.5,
          "x1": 22.5,
          "xref": "x",
          "y0": -0.5,
          "y1": 27.5,
          "yref": "y"
         },
         {
          "line": {
           "color": "sienna",
           "width": 2
          },
          "type": "line",
          "x0": 23.5,
          "x1": 23.5,
          "xref": "x",
          "y0": -0.5,
          "y1": 27.5,
          "yref": "y"
         },
         {
          "line": {
           "color": "sienna",
           "width": 2
          },
          "type": "line",
          "x0": 24.5,
          "x1": 24.5,
          "xref": "x",
          "y0": -0.5,
          "y1": 27.5,
          "yref": "y"
         },
         {
          "line": {
           "color": "sienna",
           "width": 2
          },
          "type": "line",
          "x0": 25.5,
          "x1": 25.5,
          "xref": "x",
          "y0": -0.5,
          "y1": 27.5,
          "yref": "y"
         },
         {
          "line": {
           "color": "sienna",
           "width": 2
          },
          "type": "line",
          "x0": 26.5,
          "x1": 26.5,
          "xref": "x",
          "y0": -0.5,
          "y1": 27.5,
          "yref": "y"
         },
         {
          "line": {
           "color": "sienna",
           "width": 2
          },
          "type": "line",
          "x0": -0.5,
          "x1": 27.5,
          "xref": "x2",
          "y0": -0.5,
          "y1": -0.5,
          "yref": "y2"
         },
         {
          "line": {
           "color": "sienna",
           "width": 2
          },
          "type": "line",
          "x0": -0.5,
          "x1": 27.5,
          "xref": "x2",
          "y0": 0.5,
          "y1": 0.5,
          "yref": "y2"
         },
         {
          "line": {
           "color": "sienna",
           "width": 2
          },
          "type": "line",
          "x0": -0.5,
          "x1": 27.5,
          "xref": "x2",
          "y0": 1.5,
          "y1": 1.5,
          "yref": "y2"
         },
         {
          "line": {
           "color": "sienna",
           "width": 2
          },
          "type": "line",
          "x0": -0.5,
          "x1": 27.5,
          "xref": "x2",
          "y0": 2.5,
          "y1": 2.5,
          "yref": "y2"
         },
         {
          "line": {
           "color": "sienna",
           "width": 2
          },
          "type": "line",
          "x0": -0.5,
          "x1": 27.5,
          "xref": "x2",
          "y0": 3.5,
          "y1": 3.5,
          "yref": "y2"
         },
         {
          "line": {
           "color": "sienna",
           "width": 2
          },
          "type": "line",
          "x0": -0.5,
          "x1": 27.5,
          "xref": "x2",
          "y0": 4.5,
          "y1": 4.5,
          "yref": "y2"
         },
         {
          "line": {
           "color": "sienna",
           "width": 2
          },
          "type": "line",
          "x0": -0.5,
          "x1": 27.5,
          "xref": "x2",
          "y0": 5.5,
          "y1": 5.5,
          "yref": "y2"
         },
         {
          "line": {
           "color": "sienna",
           "width": 2
          },
          "type": "line",
          "x0": -0.5,
          "x1": 27.5,
          "xref": "x2",
          "y0": 6.5,
          "y1": 6.5,
          "yref": "y2"
         },
         {
          "line": {
           "color": "sienna",
           "width": 2
          },
          "type": "line",
          "x0": -0.5,
          "x1": 27.5,
          "xref": "x2",
          "y0": 7.5,
          "y1": 7.5,
          "yref": "y2"
         },
         {
          "line": {
           "color": "sienna",
           "width": 2
          },
          "type": "line",
          "x0": -0.5,
          "x1": 27.5,
          "xref": "x2",
          "y0": 8.5,
          "y1": 8.5,
          "yref": "y2"
         },
         {
          "line": {
           "color": "sienna",
           "width": 2
          },
          "type": "line",
          "x0": -0.5,
          "x1": 27.5,
          "xref": "x2",
          "y0": 9.5,
          "y1": 9.5,
          "yref": "y2"
         },
         {
          "line": {
           "color": "sienna",
           "width": 2
          },
          "type": "line",
          "x0": -0.5,
          "x1": 27.5,
          "xref": "x2",
          "y0": 10.5,
          "y1": 10.5,
          "yref": "y2"
         },
         {
          "line": {
           "color": "sienna",
           "width": 2
          },
          "type": "line",
          "x0": -0.5,
          "x1": 27.5,
          "xref": "x2",
          "y0": 11.5,
          "y1": 11.5,
          "yref": "y2"
         },
         {
          "line": {
           "color": "sienna",
           "width": 2
          },
          "type": "line",
          "x0": -0.5,
          "x1": 27.5,
          "xref": "x2",
          "y0": 12.5,
          "y1": 12.5,
          "yref": "y2"
         },
         {
          "line": {
           "color": "sienna",
           "width": 2
          },
          "type": "line",
          "x0": -0.5,
          "x1": 27.5,
          "xref": "x2",
          "y0": 13.5,
          "y1": 13.5,
          "yref": "y2"
         },
         {
          "line": {
           "color": "sienna",
           "width": 2
          },
          "type": "line",
          "x0": -0.5,
          "x1": 27.5,
          "xref": "x2",
          "y0": 14.5,
          "y1": 14.5,
          "yref": "y2"
         },
         {
          "line": {
           "color": "sienna",
           "width": 2
          },
          "type": "line",
          "x0": -0.5,
          "x1": 27.5,
          "xref": "x2",
          "y0": 15.5,
          "y1": 15.5,
          "yref": "y2"
         },
         {
          "line": {
           "color": "sienna",
           "width": 2
          },
          "type": "line",
          "x0": -0.5,
          "x1": 27.5,
          "xref": "x2",
          "y0": 16.5,
          "y1": 16.5,
          "yref": "y2"
         },
         {
          "line": {
           "color": "sienna",
           "width": 2
          },
          "type": "line",
          "x0": -0.5,
          "x1": 27.5,
          "xref": "x2",
          "y0": 17.5,
          "y1": 17.5,
          "yref": "y2"
         },
         {
          "line": {
           "color": "sienna",
           "width": 2
          },
          "type": "line",
          "x0": -0.5,
          "x1": 27.5,
          "xref": "x2",
          "y0": 18.5,
          "y1": 18.5,
          "yref": "y2"
         },
         {
          "line": {
           "color": "sienna",
           "width": 2
          },
          "type": "line",
          "x0": -0.5,
          "x1": 27.5,
          "xref": "x2",
          "y0": 19.5,
          "y1": 19.5,
          "yref": "y2"
         },
         {
          "line": {
           "color": "sienna",
           "width": 2
          },
          "type": "line",
          "x0": -0.5,
          "x1": 27.5,
          "xref": "x2",
          "y0": 20.5,
          "y1": 20.5,
          "yref": "y2"
         },
         {
          "line": {
           "color": "sienna",
           "width": 2
          },
          "type": "line",
          "x0": -0.5,
          "x1": 27.5,
          "xref": "x2",
          "y0": 21.5,
          "y1": 21.5,
          "yref": "y2"
         },
         {
          "line": {
           "color": "sienna",
           "width": 2
          },
          "type": "line",
          "x0": -0.5,
          "x1": 27.5,
          "xref": "x2",
          "y0": 22.5,
          "y1": 22.5,
          "yref": "y2"
         },
         {
          "line": {
           "color": "sienna",
           "width": 2
          },
          "type": "line",
          "x0": -0.5,
          "x1": 27.5,
          "xref": "x2",
          "y0": 23.5,
          "y1": 23.5,
          "yref": "y2"
         },
         {
          "line": {
           "color": "sienna",
           "width": 2
          },
          "type": "line",
          "x0": -0.5,
          "x1": 27.5,
          "xref": "x2",
          "y0": 24.5,
          "y1": 24.5,
          "yref": "y2"
         },
         {
          "line": {
           "color": "sienna",
           "width": 2
          },
          "type": "line",
          "x0": -0.5,
          "x1": 27.5,
          "xref": "x2",
          "y0": 25.5,
          "y1": 25.5,
          "yref": "y2"
         },
         {
          "line": {
           "color": "sienna",
           "width": 2
          },
          "type": "line",
          "x0": -0.5,
          "x1": 27.5,
          "xref": "x2",
          "y0": 26.5,
          "y1": 26.5,
          "yref": "y2"
         },
         {
          "line": {
           "color": "sienna",
           "width": 2
          },
          "type": "line",
          "x0": -0.5,
          "x1": -0.5,
          "xref": "x2",
          "y0": -0.5,
          "y1": 27.5,
          "yref": "y2"
         },
         {
          "line": {
           "color": "sienna",
           "width": 2
          },
          "type": "line",
          "x0": 0.5,
          "x1": 0.5,
          "xref": "x2",
          "y0": -0.5,
          "y1": 27.5,
          "yref": "y2"
         },
         {
          "line": {
           "color": "sienna",
           "width": 2
          },
          "type": "line",
          "x0": 1.5,
          "x1": 1.5,
          "xref": "x2",
          "y0": -0.5,
          "y1": 27.5,
          "yref": "y2"
         },
         {
          "line": {
           "color": "sienna",
           "width": 2
          },
          "type": "line",
          "x0": 2.5,
          "x1": 2.5,
          "xref": "x2",
          "y0": -0.5,
          "y1": 27.5,
          "yref": "y2"
         },
         {
          "line": {
           "color": "sienna",
           "width": 2
          },
          "type": "line",
          "x0": 3.5,
          "x1": 3.5,
          "xref": "x2",
          "y0": -0.5,
          "y1": 27.5,
          "yref": "y2"
         },
         {
          "line": {
           "color": "sienna",
           "width": 2
          },
          "type": "line",
          "x0": 4.5,
          "x1": 4.5,
          "xref": "x2",
          "y0": -0.5,
          "y1": 27.5,
          "yref": "y2"
         },
         {
          "line": {
           "color": "sienna",
           "width": 2
          },
          "type": "line",
          "x0": 5.5,
          "x1": 5.5,
          "xref": "x2",
          "y0": -0.5,
          "y1": 27.5,
          "yref": "y2"
         },
         {
          "line": {
           "color": "sienna",
           "width": 2
          },
          "type": "line",
          "x0": 6.5,
          "x1": 6.5,
          "xref": "x2",
          "y0": -0.5,
          "y1": 27.5,
          "yref": "y2"
         },
         {
          "line": {
           "color": "sienna",
           "width": 2
          },
          "type": "line",
          "x0": 7.5,
          "x1": 7.5,
          "xref": "x2",
          "y0": -0.5,
          "y1": 27.5,
          "yref": "y2"
         },
         {
          "line": {
           "color": "sienna",
           "width": 2
          },
          "type": "line",
          "x0": 8.5,
          "x1": 8.5,
          "xref": "x2",
          "y0": -0.5,
          "y1": 27.5,
          "yref": "y2"
         },
         {
          "line": {
           "color": "sienna",
           "width": 2
          },
          "type": "line",
          "x0": 9.5,
          "x1": 9.5,
          "xref": "x2",
          "y0": -0.5,
          "y1": 27.5,
          "yref": "y2"
         },
         {
          "line": {
           "color": "sienna",
           "width": 2
          },
          "type": "line",
          "x0": 10.5,
          "x1": 10.5,
          "xref": "x2",
          "y0": -0.5,
          "y1": 27.5,
          "yref": "y2"
         },
         {
          "line": {
           "color": "sienna",
           "width": 2
          },
          "type": "line",
          "x0": 11.5,
          "x1": 11.5,
          "xref": "x2",
          "y0": -0.5,
          "y1": 27.5,
          "yref": "y2"
         },
         {
          "line": {
           "color": "sienna",
           "width": 2
          },
          "type": "line",
          "x0": 12.5,
          "x1": 12.5,
          "xref": "x2",
          "y0": -0.5,
          "y1": 27.5,
          "yref": "y2"
         },
         {
          "line": {
           "color": "sienna",
           "width": 2
          },
          "type": "line",
          "x0": 13.5,
          "x1": 13.5,
          "xref": "x2",
          "y0": -0.5,
          "y1": 27.5,
          "yref": "y2"
         },
         {
          "line": {
           "color": "sienna",
           "width": 2
          },
          "type": "line",
          "x0": 14.5,
          "x1": 14.5,
          "xref": "x2",
          "y0": -0.5,
          "y1": 27.5,
          "yref": "y2"
         },
         {
          "line": {
           "color": "sienna",
           "width": 2
          },
          "type": "line",
          "x0": 15.5,
          "x1": 15.5,
          "xref": "x2",
          "y0": -0.5,
          "y1": 27.5,
          "yref": "y2"
         },
         {
          "line": {
           "color": "sienna",
           "width": 2
          },
          "type": "line",
          "x0": 16.5,
          "x1": 16.5,
          "xref": "x2",
          "y0": -0.5,
          "y1": 27.5,
          "yref": "y2"
         },
         {
          "line": {
           "color": "sienna",
           "width": 2
          },
          "type": "line",
          "x0": 17.5,
          "x1": 17.5,
          "xref": "x2",
          "y0": -0.5,
          "y1": 27.5,
          "yref": "y2"
         },
         {
          "line": {
           "color": "sienna",
           "width": 2
          },
          "type": "line",
          "x0": 18.5,
          "x1": 18.5,
          "xref": "x2",
          "y0": -0.5,
          "y1": 27.5,
          "yref": "y2"
         },
         {
          "line": {
           "color": "sienna",
           "width": 2
          },
          "type": "line",
          "x0": 19.5,
          "x1": 19.5,
          "xref": "x2",
          "y0": -0.5,
          "y1": 27.5,
          "yref": "y2"
         },
         {
          "line": {
           "color": "sienna",
           "width": 2
          },
          "type": "line",
          "x0": 20.5,
          "x1": 20.5,
          "xref": "x2",
          "y0": -0.5,
          "y1": 27.5,
          "yref": "y2"
         },
         {
          "line": {
           "color": "sienna",
           "width": 2
          },
          "type": "line",
          "x0": 21.5,
          "x1": 21.5,
          "xref": "x2",
          "y0": -0.5,
          "y1": 27.5,
          "yref": "y2"
         },
         {
          "line": {
           "color": "sienna",
           "width": 2
          },
          "type": "line",
          "x0": 22.5,
          "x1": 22.5,
          "xref": "x2",
          "y0": -0.5,
          "y1": 27.5,
          "yref": "y2"
         },
         {
          "line": {
           "color": "sienna",
           "width": 2
          },
          "type": "line",
          "x0": 23.5,
          "x1": 23.5,
          "xref": "x2",
          "y0": -0.5,
          "y1": 27.5,
          "yref": "y2"
         },
         {
          "line": {
           "color": "sienna",
           "width": 2
          },
          "type": "line",
          "x0": 24.5,
          "x1": 24.5,
          "xref": "x2",
          "y0": -0.5,
          "y1": 27.5,
          "yref": "y2"
         },
         {
          "line": {
           "color": "sienna",
           "width": 2
          },
          "type": "line",
          "x0": 25.5,
          "x1": 25.5,
          "xref": "x2",
          "y0": -0.5,
          "y1": 27.5,
          "yref": "y2"
         },
         {
          "line": {
           "color": "sienna",
           "width": 2
          },
          "type": "line",
          "x0": 26.5,
          "x1": 26.5,
          "xref": "x2",
          "y0": -0.5,
          "y1": 27.5,
          "yref": "y2"
         }
        ],
        "template": {
         "data": {
          "bar": [
           {
            "error_x": {
             "color": "#2a3f5f"
            },
            "error_y": {
             "color": "#2a3f5f"
            },
            "marker": {
             "line": {
              "color": "#E5ECF6",
              "width": 0.5
             },
             "pattern": {
              "fillmode": "overlay",
              "size": 10,
              "solidity": 0.2
             }
            },
            "type": "bar"
           }
          ],
          "barpolar": [
           {
            "marker": {
             "line": {
              "color": "#E5ECF6",
              "width": 0.5
             },
             "pattern": {
              "fillmode": "overlay",
              "size": 10,
              "solidity": 0.2
             }
            },
            "type": "barpolar"
           }
          ],
          "carpet": [
           {
            "aaxis": {
             "endlinecolor": "#2a3f5f",
             "gridcolor": "white",
             "linecolor": "white",
             "minorgridcolor": "white",
             "startlinecolor": "#2a3f5f"
            },
            "baxis": {
             "endlinecolor": "#2a3f5f",
             "gridcolor": "white",
             "linecolor": "white",
             "minorgridcolor": "white",
             "startlinecolor": "#2a3f5f"
            },
            "type": "carpet"
           }
          ],
          "choropleth": [
           {
            "colorbar": {
             "outlinewidth": 0,
             "ticks": ""
            },
            "type": "choropleth"
           }
          ],
          "contour": [
           {
            "colorbar": {
             "outlinewidth": 0,
             "ticks": ""
            },
            "colorscale": [
             [
              0,
              "#0d0887"
             ],
             [
              0.1111111111111111,
              "#46039f"
             ],
             [
              0.2222222222222222,
              "#7201a8"
             ],
             [
              0.3333333333333333,
              "#9c179e"
             ],
             [
              0.4444444444444444,
              "#bd3786"
             ],
             [
              0.5555555555555556,
              "#d8576b"
             ],
             [
              0.6666666666666666,
              "#ed7953"
             ],
             [
              0.7777777777777778,
              "#fb9f3a"
             ],
             [
              0.8888888888888888,
              "#fdca26"
             ],
             [
              1,
              "#f0f921"
             ]
            ],
            "type": "contour"
           }
          ],
          "contourcarpet": [
           {
            "colorbar": {
             "outlinewidth": 0,
             "ticks": ""
            },
            "type": "contourcarpet"
           }
          ],
          "heatmap": [
           {
            "colorbar": {
             "outlinewidth": 0,
             "ticks": ""
            },
            "colorscale": [
             [
              0,
              "#0d0887"
             ],
             [
              0.1111111111111111,
              "#46039f"
             ],
             [
              0.2222222222222222,
              "#7201a8"
             ],
             [
              0.3333333333333333,
              "#9c179e"
             ],
             [
              0.4444444444444444,
              "#bd3786"
             ],
             [
              0.5555555555555556,
              "#d8576b"
             ],
             [
              0.6666666666666666,
              "#ed7953"
             ],
             [
              0.7777777777777778,
              "#fb9f3a"
             ],
             [
              0.8888888888888888,
              "#fdca26"
             ],
             [
              1,
              "#f0f921"
             ]
            ],
            "type": "heatmap"
           }
          ],
          "heatmapgl": [
           {
            "colorbar": {
             "outlinewidth": 0,
             "ticks": ""
            },
            "colorscale": [
             [
              0,
              "#0d0887"
             ],
             [
              0.1111111111111111,
              "#46039f"
             ],
             [
              0.2222222222222222,
              "#7201a8"
             ],
             [
              0.3333333333333333,
              "#9c179e"
             ],
             [
              0.4444444444444444,
              "#bd3786"
             ],
             [
              0.5555555555555556,
              "#d8576b"
             ],
             [
              0.6666666666666666,
              "#ed7953"
             ],
             [
              0.7777777777777778,
              "#fb9f3a"
             ],
             [
              0.8888888888888888,
              "#fdca26"
             ],
             [
              1,
              "#f0f921"
             ]
            ],
            "type": "heatmapgl"
           }
          ],
          "histogram": [
           {
            "marker": {
             "pattern": {
              "fillmode": "overlay",
              "size": 10,
              "solidity": 0.2
             }
            },
            "type": "histogram"
           }
          ],
          "histogram2d": [
           {
            "colorbar": {
             "outlinewidth": 0,
             "ticks": ""
            },
            "colorscale": [
             [
              0,
              "#0d0887"
             ],
             [
              0.1111111111111111,
              "#46039f"
             ],
             [
              0.2222222222222222,
              "#7201a8"
             ],
             [
              0.3333333333333333,
              "#9c179e"
             ],
             [
              0.4444444444444444,
              "#bd3786"
             ],
             [
              0.5555555555555556,
              "#d8576b"
             ],
             [
              0.6666666666666666,
              "#ed7953"
             ],
             [
              0.7777777777777778,
              "#fb9f3a"
             ],
             [
              0.8888888888888888,
              "#fdca26"
             ],
             [
              1,
              "#f0f921"
             ]
            ],
            "type": "histogram2d"
           }
          ],
          "histogram2dcontour": [
           {
            "colorbar": {
             "outlinewidth": 0,
             "ticks": ""
            },
            "colorscale": [
             [
              0,
              "#0d0887"
             ],
             [
              0.1111111111111111,
              "#46039f"
             ],
             [
              0.2222222222222222,
              "#7201a8"
             ],
             [
              0.3333333333333333,
              "#9c179e"
             ],
             [
              0.4444444444444444,
              "#bd3786"
             ],
             [
              0.5555555555555556,
              "#d8576b"
             ],
             [
              0.6666666666666666,
              "#ed7953"
             ],
             [
              0.7777777777777778,
              "#fb9f3a"
             ],
             [
              0.8888888888888888,
              "#fdca26"
             ],
             [
              1,
              "#f0f921"
             ]
            ],
            "type": "histogram2dcontour"
           }
          ],
          "mesh3d": [
           {
            "colorbar": {
             "outlinewidth": 0,
             "ticks": ""
            },
            "type": "mesh3d"
           }
          ],
          "parcoords": [
           {
            "line": {
             "colorbar": {
              "outlinewidth": 0,
              "ticks": ""
             }
            },
            "type": "parcoords"
           }
          ],
          "pie": [
           {
            "automargin": true,
            "type": "pie"
           }
          ],
          "scatter": [
           {
            "fillpattern": {
             "fillmode": "overlay",
             "size": 10,
             "solidity": 0.2
            },
            "type": "scatter"
           }
          ],
          "scatter3d": [
           {
            "line": {
             "colorbar": {
              "outlinewidth": 0,
              "ticks": ""
             }
            },
            "marker": {
             "colorbar": {
              "outlinewidth": 0,
              "ticks": ""
             }
            },
            "type": "scatter3d"
           }
          ],
          "scattercarpet": [
           {
            "marker": {
             "colorbar": {
              "outlinewidth": 0,
              "ticks": ""
             }
            },
            "type": "scattercarpet"
           }
          ],
          "scattergeo": [
           {
            "marker": {
             "colorbar": {
              "outlinewidth": 0,
              "ticks": ""
             }
            },
            "type": "scattergeo"
           }
          ],
          "scattergl": [
           {
            "marker": {
             "colorbar": {
              "outlinewidth": 0,
              "ticks": ""
             }
            },
            "type": "scattergl"
           }
          ],
          "scattermapbox": [
           {
            "marker": {
             "colorbar": {
              "outlinewidth": 0,
              "ticks": ""
             }
            },
            "type": "scattermapbox"
           }
          ],
          "scatterpolar": [
           {
            "marker": {
             "colorbar": {
              "outlinewidth": 0,
              "ticks": ""
             }
            },
            "type": "scatterpolar"
           }
          ],
          "scatterpolargl": [
           {
            "marker": {
             "colorbar": {
              "outlinewidth": 0,
              "ticks": ""
             }
            },
            "type": "scatterpolargl"
           }
          ],
          "scatterternary": [
           {
            "marker": {
             "colorbar": {
              "outlinewidth": 0,
              "ticks": ""
             }
            },
            "type": "scatterternary"
           }
          ],
          "surface": [
           {
            "colorbar": {
             "outlinewidth": 0,
             "ticks": ""
            },
            "colorscale": [
             [
              0,
              "#0d0887"
             ],
             [
              0.1111111111111111,
              "#46039f"
             ],
             [
              0.2222222222222222,
              "#7201a8"
             ],
             [
              0.3333333333333333,
              "#9c179e"
             ],
             [
              0.4444444444444444,
              "#bd3786"
             ],
             [
              0.5555555555555556,
              "#d8576b"
             ],
             [
              0.6666666666666666,
              "#ed7953"
             ],
             [
              0.7777777777777778,
              "#fb9f3a"
             ],
             [
              0.8888888888888888,
              "#fdca26"
             ],
             [
              1,
              "#f0f921"
             ]
            ],
            "type": "surface"
           }
          ],
          "table": [
           {
            "cells": {
             "fill": {
              "color": "#EBF0F8"
             },
             "line": {
              "color": "white"
             }
            },
            "header": {
             "fill": {
              "color": "#C8D4E3"
             },
             "line": {
              "color": "white"
             }
            },
            "type": "table"
           }
          ]
         },
         "layout": {
          "annotationdefaults": {
           "arrowcolor": "#2a3f5f",
           "arrowhead": 0,
           "arrowwidth": 1
          },
          "autotypenumbers": "strict",
          "coloraxis": {
           "colorbar": {
            "outlinewidth": 0,
            "ticks": ""
           }
          },
          "colorscale": {
           "diverging": [
            [
             0,
             "#8e0152"
            ],
            [
             0.1,
             "#c51b7d"
            ],
            [
             0.2,
             "#de77ae"
            ],
            [
             0.3,
             "#f1b6da"
            ],
            [
             0.4,
             "#fde0ef"
            ],
            [
             0.5,
             "#f7f7f7"
            ],
            [
             0.6,
             "#e6f5d0"
            ],
            [
             0.7,
             "#b8e186"
            ],
            [
             0.8,
             "#7fbc41"
            ],
            [
             0.9,
             "#4d9221"
            ],
            [
             1,
             "#276419"
            ]
           ],
           "sequential": [
            [
             0,
             "#0d0887"
            ],
            [
             0.1111111111111111,
             "#46039f"
            ],
            [
             0.2222222222222222,
             "#7201a8"
            ],
            [
             0.3333333333333333,
             "#9c179e"
            ],
            [
             0.4444444444444444,
             "#bd3786"
            ],
            [
             0.5555555555555556,
             "#d8576b"
            ],
            [
             0.6666666666666666,
             "#ed7953"
            ],
            [
             0.7777777777777778,
             "#fb9f3a"
            ],
            [
             0.8888888888888888,
             "#fdca26"
            ],
            [
             1,
             "#f0f921"
            ]
           ],
           "sequentialminus": [
            [
             0,
             "#0d0887"
            ],
            [
             0.1111111111111111,
             "#46039f"
            ],
            [
             0.2222222222222222,
             "#7201a8"
            ],
            [
             0.3333333333333333,
             "#9c179e"
            ],
            [
             0.4444444444444444,
             "#bd3786"
            ],
            [
             0.5555555555555556,
             "#d8576b"
            ],
            [
             0.6666666666666666,
             "#ed7953"
            ],
            [
             0.7777777777777778,
             "#fb9f3a"
            ],
            [
             0.8888888888888888,
             "#fdca26"
            ],
            [
             1,
             "#f0f921"
            ]
           ]
          },
          "colorway": [
           "#636efa",
           "#EF553B",
           "#00cc96",
           "#ab63fa",
           "#FFA15A",
           "#19d3f3",
           "#FF6692",
           "#B6E880",
           "#FF97FF",
           "#FECB52"
          ],
          "font": {
           "color": "#2a3f5f"
          },
          "geo": {
           "bgcolor": "white",
           "lakecolor": "white",
           "landcolor": "#E5ECF6",
           "showlakes": true,
           "showland": true,
           "subunitcolor": "white"
          },
          "hoverlabel": {
           "align": "left"
          },
          "hovermode": "closest",
          "mapbox": {
           "style": "light"
          },
          "paper_bgcolor": "white",
          "plot_bgcolor": "#E5ECF6",
          "polar": {
           "angularaxis": {
            "gridcolor": "white",
            "linecolor": "white",
            "ticks": ""
           },
           "bgcolor": "#E5ECF6",
           "radialaxis": {
            "gridcolor": "white",
            "linecolor": "white",
            "ticks": ""
           }
          },
          "scene": {
           "xaxis": {
            "backgroundcolor": "#E5ECF6",
            "gridcolor": "white",
            "gridwidth": 2,
            "linecolor": "white",
            "showbackground": true,
            "ticks": "",
            "zerolinecolor": "white"
           },
           "yaxis": {
            "backgroundcolor": "#E5ECF6",
            "gridcolor": "white",
            "gridwidth": 2,
            "linecolor": "white",
            "showbackground": true,
            "ticks": "",
            "zerolinecolor": "white"
           },
           "zaxis": {
            "backgroundcolor": "#E5ECF6",
            "gridcolor": "white",
            "gridwidth": 2,
            "linecolor": "white",
            "showbackground": true,
            "ticks": "",
            "zerolinecolor": "white"
           }
          },
          "shapedefaults": {
           "line": {
            "color": "#2a3f5f"
           }
          },
          "ternary": {
           "aaxis": {
            "gridcolor": "white",
            "linecolor": "white",
            "ticks": ""
           },
           "baxis": {
            "gridcolor": "white",
            "linecolor": "white",
            "ticks": ""
           },
           "bgcolor": "#E5ECF6",
           "caxis": {
            "gridcolor": "white",
            "linecolor": "white",
            "ticks": ""
           }
          },
          "title": {
           "x": 0.05
          },
          "xaxis": {
           "automargin": true,
           "gridcolor": "white",
           "linecolor": "white",
           "ticks": "",
           "title": {
            "standoff": 15
           },
           "zerolinecolor": "white",
           "zerolinewidth": 2
          },
          "yaxis": {
           "automargin": true,
           "gridcolor": "white",
           "linecolor": "white",
           "ticks": "",
           "title": {
            "standoff": 15
           },
           "zerolinecolor": "white",
           "zerolinewidth": 2
          }
         }
        },
        "xaxis": {
         "anchor": "y",
         "domain": [
          0,
          0.45
         ]
        },
        "xaxis2": {
         "anchor": "y2",
         "domain": [
          0.55,
          1
         ]
        },
        "yaxis": {
         "anchor": "x",
         "domain": [
          0,
          1
         ]
        },
        "yaxis2": {
         "anchor": "x2",
         "domain": [
          0,
          1
         ]
        }
       }
      }
     },
     "metadata": {},
     "output_type": "display_data"
    }
   ],
   "source": [
    "arc = ARC()\n",
    "for problem in arc.problems[:5]:\n",
    "    problem.plot()\n",
    "\n",
    "    \n",
    "\n"
   ]
  }
 ],
 "metadata": {
  "kernelspec": {
   "display_name": "Python 3.10.4 64-bit",
   "language": "python",
   "name": "python3"
  },
  "language_info": {
   "codemirror_mode": {
    "name": "ipython",
    "version": 3
   },
   "file_extension": ".py",
   "mimetype": "text/x-python",
   "name": "python",
   "nbconvert_exporter": "python",
   "pygments_lexer": "ipython3",
   "version": "3.10.4"
  },
  "orig_nbformat": 4,
  "vscode": {
   "interpreter": {
    "hash": "aee8b7b246df8f9039afb4144a1f6fd8d2ca17a180786b69acc140d282b71a49"
   }
  }
 },
 "nbformat": 4,
 "nbformat_minor": 2
}
