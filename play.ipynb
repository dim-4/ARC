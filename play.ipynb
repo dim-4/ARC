{
 "cells": [
  {
   "cell_type": "markdown",
   "metadata": {},
   "source": [
    "# Main"
   ]
  },
  {
   "cell_type": "code",
   "execution_count": 1,
   "metadata": {},
   "outputs": [],
   "source": [
    "%load_ext autoreload\n",
    "%autoreload 2"
   ]
  },
  {
   "cell_type": "markdown",
   "metadata": {},
   "source": [
    "# ARC"
   ]
  },
  {
   "cell_type": "code",
   "execution_count": 26,
   "metadata": {},
   "outputs": [],
   "source": [
    "import os, json\n",
    "from typing import List, Dict\n",
    "import plotly.graph_objects as go\n",
    "from plotly import subplots"
   ]
  },
  {
   "cell_type": "code",
   "execution_count": 27,
   "metadata": {},
   "outputs": [],
   "source": [
    "class Plotter:\n",
    "    COLOR_MAP = {-1: [255, 255, 255], 0: (0, 0, 0), 1: (37, 150, 190), \n",
    "                 2: (255, 65, 54), 3: (46, 204, 64), 4: (255, 220, 0), \n",
    "                 5: (170, 170, 170), 6: (240, 18, 190), 7: (255, 133, 27), \n",
    "                 8: (127, 219, 255), 9: (135, 12, 37)}\n",
    "    def __init__(self) -> None:\n",
    "        pass\n",
    "\n",
    "    @classmethod\n",
    "    def plot_grid(cls, grid:List[List[List[int]]], name=None):\n",
    "        \"\"\" plots a grid \"\"\"\n",
    "        fig = subplots.make_subplots(1, 1)\n",
    "        cls._add_grid_to_figure(fig, grid, 1, 1)\n",
    "        cls._add_gridlines_to_figure(fig, grid)\n",
    "        if name: print(name)\n",
    "        fig.show()\n",
    "    \n",
    "    @classmethod\n",
    "    def plot_grid_pairs(cls, grids, name=None):\n",
    "        \"\"\" grids:  [[grid, grid], [grid, grid], ...] \"\"\"\n",
    "        fig = subplots.make_subplots(len(grids), 2)\n",
    "        for i, grid_pair in enumerate(grids):\n",
    "            for j, grid in enumerate(grid_pair):\n",
    "                cls._add_grid_to_figure(fig, grid, i+1, j+1)\n",
    "                cls._add_gridlines_to_figure(fig, grid, row=i+1, col=j+1)\n",
    "        if name: print(name)\n",
    "        fig.update_layout(height=400*len(grids))\n",
    "        fig.show()\n",
    "            \n",
    "\n",
    "    @classmethod\n",
    "    def _convert_to_plot_grid(cls, grid:List[List[List[int]]]):\n",
    "        \"\"\" converts a grid to plotable grid \"\"\"\n",
    "        return [ [cls.COLOR_MAP[x] for x in y] for y in grid]\n",
    "\n",
    "    @classmethod\n",
    "    def _add_grid_to_figure(cls, fig:go.Figure, grid, row_id=1, col_id=1):\n",
    "        \"\"\" converts grid to plotable grid and adds a trace \"\"\"\n",
    "        plot_grid = cls._convert_to_plot_grid(grid)\n",
    "        fig.add_trace(go.Image(z=plot_grid), row_id, col_id)\n",
    "\n",
    "    @classmethod\n",
    "    def _add_gridlines_to_figure(cls, fig:go.Figure, grid, \n",
    "                                 color=\"sienna\", width=2, row=1, col=1):\n",
    "        \"\"\" given the grid, adds gridlines to draw over the figure \"\"\"\n",
    "        W, H = len(grid[0]), len(grid)\n",
    "        [fig.add_shape(type=\"line\", x0=-0.5, y0=y-0.5, x1=W-0.5, y1=y-0.5,\n",
    "                       line=dict(color=color, width=width), row=row, col=col)\n",
    "         for y in range(H)]\n",
    "        [fig.add_shape(type=\"line\", x0=x-0.5, y0=-0.5, x1=x-0.5, y1=H-0.5,\n",
    "                       line=dict(color=color, width=width), row=row, col=col)\n",
    "         for x in range(W)]\n",
    "        \n"
   ]
  },
  {
   "cell_type": "code",
   "execution_count": 28,
   "metadata": {},
   "outputs": [],
   "source": [
    "class Problem:\n",
    "    def __init__(self, problem_dict:dict) -> None:\n",
    "        self.problem = problem_dict\n",
    "        self.name = problem_dict['name']\n",
    "        self.num_train, self.num_test, self.train_inputs, self.train_outputs, \\\n",
    "            self.test_inputs, self.test_outputs = self._get_breakdown()\n",
    "    \n",
    "    def get_grid(self, i=0, type_input=True, type_train=True):\n",
    "        \"\"\" gets i'th train/test input/output. \"\"\"\n",
    "        samples = self.problem['train'] if type_train else self.problem['test']\n",
    "        k = \"input\" if type_input else \"output\"\n",
    "        return samples[min(i, len(samples)-1)][k]\n",
    "    \n",
    "    def plot(self):\n",
    "        \"\"\" plots the problem with all inputs and outputs \"\"\"\n",
    "        plotter = Plotter()\n",
    "        plotter.plot_grid_pairs([(self.train_inputs[i], self.train_outputs[i])\n",
    "                                 for i in range(self.num_train)], \n",
    "                                name=f\"{self.name}-train\")\n",
    "        plotter.plot_grid_pairs([(self.test_inputs[i], self.test_outputs[i])\n",
    "                                 for i in range(self.num_test)],\n",
    "                                name=f\"{self.name}-test\")\n",
    "    def _get_breakdown(self):\n",
    "        \"\"\" breaks down the problem into train/test input/output \"\"\"\n",
    "        problem = self.problem\n",
    "        num_train, num_test = len(problem['train']), len(problem['test'])\n",
    "        return (num_train, num_test,\n",
    "                [problem['train'][i]['input'] for i in range(num_train)],\n",
    "                [problem['train'][i]['output'] for i in range(num_train)],\n",
    "                [problem['test'][i]['input'] for i in range(num_test)],\n",
    "                [problem['test'][i]['output'] for i in range(num_test)])\n",
    "        \n",
    "\n",
    "        \n",
    "\n",
    "        "
   ]
  },
  {
   "cell_type": "code",
   "execution_count": 45,
   "metadata": {},
   "outputs": [],
   "source": [
    "class ARC:\n",
    "    def __init__(self) -> None:\n",
    "        self.problems:List[Problem] = self.load_problem_set(training=True)\n",
    "        self.problems_eval:List[Problem] = self.load_problem_set(training=False)\n",
    "    \n",
    "    \n",
    "    def load_problem_set(self, training=True):\n",
    "        \"\"\" load either training set or evaluation set \"\"\"\n",
    "        loc = \"repo/data/training/\" if training else \"repo/data/evaluation/\"\n",
    "        problems:List[Problem] = []\n",
    "        for file in os.listdir(loc):\n",
    "            problem = json.loads(open(loc+file).read())\n",
    "            problem['name'] = file.split('.')[0]\n",
    "            problems.append(Problem(problem))\n",
    "        return problems        \n",
    "    \n",
    "    \n",
    "        \n",
    "    \n"
   ]
  },
  {
   "cell_type": "markdown",
   "metadata": {},
   "source": [
    "# Trial"
   ]
  },
  {
   "cell_type": "code",
   "execution_count": 46,
   "metadata": {},
   "outputs": [],
   "source": [
    "class Brain:\n",
    "    def __init__(self) -> None:\n",
    "        pass\n",
    "    \n",
    "    def run(self, problem:Problem):\n",
    "        \"\"\"  \"\"\"\n",
    "        inps = problem.train_inputs\n",
    "        outs = problem.train_outputs\n",
    "        test_inps = problem.test_inputs\n",
    "        test_outs = problem.test_outputs\n",
    "\n"
   ]
  },
  {
   "cell_type": "code",
   "execution_count": 47,
   "metadata": {},
   "outputs": [],
   "source": [
    "arc = ARC()\n",
    "brain = Brain()\n",
    "problem = arc.problems[0]\n",
    "brain.run(problem)\n",
    "\n",
    "\n"
   ]
  }
 ],
 "metadata": {
  "kernelspec": {
   "display_name": "Python 3.10.4 64-bit",
   "language": "python",
   "name": "python3"
  },
  "language_info": {
   "codemirror_mode": {
    "name": "ipython",
    "version": 3
   },
   "file_extension": ".py",
   "mimetype": "text/x-python",
   "name": "python",
   "nbconvert_exporter": "python",
   "pygments_lexer": "ipython3",
   "version": "3.10.4"
  },
  "orig_nbformat": 4,
  "vscode": {
   "interpreter": {
    "hash": "aee8b7b246df8f9039afb4144a1f6fd8d2ca17a180786b69acc140d282b71a49"
   }
  }
 },
 "nbformat": 4,
 "nbformat_minor": 2
}
