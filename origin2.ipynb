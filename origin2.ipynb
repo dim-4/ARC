{
 "cells": [
  {
   "cell_type": "raw",
   "metadata": {},
   "source": [
    "A deep NN is sort of equivalent to \"fast-thinking\" circuits in the brain.\n",
    "    It's more of a pattern recognition and interpolation within experience space\n",
    "    (using densly populated lookup tables).\n",
    "    \n",
    "    It is highly parallel as multiple regions of the brain simulateously process\n",
    "    the information and throw out their answers. Most significant joint \n",
    "    pulses drive the action. This applies to both humans and deep nns.\n",
    "\n",
    "Reasoning happens in a bit slower, more linear (step-by-step) system. It's for\n",
    "language abilities, our logic, math, etc.\n",
    "    I assume this step by step process is still using the \"fast-thinking\"\n",
    "    parallel methods at each step but utilizes decision mechanism in-between \n",
    "    these steps to prioritize \"relevant\" outputs and use those outputs as inputs \n",
    "    to those circuits again. So it's discretizing the calculations.\n",
    "\n",
    "    I suspect there are more things happenning in-between. Querying memory, \n",
    "    simulating the outcome based on current state of thought, etc.\n"
   ]
  },
  {
   "cell_type": "raw",
   "metadata": {},
   "source": [
    "================================================================================\n",
    "Need to have a prior notion of a class and functions that add elements to it.\n",
    "================================================================================\n",
    "For example, you may discover an object class. And a function that adds\n",
    "pixels to it that will constitute an object.\n",
    "    => list of pixels that define an object\n",
    "You may discover objects class. And a function that adds objects to it.\n",
    "    => list of objects that define objects\n",
    "\n",
    "\n",
    "\n",
    "\n",
    "\n"
   ]
  }
 ],
 "metadata": {
  "kernelspec": {
   "display_name": "Python 3.10.4 64-bit",
   "language": "python",
   "name": "python3"
  },
  "language_info": {
   "name": "python",
   "version": "3.10.4"
  },
  "orig_nbformat": 4,
  "vscode": {
   "interpreter": {
    "hash": "aee8b7b246df8f9039afb4144a1f6fd8d2ca17a180786b69acc140d282b71a49"
   }
  }
 },
 "nbformat": 4,
 "nbformat_minor": 2
}
