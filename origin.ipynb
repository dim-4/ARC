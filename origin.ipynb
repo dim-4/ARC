{
 "cells": [
  {
   "cell_type": "markdown",
   "metadata": {},
   "source": [
    "# P1"
   ]
  },
  {
   "cell_type": "markdown",
   "metadata": {
    "tags": []
   },
   "source": [
    "There are additional circuits beyond those of reasoning that generate goals.\n",
    "Merged with problem-solving, out comes the curiosity, creativity.\n",
    "\n",
    "Perhaps, in order to reason, you already need to have systems in place\n",
    "that generate goals for you and simulate the problemsolving.\n",
    "-   generating goals on demand [based on what?]\n",
    "    -   based on searching for the manifold of everything. Identifying \n",
    "        the missing parts of the manifold and formulating goalsets that\n",
    "        would cover the missing areas.\n",
    "-   simulating goal-directed actions and outcomes\n"
   ]
  },
  {
   "cell_type": "markdown",
   "metadata": {},
   "source": [
    "### Internal model of the world\n",
    "What does it give you? - You can simulate multiple scenarios on a given\n",
    "starting conditions and observe predicted outcomes. \n",
    "\n",
    "Why would you want to simulate? - Because you can not calculate n steps \n",
    "into the future without evolving to it. It's like the game of life. \n",
    "What happens on the n'th step? - You simulate all the steps before to \n",
    "find out. f(n+1) = g(f(n)), where g is very nonlinear ...\n",
    "\n"
   ]
  },
  {
   "cell_type": "markdown",
   "metadata": {},
   "source": [
    "There is no fixed decision tree. You need methods that *generate* dicision tree.\n",
    "Some of the brain region try to push forward decision nodes to where you\n",
    "are right now.\n",
    "\n",
    "The reasoning system may even do a brute force tree search as the presented\n",
    "tree is not very large. Certianly no greater than 100 decision nodes at a point\n",
    "of time.\n",
    "\n",
    "Decision tree/graph is being generated based on which node you are in\n",
    "(or are thinking about being in) and what connections you have around.\n",
    "\n",
    "It is not the tree search that's the problem, it's the tree generation\n",
    "and refinement every single step in time.\n",
    "\n"
   ]
  },
  {
   "cell_type": "markdown",
   "metadata": {},
   "source": [
    "LeCun\n",
    "\n",
    "Working memory. Episodic information.\n",
    "- memory of state of your cortex (~20 seconds)\n",
    "- hippocampal memory. remember maps of things (spacial), things that \n",
    "    happened recently ...\n",
    "- long-term memory (in the synapses)\n",
    "\n",
    "for reasoning you want hippocampus like things\n",
    "    - memory networks\n",
    "    - transformers (memory like self attention systems)\n",
    "\n",
    "\n",
    "YOU NEED:\n",
    "network that can access this memory\n",
    "crunch on it\n",
    "do it multiple times ...\n",
    "    -   you update the knowledge about the world.\n",
    "    -   recurrent operation\n",
    "\n",
    "What led us to be able to reason was perhaps the need to be able to PLAN\n",
    "\n",
    "\n"
   ]
  },
  {
   "cell_type": "markdown",
   "metadata": {},
   "source": [
    "In gradient descent, you are fundamentally pushed around by data.\n",
    "Data pushes around your representation manifold.\n",
    "\n",
    "Evolutionary computation - introduce random change"
   ]
  },
  {
   "cell_type": "markdown",
   "metadata": {},
   "source": [
    "# What is a reasoning system within a given environment?"
   ]
  },
  {
   "cell_type": "markdown",
   "metadata": {},
   "source": [
    "Reasoning does not exist without an environment. It's tied to it.\n",
    "    //  It captures the functions that transform the environment. ??\n",
    "        How do these functions transform the environment specifically? \n",
    "        What's the invariant?\n",
    "\n",
    "    below: maybe not true.\n",
    "    // It's more constrained than that. Reasoning exists in the context of the\n",
    "    environment and a goalset. Reasoning attempts to approximate a valid\n",
    "    state B from the current state A.\n",
    "\n",
    "    Perhaps reasoning provides a path to transform a valid state A in into a\n",
    "    valid state B in the same environment.\n",
    "\n",
    "    formulating the state B itself may not be part of reasoning, but a part\n",
    "    some other system. In our case, evolved through evolutionary outecomes of \n",
    "    survival and reproduction.\n",
    "\n",
    "    So, reasoning is a synthesis of path from A to B.\n",
    "    Evolutionary goal function guides the conceptualization of B. It may be\n",
    "    driven by basic instinctual/emotional base functions, which obtain more\n",
    "    concrete shape and form through constructing 'images' from our toolsets\n",
    "    to produce/imagine state of being through our internal model of the world\n",
    "\n",
    "\n",
    "-------------------------------------------------------------------------\n",
    "Before you implement reasoning, how about you implement the 'want'.\n",
    "A system that tries to predict what it wants. And we give it what it\n",
    "wants. If it wants reasonable things, it survives and reproduces.\n",
    "For example, if it's 'hungry' and it wants to move around, it dies. If\n",
    "it's attacked and it wants to eat, it dies. If it's getting too old\n",
    "without reproducing, its kind dies.\n",
    "Without much environmental constraints, systems that tend to reproduce \n",
    "quickly will effectively be the only ones after some time, so that's not \n",
    "very realistic. So you introduce the constraints of needing to be fit to \n",
    "reproduce (like need to be fed, have enough energy ...), etc.\n",
    "It's pretty much a simple evolutionary game you can often find on youtube\n",
    "\n",
    "We could perhaps say, that a neural network agent that is adapted to\n",
    "such environment and can adapt to changes produced by the core parameters\n",
    "of the environment \"knows what it wants\" at any given state.\n",
    "    ? What are its loss functions ? How are they represented ?\n",
    "\n",
    "Good, we now have a simple form of amygdala.\n",
    "This seems like the behaviour of the simplest organisms.\n",
    "\n",
    "We now need the agent to have a model of the world so that it can\n",
    "simulate future states of the world (and eventually its future 'wants')\n",
    "based on some action X it takes, without living any of it.\n",
    "    //  The internal operation of such model would most likely take place\n",
    "        in latent space that captures the generalities of the environment\n",
    "        It has to be in latent spaces because it will otherwise not scale \n",
    "        if we scale up the environment (note, that the assumption is, \n",
    "        that even if you scale the environment to a point of real world, \n",
    "        the latent space required to represent the environment scales \n",
    "        with lower degree [like logarithmically against some parameters \n",
    "        that define the 'vibrance' of the environment])\n",
    "\n",
    "So what is the operation of this model? - Given a state A and action X,\n",
    "simulate the evolution of the state A.\n",
    "    //  again, the states and their evolutions would be represented in\n",
    "        'small' latent spaces that map back to game states.\n",
    "        An example of a latent space can be [x, y, r] - a 3 variable\n",
    "        vector that can represent a circle in a 'real' world which in\n",
    "        our program's world can be a pixel space. In other words, you\n",
    "        can represent any circle in an infinie N by M pixel space with\n",
    "        only 3 variable (finite size) vector.\n",
    "    //  one could argue, that some actions X[i] will make no sense with \n",
    "        some states A[i] as they are either incompatible, or never \n",
    "        benefit the agent, so the agent being able to simulate any two \n",
    "        combinations of A and X maybe too excessive and redundant. \n",
    "        - Well, I imagine the agent will not choose the combinations\n",
    "        when it knows what it 'wants' knows how to get it.\n",
    "\n",
    "Now let's take it a step further. The agent has to actually take an\n",
    "action to do something. (In previous parts, we were taking the action\n",
    "for him). Still, no problem for a simple game. You train a small\n",
    "neural network that takes actions based on its 'wants' or, more \n",
    "specifically, based on the state of its environment and itself.\n",
    "\n",
    "Okay, we have a simple system that in a given state A (which includes\n",
    "both external state and internal state, like hunger), knows what it\n",
    "'wants' (W) and can take action 'X' to get what it wants.\n",
    "\n",
    "Resulting system is able to perform the following:\n",
    "Given a state A, simulate the wants W, actions X and the evolution of \n",
    "the state A based on these W and X (note: W and X depend on state A, so\n",
    "they change as the simulated state evolves)\n",
    "\n",
    "    //  More specifically, let's introduce time t which denotes a unit \n",
    "        step in the simulation sequence. So,\n",
    "        For a given A(t), calculate W(t) & X(t).\n",
    "            and simulate {A(t+1), W(t+1), X(t+1)}\n",
    "            repeat for A(t+1) | for some number of steps\n",
    "\n",
    "-------------------------------------------------------------------------\n",
    "System knows current state. Knows what it wants. Knows what to do. And\n",
    "predicts the next state incorporating its action.\n",
    "This all happens in an automatic 'instinctual' sense. The agent is not\n",
    "planning anything, it's simply reacting to the environment and its \n",
    "internal state.\n",
    "\n",
    "The idea is, instead of training the model to simply play the game, we\n",
    "train it to learn these separate parts of the game - learn what it \n",
    "should want (independent of what it should do), learn how its actions\n",
    "effect the state, etc. Then we combine all - one latent embedding can\n",
    "represent what it wants, another can represent environment, and so on\n",
    "and it will be trained on those inputs.\n",
    "\n",
    "========================================================================\n",
    "\n",
    "??? NOT ACCURATE ...\n",
    ".                                                   ['WANT'-EMBEDDING]\n",
    "                                                                |\n",
    "[INTERNAL_STATE-EMBEDDING] ____                                 |\n",
    "                               \\___> [COMBINED_STATE-EMBEDDING] |\n",
    "[ENVIRONMENT_STATE-EMBEDDING] _/                        |       |\n",
    "                                                        |       \\/\n",
    ".                                                   [ACTION+STATE-NN]\n",
    "                                                        |\n",
    "                                                        \\/\n",
    ".                                               [ACTION-EMBEDDING]\n",
    "\n",
    "========================================================================\n",
    "\n",
    "Next logical step for it would be to be able to plan. A plan is \n",
    "something like using multiple splines to draw a complex shape instead\n",
    "of finding a ridiculous size polynomial to match the shape ...\n"
   ]
  },
  {
   "cell_type": "markdown",
   "metadata": {},
   "source": [
    "Nice ideas about natural intelligence \n",
    "https://www.youtube.com/watch?v=BTTwAydoma8&ab_channel=TrueAI\n"
   ]
  },
  {
   "cell_type": "markdown",
   "metadata": {},
   "source": [
    "# What is an environment that is suitable to facilitate reasoning?"
   ]
  },
  {
   "cell_type": "markdown",
   "metadata": {},
   "source": [
    "- What is the process of reasoning in a given environment?\n",
    "Reasoning is a process that leads to predicting future states of environment.\n",
    "Reasining is a process that finds necessary changes to the environment required\n",
    "    to lead to or increase the probability of occurance of certain state S.\n",
    "\n",
    "Given a state `S(t)` at time `t`, let's say `G(S(t), n)` defines all possible \n",
    "functions that lead to all possible transitions `S(t)` --> `S(t+n)`.\n",
    "\n",
    "Blablabla\n"
   ]
  },
  {
   "cell_type": "markdown",
   "metadata": {},
   "source": []
  }
 ],
 "metadata": {
  "kernelspec": {
   "display_name": "Python 3.10.4 64-bit",
   "language": "python",
   "name": "python3"
  },
  "language_info": {
   "codemirror_mode": {
    "name": "ipython",
    "version": 3
   },
   "file_extension": ".py",
   "mimetype": "text/x-python",
   "name": "python",
   "nbconvert_exporter": "python",
   "pygments_lexer": "ipython3",
   "version": "3.10.4"
  },
  "orig_nbformat": 4,
  "vscode": {
   "interpreter": {
    "hash": "aee8b7b246df8f9039afb4144a1f6fd8d2ca17a180786b69acc140d282b71a49"
   }
  }
 },
 "nbformat": 4,
 "nbformat_minor": 2
}
